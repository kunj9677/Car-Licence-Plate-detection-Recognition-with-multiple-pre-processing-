{
  "cells": [
    {
      "cell_type": "markdown",
      "metadata": {
        "id": "OGe5wB5lBt5q"
      },
      "source": [
        "# Automatic Number Plate Recognition System"
      ]
    },
    {
      "cell_type": "markdown",
      "source": [
        "# 1. Dependencies"
      ],
      "metadata": {
        "id": "jeRop1riHn4b"
      }
    },
    {
      "cell_type": "markdown",
      "metadata": {
        "id": "E1XPtd_cBt5r"
      },
      "source": [
        "**Note**: Newer Python versions require users to install dependencies in a virtual environment. Learn how to create a virtual environment [here](https://docs.python.org/3/library/venv.html), or if using Visual Studio Code, [here](https://code.visualstudio.com/docs/python/environments)."
      ]
    },
    {
      "cell_type": "code",
      "source": [
        "from google.colab import drive\n",
        "drive.mount('/content/drive')"
      ],
      "metadata": {
        "colab": {
          "base_uri": "https://localhost:8080/"
        },
        "id": "s_XK7X2IrWJ2",
        "outputId": "9f2ae7ce-01d8-40e6-c944-84857469f290"
      },
      "execution_count": 134,
      "outputs": [
        {
          "output_type": "stream",
          "name": "stdout",
          "text": [
            "Drive already mounted at /content/drive; to attempt to forcibly remount, call drive.mount(\"/content/drive\", force_remount=True).\n"
          ]
        }
      ]
    },
    {
      "cell_type": "code",
      "source": [
        "import locale\n",
        "locale.getpreferredencoding = lambda: \"UTF-8\""
      ],
      "metadata": {
        "id": "cNZxnH33Mp01"
      },
      "execution_count": 135,
      "outputs": []
    },
    {
      "cell_type": "code",
      "execution_count": 136,
      "metadata": {
        "colab": {
          "base_uri": "https://localhost:8080/"
        },
        "collapsed": true,
        "id": "WN-zIjYptJLf",
        "outputId": "64dd29db-3590-4b06-a3c9-41b54f9133d7"
      },
      "outputs": [
        {
          "output_type": "stream",
          "name": "stdout",
          "text": [
            "Requirement already satisfied: ultralytics in /usr/local/lib/python3.10/dist-packages (8.3.24)\n",
            "Requirement already satisfied: scikit-learn in /usr/local/lib/python3.10/dist-packages (1.5.2)\n",
            "Requirement already satisfied: tqdm in /usr/local/lib/python3.10/dist-packages (4.66.5)\n",
            "Requirement already satisfied: numpy>=1.23.0 in /usr/local/lib/python3.10/dist-packages (from ultralytics) (1.26.4)\n",
            "Requirement already satisfied: matplotlib>=3.3.0 in /usr/local/lib/python3.10/dist-packages (from ultralytics) (3.7.1)\n",
            "Requirement already satisfied: opencv-python>=4.6.0 in /usr/local/lib/python3.10/dist-packages (from ultralytics) (4.10.0.84)\n",
            "Requirement already satisfied: pillow>=7.1.2 in /usr/local/lib/python3.10/dist-packages (from ultralytics) (10.4.0)\n",
            "Requirement already satisfied: pyyaml>=5.3.1 in /usr/local/lib/python3.10/dist-packages (from ultralytics) (6.0.2)\n",
            "Requirement already satisfied: requests>=2.23.0 in /usr/local/lib/python3.10/dist-packages (from ultralytics) (2.32.3)\n",
            "Requirement already satisfied: scipy>=1.4.1 in /usr/local/lib/python3.10/dist-packages (from ultralytics) (1.13.1)\n",
            "Requirement already satisfied: torch>=1.8.0 in /usr/local/lib/python3.10/dist-packages (from ultralytics) (2.5.0+cu121)\n",
            "Requirement already satisfied: torchvision>=0.9.0 in /usr/local/lib/python3.10/dist-packages (from ultralytics) (0.20.0+cu121)\n",
            "Requirement already satisfied: psutil in /usr/local/lib/python3.10/dist-packages (from ultralytics) (5.9.5)\n",
            "Requirement already satisfied: py-cpuinfo in /usr/local/lib/python3.10/dist-packages (from ultralytics) (9.0.0)\n",
            "Requirement already satisfied: pandas>=1.1.4 in /usr/local/lib/python3.10/dist-packages (from ultralytics) (2.2.2)\n",
            "Requirement already satisfied: seaborn>=0.11.0 in /usr/local/lib/python3.10/dist-packages (from ultralytics) (0.13.2)\n",
            "Requirement already satisfied: ultralytics-thop>=2.0.0 in /usr/local/lib/python3.10/dist-packages (from ultralytics) (2.0.9)\n",
            "Requirement already satisfied: joblib>=1.2.0 in /usr/local/lib/python3.10/dist-packages (from scikit-learn) (1.4.2)\n",
            "Requirement already satisfied: threadpoolctl>=3.1.0 in /usr/local/lib/python3.10/dist-packages (from scikit-learn) (3.5.0)\n",
            "Requirement already satisfied: contourpy>=1.0.1 in /usr/local/lib/python3.10/dist-packages (from matplotlib>=3.3.0->ultralytics) (1.3.0)\n",
            "Requirement already satisfied: cycler>=0.10 in /usr/local/lib/python3.10/dist-packages (from matplotlib>=3.3.0->ultralytics) (0.12.1)\n",
            "Requirement already satisfied: fonttools>=4.22.0 in /usr/local/lib/python3.10/dist-packages (from matplotlib>=3.3.0->ultralytics) (4.54.1)\n",
            "Requirement already satisfied: kiwisolver>=1.0.1 in /usr/local/lib/python3.10/dist-packages (from matplotlib>=3.3.0->ultralytics) (1.4.7)\n",
            "Requirement already satisfied: packaging>=20.0 in /usr/local/lib/python3.10/dist-packages (from matplotlib>=3.3.0->ultralytics) (24.1)\n",
            "Requirement already satisfied: pyparsing>=2.3.1 in /usr/local/lib/python3.10/dist-packages (from matplotlib>=3.3.0->ultralytics) (3.2.0)\n",
            "Requirement already satisfied: python-dateutil>=2.7 in /usr/local/lib/python3.10/dist-packages (from matplotlib>=3.3.0->ultralytics) (2.8.2)\n",
            "Requirement already satisfied: pytz>=2020.1 in /usr/local/lib/python3.10/dist-packages (from pandas>=1.1.4->ultralytics) (2024.2)\n",
            "Requirement already satisfied: tzdata>=2022.7 in /usr/local/lib/python3.10/dist-packages (from pandas>=1.1.4->ultralytics) (2024.2)\n",
            "Requirement already satisfied: charset-normalizer<4,>=2 in /usr/local/lib/python3.10/dist-packages (from requests>=2.23.0->ultralytics) (3.4.0)\n",
            "Requirement already satisfied: idna<4,>=2.5 in /usr/local/lib/python3.10/dist-packages (from requests>=2.23.0->ultralytics) (3.10)\n",
            "Requirement already satisfied: urllib3<3,>=1.21.1 in /usr/local/lib/python3.10/dist-packages (from requests>=2.23.0->ultralytics) (2.2.3)\n",
            "Requirement already satisfied: certifi>=2017.4.17 in /usr/local/lib/python3.10/dist-packages (from requests>=2.23.0->ultralytics) (2024.8.30)\n",
            "Requirement already satisfied: filelock in /usr/local/lib/python3.10/dist-packages (from torch>=1.8.0->ultralytics) (3.16.1)\n",
            "Requirement already satisfied: typing-extensions>=4.8.0 in /usr/local/lib/python3.10/dist-packages (from torch>=1.8.0->ultralytics) (4.12.2)\n",
            "Requirement already satisfied: networkx in /usr/local/lib/python3.10/dist-packages (from torch>=1.8.0->ultralytics) (3.4.2)\n",
            "Requirement already satisfied: jinja2 in /usr/local/lib/python3.10/dist-packages (from torch>=1.8.0->ultralytics) (3.1.4)\n",
            "Requirement already satisfied: fsspec in /usr/local/lib/python3.10/dist-packages (from torch>=1.8.0->ultralytics) (2024.6.1)\n",
            "Requirement already satisfied: sympy==1.13.1 in /usr/local/lib/python3.10/dist-packages (from torch>=1.8.0->ultralytics) (1.13.1)\n",
            "Requirement already satisfied: mpmath<1.4,>=1.1.0 in /usr/local/lib/python3.10/dist-packages (from sympy==1.13.1->torch>=1.8.0->ultralytics) (1.3.0)\n",
            "Requirement already satisfied: six>=1.5 in /usr/local/lib/python3.10/dist-packages (from python-dateutil>=2.7->matplotlib>=3.3.0->ultralytics) (1.16.0)\n",
            "Requirement already satisfied: MarkupSafe>=2.0 in /usr/local/lib/python3.10/dist-packages (from jinja2->torch>=1.8.0->ultralytics) (3.0.2)\n"
          ]
        }
      ],
      "source": [
        "!pip install ultralytics scikit-learn tqdm"
      ]
    },
    {
      "cell_type": "code",
      "execution_count": 137,
      "metadata": {
        "id": "LJY_Zceosy7m"
      },
      "outputs": [],
      "source": [
        "import os\n",
        "import numpy as np\n",
        "import pandas as pd\n",
        "\n",
        "import matplotlib.pyplot as plt\n",
        "import torch\n",
        "import xml.etree.ElementTree as xet\n",
        "import cv2\n",
        "import re\n",
        "import os\n",
        "from glob import glob\n",
        "\n",
        "from sklearn.model_selection import train_test_split\n",
        "import shutil\n",
        "\n",
        "from tqdm import tqdm"
      ]
    },
    {
      "cell_type": "markdown",
      "metadata": {
        "id": "6TXQ4RyaBt5t"
      },
      "source": [
        "Make sure CUDA is available. CUDA is a program created by Nvidia that gives PyTorch direct access to the GPU, making processing way more efficient. CUDA cores (or devices) are computer cores that are specialised for parallel computing. If there aren't any CUDA cores available, it's probably because you're running the notebook on a CPU, not a GPU. Google Colab offers\n"
      ]
    },
    {
      "cell_type": "code",
      "execution_count": 138,
      "metadata": {
        "colab": {
          "base_uri": "https://localhost:8080/"
        },
        "id": "C8223X9mtDk8",
        "outputId": "6339dadf-72b2-44b4-82a7-ce038104b833"
      },
      "outputs": [
        {
          "output_type": "stream",
          "name": "stdout",
          "text": [
            "torch.cuda.is_available() = True\n",
            "torch.cuda.device_count() = 1\n"
          ]
        }
      ],
      "source": [
        "print(f'{torch.cuda.is_available() = }')\n",
        "print(f'{torch.cuda.device_count() = }')"
      ]
    },
    {
      "cell_type": "markdown",
      "source": [
        "# 2. Preprocessing"
      ],
      "metadata": {
        "id": "_oV7jItaJRdf"
      }
    },
    {
      "cell_type": "markdown",
      "source": [
        "## 2.1 Define preprocessing"
      ],
      "metadata": {
        "id": "jXmr-sgFLXTC"
      }
    },
    {
      "cell_type": "code",
      "source": [
        "def preprocess_image(image):\n",
        "    # Convert the image to grayscale\n",
        "    gray_image = cv2.cvtColor(image, cv2.COLOR_BGR2GRAY)\n",
        "\n",
        "    # Apply Gaussian Blur to reduce noise\n",
        "    blurred_image = cv2.GaussianBlur(gray_image, (5, 5), 1.4)\n",
        "\n",
        "    # Apply Canny edge detection\n",
        "    edges = cv2.Canny(blurred_image, threshold1=100, threshold2=200)\n",
        "\n",
        "    return edges"
      ],
      "metadata": {
        "id": "30ccGMLjJQV0"
      },
      "execution_count": 139,
      "outputs": []
    },
    {
      "cell_type": "code",
      "source": [
        "def process_dataset(input_dir, output_dir):\n",
        "    # Create output directory if it doesn't exist\n",
        "    os.makedirs(output_dir, exist_ok=True)\n",
        "\n",
        "    # Get list of all image files\n",
        "    image_files = [f for f in os.listdir(input_dir) if f.lower().endswith(('.png'))]\n",
        "\n",
        "    # Process each image\n",
        "    for filename in tqdm(image_files, desc=\"Processing images\"):\n",
        "        # Read the image\n",
        "        image_path = os.path.join(input_dir, filename)\n",
        "        image = cv2.imread(image_path)\n",
        "\n",
        "        if image is None:\n",
        "            print(f\"Error reading image: {filename}\")\n",
        "            continue\n",
        "\n",
        "        # Preprocess the image\n",
        "        processed_image = preprocess_image(image)\n",
        "\n",
        "        # Save the processed image\n",
        "        output_path = os.path.join(output_dir, filename)\n",
        "        cv2.imwrite(output_path, processed_image)"
      ],
      "metadata": {
        "id": "BAy6goyvM0f2"
      },
      "execution_count": 140,
      "outputs": []
    },
    {
      "cell_type": "markdown",
      "source": [
        "## 2.2 Preprocess images in dataset"
      ],
      "metadata": {
        "id": "uRV9WMoTLaA-"
      }
    },
    {
      "cell_type": "code",
      "source": [
        "dir = \"drive/MyDrive/dataset\"\n",
        "input_directory = f\"{dir}/images\"\n",
        "output_directory = \"dataset/preprocessed_images\"\n",
        "dataset_path = \"dataset\""
      ],
      "metadata": {
        "id": "M9uIxscILeni"
      },
      "execution_count": 141,
      "outputs": []
    },
    {
      "cell_type": "code",
      "source": [
        "process_dataset(input_directory, output_directory)"
      ],
      "metadata": {
        "id": "Ups_GQjAlNZR",
        "colab": {
          "base_uri": "https://localhost:8080/"
        },
        "outputId": "4942f857-9c2e-42c3-ad0e-a600e5a34267"
      },
      "execution_count": 142,
      "outputs": [
        {
          "output_type": "stream",
          "name": "stderr",
          "text": [
            "Processing images: 100%|██████████| 433/433 [00:19<00:00, 22.12it/s]\n"
          ]
        }
      ]
    },
    {
      "cell_type": "markdown",
      "source": [
        "# 3. Data"
      ],
      "metadata": {
        "id": "E7rqKrRhJC2C"
      }
    },
    {
      "cell_type": "markdown",
      "source": [
        "## 3.1 Find data"
      ],
      "metadata": {
        "id": "3IV7NiZSHs8X"
      }
    },
    {
      "cell_type": "code",
      "source": [
        "# Copy over images\n",
        "import shutil\n",
        "try:\n",
        "    shutil.copyfile(f\"{dir}/datasets.yaml\", f\"{dataset_path}/datasets.yaml\")\n",
        "except FileNotFoundError:\n",
        "    pass\n",
        "try:\n",
        "    shutil.copytree(f\"{dir}/images\", f\"{dataset_path}/images\")\n",
        "except FileExistsError:\n",
        "    pass\n",
        "try:\n",
        "    shutil.copytree(f\"{dir}/preprocessed_images\", f\"{dataset_path}/preprocessed_images\")\n",
        "except FileExistsError:\n",
        "    pass\n",
        "try:\n",
        "    shutil.copytree(f\"{dir}/annotations\", f\"{dataset_path}/annotations\")\n",
        "except FileExistsError:\n",
        "    pass"
      ],
      "metadata": {
        "id": "7tn7wRWOxQjs"
      },
      "execution_count": 143,
      "outputs": []
    },
    {
      "cell_type": "code",
      "execution_count": 144,
      "metadata": {
        "id": "a5C-EMndtccy"
      },
      "outputs": [],
      "source": [
        "def extract_number_from_str(filename):\n",
        "    \"\"\"Function to find a given image or label number to adjoin images and labels together.\"\"\"\n",
        "    match = re.search(r'(\\d+)', filename)\n",
        "\n",
        "    if match:\n",
        "        return int(match.group(0))\n",
        "    else:\n",
        "        return 0"
      ]
    },
    {
      "cell_type": "code",
      "execution_count": 145,
      "metadata": {
        "id": "Ktsce1UTtmG6"
      },
      "outputs": [],
      "source": [
        "# Store labels and image info\n",
        "labels_dict = dict(\n",
        "    img_path=[],\n",
        "    xmin=[],\n",
        "    xmax=[],\n",
        "    ymin=[],\n",
        "    ymax=[],\n",
        "    img_w=[],\n",
        "    img_h=[]\n",
        ")"
      ]
    },
    {
      "cell_type": "code",
      "execution_count": 146,
      "metadata": {
        "collapsed": true,
        "id": "lbSp7UjFtrDu"
      },
      "outputs": [],
      "source": [
        "# get XML files from the annotations dir\n",
        "xml_files = glob(f'{dataset_path}/annotations/*.xml')\n",
        "assert xml_files, \"Couldn't find dataset. Make sure to upload the dataset to Colab.\""
      ]
    },
    {
      "cell_type": "code",
      "execution_count": 147,
      "metadata": {
        "id": "-LL7o6LmyvLo",
        "colab": {
          "base_uri": "https://localhost:8080/",
          "height": 424
        },
        "outputId": "e6f0986c-87a8-45e7-b17a-3567a4a57805"
      },
      "outputs": [
        {
          "output_type": "execute_result",
          "data": {
            "text/plain": [
              "                                    img_path  xmin  xmax  ymin  ymax  img_w  \\\n",
              "0      dataset/preprocessed_images/Cars0.png   226   419   125   173    500   \n",
              "1      dataset/preprocessed_images/Cars1.png   134   262   128   160    400   \n",
              "2      dataset/preprocessed_images/Cars2.png   229   270   176   193    400   \n",
              "3      dataset/preprocessed_images/Cars3.png   142   261   128   157    400   \n",
              "4      dataset/preprocessed_images/Cars4.png   156   503    82   253    590   \n",
              "..                                       ...   ...   ...   ...   ...    ...   \n",
              "428  dataset/preprocessed_images/Cars428.png   142   258   128   157    400   \n",
              "429  dataset/preprocessed_images/Cars429.png    86   208   166   195    301   \n",
              "430  dataset/preprocessed_images/Cars430.png    38   116   159   197    400   \n",
              "431  dataset/preprocessed_images/Cars431.png    55   343    82   147    400   \n",
              "432  dataset/preprocessed_images/Cars432.png    95   196   258   284    467   \n",
              "\n",
              "     img_h  \n",
              "0      268  \n",
              "1      248  \n",
              "2      400  \n",
              "3      225  \n",
              "4      350  \n",
              "..     ...  \n",
              "428    225  \n",
              "429    400  \n",
              "430    225  \n",
              "431    192  \n",
              "432    300  \n",
              "\n",
              "[433 rows x 7 columns]"
            ],
            "text/html": [
              "\n",
              "  <div id=\"df-763dad25-b6cf-4807-b4c1-499a2ba32e67\" class=\"colab-df-container\">\n",
              "    <div>\n",
              "<style scoped>\n",
              "    .dataframe tbody tr th:only-of-type {\n",
              "        vertical-align: middle;\n",
              "    }\n",
              "\n",
              "    .dataframe tbody tr th {\n",
              "        vertical-align: top;\n",
              "    }\n",
              "\n",
              "    .dataframe thead th {\n",
              "        text-align: right;\n",
              "    }\n",
              "</style>\n",
              "<table border=\"1\" class=\"dataframe\">\n",
              "  <thead>\n",
              "    <tr style=\"text-align: right;\">\n",
              "      <th></th>\n",
              "      <th>img_path</th>\n",
              "      <th>xmin</th>\n",
              "      <th>xmax</th>\n",
              "      <th>ymin</th>\n",
              "      <th>ymax</th>\n",
              "      <th>img_w</th>\n",
              "      <th>img_h</th>\n",
              "    </tr>\n",
              "  </thead>\n",
              "  <tbody>\n",
              "    <tr>\n",
              "      <th>0</th>\n",
              "      <td>dataset/preprocessed_images/Cars0.png</td>\n",
              "      <td>226</td>\n",
              "      <td>419</td>\n",
              "      <td>125</td>\n",
              "      <td>173</td>\n",
              "      <td>500</td>\n",
              "      <td>268</td>\n",
              "    </tr>\n",
              "    <tr>\n",
              "      <th>1</th>\n",
              "      <td>dataset/preprocessed_images/Cars1.png</td>\n",
              "      <td>134</td>\n",
              "      <td>262</td>\n",
              "      <td>128</td>\n",
              "      <td>160</td>\n",
              "      <td>400</td>\n",
              "      <td>248</td>\n",
              "    </tr>\n",
              "    <tr>\n",
              "      <th>2</th>\n",
              "      <td>dataset/preprocessed_images/Cars2.png</td>\n",
              "      <td>229</td>\n",
              "      <td>270</td>\n",
              "      <td>176</td>\n",
              "      <td>193</td>\n",
              "      <td>400</td>\n",
              "      <td>400</td>\n",
              "    </tr>\n",
              "    <tr>\n",
              "      <th>3</th>\n",
              "      <td>dataset/preprocessed_images/Cars3.png</td>\n",
              "      <td>142</td>\n",
              "      <td>261</td>\n",
              "      <td>128</td>\n",
              "      <td>157</td>\n",
              "      <td>400</td>\n",
              "      <td>225</td>\n",
              "    </tr>\n",
              "    <tr>\n",
              "      <th>4</th>\n",
              "      <td>dataset/preprocessed_images/Cars4.png</td>\n",
              "      <td>156</td>\n",
              "      <td>503</td>\n",
              "      <td>82</td>\n",
              "      <td>253</td>\n",
              "      <td>590</td>\n",
              "      <td>350</td>\n",
              "    </tr>\n",
              "    <tr>\n",
              "      <th>...</th>\n",
              "      <td>...</td>\n",
              "      <td>...</td>\n",
              "      <td>...</td>\n",
              "      <td>...</td>\n",
              "      <td>...</td>\n",
              "      <td>...</td>\n",
              "      <td>...</td>\n",
              "    </tr>\n",
              "    <tr>\n",
              "      <th>428</th>\n",
              "      <td>dataset/preprocessed_images/Cars428.png</td>\n",
              "      <td>142</td>\n",
              "      <td>258</td>\n",
              "      <td>128</td>\n",
              "      <td>157</td>\n",
              "      <td>400</td>\n",
              "      <td>225</td>\n",
              "    </tr>\n",
              "    <tr>\n",
              "      <th>429</th>\n",
              "      <td>dataset/preprocessed_images/Cars429.png</td>\n",
              "      <td>86</td>\n",
              "      <td>208</td>\n",
              "      <td>166</td>\n",
              "      <td>195</td>\n",
              "      <td>301</td>\n",
              "      <td>400</td>\n",
              "    </tr>\n",
              "    <tr>\n",
              "      <th>430</th>\n",
              "      <td>dataset/preprocessed_images/Cars430.png</td>\n",
              "      <td>38</td>\n",
              "      <td>116</td>\n",
              "      <td>159</td>\n",
              "      <td>197</td>\n",
              "      <td>400</td>\n",
              "      <td>225</td>\n",
              "    </tr>\n",
              "    <tr>\n",
              "      <th>431</th>\n",
              "      <td>dataset/preprocessed_images/Cars431.png</td>\n",
              "      <td>55</td>\n",
              "      <td>343</td>\n",
              "      <td>82</td>\n",
              "      <td>147</td>\n",
              "      <td>400</td>\n",
              "      <td>192</td>\n",
              "    </tr>\n",
              "    <tr>\n",
              "      <th>432</th>\n",
              "      <td>dataset/preprocessed_images/Cars432.png</td>\n",
              "      <td>95</td>\n",
              "      <td>196</td>\n",
              "      <td>258</td>\n",
              "      <td>284</td>\n",
              "      <td>467</td>\n",
              "      <td>300</td>\n",
              "    </tr>\n",
              "  </tbody>\n",
              "</table>\n",
              "<p>433 rows × 7 columns</p>\n",
              "</div>\n",
              "    <div class=\"colab-df-buttons\">\n",
              "\n",
              "  <div class=\"colab-df-container\">\n",
              "    <button class=\"colab-df-convert\" onclick=\"convertToInteractive('df-763dad25-b6cf-4807-b4c1-499a2ba32e67')\"\n",
              "            title=\"Convert this dataframe to an interactive table.\"\n",
              "            style=\"display:none;\">\n",
              "\n",
              "  <svg xmlns=\"http://www.w3.org/2000/svg\" height=\"24px\" viewBox=\"0 -960 960 960\">\n",
              "    <path d=\"M120-120v-720h720v720H120Zm60-500h600v-160H180v160Zm220 220h160v-160H400v160Zm0 220h160v-160H400v160ZM180-400h160v-160H180v160Zm440 0h160v-160H620v160ZM180-180h160v-160H180v160Zm440 0h160v-160H620v160Z\"/>\n",
              "  </svg>\n",
              "    </button>\n",
              "\n",
              "  <style>\n",
              "    .colab-df-container {\n",
              "      display:flex;\n",
              "      gap: 12px;\n",
              "    }\n",
              "\n",
              "    .colab-df-convert {\n",
              "      background-color: #E8F0FE;\n",
              "      border: none;\n",
              "      border-radius: 50%;\n",
              "      cursor: pointer;\n",
              "      display: none;\n",
              "      fill: #1967D2;\n",
              "      height: 32px;\n",
              "      padding: 0 0 0 0;\n",
              "      width: 32px;\n",
              "    }\n",
              "\n",
              "    .colab-df-convert:hover {\n",
              "      background-color: #E2EBFA;\n",
              "      box-shadow: 0px 1px 2px rgba(60, 64, 67, 0.3), 0px 1px 3px 1px rgba(60, 64, 67, 0.15);\n",
              "      fill: #174EA6;\n",
              "    }\n",
              "\n",
              "    .colab-df-buttons div {\n",
              "      margin-bottom: 4px;\n",
              "    }\n",
              "\n",
              "    [theme=dark] .colab-df-convert {\n",
              "      background-color: #3B4455;\n",
              "      fill: #D2E3FC;\n",
              "    }\n",
              "\n",
              "    [theme=dark] .colab-df-convert:hover {\n",
              "      background-color: #434B5C;\n",
              "      box-shadow: 0px 1px 3px 1px rgba(0, 0, 0, 0.15);\n",
              "      filter: drop-shadow(0px 1px 2px rgba(0, 0, 0, 0.3));\n",
              "      fill: #FFFFFF;\n",
              "    }\n",
              "  </style>\n",
              "\n",
              "    <script>\n",
              "      const buttonEl =\n",
              "        document.querySelector('#df-763dad25-b6cf-4807-b4c1-499a2ba32e67 button.colab-df-convert');\n",
              "      buttonEl.style.display =\n",
              "        google.colab.kernel.accessAllowed ? 'block' : 'none';\n",
              "\n",
              "      async function convertToInteractive(key) {\n",
              "        const element = document.querySelector('#df-763dad25-b6cf-4807-b4c1-499a2ba32e67');\n",
              "        const dataTable =\n",
              "          await google.colab.kernel.invokeFunction('convertToInteractive',\n",
              "                                                    [key], {});\n",
              "        if (!dataTable) return;\n",
              "\n",
              "        const docLinkHtml = 'Like what you see? Visit the ' +\n",
              "          '<a target=\"_blank\" href=https://colab.research.google.com/notebooks/data_table.ipynb>data table notebook</a>'\n",
              "          + ' to learn more about interactive tables.';\n",
              "        element.innerHTML = '';\n",
              "        dataTable['output_type'] = 'display_data';\n",
              "        await google.colab.output.renderOutput(dataTable, element);\n",
              "        const docLink = document.createElement('div');\n",
              "        docLink.innerHTML = docLinkHtml;\n",
              "        element.appendChild(docLink);\n",
              "      }\n",
              "    </script>\n",
              "  </div>\n",
              "\n",
              "\n",
              "<div id=\"df-f5c5cf35-431a-40a6-a082-17384ec64677\">\n",
              "  <button class=\"colab-df-quickchart\" onclick=\"quickchart('df-f5c5cf35-431a-40a6-a082-17384ec64677')\"\n",
              "            title=\"Suggest charts\"\n",
              "            style=\"display:none;\">\n",
              "\n",
              "<svg xmlns=\"http://www.w3.org/2000/svg\" height=\"24px\"viewBox=\"0 0 24 24\"\n",
              "     width=\"24px\">\n",
              "    <g>\n",
              "        <path d=\"M19 3H5c-1.1 0-2 .9-2 2v14c0 1.1.9 2 2 2h14c1.1 0 2-.9 2-2V5c0-1.1-.9-2-2-2zM9 17H7v-7h2v7zm4 0h-2V7h2v10zm4 0h-2v-4h2v4z\"/>\n",
              "    </g>\n",
              "</svg>\n",
              "  </button>\n",
              "\n",
              "<style>\n",
              "  .colab-df-quickchart {\n",
              "      --bg-color: #E8F0FE;\n",
              "      --fill-color: #1967D2;\n",
              "      --hover-bg-color: #E2EBFA;\n",
              "      --hover-fill-color: #174EA6;\n",
              "      --disabled-fill-color: #AAA;\n",
              "      --disabled-bg-color: #DDD;\n",
              "  }\n",
              "\n",
              "  [theme=dark] .colab-df-quickchart {\n",
              "      --bg-color: #3B4455;\n",
              "      --fill-color: #D2E3FC;\n",
              "      --hover-bg-color: #434B5C;\n",
              "      --hover-fill-color: #FFFFFF;\n",
              "      --disabled-bg-color: #3B4455;\n",
              "      --disabled-fill-color: #666;\n",
              "  }\n",
              "\n",
              "  .colab-df-quickchart {\n",
              "    background-color: var(--bg-color);\n",
              "    border: none;\n",
              "    border-radius: 50%;\n",
              "    cursor: pointer;\n",
              "    display: none;\n",
              "    fill: var(--fill-color);\n",
              "    height: 32px;\n",
              "    padding: 0;\n",
              "    width: 32px;\n",
              "  }\n",
              "\n",
              "  .colab-df-quickchart:hover {\n",
              "    background-color: var(--hover-bg-color);\n",
              "    box-shadow: 0 1px 2px rgba(60, 64, 67, 0.3), 0 1px 3px 1px rgba(60, 64, 67, 0.15);\n",
              "    fill: var(--button-hover-fill-color);\n",
              "  }\n",
              "\n",
              "  .colab-df-quickchart-complete:disabled,\n",
              "  .colab-df-quickchart-complete:disabled:hover {\n",
              "    background-color: var(--disabled-bg-color);\n",
              "    fill: var(--disabled-fill-color);\n",
              "    box-shadow: none;\n",
              "  }\n",
              "\n",
              "  .colab-df-spinner {\n",
              "    border: 2px solid var(--fill-color);\n",
              "    border-color: transparent;\n",
              "    border-bottom-color: var(--fill-color);\n",
              "    animation:\n",
              "      spin 1s steps(1) infinite;\n",
              "  }\n",
              "\n",
              "  @keyframes spin {\n",
              "    0% {\n",
              "      border-color: transparent;\n",
              "      border-bottom-color: var(--fill-color);\n",
              "      border-left-color: var(--fill-color);\n",
              "    }\n",
              "    20% {\n",
              "      border-color: transparent;\n",
              "      border-left-color: var(--fill-color);\n",
              "      border-top-color: var(--fill-color);\n",
              "    }\n",
              "    30% {\n",
              "      border-color: transparent;\n",
              "      border-left-color: var(--fill-color);\n",
              "      border-top-color: var(--fill-color);\n",
              "      border-right-color: var(--fill-color);\n",
              "    }\n",
              "    40% {\n",
              "      border-color: transparent;\n",
              "      border-right-color: var(--fill-color);\n",
              "      border-top-color: var(--fill-color);\n",
              "    }\n",
              "    60% {\n",
              "      border-color: transparent;\n",
              "      border-right-color: var(--fill-color);\n",
              "    }\n",
              "    80% {\n",
              "      border-color: transparent;\n",
              "      border-right-color: var(--fill-color);\n",
              "      border-bottom-color: var(--fill-color);\n",
              "    }\n",
              "    90% {\n",
              "      border-color: transparent;\n",
              "      border-bottom-color: var(--fill-color);\n",
              "    }\n",
              "  }\n",
              "</style>\n",
              "\n",
              "  <script>\n",
              "    async function quickchart(key) {\n",
              "      const quickchartButtonEl =\n",
              "        document.querySelector('#' + key + ' button');\n",
              "      quickchartButtonEl.disabled = true;  // To prevent multiple clicks.\n",
              "      quickchartButtonEl.classList.add('colab-df-spinner');\n",
              "      try {\n",
              "        const charts = await google.colab.kernel.invokeFunction(\n",
              "            'suggestCharts', [key], {});\n",
              "      } catch (error) {\n",
              "        console.error('Error during call to suggestCharts:', error);\n",
              "      }\n",
              "      quickchartButtonEl.classList.remove('colab-df-spinner');\n",
              "      quickchartButtonEl.classList.add('colab-df-quickchart-complete');\n",
              "    }\n",
              "    (() => {\n",
              "      let quickchartButtonEl =\n",
              "        document.querySelector('#df-f5c5cf35-431a-40a6-a082-17384ec64677 button');\n",
              "      quickchartButtonEl.style.display =\n",
              "        google.colab.kernel.accessAllowed ? 'block' : 'none';\n",
              "    })();\n",
              "  </script>\n",
              "</div>\n",
              "\n",
              "  <div id=\"id_fda29d5a-514d-41cb-9648-77579f1d9b4a\">\n",
              "    <style>\n",
              "      .colab-df-generate {\n",
              "        background-color: #E8F0FE;\n",
              "        border: none;\n",
              "        border-radius: 50%;\n",
              "        cursor: pointer;\n",
              "        display: none;\n",
              "        fill: #1967D2;\n",
              "        height: 32px;\n",
              "        padding: 0 0 0 0;\n",
              "        width: 32px;\n",
              "      }\n",
              "\n",
              "      .colab-df-generate:hover {\n",
              "        background-color: #E2EBFA;\n",
              "        box-shadow: 0px 1px 2px rgba(60, 64, 67, 0.3), 0px 1px 3px 1px rgba(60, 64, 67, 0.15);\n",
              "        fill: #174EA6;\n",
              "      }\n",
              "\n",
              "      [theme=dark] .colab-df-generate {\n",
              "        background-color: #3B4455;\n",
              "        fill: #D2E3FC;\n",
              "      }\n",
              "\n",
              "      [theme=dark] .colab-df-generate:hover {\n",
              "        background-color: #434B5C;\n",
              "        box-shadow: 0px 1px 3px 1px rgba(0, 0, 0, 0.15);\n",
              "        filter: drop-shadow(0px 1px 2px rgba(0, 0, 0, 0.3));\n",
              "        fill: #FFFFFF;\n",
              "      }\n",
              "    </style>\n",
              "    <button class=\"colab-df-generate\" onclick=\"generateWithVariable('alldata')\"\n",
              "            title=\"Generate code using this dataframe.\"\n",
              "            style=\"display:none;\">\n",
              "\n",
              "  <svg xmlns=\"http://www.w3.org/2000/svg\" height=\"24px\"viewBox=\"0 0 24 24\"\n",
              "       width=\"24px\">\n",
              "    <path d=\"M7,19H8.4L18.45,9,17,7.55,7,17.6ZM5,21V16.75L18.45,3.32a2,2,0,0,1,2.83,0l1.4,1.43a1.91,1.91,0,0,1,.58,1.4,1.91,1.91,0,0,1-.58,1.4L9.25,21ZM18.45,9,17,7.55Zm-12,3A5.31,5.31,0,0,0,4.9,8.1,5.31,5.31,0,0,0,1,6.5,5.31,5.31,0,0,0,4.9,4.9,5.31,5.31,0,0,0,6.5,1,5.31,5.31,0,0,0,8.1,4.9,5.31,5.31,0,0,0,12,6.5,5.46,5.46,0,0,0,6.5,12Z\"/>\n",
              "  </svg>\n",
              "    </button>\n",
              "    <script>\n",
              "      (() => {\n",
              "      const buttonEl =\n",
              "        document.querySelector('#id_fda29d5a-514d-41cb-9648-77579f1d9b4a button.colab-df-generate');\n",
              "      buttonEl.style.display =\n",
              "        google.colab.kernel.accessAllowed ? 'block' : 'none';\n",
              "\n",
              "      buttonEl.onclick = () => {\n",
              "        google.colab.notebook.generateWithVariable('alldata');\n",
              "      }\n",
              "      })();\n",
              "    </script>\n",
              "  </div>\n",
              "\n",
              "    </div>\n",
              "  </div>\n"
            ],
            "application/vnd.google.colaboratory.intrinsic+json": {
              "type": "dataframe",
              "variable_name": "alldata",
              "summary": "{\n  \"name\": \"alldata\",\n  \"rows\": 433,\n  \"fields\": [\n    {\n      \"column\": \"img_path\",\n      \"properties\": {\n        \"dtype\": \"string\",\n        \"num_unique_values\": 433,\n        \"samples\": [\n          \"dataset/preprocessed_images/Cars425.png\",\n          \"dataset/preprocessed_images/Cars75.png\",\n          \"dataset/preprocessed_images/Cars181.png\"\n        ],\n        \"semantic_type\": \"\",\n        \"description\": \"\"\n      }\n    },\n    {\n      \"column\": \"xmin\",\n      \"properties\": {\n        \"dtype\": \"number\",\n        \"std\": 82,\n        \"min\": 0,\n        \"max\": 541,\n        \"num_unique_values\": 218,\n        \"samples\": [\n          247,\n          211,\n          59\n        ],\n        \"semantic_type\": \"\",\n        \"description\": \"\"\n      }\n    },\n    {\n      \"column\": \"xmax\",\n      \"properties\": {\n        \"dtype\": \"number\",\n        \"std\": 92,\n        \"min\": 27,\n        \"max\": 598,\n        \"num_unique_values\": 235,\n        \"samples\": [\n          326,\n          107,\n          253\n        ],\n        \"semantic_type\": \"\",\n        \"description\": \"\"\n      }\n    },\n    {\n      \"column\": \"ymin\",\n      \"properties\": {\n        \"dtype\": \"number\",\n        \"std\": 54,\n        \"min\": 5,\n        \"max\": 405,\n        \"num_unique_values\": 180,\n        \"samples\": [\n          165,\n          117,\n          282\n        ],\n        \"semantic_type\": \"\",\n        \"description\": \"\"\n      }\n    },\n    {\n      \"column\": \"ymax\",\n      \"properties\": {\n        \"dtype\": \"number\",\n        \"std\": 51,\n        \"min\": 65,\n        \"max\": 439,\n        \"num_unique_values\": 169,\n        \"samples\": [\n          76,\n          167,\n          123\n        ],\n        \"semantic_type\": \"\",\n        \"description\": \"\"\n      }\n    },\n    {\n      \"column\": \"img_w\",\n      \"properties\": {\n        \"dtype\": \"number\",\n        \"std\": 68,\n        \"min\": 225,\n        \"max\": 600,\n        \"num_unique_values\": 40,\n        \"samples\": [\n          530,\n          375,\n          370\n        ],\n        \"semantic_type\": \"\",\n        \"description\": \"\"\n      }\n    },\n    {\n      \"column\": \"img_h\",\n      \"properties\": {\n        \"dtype\": \"number\",\n        \"std\": 66,\n        \"min\": 141,\n        \"max\": 531,\n        \"num_unique_values\": 103,\n        \"samples\": [\n          242,\n          478,\n          223\n        ],\n        \"semantic_type\": \"\",\n        \"description\": \"\"\n      }\n    }\n  ]\n}"
            }
          },
          "metadata": {},
          "execution_count": 147
        }
      ],
      "source": [
        "# Process each XML file, sorted by the numerical value in the filename\n",
        "for filename in sorted(xml_files, key=extract_number_from_str):\n",
        "\n",
        "    info = xet.parse(filename)\n",
        "    root = info.getroot()\n",
        "\n",
        "    # Extract bounding box coordinates\n",
        "    member_object = root.find('object')\n",
        "    labels_info = member_object.find('bndbox')\n",
        "    xmin = int(labels_info.find('xmin').text)\n",
        "    xmax = int(labels_info.find('xmax').text)\n",
        "    ymin = int(labels_info.find('ymin').text)\n",
        "    ymax = int(labels_info.find('ymax').text)\n",
        "\n",
        "    # join full path\n",
        "    img_name = root.find('filename').text\n",
        "    img_path = os.path.join(dataset_path, 'preprocessed_images', img_name)\n",
        "\n",
        "    # add to dictionary\n",
        "    labels_dict['img_path'].append(img_path)\n",
        "    labels_dict['xmin'].append(xmin)\n",
        "    labels_dict['xmax'].append(xmax)\n",
        "    labels_dict['ymin'].append(ymin)\n",
        "    labels_dict['ymax'].append(ymax)\n",
        "\n",
        "    # Read img and get dimensions\n",
        "    height, width, _ = cv2.imread(img_path).shape\n",
        "    labels_dict['img_w'].append(width)\n",
        "    labels_dict['img_h'].append(height)\n",
        "\n",
        "    alldata = pd.DataFrame(labels_dict)\n",
        "\n",
        "alldata"
      ]
    },
    {
      "cell_type": "markdown",
      "source": [
        "## 3.2 Split data"
      ],
      "metadata": {
        "id": "OyEh7T5GJLO_"
      }
    },
    {
      "cell_type": "code",
      "execution_count": 148,
      "metadata": {
        "id": "Lye48gNy9Bfy",
        "colab": {
          "base_uri": "https://localhost:8080/"
        },
        "outputId": "1f91248f-0c8d-4813-e756-e8e520cea93f"
      },
      "outputs": [
        {
          "output_type": "stream",
          "name": "stdout",
          "text": [
            "\n",
            "Number of images in each set\n",
            "Training:   345 images\n",
            "Validation:  44 images\n",
            "Testing:     44 images\n",
            "\n"
          ]
        }
      ],
      "source": [
        "# Split dataset for training, testing and validation\n",
        "train, test = train_test_split(alldata, test_size=1/10, random_state=42)\n",
        "train, val = train_test_split(train, train_size=8/9, random_state=42)\n",
        "\n",
        "print(f'''\n",
        "Number of images in each set\n",
        "Training:   {len(train)} images\n",
        "Validation:  {len(val)} images\n",
        "Testing:     {len(test)} images\n",
        "''')"
      ]
    },
    {
      "cell_type": "markdown",
      "metadata": {
        "id": "G1i8DUsc9RVY"
      },
      "source": [
        "## 3.3 Convert data to YOLO format"
      ]
    },
    {
      "cell_type": "code",
      "execution_count": 149,
      "metadata": {
        "id": "pr8KxY7t9LMg"
      },
      "outputs": [],
      "source": [
        "def make_split_folder_in_yolo_format(split_name, split_df):\n",
        "    # folders in YOLO format\n",
        "    labels_path = os.path.join('datasets', 'cars_license_plates', split_name, 'labels')\n",
        "    images_path = os.path.join('datasets', 'cars_license_plates', split_name, 'images')\n",
        "\n",
        "    if not os.path.exists(labels_path):\n",
        "        os.makedirs(labels_path)\n",
        "        os.makedirs(images_path)\n",
        "\n",
        "    for _, row in split_df.iterrows():\n",
        "        img_name, img_extension = os.path.splitext(os.path.basename(row['img_path']))\n",
        "\n",
        "        x_center = (row['xmin'] + row['xmax']) / 2 / row['img_w']\n",
        "        y_center = (row['ymin'] + row['ymax']) / 2 / row['img_h']\n",
        "        width = (row['xmax'] - row['xmin']) / row['img_w']\n",
        "        height = (row['ymax'] - row['ymin']) / row['img_h']\n",
        "\n",
        "        # save lables in YOLO format\n",
        "        label_path = os.path.join(labels_path, f'{img_name}.txt')\n",
        "        with open(label_path, 'w') as file:\n",
        "            file.write(f\"0 {x_center:.4f} {y_center:.4f} {width:.4f} {height:.4f}\\n\")\n",
        "\n",
        "\n",
        "        shutil.copy(row['img_path'], os.path.join(images_path, img_name + img_extension))\n",
        "\n",
        "    print(f\"Created '{images_path}' and '{labels_path}'\")"
      ]
    },
    {
      "cell_type": "code",
      "execution_count": 150,
      "metadata": {
        "collapsed": true,
        "id": "e93i1XyZ9ajt",
        "colab": {
          "base_uri": "https://localhost:8080/"
        },
        "outputId": "9bf2c526-c94f-41c5-de4c-46ec80cd947f"
      },
      "outputs": [
        {
          "output_type": "stream",
          "name": "stdout",
          "text": [
            "Created 'datasets/cars_license_plates/train/images' and 'datasets/cars_license_plates/train/labels'\n",
            "Created 'datasets/cars_license_plates/val/images' and 'datasets/cars_license_plates/val/labels'\n",
            "Created 'datasets/cars_license_plates/test/images' and 'datasets/cars_license_plates/test/labels'\n"
          ]
        }
      ],
      "source": [
        "make_split_folder_in_yolo_format(\"train\", train)\n",
        "make_split_folder_in_yolo_format(\"val\", val)\n",
        "make_split_folder_in_yolo_format(\"test\", test)"
      ]
    },
    {
      "cell_type": "markdown",
      "metadata": {
        "id": "vd8wJ6Ko9nTq"
      },
      "source": [
        "# Object detection and bounding box"
      ]
    },
    {
      "cell_type": "code",
      "execution_count": 151,
      "metadata": {
        "id": "eX4IECUC9qmZ",
        "colab": {
          "base_uri": "https://localhost:8080/",
          "height": 344
        },
        "outputId": "ed8be086-a037-475e-868c-adece5e4bc84"
      },
      "outputs": [
        {
          "output_type": "display_data",
          "data": {
            "text/plain": [
              "<Figure size 640x480 with 1 Axes>"
            ],
            "image/png": "[encoded data removed]"
          },
          "metadata": {}
        }
      ],
      "source": [
        "image_dir = 'datasets/cars_license_plates/train/images'\n",
        "label_dir = 'datasets/cars_license_plates/train/labels'\n",
        "\n",
        "image_files = sorted(os.listdir(image_dir))\n",
        "first_image_file = image_files[0]\n",
        "\n",
        "# Construct paths for image and its label\n",
        "image_path = os.path.join(image_dir, first_image_file)\n",
        "label_path = os.path.join(label_dir, os.path.splitext(first_image_file)[0] + '.txt')\n",
        "\n",
        "image = cv2.imread(image_path)\n",
        "\n",
        "# Convert img BGR to OpenCV\n",
        "image = cv2.cvtColor(image, cv2.COLOR_BGR2RGB)\n",
        "\n",
        "\n",
        "with open(label_path, 'r') as f:\n",
        "    lines = f.readlines()\n",
        "\n",
        "\n",
        "for line in lines:\n",
        "\n",
        "    class_id, x_center, y_center, width, height = map(float, line.strip().split())\n",
        "    img_height, img_width, _ = image.shape\n",
        "\n",
        "    # Convert YOLO format to bounding box format\n",
        "    x_center *= img_width\n",
        "    y_center *= img_height\n",
        "    width *= img_width\n",
        "    height *= img_height\n",
        "\n",
        "    x1 = int(x_center - width / 2)\n",
        "    y1 = int(y_center - height / 2)\n",
        "    x2 = int(x_center + width / 2)\n",
        "    y2 = int(y_center + height / 2)\n",
        "\n",
        "    cv2.rectangle(image, (x1, y1), (x2, y2), (0, 255, 0), 2)\n",
        "\n",
        "\n",
        "plt.imshow(image)\n",
        "plt.axis('off')\n",
        "plt.show()"
      ]
    },
    {
      "cell_type": "code",
      "execution_count": 152,
      "metadata": {
        "id": "obiQYXKJ9wfp"
      },
      "outputs": [],
      "source": [
        "datasets_yaml = '''\n",
        "path: cars_license_plates\n",
        "\n",
        "train: train/images\n",
        "val: val/images\n",
        "test: test/images\n",
        "\n",
        "# number of classes\n",
        "nc: 1\n",
        "\n",
        "# class names\n",
        "names: ['license_plate']\n",
        "'''\n",
        "\n",
        "# Write the content to the datasets.yaml file\n",
        "with open('dataset/datasets.yaml', 'w') as file:\n",
        "    file.write(datasets_yaml)"
      ]
    },
    {
      "cell_type": "markdown",
      "metadata": {
        "id": "PJF5WplF92Mu"
      },
      "source": [
        "# Using YOLOv8 nano model"
      ]
    },
    {
      "cell_type": "code",
      "execution_count": 153,
      "metadata": {
        "id": "cZhNRVKZ93Sq"
      },
      "outputs": [],
      "source": [
        "# using YOLOv8 nano\n",
        "from ultralytics import YOLO\n",
        "model = YOLO('yolov8n.pt')"
      ]
    },
    {
      "cell_type": "code",
      "execution_count": 154,
      "metadata": {
        "id": "bww2ZxEQ98pL"
      },
      "outputs": [],
      "source": [
        "os.environ['WANDB_MODE'] = 'offline'"
      ]
    },
    {
      "cell_type": "code",
      "source": [
        "def train_with_preprocessing(model, train_data):\n",
        "    def preprocessed_dataset(data):\n",
        "        for batch in data:\n",
        "            yield [preprocess_image(img) for img in batch]\n",
        "\n",
        "    results = model.train(data=preprocessed_dataset(train_data), epochs=100, imgsz=640)"
      ],
      "metadata": {
        "id": "jvGCFNwUHc7p"
      },
      "execution_count": 155,
      "outputs": []
    },
    {
      "cell_type": "code",
      "execution_count": 156,
      "metadata": {
        "collapsed": true,
        "id": "eoahgfdr-Ai3",
        "colab": {
          "base_uri": "https://localhost:8080/"
        },
        "outputId": "60720204-1f62-4a37-992b-0e69048ee399"
      },
      "outputs": [
        {
          "output_type": "stream",
          "name": "stdout",
          "text": [
            "Ultralytics 8.3.24 🚀 Python-3.10.12 torch-2.5.0+cu121 CUDA:0 (Tesla T4, 15102MiB)\n",
            "\u001b[34m\u001b[1mengine/trainer: \u001b[0mtask=detect, mode=train, model=yolov8n.pt, data=dataset/datasets.yaml, epochs=100, time=None, patience=100, batch=16, imgsz=320, save=True, save_period=-1, cache=True, device=cuda, workers=8, project=None, name=train15, exist_ok=False, pretrained=True, optimizer=auto, verbose=True, seed=0, deterministic=True, single_cls=False, rect=False, cos_lr=False, close_mosaic=10, resume=False, amp=True, fraction=1.0, profile=False, freeze=None, multi_scale=False, overlap_mask=True, mask_ratio=4, dropout=0.0, val=True, split=val, save_json=False, save_hybrid=False, conf=None, iou=0.7, max_det=300, half=False, dnn=False, plots=True, source=None, vid_stride=1, stream_buffer=False, visualize=False, augment=False, agnostic_nms=False, classes=None, retina_masks=False, embed=None, show=False, save_frames=False, save_txt=False, save_conf=False, save_crop=False, show_labels=True, show_conf=True, show_boxes=True, line_width=None, format=torchscript, keras=False, optimize=False, int8=False, dynamic=False, simplify=True, opset=None, workspace=4, nms=False, lr0=0.01, lrf=0.01, momentum=0.937, weight_decay=0.0005, warmup_epochs=3.0, warmup_momentum=0.8, warmup_bias_lr=0.1, box=7.5, cls=0.5, dfl=1.5, pose=12.0, kobj=1.0, label_smoothing=0.0, nbs=64, hsv_h=0.015, hsv_s=0.7, hsv_v=0.4, degrees=0.0, translate=0.1, scale=0.5, shear=0.0, perspective=0.0, flipud=0.0, fliplr=0.5, bgr=0.0, mosaic=1.0, mixup=0.0, copy_paste=0.0, copy_paste_mode=flip, auto_augment=randaugment, erasing=0.4, crop_fraction=1.0, cfg=None, tracker=botsort.yaml, save_dir=runs/detect/train15\n",
            "Overriding model.yaml nc=80 with nc=1\n",
            "\n",
            "                   from  n    params  module                                       arguments                     \n",
            "  0                  -1  1       464  ultralytics.nn.modules.conv.Conv             [3, 16, 3, 2]                 \n",
            "  1                  -1  1      4672  ultralytics.nn.modules.conv.Conv             [16, 32, 3, 2]                \n",
            "  2                  -1  1      7360  ultralytics.nn.modules.block.C2f             [32, 32, 1, True]             \n",
            "  3                  -1  1     18560  ultralytics.nn.modules.conv.Conv             [32, 64, 3, 2]                \n",
            "  4                  -1  2     49664  ultralytics.nn.modules.block.C2f             [64, 64, 2, True]             \n",
            "  5                  -1  1     73984  ultralytics.nn.modules.conv.Conv             [64, 128, 3, 2]               \n",
            "  6                  -1  2    197632  ultralytics.nn.modules.block.C2f             [128, 128, 2, True]           \n",
            "  7                  -1  1    295424  ultralytics.nn.modules.conv.Conv             [128, 256, 3, 2]              \n",
            "  8                  -1  1    460288  ultralytics.nn.modules.block.C2f             [256, 256, 1, True]           \n",
            "  9                  -1  1    164608  ultralytics.nn.modules.block.SPPF            [256, 256, 5]                 \n",
            " 10                  -1  1         0  torch.nn.modules.upsampling.Upsample         [None, 2, 'nearest']          \n",
            " 11             [-1, 6]  1         0  ultralytics.nn.modules.conv.Concat           [1]                           \n",
            " 12                  -1  1    148224  ultralytics.nn.modules.block.C2f             [384, 128, 1]                 \n",
            " 13                  -1  1         0  torch.nn.modules.upsampling.Upsample         [None, 2, 'nearest']          \n",
            " 14             [-1, 4]  1         0  ultralytics.nn.modules.conv.Concat           [1]                           \n",
            " 15                  -1  1     37248  ultralytics.nn.modules.block.C2f             [192, 64, 1]                  \n",
            " 16                  -1  1     36992  ultralytics.nn.modules.conv.Conv             [64, 64, 3, 2]                \n",
            " 17            [-1, 12]  1         0  ultralytics.nn.modules.conv.Concat           [1]                           \n",
            " 18                  -1  1    123648  ultralytics.nn.modules.block.C2f             [192, 128, 1]                 \n",
            " 19                  -1  1    147712  ultralytics.nn.modules.conv.Conv             [128, 128, 3, 2]              \n",
            " 20             [-1, 9]  1         0  ultralytics.nn.modules.conv.Concat           [1]                           \n",
            " 21                  -1  1    493056  ultralytics.nn.modules.block.C2f             [384, 256, 1]                 \n",
            " 22        [15, 18, 21]  1    751507  ultralytics.nn.modules.head.Detect           [1, [64, 128, 256]]           \n",
            "Model summary: 225 layers, 3,011,043 parameters, 3,011,027 gradients, 8.2 GFLOPs\n",
            "\n",
            "Transferred 319/355 items from pretrained weights\n",
            "\u001b[34m\u001b[1mTensorBoard: \u001b[0mStart with 'tensorboard --logdir runs/detect/train15', view at http://localhost:6006/\n",
            "Freezing layer 'model.22.dfl.conv.weight'\n",
            "\u001b[34m\u001b[1mAMP: \u001b[0mrunning Automatic Mixed Precision (AMP) checks...\n",
            "\u001b[34m\u001b[1mAMP: \u001b[0mchecks passed ✅\n"
          ]
        },
        {
          "output_type": "stream",
          "name": "stderr",
          "text": [
            "\u001b[34m\u001b[1mtrain: \u001b[0mScanning /content/datasets/cars_license_plates/train/labels... 345 images, 0 backgrounds, 0 corrupt: 100%|██████████| 345/345 [00:00<00:00, 855.17it/s]\n"
          ]
        },
        {
          "output_type": "stream",
          "name": "stdout",
          "text": [
            "\u001b[34m\u001b[1mtrain: \u001b[0mNew cache created: /content/datasets/cars_license_plates/train/labels.cache\n",
            "WARNING ⚠️ cache='ram' may produce non-deterministic training results. Consider cache='disk' as a deterministic alternative if your disk space allows.\n"
          ]
        },
        {
          "output_type": "stream",
          "name": "stderr",
          "text": [
            "\u001b[34m\u001b[1mtrain: \u001b[0mCaching images (0.1GB RAM): 100%|██████████| 345/345 [00:01<00:00, 229.88it/s]"
          ]
        },
        {
          "output_type": "stream",
          "name": "stdout",
          "text": [
            "\u001b[34m\u001b[1malbumentations: \u001b[0mBlur(p=0.01, blur_limit=(3, 7)), MedianBlur(p=0.01, blur_limit=(3, 7)), ToGray(p=0.01, num_output_channels=3, method='weighted_average'), CLAHE(p=0.01, clip_limit=(1, 4.0), tile_grid_size=(8, 8))\n"
          ]
        },
        {
          "output_type": "stream",
          "name": "stderr",
          "text": [
            "\n",
            "\u001b[34m\u001b[1mval: \u001b[0mScanning /content/datasets/cars_license_plates/val/labels... 44 images, 0 backgrounds, 0 corrupt: 100%|██████████| 44/44 [00:00<00:00, 464.38it/s]"
          ]
        },
        {
          "output_type": "stream",
          "name": "stdout",
          "text": [
            "\u001b[34m\u001b[1mval: \u001b[0mNew cache created: /content/datasets/cars_license_plates/val/labels.cache\n"
          ]
        },
        {
          "output_type": "stream",
          "name": "stderr",
          "text": [
            "\n"
          ]
        },
        {
          "output_type": "stream",
          "name": "stdout",
          "text": [
            "WARNING ⚠️ cache='ram' may produce non-deterministic training results. Consider cache='disk' as a deterministic alternative if your disk space allows.\n"
          ]
        },
        {
          "output_type": "stream",
          "name": "stderr",
          "text": [
            "\u001b[34m\u001b[1mval: \u001b[0mCaching images (0.0GB RAM): 100%|██████████| 44/44 [00:00<00:00, 236.61it/s]\n"
          ]
        },
        {
          "output_type": "stream",
          "name": "stdout",
          "text": [
            "Plotting labels to runs/detect/train15/labels.jpg... \n",
            "\u001b[34m\u001b[1moptimizer:\u001b[0m 'optimizer=auto' found, ignoring 'lr0=0.01' and 'momentum=0.937' and determining best 'optimizer', 'lr0' and 'momentum' automatically... \n",
            "\u001b[34m\u001b[1moptimizer:\u001b[0m AdamW(lr=0.002, momentum=0.9) with parameter groups 57 weight(decay=0.0), 64 weight(decay=0.0005), 63 bias(decay=0.0)\n",
            "\u001b[34m\u001b[1mTensorBoard: \u001b[0mmodel graph visualization added ✅\n",
            "Image sizes 320 train, 320 val\n",
            "Using 2 dataloader workers\n",
            "Logging results to \u001b[1mruns/detect/train15\u001b[0m\n",
            "Starting training for 100 epochs...\n",
            "\n",
            "      Epoch    GPU_mem   box_loss   cls_loss   dfl_loss  Instances       Size\n"
          ]
        },
        {
          "output_type": "stream",
          "name": "stderr",
          "text": [
            "      1/100     0.845G      2.094      3.176      1.488         19        320: 100%|██████████| 22/22 [00:04<00:00,  5.05it/s]\n",
            "                 Class     Images  Instances      Box(P          R      mAP50  mAP50-95): 100%|██████████| 2/2 [00:00<00:00, 10.11it/s]"
          ]
        },
        {
          "output_type": "stream",
          "name": "stdout",
          "text": [
            "                   all         44         44     0.0037      0.818      0.072     0.0368\n"
          ]
        },
        {
          "output_type": "stream",
          "name": "stderr",
          "text": [
            "\n"
          ]
        },
        {
          "output_type": "stream",
          "name": "stdout",
          "text": [
            "\n",
            "      Epoch    GPU_mem   box_loss   cls_loss   dfl_loss  Instances       Size\n"
          ]
        },
        {
          "output_type": "stream",
          "name": "stderr",
          "text": [
            "      2/100     0.833G      1.777      1.946      1.254         19        320: 100%|██████████| 22/22 [00:02<00:00,  8.24it/s]\n",
            "                 Class     Images  Instances      Box(P          R      mAP50  mAP50-95): 100%|██████████| 2/2 [00:00<00:00, 10.26it/s]\n"
          ]
        },
        {
          "output_type": "stream",
          "name": "stdout",
          "text": [
            "                   all         44         44    0.00482      0.841     0.0274     0.0117\n",
            "\n",
            "      Epoch    GPU_mem   box_loss   cls_loss   dfl_loss  Instances       Size\n"
          ]
        },
        {
          "output_type": "stream",
          "name": "stderr",
          "text": [
            "      3/100     0.843G       1.77      1.694      1.306         23        320: 100%|██████████| 22/22 [00:05<00:00,  4.20it/s]\n",
            "                 Class     Images  Instances      Box(P          R      mAP50  mAP50-95): 100%|██████████| 2/2 [00:00<00:00,  3.14it/s]"
          ]
        },
        {
          "output_type": "stream",
          "name": "stdout",
          "text": [
            "                   all         44         44          1      0.183      0.329      0.151\n"
          ]
        },
        {
          "output_type": "stream",
          "name": "stderr",
          "text": [
            "\n"
          ]
        },
        {
          "output_type": "stream",
          "name": "stdout",
          "text": [
            "\n",
            "      Epoch    GPU_mem   box_loss   cls_loss   dfl_loss  Instances       Size\n"
          ]
        },
        {
          "output_type": "stream",
          "name": "stderr",
          "text": [
            "      4/100     0.835G      1.806      1.638      1.387         16        320: 100%|██████████| 22/22 [00:06<00:00,  3.35it/s]\n",
            "                 Class     Images  Instances      Box(P          R      mAP50  mAP50-95): 100%|██████████| 2/2 [00:00<00:00,  4.76it/s]"
          ]
        },
        {
          "output_type": "stream",
          "name": "stdout",
          "text": [
            "                   all         44         44      0.371      0.318      0.313       0.14\n"
          ]
        },
        {
          "output_type": "stream",
          "name": "stderr",
          "text": [
            "\n"
          ]
        },
        {
          "output_type": "stream",
          "name": "stdout",
          "text": [
            "\n",
            "      Epoch    GPU_mem   box_loss   cls_loss   dfl_loss  Instances       Size\n"
          ]
        },
        {
          "output_type": "stream",
          "name": "stderr",
          "text": [
            "      5/100     0.835G      1.745      1.568      1.323         20        320: 100%|██████████| 22/22 [00:05<00:00,  4.18it/s]\n",
            "                 Class     Images  Instances      Box(P          R      mAP50  mAP50-95): 100%|██████████| 2/2 [00:00<00:00,  4.56it/s]"
          ]
        },
        {
          "output_type": "stream",
          "name": "stdout",
          "text": [
            "                   all         44         44      0.222      0.273      0.176     0.0562\n"
          ]
        },
        {
          "output_type": "stream",
          "name": "stderr",
          "text": [
            "\n"
          ]
        },
        {
          "output_type": "stream",
          "name": "stdout",
          "text": [
            "\n",
            "      Epoch    GPU_mem   box_loss   cls_loss   dfl_loss  Instances       Size\n"
          ]
        },
        {
          "output_type": "stream",
          "name": "stderr",
          "text": [
            "      6/100     0.841G      1.803       1.56      1.345         19        320: 100%|██████████| 22/22 [00:04<00:00,  4.98it/s]\n",
            "                 Class     Images  Instances      Box(P          R      mAP50  mAP50-95): 100%|██████████| 2/2 [00:00<00:00,  5.86it/s]"
          ]
        },
        {
          "output_type": "stream",
          "name": "stdout",
          "text": [
            "                   all         44         44      0.397      0.295      0.313       0.14\n"
          ]
        },
        {
          "output_type": "stream",
          "name": "stderr",
          "text": [
            "\n"
          ]
        },
        {
          "output_type": "stream",
          "name": "stdout",
          "text": [
            "\n",
            "      Epoch    GPU_mem   box_loss   cls_loss   dfl_loss  Instances       Size\n"
          ]
        },
        {
          "output_type": "stream",
          "name": "stderr",
          "text": [
            "      7/100     0.835G      1.772      1.509      1.333         18        320: 100%|██████████| 22/22 [00:02<00:00,  8.38it/s]\n",
            "                 Class     Images  Instances      Box(P          R      mAP50  mAP50-95): 100%|██████████| 2/2 [00:00<00:00,  9.74it/s]"
          ]
        },
        {
          "output_type": "stream",
          "name": "stdout",
          "text": [
            "                   all         44         44      0.568      0.227       0.31      0.147\n"
          ]
        },
        {
          "output_type": "stream",
          "name": "stderr",
          "text": [
            "\n"
          ]
        },
        {
          "output_type": "stream",
          "name": "stdout",
          "text": [
            "\n",
            "      Epoch    GPU_mem   box_loss   cls_loss   dfl_loss  Instances       Size\n"
          ]
        },
        {
          "output_type": "stream",
          "name": "stderr",
          "text": [
            "      8/100     0.843G      1.803      1.496      1.309         19        320: 100%|██████████| 22/22 [00:02<00:00,  8.04it/s]\n",
            "                 Class     Images  Instances      Box(P          R      mAP50  mAP50-95): 100%|██████████| 2/2 [00:00<00:00,  6.13it/s]"
          ]
        },
        {
          "output_type": "stream",
          "name": "stdout",
          "text": [
            "                   all         44         44      0.426      0.388      0.362      0.139\n"
          ]
        },
        {
          "output_type": "stream",
          "name": "stderr",
          "text": [
            "\n"
          ]
        },
        {
          "output_type": "stream",
          "name": "stdout",
          "text": [
            "\n",
            "      Epoch    GPU_mem   box_loss   cls_loss   dfl_loss  Instances       Size\n"
          ]
        },
        {
          "output_type": "stream",
          "name": "stderr",
          "text": [
            "      9/100     0.835G      1.689      1.369        1.3         17        320: 100%|██████████| 22/22 [00:02<00:00,  8.03it/s]\n",
            "                 Class     Images  Instances      Box(P          R      mAP50  mAP50-95): 100%|██████████| 2/2 [00:00<00:00,  6.69it/s]"
          ]
        },
        {
          "output_type": "stream",
          "name": "stdout",
          "text": [
            "                   all         44         44      0.573      0.659      0.617      0.273\n"
          ]
        },
        {
          "output_type": "stream",
          "name": "stderr",
          "text": [
            "\n"
          ]
        },
        {
          "output_type": "stream",
          "name": "stdout",
          "text": [
            "\n",
            "      Epoch    GPU_mem   box_loss   cls_loss   dfl_loss  Instances       Size\n"
          ]
        },
        {
          "output_type": "stream",
          "name": "stderr",
          "text": [
            "     10/100     0.841G      1.714      1.346      1.303         18        320: 100%|██████████| 22/22 [00:04<00:00,  4.79it/s]\n",
            "                 Class     Images  Instances      Box(P          R      mAP50  mAP50-95): 100%|██████████| 2/2 [00:00<00:00,  6.05it/s]"
          ]
        },
        {
          "output_type": "stream",
          "name": "stdout",
          "text": [
            "                   all         44         44      0.677      0.432       0.51      0.231\n"
          ]
        },
        {
          "output_type": "stream",
          "name": "stderr",
          "text": [
            "\n"
          ]
        },
        {
          "output_type": "stream",
          "name": "stdout",
          "text": [
            "\n",
            "      Epoch    GPU_mem   box_loss   cls_loss   dfl_loss  Instances       Size\n"
          ]
        },
        {
          "output_type": "stream",
          "name": "stderr",
          "text": [
            "     11/100     0.835G      1.608       1.25       1.25         19        320: 100%|██████████| 22/22 [00:03<00:00,  5.95it/s]\n",
            "                 Class     Images  Instances      Box(P          R      mAP50  mAP50-95): 100%|██████████| 2/2 [00:00<00:00, 10.57it/s]"
          ]
        },
        {
          "output_type": "stream",
          "name": "stdout",
          "text": [
            "                   all         44         44      0.821      0.312      0.446      0.204\n"
          ]
        },
        {
          "output_type": "stream",
          "name": "stderr",
          "text": [
            "\n"
          ]
        },
        {
          "output_type": "stream",
          "name": "stdout",
          "text": [
            "\n",
            "      Epoch    GPU_mem   box_loss   cls_loss   dfl_loss  Instances       Size\n"
          ]
        },
        {
          "output_type": "stream",
          "name": "stderr",
          "text": [
            "     12/100     0.841G      1.646      1.252      1.285         21        320: 100%|██████████| 22/22 [00:02<00:00,  8.43it/s]\n",
            "                 Class     Images  Instances      Box(P          R      mAP50  mAP50-95): 100%|██████████| 2/2 [00:00<00:00,  9.77it/s]"
          ]
        },
        {
          "output_type": "stream",
          "name": "stdout",
          "text": [
            "                   all         44         44      0.573      0.641      0.594      0.265\n"
          ]
        },
        {
          "output_type": "stream",
          "name": "stderr",
          "text": [
            "\n"
          ]
        },
        {
          "output_type": "stream",
          "name": "stdout",
          "text": [
            "\n",
            "      Epoch    GPU_mem   box_loss   cls_loss   dfl_loss  Instances       Size\n"
          ]
        },
        {
          "output_type": "stream",
          "name": "stderr",
          "text": [
            "     13/100     0.835G      1.629      1.229      1.241         15        320: 100%|██████████| 22/22 [00:02<00:00,  8.12it/s]\n",
            "                 Class     Images  Instances      Box(P          R      mAP50  mAP50-95): 100%|██████████| 2/2 [00:00<00:00,  9.84it/s]"
          ]
        },
        {
          "output_type": "stream",
          "name": "stdout",
          "text": [
            "                   all         44         44      0.717      0.636      0.714      0.319\n"
          ]
        },
        {
          "output_type": "stream",
          "name": "stderr",
          "text": [
            "\n"
          ]
        },
        {
          "output_type": "stream",
          "name": "stdout",
          "text": [
            "\n",
            "      Epoch    GPU_mem   box_loss   cls_loss   dfl_loss  Instances       Size\n"
          ]
        },
        {
          "output_type": "stream",
          "name": "stderr",
          "text": [
            "     14/100     0.841G      1.642      1.247      1.271         16        320: 100%|██████████| 22/22 [00:03<00:00,  6.14it/s]\n",
            "                 Class     Images  Instances      Box(P          R      mAP50  mAP50-95): 100%|██████████| 2/2 [00:00<00:00,  6.49it/s]"
          ]
        },
        {
          "output_type": "stream",
          "name": "stdout",
          "text": [
            "                   all         44         44      0.882      0.568      0.716      0.325\n"
          ]
        },
        {
          "output_type": "stream",
          "name": "stderr",
          "text": [
            "\n"
          ]
        },
        {
          "output_type": "stream",
          "name": "stdout",
          "text": [
            "\n",
            "      Epoch    GPU_mem   box_loss   cls_loss   dfl_loss  Instances       Size\n"
          ]
        },
        {
          "output_type": "stream",
          "name": "stderr",
          "text": [
            "     15/100     0.835G      1.567      1.167      1.203         19        320: 100%|██████████| 22/22 [00:04<00:00,  4.73it/s]\n",
            "                 Class     Images  Instances      Box(P          R      mAP50  mAP50-95): 100%|██████████| 2/2 [00:00<00:00,  5.27it/s]"
          ]
        },
        {
          "output_type": "stream",
          "name": "stdout",
          "text": [
            "                   all         44         44      0.744      0.636      0.737      0.363\n"
          ]
        },
        {
          "output_type": "stream",
          "name": "stderr",
          "text": [
            "\n"
          ]
        },
        {
          "output_type": "stream",
          "name": "stdout",
          "text": [
            "\n",
            "      Epoch    GPU_mem   box_loss   cls_loss   dfl_loss  Instances       Size\n"
          ]
        },
        {
          "output_type": "stream",
          "name": "stderr",
          "text": [
            "     16/100     0.841G      1.531      1.135      1.208         13        320: 100%|██████████| 22/22 [00:02<00:00,  8.20it/s]\n",
            "                 Class     Images  Instances      Box(P          R      mAP50  mAP50-95): 100%|██████████| 2/2 [00:00<00:00,  9.84it/s]"
          ]
        },
        {
          "output_type": "stream",
          "name": "stdout",
          "text": [
            "                   all         44         44       0.83      0.778      0.856      0.416\n"
          ]
        },
        {
          "output_type": "stream",
          "name": "stderr",
          "text": [
            "\n"
          ]
        },
        {
          "output_type": "stream",
          "name": "stdout",
          "text": [
            "\n",
            "      Epoch    GPU_mem   box_loss   cls_loss   dfl_loss  Instances       Size\n"
          ]
        },
        {
          "output_type": "stream",
          "name": "stderr",
          "text": [
            "     17/100     0.835G      1.474      1.078      1.179         16        320: 100%|██████████| 22/22 [00:02<00:00,  8.18it/s]\n",
            "                 Class     Images  Instances      Box(P          R      mAP50  mAP50-95): 100%|██████████| 2/2 [00:00<00:00,  9.48it/s]"
          ]
        },
        {
          "output_type": "stream",
          "name": "stdout",
          "text": [
            "                   all         44         44      0.757      0.659      0.704      0.326\n"
          ]
        },
        {
          "output_type": "stream",
          "name": "stderr",
          "text": [
            "\n"
          ]
        },
        {
          "output_type": "stream",
          "name": "stdout",
          "text": [
            "\n",
            "      Epoch    GPU_mem   box_loss   cls_loss   dfl_loss  Instances       Size\n"
          ]
        },
        {
          "output_type": "stream",
          "name": "stderr",
          "text": [
            "     18/100     0.841G       1.47      1.017      1.182         21        320: 100%|██████████| 22/22 [00:02<00:00,  7.51it/s]\n",
            "                 Class     Images  Instances      Box(P          R      mAP50  mAP50-95): 100%|██████████| 2/2 [00:00<00:00,  6.70it/s]"
          ]
        },
        {
          "output_type": "stream",
          "name": "stdout",
          "text": [
            "                   all         44         44      0.762        0.5      0.662      0.349\n"
          ]
        },
        {
          "output_type": "stream",
          "name": "stderr",
          "text": [
            "\n"
          ]
        },
        {
          "output_type": "stream",
          "name": "stdout",
          "text": [
            "\n",
            "      Epoch    GPU_mem   box_loss   cls_loss   dfl_loss  Instances       Size\n"
          ]
        },
        {
          "output_type": "stream",
          "name": "stderr",
          "text": [
            "     19/100     0.835G      1.486      1.006      1.201         17        320: 100%|██████████| 22/22 [00:05<00:00,  3.96it/s]\n",
            "                 Class     Images  Instances      Box(P          R      mAP50  mAP50-95): 100%|██████████| 2/2 [00:00<00:00,  6.45it/s]"
          ]
        },
        {
          "output_type": "stream",
          "name": "stdout",
          "text": [
            "                   all         44         44      0.782      0.817      0.816       0.39\n"
          ]
        },
        {
          "output_type": "stream",
          "name": "stderr",
          "text": [
            "\n"
          ]
        },
        {
          "output_type": "stream",
          "name": "stdout",
          "text": [
            "\n",
            "      Epoch    GPU_mem   box_loss   cls_loss   dfl_loss  Instances       Size\n"
          ]
        },
        {
          "output_type": "stream",
          "name": "stderr",
          "text": [
            "     20/100     0.841G      1.495      1.008       1.19         24        320: 100%|██████████| 22/22 [00:03<00:00,  6.86it/s]\n",
            "                 Class     Images  Instances      Box(P          R      mAP50  mAP50-95): 100%|██████████| 2/2 [00:00<00:00,  9.22it/s]"
          ]
        },
        {
          "output_type": "stream",
          "name": "stdout",
          "text": [
            "                   all         44         44      0.789       0.85      0.853        0.4\n"
          ]
        },
        {
          "output_type": "stream",
          "name": "stderr",
          "text": [
            "\n"
          ]
        },
        {
          "output_type": "stream",
          "name": "stdout",
          "text": [
            "\n",
            "      Epoch    GPU_mem   box_loss   cls_loss   dfl_loss  Instances       Size\n"
          ]
        },
        {
          "output_type": "stream",
          "name": "stderr",
          "text": [
            "     21/100     0.835G      1.418      0.991      1.155         21        320: 100%|██████████| 22/22 [00:03<00:00,  6.01it/s]\n",
            "                 Class     Images  Instances      Box(P          R      mAP50  mAP50-95): 100%|██████████| 2/2 [00:00<00:00,  9.21it/s]"
          ]
        },
        {
          "output_type": "stream",
          "name": "stdout",
          "text": [
            "                   all         44         44      0.924      0.833      0.872      0.429\n"
          ]
        },
        {
          "output_type": "stream",
          "name": "stderr",
          "text": [
            "\n"
          ]
        },
        {
          "output_type": "stream",
          "name": "stdout",
          "text": [
            "\n",
            "      Epoch    GPU_mem   box_loss   cls_loss   dfl_loss  Instances       Size\n"
          ]
        },
        {
          "output_type": "stream",
          "name": "stderr",
          "text": [
            "     22/100     0.841G      1.441      1.024      1.174         14        320: 100%|██████████| 22/22 [00:03<00:00,  5.57it/s]\n",
            "                 Class     Images  Instances      Box(P          R      mAP50  mAP50-95): 100%|██████████| 2/2 [00:00<00:00,  7.12it/s]"
          ]
        },
        {
          "output_type": "stream",
          "name": "stdout",
          "text": [
            "                   all         44         44       0.83      0.818      0.834      0.325\n"
          ]
        },
        {
          "output_type": "stream",
          "name": "stderr",
          "text": [
            "\n"
          ]
        },
        {
          "output_type": "stream",
          "name": "stdout",
          "text": [
            "\n",
            "      Epoch    GPU_mem   box_loss   cls_loss   dfl_loss  Instances       Size\n"
          ]
        },
        {
          "output_type": "stream",
          "name": "stderr",
          "text": [
            "     23/100     0.835G      1.448      1.011      1.164         14        320: 100%|██████████| 22/22 [00:04<00:00,  5.39it/s]\n",
            "                 Class     Images  Instances      Box(P          R      mAP50  mAP50-95): 100%|██████████| 2/2 [00:00<00:00, 10.15it/s]\n"
          ]
        },
        {
          "output_type": "stream",
          "name": "stdout",
          "text": [
            "                   all         44         44      0.946      0.705      0.861      0.392\n",
            "\n",
            "      Epoch    GPU_mem   box_loss   cls_loss   dfl_loss  Instances       Size\n"
          ]
        },
        {
          "output_type": "stream",
          "name": "stderr",
          "text": [
            "     24/100     0.841G      1.413      0.958      1.175         15        320: 100%|██████████| 22/22 [00:02<00:00,  8.31it/s]\n",
            "                 Class     Images  Instances      Box(P          R      mAP50  mAP50-95): 100%|██████████| 2/2 [00:00<00:00,  9.79it/s]"
          ]
        },
        {
          "output_type": "stream",
          "name": "stdout",
          "text": [
            "                   all         44         44      0.716      0.705      0.747      0.348\n"
          ]
        },
        {
          "output_type": "stream",
          "name": "stderr",
          "text": [
            "\n"
          ]
        },
        {
          "output_type": "stream",
          "name": "stdout",
          "text": [
            "\n",
            "      Epoch    GPU_mem   box_loss   cls_loss   dfl_loss  Instances       Size\n"
          ]
        },
        {
          "output_type": "stream",
          "name": "stderr",
          "text": [
            "     25/100     0.835G      1.409     0.9357      1.158         22        320: 100%|██████████| 22/22 [00:02<00:00,  8.38it/s]\n",
            "                 Class     Images  Instances      Box(P          R      mAP50  mAP50-95): 100%|██████████| 2/2 [00:00<00:00, 10.09it/s]\n"
          ]
        },
        {
          "output_type": "stream",
          "name": "stdout",
          "text": [
            "                   all         44         44      0.798      0.539       0.68      0.338\n",
            "\n",
            "      Epoch    GPU_mem   box_loss   cls_loss   dfl_loss  Instances       Size\n"
          ]
        },
        {
          "output_type": "stream",
          "name": "stderr",
          "text": [
            "     26/100     0.839G      1.423     0.9439      1.148         13        320: 100%|██████████| 22/22 [00:03<00:00,  6.88it/s]\n",
            "                 Class     Images  Instances      Box(P          R      mAP50  mAP50-95): 100%|██████████| 2/2 [00:00<00:00,  7.08it/s]"
          ]
        },
        {
          "output_type": "stream",
          "name": "stdout",
          "text": [
            "                   all         44         44      0.786      0.614      0.658      0.319\n"
          ]
        },
        {
          "output_type": "stream",
          "name": "stderr",
          "text": [
            "\n"
          ]
        },
        {
          "output_type": "stream",
          "name": "stdout",
          "text": [
            "\n",
            "      Epoch    GPU_mem   box_loss   cls_loss   dfl_loss  Instances       Size\n"
          ]
        },
        {
          "output_type": "stream",
          "name": "stderr",
          "text": [
            "     27/100     0.835G      1.371     0.9191      1.138         18        320: 100%|██████████| 22/22 [00:04<00:00,  4.72it/s]\n",
            "                 Class     Images  Instances      Box(P          R      mAP50  mAP50-95): 100%|██████████| 2/2 [00:00<00:00,  6.63it/s]"
          ]
        },
        {
          "output_type": "stream",
          "name": "stdout",
          "text": [
            "                   all         44         44      0.736      0.571      0.666      0.334\n"
          ]
        },
        {
          "output_type": "stream",
          "name": "stderr",
          "text": [
            "\n"
          ]
        },
        {
          "output_type": "stream",
          "name": "stdout",
          "text": [
            "\n",
            "      Epoch    GPU_mem   box_loss   cls_loss   dfl_loss  Instances       Size\n"
          ]
        },
        {
          "output_type": "stream",
          "name": "stderr",
          "text": [
            "     28/100     0.841G      1.359     0.8818      1.107         18        320: 100%|██████████| 22/22 [00:02<00:00,  8.30it/s]\n",
            "                 Class     Images  Instances      Box(P          R      mAP50  mAP50-95): 100%|██████████| 2/2 [00:00<00:00,  8.90it/s]"
          ]
        },
        {
          "output_type": "stream",
          "name": "stdout",
          "text": [
            "                   all         44         44      0.875      0.773      0.833      0.382\n"
          ]
        },
        {
          "output_type": "stream",
          "name": "stderr",
          "text": [
            "\n"
          ]
        },
        {
          "output_type": "stream",
          "name": "stdout",
          "text": [
            "\n",
            "      Epoch    GPU_mem   box_loss   cls_loss   dfl_loss  Instances       Size\n"
          ]
        },
        {
          "output_type": "stream",
          "name": "stderr",
          "text": [
            "     29/100     0.835G      1.349     0.9108      1.138         23        320: 100%|██████████| 22/22 [00:02<00:00,  8.03it/s]\n",
            "                 Class     Images  Instances      Box(P          R      mAP50  mAP50-95): 100%|██████████| 2/2 [00:00<00:00, 10.22it/s]\n"
          ]
        },
        {
          "output_type": "stream",
          "name": "stdout",
          "text": [
            "                   all         44         44       0.88      0.832       0.85      0.403\n",
            "\n",
            "      Epoch    GPU_mem   box_loss   cls_loss   dfl_loss  Instances       Size\n"
          ]
        },
        {
          "output_type": "stream",
          "name": "stderr",
          "text": [
            "     30/100     0.841G      1.361     0.8741      1.141         17        320: 100%|██████████| 22/22 [00:02<00:00,  8.25it/s]\n",
            "                 Class     Images  Instances      Box(P          R      mAP50  mAP50-95): 100%|██████████| 2/2 [00:00<00:00,  9.30it/s]"
          ]
        },
        {
          "output_type": "stream",
          "name": "stdout",
          "text": [
            "                   all         44         44      0.864      0.795      0.833      0.425\n"
          ]
        },
        {
          "output_type": "stream",
          "name": "stderr",
          "text": [
            "\n"
          ]
        },
        {
          "output_type": "stream",
          "name": "stdout",
          "text": [
            "\n",
            "      Epoch    GPU_mem   box_loss   cls_loss   dfl_loss  Instances       Size\n"
          ]
        },
        {
          "output_type": "stream",
          "name": "stderr",
          "text": [
            "     31/100     0.835G      1.336     0.8485      1.141         16        320: 100%|██████████| 22/22 [00:04<00:00,  5.05it/s]\n",
            "                 Class     Images  Instances      Box(P          R      mAP50  mAP50-95): 100%|██████████| 2/2 [00:00<00:00,  5.67it/s]"
          ]
        },
        {
          "output_type": "stream",
          "name": "stdout",
          "text": [
            "                   all         44         44      0.924      0.795      0.871      0.424\n"
          ]
        },
        {
          "output_type": "stream",
          "name": "stderr",
          "text": [
            "\n"
          ]
        },
        {
          "output_type": "stream",
          "name": "stdout",
          "text": [
            "\n",
            "      Epoch    GPU_mem   box_loss   cls_loss   dfl_loss  Instances       Size\n"
          ]
        },
        {
          "output_type": "stream",
          "name": "stderr",
          "text": [
            "     32/100     0.841G      1.345     0.8653      1.143         17        320: 100%|██████████| 22/22 [00:03<00:00,  5.84it/s]\n",
            "                 Class     Images  Instances      Box(P          R      mAP50  mAP50-95): 100%|██████████| 2/2 [00:00<00:00, 10.08it/s]"
          ]
        },
        {
          "output_type": "stream",
          "name": "stdout",
          "text": [
            "                   all         44         44      0.872      0.776      0.809      0.352\n"
          ]
        },
        {
          "output_type": "stream",
          "name": "stderr",
          "text": [
            "\n"
          ]
        },
        {
          "output_type": "stream",
          "name": "stdout",
          "text": [
            "\n",
            "      Epoch    GPU_mem   box_loss   cls_loss   dfl_loss  Instances       Size\n"
          ]
        },
        {
          "output_type": "stream",
          "name": "stderr",
          "text": [
            "     33/100     0.835G      1.395     0.8769       1.16         19        320: 100%|██████████| 22/22 [00:02<00:00,  8.28it/s]\n",
            "                 Class     Images  Instances      Box(P          R      mAP50  mAP50-95): 100%|██████████| 2/2 [00:00<00:00,  9.30it/s]"
          ]
        },
        {
          "output_type": "stream",
          "name": "stdout",
          "text": [
            "                   all         44         44      0.861      0.845      0.867      0.392\n"
          ]
        },
        {
          "output_type": "stream",
          "name": "stderr",
          "text": [
            "\n"
          ]
        },
        {
          "output_type": "stream",
          "name": "stdout",
          "text": [
            "\n",
            "      Epoch    GPU_mem   box_loss   cls_loss   dfl_loss  Instances       Size\n"
          ]
        },
        {
          "output_type": "stream",
          "name": "stderr",
          "text": [
            "     34/100     0.841G      1.282     0.8298      1.113         18        320: 100%|██████████| 22/22 [00:02<00:00,  7.81it/s]\n",
            "                 Class     Images  Instances      Box(P          R      mAP50  mAP50-95): 100%|██████████| 2/2 [00:00<00:00, 10.37it/s]"
          ]
        },
        {
          "output_type": "stream",
          "name": "stdout",
          "text": [
            "                   all         44         44        0.9      0.817      0.844      0.432\n"
          ]
        },
        {
          "output_type": "stream",
          "name": "stderr",
          "text": [
            "\n"
          ]
        },
        {
          "output_type": "stream",
          "name": "stdout",
          "text": [
            "\n",
            "      Epoch    GPU_mem   box_loss   cls_loss   dfl_loss  Instances       Size\n"
          ]
        },
        {
          "output_type": "stream",
          "name": "stderr",
          "text": [
            "     35/100     0.835G      1.296     0.8147      1.111         16        320: 100%|██████████| 22/22 [00:03<00:00,  5.81it/s]\n",
            "                 Class     Images  Instances      Box(P          R      mAP50  mAP50-95): 100%|██████████| 2/2 [00:00<00:00,  6.39it/s]"
          ]
        },
        {
          "output_type": "stream",
          "name": "stdout",
          "text": [
            "                   all         44         44      0.861      0.636      0.757      0.375\n"
          ]
        },
        {
          "output_type": "stream",
          "name": "stderr",
          "text": [
            "\n"
          ]
        },
        {
          "output_type": "stream",
          "name": "stdout",
          "text": [
            "\n",
            "      Epoch    GPU_mem   box_loss   cls_loss   dfl_loss  Instances       Size\n"
          ]
        },
        {
          "output_type": "stream",
          "name": "stderr",
          "text": [
            "     36/100     0.841G        1.3     0.8511        1.1         19        320: 100%|██████████| 22/22 [00:03<00:00,  5.60it/s]\n",
            "                 Class     Images  Instances      Box(P          R      mAP50  mAP50-95): 100%|██████████| 2/2 [00:00<00:00,  9.90it/s]"
          ]
        },
        {
          "output_type": "stream",
          "name": "stdout",
          "text": [
            "                   all         44         44      0.916      0.739      0.821      0.394\n"
          ]
        },
        {
          "output_type": "stream",
          "name": "stderr",
          "text": [
            "\n"
          ]
        },
        {
          "output_type": "stream",
          "name": "stdout",
          "text": [
            "\n",
            "      Epoch    GPU_mem   box_loss   cls_loss   dfl_loss  Instances       Size\n"
          ]
        },
        {
          "output_type": "stream",
          "name": "stderr",
          "text": [
            "     37/100     0.835G      1.331     0.8432      1.119         15        320: 100%|██████████| 22/22 [00:02<00:00,  8.25it/s]\n",
            "                 Class     Images  Instances      Box(P          R      mAP50  mAP50-95): 100%|██████████| 2/2 [00:00<00:00,  9.41it/s]"
          ]
        },
        {
          "output_type": "stream",
          "name": "stdout",
          "text": [
            "                   all         44         44       0.88      0.818      0.877      0.402\n"
          ]
        },
        {
          "output_type": "stream",
          "name": "stderr",
          "text": [
            "\n"
          ]
        },
        {
          "output_type": "stream",
          "name": "stdout",
          "text": [
            "\n",
            "      Epoch    GPU_mem   box_loss   cls_loss   dfl_loss  Instances       Size\n"
          ]
        },
        {
          "output_type": "stream",
          "name": "stderr",
          "text": [
            "     38/100     0.841G      1.291     0.8498      1.091         19        320: 100%|██████████| 22/22 [00:02<00:00,  7.98it/s]\n",
            "                 Class     Images  Instances      Box(P          R      mAP50  mAP50-95): 100%|██████████| 2/2 [00:00<00:00, 10.02it/s]"
          ]
        },
        {
          "output_type": "stream",
          "name": "stdout",
          "text": [
            "                   all         44         44      0.826      0.865      0.856      0.407\n"
          ]
        },
        {
          "output_type": "stream",
          "name": "stderr",
          "text": [
            "\n"
          ]
        },
        {
          "output_type": "stream",
          "name": "stdout",
          "text": [
            "\n",
            "      Epoch    GPU_mem   box_loss   cls_loss   dfl_loss  Instances       Size\n"
          ]
        },
        {
          "output_type": "stream",
          "name": "stderr",
          "text": [
            "     39/100     0.835G      1.284      0.839      1.095         20        320: 100%|██████████| 22/22 [00:03<00:00,  6.43it/s]\n",
            "                 Class     Images  Instances      Box(P          R      mAP50  mAP50-95): 100%|██████████| 2/2 [00:00<00:00,  5.66it/s]"
          ]
        },
        {
          "output_type": "stream",
          "name": "stdout",
          "text": [
            "                   all         44         44      0.857      0.682      0.808      0.396\n"
          ]
        },
        {
          "output_type": "stream",
          "name": "stderr",
          "text": [
            "\n"
          ]
        },
        {
          "output_type": "stream",
          "name": "stdout",
          "text": [
            "\n",
            "      Epoch    GPU_mem   box_loss   cls_loss   dfl_loss  Instances       Size\n"
          ]
        },
        {
          "output_type": "stream",
          "name": "stderr",
          "text": [
            "     40/100     0.841G      1.275     0.7772      1.083         19        320: 100%|██████████| 22/22 [00:04<00:00,  4.53it/s]\n",
            "                 Class     Images  Instances      Box(P          R      mAP50  mAP50-95): 100%|██████████| 2/2 [00:00<00:00,  7.18it/s]"
          ]
        },
        {
          "output_type": "stream",
          "name": "stdout",
          "text": [
            "                   all         44         44      0.902      0.773      0.876      0.435\n"
          ]
        },
        {
          "output_type": "stream",
          "name": "stderr",
          "text": [
            "\n"
          ]
        },
        {
          "output_type": "stream",
          "name": "stdout",
          "text": [
            "\n",
            "      Epoch    GPU_mem   box_loss   cls_loss   dfl_loss  Instances       Size\n"
          ]
        },
        {
          "output_type": "stream",
          "name": "stderr",
          "text": [
            "     41/100     0.835G      1.254     0.8201      1.088         17        320: 100%|██████████| 22/22 [00:02<00:00,  7.81it/s]\n",
            "                 Class     Images  Instances      Box(P          R      mAP50  mAP50-95): 100%|██████████| 2/2 [00:00<00:00,  9.34it/s]"
          ]
        },
        {
          "output_type": "stream",
          "name": "stdout",
          "text": [
            "                   all         44         44      0.853      0.794      0.859      0.434\n"
          ]
        },
        {
          "output_type": "stream",
          "name": "stderr",
          "text": [
            "\n"
          ]
        },
        {
          "output_type": "stream",
          "name": "stdout",
          "text": [
            "\n",
            "      Epoch    GPU_mem   box_loss   cls_loss   dfl_loss  Instances       Size\n"
          ]
        },
        {
          "output_type": "stream",
          "name": "stderr",
          "text": [
            "     42/100     0.841G      1.192     0.7667      1.078         17        320: 100%|██████████| 22/22 [00:02<00:00,  8.34it/s]\n",
            "                 Class     Images  Instances      Box(P          R      mAP50  mAP50-95): 100%|██████████| 2/2 [00:00<00:00,  9.56it/s]"
          ]
        },
        {
          "output_type": "stream",
          "name": "stdout",
          "text": [
            "                   all         44         44       0.88      0.837      0.862      0.457\n"
          ]
        },
        {
          "output_type": "stream",
          "name": "stderr",
          "text": [
            "\n"
          ]
        },
        {
          "output_type": "stream",
          "name": "stdout",
          "text": [
            "\n",
            "      Epoch    GPU_mem   box_loss   cls_loss   dfl_loss  Instances       Size\n"
          ]
        },
        {
          "output_type": "stream",
          "name": "stderr",
          "text": [
            "     43/100     0.835G      1.233     0.7668      1.074         14        320: 100%|██████████| 22/22 [00:02<00:00,  8.06it/s]\n",
            "                 Class     Images  Instances      Box(P          R      mAP50  mAP50-95): 100%|██████████| 2/2 [00:00<00:00, 10.24it/s]\n"
          ]
        },
        {
          "output_type": "stream",
          "name": "stdout",
          "text": [
            "                   all         44         44      0.958      0.795      0.895      0.453\n",
            "\n",
            "      Epoch    GPU_mem   box_loss   cls_loss   dfl_loss  Instances       Size\n"
          ]
        },
        {
          "output_type": "stream",
          "name": "stderr",
          "text": [
            "     44/100     0.841G      1.273     0.7755       1.06         13        320: 100%|██████████| 22/22 [00:04<00:00,  5.11it/s]\n",
            "                 Class     Images  Instances      Box(P          R      mAP50  mAP50-95): 100%|██████████| 2/2 [00:00<00:00,  6.26it/s]"
          ]
        },
        {
          "output_type": "stream",
          "name": "stdout",
          "text": [
            "                   all         44         44      0.964      0.795      0.877      0.444\n"
          ]
        },
        {
          "output_type": "stream",
          "name": "stderr",
          "text": [
            "\n"
          ]
        },
        {
          "output_type": "stream",
          "name": "stdout",
          "text": [
            "\n",
            "      Epoch    GPU_mem   box_loss   cls_loss   dfl_loss  Instances       Size\n"
          ]
        },
        {
          "output_type": "stream",
          "name": "stderr",
          "text": [
            "     45/100     0.835G      1.194     0.7406      1.043         16        320: 100%|██████████| 22/22 [00:03<00:00,  5.89it/s]\n",
            "                 Class     Images  Instances      Box(P          R      mAP50  mAP50-95): 100%|██████████| 2/2 [00:00<00:00,  9.73it/s]"
          ]
        },
        {
          "output_type": "stream",
          "name": "stdout",
          "text": [
            "                   all         44         44      0.963      0.818        0.9      0.428\n"
          ]
        },
        {
          "output_type": "stream",
          "name": "stderr",
          "text": [
            "\n"
          ]
        },
        {
          "output_type": "stream",
          "name": "stdout",
          "text": [
            "\n",
            "      Epoch    GPU_mem   box_loss   cls_loss   dfl_loss  Instances       Size\n"
          ]
        },
        {
          "output_type": "stream",
          "name": "stderr",
          "text": [
            "     46/100     0.841G      1.184      0.745      1.068         18        320: 100%|██████████| 22/22 [00:02<00:00,  8.18it/s]\n",
            "                 Class     Images  Instances      Box(P          R      mAP50  mAP50-95): 100%|██████████| 2/2 [00:00<00:00,  9.21it/s]"
          ]
        },
        {
          "output_type": "stream",
          "name": "stdout",
          "text": [
            "                   all         44         44      0.885      0.871      0.898      0.459\n"
          ]
        },
        {
          "output_type": "stream",
          "name": "stderr",
          "text": [
            "\n"
          ]
        },
        {
          "output_type": "stream",
          "name": "stdout",
          "text": [
            "\n",
            "      Epoch    GPU_mem   box_loss   cls_loss   dfl_loss  Instances       Size\n"
          ]
        },
        {
          "output_type": "stream",
          "name": "stderr",
          "text": [
            "     47/100     0.835G      1.231     0.7431      1.072         17        320: 100%|██████████| 22/22 [00:02<00:00,  8.35it/s]\n",
            "                 Class     Images  Instances      Box(P          R      mAP50  mAP50-95): 100%|██████████| 2/2 [00:00<00:00,  9.50it/s]"
          ]
        },
        {
          "output_type": "stream",
          "name": "stdout",
          "text": [
            "                   all         44         44      0.878      0.818      0.868      0.415\n"
          ]
        },
        {
          "output_type": "stream",
          "name": "stderr",
          "text": [
            "\n"
          ]
        },
        {
          "output_type": "stream",
          "name": "stdout",
          "text": [
            "\n",
            "      Epoch    GPU_mem   box_loss   cls_loss   dfl_loss  Instances       Size\n"
          ]
        },
        {
          "output_type": "stream",
          "name": "stderr",
          "text": [
            "     48/100     0.841G      1.195     0.7441      1.049         13        320: 100%|██████████| 22/22 [00:03<00:00,  6.01it/s]\n",
            "                 Class     Images  Instances      Box(P          R      mAP50  mAP50-95): 100%|██████████| 2/2 [00:00<00:00,  6.75it/s]"
          ]
        },
        {
          "output_type": "stream",
          "name": "stdout",
          "text": [
            "                   all         44         44      0.931      0.818      0.862      0.419\n"
          ]
        },
        {
          "output_type": "stream",
          "name": "stderr",
          "text": [
            "\n"
          ]
        },
        {
          "output_type": "stream",
          "name": "stdout",
          "text": [
            "\n",
            "      Epoch    GPU_mem   box_loss   cls_loss   dfl_loss  Instances       Size\n"
          ]
        },
        {
          "output_type": "stream",
          "name": "stderr",
          "text": [
            "     49/100     0.835G      1.145     0.6951      1.034         12        320: 100%|██████████| 22/22 [00:04<00:00,  5.11it/s]\n",
            "                 Class     Images  Instances      Box(P          R      mAP50  mAP50-95): 100%|██████████| 2/2 [00:00<00:00,  9.90it/s]"
          ]
        },
        {
          "output_type": "stream",
          "name": "stdout",
          "text": [
            "                   all         44         44      0.897      0.864      0.881      0.421\n"
          ]
        },
        {
          "output_type": "stream",
          "name": "stderr",
          "text": [
            "\n"
          ]
        },
        {
          "output_type": "stream",
          "name": "stdout",
          "text": [
            "\n",
            "      Epoch    GPU_mem   box_loss   cls_loss   dfl_loss  Instances       Size\n"
          ]
        },
        {
          "output_type": "stream",
          "name": "stderr",
          "text": [
            "     50/100     0.841G      1.196     0.7199       1.04         15        320: 100%|██████████| 22/22 [00:02<00:00,  8.32it/s]\n",
            "                 Class     Images  Instances      Box(P          R      mAP50  mAP50-95): 100%|██████████| 2/2 [00:00<00:00, 10.05it/s]"
          ]
        },
        {
          "output_type": "stream",
          "name": "stdout",
          "text": [
            "                   all         44         44      0.933      0.841      0.881      0.422\n"
          ]
        },
        {
          "output_type": "stream",
          "name": "stderr",
          "text": [
            "\n"
          ]
        },
        {
          "output_type": "stream",
          "name": "stdout",
          "text": [
            "\n",
            "      Epoch    GPU_mem   box_loss   cls_loss   dfl_loss  Instances       Size\n"
          ]
        },
        {
          "output_type": "stream",
          "name": "stderr",
          "text": [
            "     51/100     0.835G      1.154     0.7418      1.051         18        320: 100%|██████████| 22/22 [00:02<00:00,  8.41it/s]\n",
            "                 Class     Images  Instances      Box(P          R      mAP50  mAP50-95): 100%|██████████| 2/2 [00:00<00:00, 10.66it/s]"
          ]
        },
        {
          "output_type": "stream",
          "name": "stdout",
          "text": [
            "                   all         44         44      0.831      0.818      0.866      0.405\n"
          ]
        },
        {
          "output_type": "stream",
          "name": "stderr",
          "text": [
            "\n"
          ]
        },
        {
          "output_type": "stream",
          "name": "stdout",
          "text": [
            "\n",
            "      Epoch    GPU_mem   box_loss   cls_loss   dfl_loss  Instances       Size\n"
          ]
        },
        {
          "output_type": "stream",
          "name": "stderr",
          "text": [
            "     52/100     0.841G      1.135     0.7159      1.042         17        320: 100%|██████████| 22/22 [00:02<00:00,  7.49it/s]\n",
            "                 Class     Images  Instances      Box(P          R      mAP50  mAP50-95): 100%|██████████| 2/2 [00:00<00:00,  7.54it/s]"
          ]
        },
        {
          "output_type": "stream",
          "name": "stdout",
          "text": [
            "                   all         44         44      0.844      0.886      0.887      0.432\n"
          ]
        },
        {
          "output_type": "stream",
          "name": "stderr",
          "text": [
            "\n"
          ]
        },
        {
          "output_type": "stream",
          "name": "stdout",
          "text": [
            "\n",
            "      Epoch    GPU_mem   box_loss   cls_loss   dfl_loss  Instances       Size\n"
          ]
        },
        {
          "output_type": "stream",
          "name": "stderr",
          "text": [
            "     53/100     0.835G      1.171     0.7071      1.048         14        320: 100%|██████████| 22/22 [00:04<00:00,  5.25it/s]\n",
            "                 Class     Images  Instances      Box(P          R      mAP50  mAP50-95): 100%|██████████| 2/2 [00:00<00:00,  6.03it/s]"
          ]
        },
        {
          "output_type": "stream",
          "name": "stdout",
          "text": [
            "                   all         44         44      0.926      0.853      0.895      0.442\n"
          ]
        },
        {
          "output_type": "stream",
          "name": "stderr",
          "text": [
            "\n"
          ]
        },
        {
          "output_type": "stream",
          "name": "stdout",
          "text": [
            "\n",
            "      Epoch    GPU_mem   box_loss   cls_loss   dfl_loss  Instances       Size\n"
          ]
        },
        {
          "output_type": "stream",
          "name": "stderr",
          "text": [
            "     54/100     0.841G      1.112     0.6821      1.034         23        320: 100%|██████████| 22/22 [00:02<00:00,  7.62it/s]\n",
            "                 Class     Images  Instances      Box(P          R      mAP50  mAP50-95): 100%|██████████| 2/2 [00:00<00:00, 10.16it/s]\n"
          ]
        },
        {
          "output_type": "stream",
          "name": "stdout",
          "text": [
            "                   all         44         44      0.859      0.795      0.847      0.438\n",
            "\n",
            "      Epoch    GPU_mem   box_loss   cls_loss   dfl_loss  Instances       Size\n"
          ]
        },
        {
          "output_type": "stream",
          "name": "stderr",
          "text": [
            "     55/100     0.833G       1.13     0.7207      1.042         10        320: 100%|██████████| 22/22 [00:02<00:00,  8.39it/s]\n",
            "                 Class     Images  Instances      Box(P          R      mAP50  mAP50-95): 100%|██████████| 2/2 [00:00<00:00,  9.88it/s]"
          ]
        },
        {
          "output_type": "stream",
          "name": "stdout",
          "text": [
            "                   all         44         44      0.946      0.864      0.896      0.435\n"
          ]
        },
        {
          "output_type": "stream",
          "name": "stderr",
          "text": [
            "\n"
          ]
        },
        {
          "output_type": "stream",
          "name": "stdout",
          "text": [
            "\n",
            "      Epoch    GPU_mem   box_loss   cls_loss   dfl_loss  Instances       Size\n"
          ]
        },
        {
          "output_type": "stream",
          "name": "stderr",
          "text": [
            "     56/100     0.843G      1.136        0.7      1.024         17        320: 100%|██████████| 22/22 [00:02<00:00,  8.17it/s]\n",
            "                 Class     Images  Instances      Box(P          R      mAP50  mAP50-95): 100%|██████████| 2/2 [00:00<00:00, 10.70it/s]"
          ]
        },
        {
          "output_type": "stream",
          "name": "stdout",
          "text": [
            "                   all         44         44      0.915      0.795      0.849      0.407\n"
          ]
        },
        {
          "output_type": "stream",
          "name": "stderr",
          "text": [
            "\n"
          ]
        },
        {
          "output_type": "stream",
          "name": "stdout",
          "text": [
            "\n",
            "      Epoch    GPU_mem   box_loss   cls_loss   dfl_loss  Instances       Size\n"
          ]
        },
        {
          "output_type": "stream",
          "name": "stderr",
          "text": [
            "     57/100     0.835G      1.098     0.6826      1.022         14        320: 100%|██████████| 22/22 [00:04<00:00,  5.38it/s]\n",
            "                 Class     Images  Instances      Box(P          R      mAP50  mAP50-95): 100%|██████████| 2/2 [00:00<00:00,  6.50it/s]"
          ]
        },
        {
          "output_type": "stream",
          "name": "stdout",
          "text": [
            "                   all         44         44      0.846      0.841      0.875      0.426\n"
          ]
        },
        {
          "output_type": "stream",
          "name": "stderr",
          "text": [
            "\n"
          ]
        },
        {
          "output_type": "stream",
          "name": "stdout",
          "text": [
            "\n",
            "      Epoch    GPU_mem   box_loss   cls_loss   dfl_loss  Instances       Size\n"
          ]
        },
        {
          "output_type": "stream",
          "name": "stderr",
          "text": [
            "     58/100     0.841G      1.139     0.7067      1.026         19        320: 100%|██████████| 22/22 [00:03<00:00,  5.75it/s]\n",
            "                 Class     Images  Instances      Box(P          R      mAP50  mAP50-95): 100%|██████████| 2/2 [00:00<00:00, 10.46it/s]"
          ]
        },
        {
          "output_type": "stream",
          "name": "stdout",
          "text": [
            "                   all         44         44      0.806      0.864      0.858      0.432\n"
          ]
        },
        {
          "output_type": "stream",
          "name": "stderr",
          "text": [
            "\n"
          ]
        },
        {
          "output_type": "stream",
          "name": "stdout",
          "text": [
            "\n",
            "      Epoch    GPU_mem   box_loss   cls_loss   dfl_loss  Instances       Size\n"
          ]
        },
        {
          "output_type": "stream",
          "name": "stderr",
          "text": [
            "     59/100     0.835G      1.106      0.668      1.019         15        320: 100%|██████████| 22/22 [00:02<00:00,  8.32it/s]\n",
            "                 Class     Images  Instances      Box(P          R      mAP50  mAP50-95): 100%|██████████| 2/2 [00:00<00:00, 10.10it/s]"
          ]
        },
        {
          "output_type": "stream",
          "name": "stdout",
          "text": [
            "                   all         44         44      0.915      0.841      0.864      0.451\n"
          ]
        },
        {
          "output_type": "stream",
          "name": "stderr",
          "text": [
            "\n"
          ]
        },
        {
          "output_type": "stream",
          "name": "stdout",
          "text": [
            "\n",
            "      Epoch    GPU_mem   box_loss   cls_loss   dfl_loss  Instances       Size\n"
          ]
        },
        {
          "output_type": "stream",
          "name": "stderr",
          "text": [
            "     60/100     0.841G      1.093     0.6754      1.042         17        320: 100%|██████████| 22/22 [00:02<00:00,  8.40it/s]\n",
            "                 Class     Images  Instances      Box(P          R      mAP50  mAP50-95): 100%|██████████| 2/2 [00:00<00:00, 10.48it/s]"
          ]
        },
        {
          "output_type": "stream",
          "name": "stdout",
          "text": [
            "                   all         44         44      0.923      0.864      0.895      0.469\n"
          ]
        },
        {
          "output_type": "stream",
          "name": "stderr",
          "text": [
            "\n"
          ]
        },
        {
          "output_type": "stream",
          "name": "stdout",
          "text": [
            "\n",
            "      Epoch    GPU_mem   box_loss   cls_loss   dfl_loss  Instances       Size\n"
          ]
        },
        {
          "output_type": "stream",
          "name": "stderr",
          "text": [
            "     61/100     0.835G      1.134     0.6692      1.044         19        320: 100%|██████████| 22/22 [00:03<00:00,  6.63it/s]\n",
            "                 Class     Images  Instances      Box(P          R      mAP50  mAP50-95): 100%|██████████| 2/2 [00:00<00:00,  7.12it/s]"
          ]
        },
        {
          "output_type": "stream",
          "name": "stdout",
          "text": [
            "                   all         44         44      0.902       0.84      0.862      0.433\n"
          ]
        },
        {
          "output_type": "stream",
          "name": "stderr",
          "text": [
            "\n"
          ]
        },
        {
          "output_type": "stream",
          "name": "stdout",
          "text": [
            "\n",
            "      Epoch    GPU_mem   box_loss   cls_loss   dfl_loss  Instances       Size\n"
          ]
        },
        {
          "output_type": "stream",
          "name": "stderr",
          "text": [
            "     62/100     0.841G      1.067     0.6641      1.018         20        320: 100%|██████████| 22/22 [00:04<00:00,  4.99it/s]\n",
            "                 Class     Images  Instances      Box(P          R      mAP50  mAP50-95): 100%|██████████| 2/2 [00:00<00:00,  6.70it/s]"
          ]
        },
        {
          "output_type": "stream",
          "name": "stdout",
          "text": [
            "                   all         44         44      0.947      0.812      0.885       0.47\n"
          ]
        },
        {
          "output_type": "stream",
          "name": "stderr",
          "text": [
            "\n"
          ]
        },
        {
          "output_type": "stream",
          "name": "stdout",
          "text": [
            "\n",
            "      Epoch    GPU_mem   box_loss   cls_loss   dfl_loss  Instances       Size\n"
          ]
        },
        {
          "output_type": "stream",
          "name": "stderr",
          "text": [
            "     63/100     0.833G      1.066     0.6544       1.03          9        320: 100%|██████████| 22/22 [00:02<00:00,  8.27it/s]\n",
            "                 Class     Images  Instances      Box(P          R      mAP50  mAP50-95): 100%|██████████| 2/2 [00:00<00:00,  9.84it/s]"
          ]
        },
        {
          "output_type": "stream",
          "name": "stdout",
          "text": [
            "                   all         44         44      0.972      0.788      0.883      0.464\n"
          ]
        },
        {
          "output_type": "stream",
          "name": "stderr",
          "text": [
            "\n"
          ]
        },
        {
          "output_type": "stream",
          "name": "stdout",
          "text": [
            "\n",
            "      Epoch    GPU_mem   box_loss   cls_loss   dfl_loss  Instances       Size\n"
          ]
        },
        {
          "output_type": "stream",
          "name": "stderr",
          "text": [
            "     64/100     0.841G      1.079     0.6585      1.031         15        320: 100%|██████████| 22/22 [00:02<00:00,  8.35it/s]\n",
            "                 Class     Images  Instances      Box(P          R      mAP50  mAP50-95): 100%|██████████| 2/2 [00:00<00:00, 10.93it/s]"
          ]
        },
        {
          "output_type": "stream",
          "name": "stdout",
          "text": [
            "                   all         44         44      0.835      0.864      0.899      0.454\n"
          ]
        },
        {
          "output_type": "stream",
          "name": "stderr",
          "text": [
            "\n"
          ]
        },
        {
          "output_type": "stream",
          "name": "stdout",
          "text": [
            "\n",
            "      Epoch    GPU_mem   box_loss   cls_loss   dfl_loss  Instances       Size\n"
          ]
        },
        {
          "output_type": "stream",
          "name": "stderr",
          "text": [
            "     65/100     0.835G      1.079     0.6515      1.013         16        320: 100%|██████████| 22/22 [00:02<00:00,  8.47it/s]\n",
            "                 Class     Images  Instances      Box(P          R      mAP50  mAP50-95): 100%|██████████| 2/2 [00:00<00:00,  9.02it/s]"
          ]
        },
        {
          "output_type": "stream",
          "name": "stdout",
          "text": [
            "                   all         44         44      0.929      0.773      0.889      0.453\n"
          ]
        },
        {
          "output_type": "stream",
          "name": "stderr",
          "text": [
            "\n"
          ]
        },
        {
          "output_type": "stream",
          "name": "stdout",
          "text": [
            "\n",
            "      Epoch    GPU_mem   box_loss   cls_loss   dfl_loss  Instances       Size\n"
          ]
        },
        {
          "output_type": "stream",
          "name": "stderr",
          "text": [
            "     66/100     0.841G      1.029     0.6319     0.9992         17        320: 100%|██████████| 22/22 [00:04<00:00,  4.99it/s]\n",
            "                 Class     Images  Instances      Box(P          R      mAP50  mAP50-95): 100%|██████████| 2/2 [00:00<00:00,  6.56it/s]"
          ]
        },
        {
          "output_type": "stream",
          "name": "stdout",
          "text": [
            "                   all         44         44       0.82      0.864      0.877      0.442\n"
          ]
        },
        {
          "output_type": "stream",
          "name": "stderr",
          "text": [
            "\n"
          ]
        },
        {
          "output_type": "stream",
          "name": "stdout",
          "text": [
            "\n",
            "      Epoch    GPU_mem   box_loss   cls_loss   dfl_loss  Instances       Size\n"
          ]
        },
        {
          "output_type": "stream",
          "name": "stderr",
          "text": [
            "     67/100     0.835G       1.05      0.646      0.999         11        320: 100%|██████████| 22/22 [00:03<00:00,  5.98it/s]\n",
            "                 Class     Images  Instances      Box(P          R      mAP50  mAP50-95): 100%|██████████| 2/2 [00:00<00:00, 10.33it/s]\n"
          ]
        },
        {
          "output_type": "stream",
          "name": "stdout",
          "text": [
            "                   all         44         44      0.829      0.818      0.873      0.441\n",
            "\n",
            "      Epoch    GPU_mem   box_loss   cls_loss   dfl_loss  Instances       Size\n"
          ]
        },
        {
          "output_type": "stream",
          "name": "stderr",
          "text": [
            "     68/100     0.841G      1.044     0.6267      0.985         21        320: 100%|██████████| 22/22 [00:02<00:00,  8.41it/s]\n",
            "                 Class     Images  Instances      Box(P          R      mAP50  mAP50-95): 100%|██████████| 2/2 [00:00<00:00, 10.87it/s]"
          ]
        },
        {
          "output_type": "stream",
          "name": "stdout",
          "text": [
            "                   all         44         44      0.921       0.79      0.871      0.438\n"
          ]
        },
        {
          "output_type": "stream",
          "name": "stderr",
          "text": [
            "\n"
          ]
        },
        {
          "output_type": "stream",
          "name": "stdout",
          "text": [
            "\n",
            "      Epoch    GPU_mem   box_loss   cls_loss   dfl_loss  Instances       Size\n"
          ]
        },
        {
          "output_type": "stream",
          "name": "stderr",
          "text": [
            "     69/100     0.835G      1.017     0.6231      1.005         17        320: 100%|██████████| 22/22 [00:02<00:00,  8.41it/s]\n",
            "                 Class     Images  Instances      Box(P          R      mAP50  mAP50-95): 100%|██████████| 2/2 [00:00<00:00,  8.98it/s]"
          ]
        },
        {
          "output_type": "stream",
          "name": "stdout",
          "text": [
            "                   all         44         44      0.788      0.846      0.843      0.414\n"
          ]
        },
        {
          "output_type": "stream",
          "name": "stderr",
          "text": [
            "\n"
          ]
        },
        {
          "output_type": "stream",
          "name": "stdout",
          "text": [
            "\n",
            "      Epoch    GPU_mem   box_loss   cls_loss   dfl_loss  Instances       Size\n"
          ]
        },
        {
          "output_type": "stream",
          "name": "stderr",
          "text": [
            "     70/100     0.841G      0.998     0.5965     0.9903         16        320: 100%|██████████| 22/22 [00:03<00:00,  6.59it/s]\n",
            "                 Class     Images  Instances      Box(P          R      mAP50  mAP50-95): 100%|██████████| 2/2 [00:00<00:00,  6.71it/s]"
          ]
        },
        {
          "output_type": "stream",
          "name": "stdout",
          "text": [
            "                   all         44         44      0.867      0.864      0.875      0.422\n"
          ]
        },
        {
          "output_type": "stream",
          "name": "stderr",
          "text": [
            "\n"
          ]
        },
        {
          "output_type": "stream",
          "name": "stdout",
          "text": [
            "\n",
            "      Epoch    GPU_mem   box_loss   cls_loss   dfl_loss  Instances       Size\n"
          ]
        },
        {
          "output_type": "stream",
          "name": "stderr",
          "text": [
            "     71/100     0.835G      1.011     0.6184     0.9827         17        320: 100%|██████████| 22/22 [00:04<00:00,  4.81it/s]\n",
            "                 Class     Images  Instances      Box(P          R      mAP50  mAP50-95): 100%|██████████| 2/2 [00:00<00:00,  6.56it/s]"
          ]
        },
        {
          "output_type": "stream",
          "name": "stdout",
          "text": [
            "                   all         44         44      0.924      0.841       0.91      0.428\n"
          ]
        },
        {
          "output_type": "stream",
          "name": "stderr",
          "text": [
            "\n"
          ]
        },
        {
          "output_type": "stream",
          "name": "stdout",
          "text": [
            "\n",
            "      Epoch    GPU_mem   box_loss   cls_loss   dfl_loss  Instances       Size\n"
          ]
        },
        {
          "output_type": "stream",
          "name": "stderr",
          "text": [
            "     72/100     0.841G     0.9662     0.5989     0.9858         15        320: 100%|██████████| 22/22 [00:02<00:00,  8.35it/s]\n",
            "                 Class     Images  Instances      Box(P          R      mAP50  mAP50-95): 100%|██████████| 2/2 [00:00<00:00, 10.68it/s]"
          ]
        },
        {
          "output_type": "stream",
          "name": "stdout",
          "text": [
            "                   all         44         44       0.95      0.862        0.9      0.447\n"
          ]
        },
        {
          "output_type": "stream",
          "name": "stderr",
          "text": [
            "\n"
          ]
        },
        {
          "output_type": "stream",
          "name": "stdout",
          "text": [
            "\n",
            "      Epoch    GPU_mem   box_loss   cls_loss   dfl_loss  Instances       Size\n"
          ]
        },
        {
          "output_type": "stream",
          "name": "stderr",
          "text": [
            "     73/100     0.835G      1.026     0.6215     0.9833         16        320: 100%|██████████| 22/22 [00:02<00:00,  8.37it/s]\n",
            "                 Class     Images  Instances      Box(P          R      mAP50  mAP50-95): 100%|██████████| 2/2 [00:00<00:00,  9.36it/s]"
          ]
        },
        {
          "output_type": "stream",
          "name": "stdout",
          "text": [
            "                   all         44         44      0.944      0.841      0.885      0.448\n"
          ]
        },
        {
          "output_type": "stream",
          "name": "stderr",
          "text": [
            "\n"
          ]
        },
        {
          "output_type": "stream",
          "name": "stdout",
          "text": [
            "\n",
            "      Epoch    GPU_mem   box_loss   cls_loss   dfl_loss  Instances       Size\n"
          ]
        },
        {
          "output_type": "stream",
          "name": "stderr",
          "text": [
            "     74/100     0.841G      1.053     0.6283     0.9979         16        320: 100%|██████████| 22/22 [00:02<00:00,  8.02it/s]\n",
            "                 Class     Images  Instances      Box(P          R      mAP50  mAP50-95): 100%|██████████| 2/2 [00:00<00:00,  7.18it/s]"
          ]
        },
        {
          "output_type": "stream",
          "name": "stdout",
          "text": [
            "                   all         44         44      0.949      0.886      0.887      0.447\n"
          ]
        },
        {
          "output_type": "stream",
          "name": "stderr",
          "text": [
            "\n"
          ]
        },
        {
          "output_type": "stream",
          "name": "stdout",
          "text": [
            "\n",
            "      Epoch    GPU_mem   box_loss   cls_loss   dfl_loss  Instances       Size\n"
          ]
        },
        {
          "output_type": "stream",
          "name": "stderr",
          "text": [
            "     75/100     0.835G     0.9974     0.6124     0.9991         11        320: 100%|██████████| 22/22 [00:04<00:00,  5.14it/s]\n",
            "                 Class     Images  Instances      Box(P          R      mAP50  mAP50-95): 100%|██████████| 2/2 [00:00<00:00,  6.25it/s]"
          ]
        },
        {
          "output_type": "stream",
          "name": "stdout",
          "text": [
            "                   all         44         44      0.927      0.862      0.901      0.448\n"
          ]
        },
        {
          "output_type": "stream",
          "name": "stderr",
          "text": [
            "\n"
          ]
        },
        {
          "output_type": "stream",
          "name": "stdout",
          "text": [
            "\n",
            "      Epoch    GPU_mem   box_loss   cls_loss   dfl_loss  Instances       Size\n"
          ]
        },
        {
          "output_type": "stream",
          "name": "stderr",
          "text": [
            "     76/100     0.841G     0.9575     0.6127     0.9865         16        320: 100%|██████████| 22/22 [00:03<00:00,  5.71it/s]\n",
            "                 Class     Images  Instances      Box(P          R      mAP50  mAP50-95): 100%|██████████| 2/2 [00:00<00:00,  9.48it/s]"
          ]
        },
        {
          "output_type": "stream",
          "name": "stdout",
          "text": [
            "                   all         44         44      0.887      0.891      0.898      0.459\n"
          ]
        },
        {
          "output_type": "stream",
          "name": "stderr",
          "text": [
            "\n"
          ]
        },
        {
          "output_type": "stream",
          "name": "stdout",
          "text": [
            "\n",
            "      Epoch    GPU_mem   box_loss   cls_loss   dfl_loss  Instances       Size\n"
          ]
        },
        {
          "output_type": "stream",
          "name": "stderr",
          "text": [
            "     77/100     0.835G     0.9662     0.5766     0.9799         17        320: 100%|██████████| 22/22 [00:02<00:00,  8.29it/s]\n",
            "                 Class     Images  Instances      Box(P          R      mAP50  mAP50-95): 100%|██████████| 2/2 [00:00<00:00,  9.85it/s]"
          ]
        },
        {
          "output_type": "stream",
          "name": "stdout",
          "text": [
            "                   all         44         44      0.856      0.909      0.892      0.454\n"
          ]
        },
        {
          "output_type": "stream",
          "name": "stderr",
          "text": [
            "\n"
          ]
        },
        {
          "output_type": "stream",
          "name": "stdout",
          "text": [
            "\n",
            "      Epoch    GPU_mem   box_loss   cls_loss   dfl_loss  Instances       Size\n"
          ]
        },
        {
          "output_type": "stream",
          "name": "stderr",
          "text": [
            "     78/100     0.841G     0.9628     0.5936     0.9747         14        320: 100%|██████████| 22/22 [00:02<00:00,  8.18it/s]\n",
            "                 Class     Images  Instances      Box(P          R      mAP50  mAP50-95): 100%|██████████| 2/2 [00:00<00:00, 10.12it/s]"
          ]
        },
        {
          "output_type": "stream",
          "name": "stdout",
          "text": [
            "                   all         44         44      0.861      0.909      0.896      0.455\n"
          ]
        },
        {
          "output_type": "stream",
          "name": "stderr",
          "text": [
            "\n"
          ]
        },
        {
          "output_type": "stream",
          "name": "stdout",
          "text": [
            "\n",
            "      Epoch    GPU_mem   box_loss   cls_loss   dfl_loss  Instances       Size\n"
          ]
        },
        {
          "output_type": "stream",
          "name": "stderr",
          "text": [
            "     79/100     0.835G     0.9958     0.5921      0.986         20        320: 100%|██████████| 22/22 [00:03<00:00,  6.23it/s]\n",
            "                 Class     Images  Instances      Box(P          R      mAP50  mAP50-95): 100%|██████████| 2/2 [00:00<00:00,  6.45it/s]"
          ]
        },
        {
          "output_type": "stream",
          "name": "stdout",
          "text": [
            "                   all         44         44      0.882      0.886      0.898      0.481\n"
          ]
        },
        {
          "output_type": "stream",
          "name": "stderr",
          "text": [
            "\n"
          ]
        },
        {
          "output_type": "stream",
          "name": "stdout",
          "text": [
            "\n",
            "      Epoch    GPU_mem   box_loss   cls_loss   dfl_loss  Instances       Size\n"
          ]
        },
        {
          "output_type": "stream",
          "name": "stderr",
          "text": [
            "     80/100     0.841G     0.9735     0.5889     0.9864         20        320: 100%|██████████| 22/22 [00:04<00:00,  5.14it/s]\n",
            "                 Class     Images  Instances      Box(P          R      mAP50  mAP50-95): 100%|██████████| 2/2 [00:00<00:00, 10.14it/s]\n"
          ]
        },
        {
          "output_type": "stream",
          "name": "stdout",
          "text": [
            "                   all         44         44      0.947      0.818      0.885      0.438\n",
            "\n",
            "      Epoch    GPU_mem   box_loss   cls_loss   dfl_loss  Instances       Size\n"
          ]
        },
        {
          "output_type": "stream",
          "name": "stderr",
          "text": [
            "     81/100     0.835G     0.9339     0.5745     0.9689         17        320: 100%|██████████| 22/22 [00:02<00:00,  8.04it/s]\n",
            "                 Class     Images  Instances      Box(P          R      mAP50  mAP50-95): 100%|██████████| 2/2 [00:00<00:00, 10.82it/s]\n"
          ]
        },
        {
          "output_type": "stream",
          "name": "stdout",
          "text": [
            "                   all         44         44      0.901      0.818      0.885      0.443\n",
            "\n",
            "      Epoch    GPU_mem   box_loss   cls_loss   dfl_loss  Instances       Size\n"
          ]
        },
        {
          "output_type": "stream",
          "name": "stderr",
          "text": [
            "     82/100     0.841G     0.9733     0.5856     0.9762         20        320: 100%|██████████| 22/22 [00:02<00:00,  8.26it/s]\n",
            "                 Class     Images  Instances      Box(P          R      mAP50  mAP50-95): 100%|██████████| 2/2 [00:00<00:00,  9.75it/s]"
          ]
        },
        {
          "output_type": "stream",
          "name": "stdout",
          "text": [
            "                   all         44         44      0.864      0.866       0.91       0.46\n"
          ]
        },
        {
          "output_type": "stream",
          "name": "stderr",
          "text": [
            "\n"
          ]
        },
        {
          "output_type": "stream",
          "name": "stdout",
          "text": [
            "\n",
            "      Epoch    GPU_mem   box_loss   cls_loss   dfl_loss  Instances       Size\n"
          ]
        },
        {
          "output_type": "stream",
          "name": "stderr",
          "text": [
            "     83/100     0.835G     0.9174     0.5576     0.9647         19        320: 100%|██████████| 22/22 [00:03<00:00,  6.73it/s]\n",
            "                 Class     Images  Instances      Box(P          R      mAP50  mAP50-95): 100%|██████████| 2/2 [00:00<00:00,  6.45it/s]"
          ]
        },
        {
          "output_type": "stream",
          "name": "stdout",
          "text": [
            "                   all         44         44      0.948      0.831      0.881      0.475\n"
          ]
        },
        {
          "output_type": "stream",
          "name": "stderr",
          "text": [
            "\n"
          ]
        },
        {
          "output_type": "stream",
          "name": "stdout",
          "text": [
            "\n",
            "      Epoch    GPU_mem   box_loss   cls_loss   dfl_loss  Instances       Size\n"
          ]
        },
        {
          "output_type": "stream",
          "name": "stderr",
          "text": [
            "     84/100     0.841G     0.9069     0.5667     0.9543         20        320: 100%|██████████| 22/22 [00:04<00:00,  4.76it/s]\n",
            "                 Class     Images  Instances      Box(P          R      mAP50  mAP50-95): 100%|██████████| 2/2 [00:00<00:00,  6.26it/s]"
          ]
        },
        {
          "output_type": "stream",
          "name": "stdout",
          "text": [
            "                   all         44         44      0.906      0.878      0.892      0.461\n"
          ]
        },
        {
          "output_type": "stream",
          "name": "stderr",
          "text": [
            "\n"
          ]
        },
        {
          "output_type": "stream",
          "name": "stdout",
          "text": [
            "\n",
            "      Epoch    GPU_mem   box_loss   cls_loss   dfl_loss  Instances       Size\n"
          ]
        },
        {
          "output_type": "stream",
          "name": "stderr",
          "text": [
            "     85/100     0.835G     0.9449      0.581     0.9674         16        320: 100%|██████████| 22/22 [00:02<00:00,  8.11it/s]\n",
            "                 Class     Images  Instances      Box(P          R      mAP50  mAP50-95): 100%|██████████| 2/2 [00:00<00:00,  9.90it/s]"
          ]
        },
        {
          "output_type": "stream",
          "name": "stdout",
          "text": [
            "                   all         44         44      0.896      0.886      0.903      0.469\n"
          ]
        },
        {
          "output_type": "stream",
          "name": "stderr",
          "text": [
            "\n"
          ]
        },
        {
          "output_type": "stream",
          "name": "stdout",
          "text": [
            "\n",
            "      Epoch    GPU_mem   box_loss   cls_loss   dfl_loss  Instances       Size\n"
          ]
        },
        {
          "output_type": "stream",
          "name": "stderr",
          "text": [
            "     86/100     0.841G     0.8962     0.5724     0.9637         15        320: 100%|██████████| 22/22 [00:02<00:00,  8.14it/s]\n",
            "                 Class     Images  Instances      Box(P          R      mAP50  mAP50-95): 100%|██████████| 2/2 [00:00<00:00,  9.63it/s]"
          ]
        },
        {
          "output_type": "stream",
          "name": "stdout",
          "text": [
            "                   all         44         44      0.927      0.863      0.901      0.469\n"
          ]
        },
        {
          "output_type": "stream",
          "name": "stderr",
          "text": [
            "\n"
          ]
        },
        {
          "output_type": "stream",
          "name": "stdout",
          "text": [
            "\n",
            "      Epoch    GPU_mem   box_loss   cls_loss   dfl_loss  Instances       Size\n"
          ]
        },
        {
          "output_type": "stream",
          "name": "stderr",
          "text": [
            "     87/100     0.835G     0.9166     0.5755     0.9587         22        320: 100%|██████████| 22/22 [00:02<00:00,  7.98it/s]\n",
            "                 Class     Images  Instances      Box(P          R      mAP50  mAP50-95): 100%|██████████| 2/2 [00:00<00:00,  7.05it/s]"
          ]
        },
        {
          "output_type": "stream",
          "name": "stdout",
          "text": [
            "                   all         44         44       0.95      0.862        0.9      0.454\n"
          ]
        },
        {
          "output_type": "stream",
          "name": "stderr",
          "text": [
            "\n"
          ]
        },
        {
          "output_type": "stream",
          "name": "stdout",
          "text": [
            "\n",
            "      Epoch    GPU_mem   box_loss   cls_loss   dfl_loss  Instances       Size\n"
          ]
        },
        {
          "output_type": "stream",
          "name": "stderr",
          "text": [
            "     88/100     0.841G     0.8958     0.5664     0.9648         14        320: 100%|██████████| 22/22 [00:04<00:00,  4.88it/s]\n",
            "                 Class     Images  Instances      Box(P          R      mAP50  mAP50-95): 100%|██████████| 2/2 [00:00<00:00,  7.32it/s]"
          ]
        },
        {
          "output_type": "stream",
          "name": "stdout",
          "text": [
            "                   all         44         44      0.907      0.883      0.898      0.462\n"
          ]
        },
        {
          "output_type": "stream",
          "name": "stderr",
          "text": [
            "\n"
          ]
        },
        {
          "output_type": "stream",
          "name": "stdout",
          "text": [
            "\n",
            "      Epoch    GPU_mem   box_loss   cls_loss   dfl_loss  Instances       Size\n"
          ]
        },
        {
          "output_type": "stream",
          "name": "stderr",
          "text": [
            "     89/100     0.835G     0.8946       0.57     0.9617         21        320: 100%|██████████| 22/22 [00:03<00:00,  6.64it/s]\n",
            "                 Class     Images  Instances      Box(P          R      mAP50  mAP50-95): 100%|██████████| 2/2 [00:00<00:00, 10.49it/s]"
          ]
        },
        {
          "output_type": "stream",
          "name": "stdout",
          "text": [
            "                   all         44         44      0.925      0.864      0.904      0.486\n"
          ]
        },
        {
          "output_type": "stream",
          "name": "stderr",
          "text": [
            "\n"
          ]
        },
        {
          "output_type": "stream",
          "name": "stdout",
          "text": [
            "\n",
            "      Epoch    GPU_mem   box_loss   cls_loss   dfl_loss  Instances       Size\n"
          ]
        },
        {
          "output_type": "stream",
          "name": "stderr",
          "text": [
            "     90/100     0.841G      0.905     0.5553      0.974         15        320: 100%|██████████| 22/22 [00:02<00:00,  7.99it/s]\n",
            "                 Class     Images  Instances      Box(P          R      mAP50  mAP50-95): 100%|██████████| 2/2 [00:00<00:00, 10.46it/s]"
          ]
        },
        {
          "output_type": "stream",
          "name": "stdout",
          "text": [
            "                   all         44         44      0.922      0.864      0.909      0.455\n"
          ]
        },
        {
          "output_type": "stream",
          "name": "stderr",
          "text": [
            "\n"
          ]
        },
        {
          "output_type": "stream",
          "name": "stdout",
          "text": [
            "Closing dataloader mosaic\n",
            "\u001b[34m\u001b[1malbumentations: \u001b[0mBlur(p=0.01, blur_limit=(3, 7)), MedianBlur(p=0.01, blur_limit=(3, 7)), ToGray(p=0.01, num_output_channels=3, method='weighted_average'), CLAHE(p=0.01, clip_limit=(1, 4.0), tile_grid_size=(8, 8))\n",
            "\n",
            "      Epoch    GPU_mem   box_loss   cls_loss   dfl_loss  Instances       Size\n"
          ]
        },
        {
          "output_type": "stream",
          "name": "stderr",
          "text": [
            "     91/100     0.833G      1.133     0.6586      1.088          9        320: 100%|██████████| 22/22 [00:03<00:00,  6.71it/s]\n",
            "                 Class     Images  Instances      Box(P          R      mAP50  mAP50-95): 100%|██████████| 2/2 [00:00<00:00, 10.50it/s]\n"
          ]
        },
        {
          "output_type": "stream",
          "name": "stdout",
          "text": [
            "                   all         44         44      0.925      0.864      0.909      0.449\n",
            "\n",
            "      Epoch    GPU_mem   box_loss   cls_loss   dfl_loss  Instances       Size\n"
          ]
        },
        {
          "output_type": "stream",
          "name": "stderr",
          "text": [
            "     92/100     0.841G      1.154     0.6367       1.09          9        320: 100%|██████████| 22/22 [00:04<00:00,  5.34it/s]\n",
            "                 Class     Images  Instances      Box(P          R      mAP50  mAP50-95): 100%|██████████| 2/2 [00:00<00:00,  6.29it/s]"
          ]
        },
        {
          "output_type": "stream",
          "name": "stdout",
          "text": [
            "                   all         44         44      0.923      0.886        0.9      0.472\n"
          ]
        },
        {
          "output_type": "stream",
          "name": "stderr",
          "text": [
            "\n"
          ]
        },
        {
          "output_type": "stream",
          "name": "stdout",
          "text": [
            "\n",
            "      Epoch    GPU_mem   box_loss   cls_loss   dfl_loss  Instances       Size\n"
          ]
        },
        {
          "output_type": "stream",
          "name": "stderr",
          "text": [
            "     93/100     0.833G      1.107     0.6042      1.081          9        320: 100%|██████████| 22/22 [00:06<00:00,  3.59it/s]\n",
            "                 Class     Images  Instances      Box(P          R      mAP50  mAP50-95): 100%|██████████| 2/2 [00:00<00:00,  9.26it/s]"
          ]
        },
        {
          "output_type": "stream",
          "name": "stdout",
          "text": [
            "                   all         44         44      0.951      0.886      0.908      0.479\n"
          ]
        },
        {
          "output_type": "stream",
          "name": "stderr",
          "text": [
            "\n"
          ]
        },
        {
          "output_type": "stream",
          "name": "stdout",
          "text": [
            "\n",
            "      Epoch    GPU_mem   box_loss   cls_loss   dfl_loss  Instances       Size\n"
          ]
        },
        {
          "output_type": "stream",
          "name": "stderr",
          "text": [
            "     94/100     0.841G      1.104     0.5825      1.069          9        320: 100%|██████████| 22/22 [00:02<00:00,  8.46it/s]\n",
            "                 Class     Images  Instances      Box(P          R      mAP50  mAP50-95): 100%|██████████| 2/2 [00:00<00:00, 11.08it/s]"
          ]
        },
        {
          "output_type": "stream",
          "name": "stdout",
          "text": [
            "                   all         44         44      0.942      0.864      0.906      0.476\n"
          ]
        },
        {
          "output_type": "stream",
          "name": "stderr",
          "text": [
            "\n"
          ]
        },
        {
          "output_type": "stream",
          "name": "stdout",
          "text": [
            "\n",
            "      Epoch    GPU_mem   box_loss   cls_loss   dfl_loss  Instances       Size\n"
          ]
        },
        {
          "output_type": "stream",
          "name": "stderr",
          "text": [
            "     95/100     0.833G      1.101     0.5858      1.064          9        320: 100%|██████████| 22/22 [00:02<00:00,  7.61it/s]\n",
            "                 Class     Images  Instances      Box(P          R      mAP50  mAP50-95): 100%|██████████| 2/2 [00:00<00:00,  7.83it/s]"
          ]
        },
        {
          "output_type": "stream",
          "name": "stdout",
          "text": [
            "                   all         44         44       0.92      0.864      0.892      0.486\n"
          ]
        },
        {
          "output_type": "stream",
          "name": "stderr",
          "text": [
            "\n"
          ]
        },
        {
          "output_type": "stream",
          "name": "stdout",
          "text": [
            "\n",
            "      Epoch    GPU_mem   box_loss   cls_loss   dfl_loss  Instances       Size\n"
          ]
        },
        {
          "output_type": "stream",
          "name": "stderr",
          "text": [
            "     96/100     0.841G      1.119     0.5876      1.055          9        320: 100%|██████████| 22/22 [00:04<00:00,  5.13it/s]\n",
            "                 Class     Images  Instances      Box(P          R      mAP50  mAP50-95): 100%|██████████| 2/2 [00:00<00:00,  6.36it/s]"
          ]
        },
        {
          "output_type": "stream",
          "name": "stdout",
          "text": [
            "                   all         44         44        0.9      0.864      0.897      0.501\n"
          ]
        },
        {
          "output_type": "stream",
          "name": "stderr",
          "text": [
            "\n"
          ]
        },
        {
          "output_type": "stream",
          "name": "stdout",
          "text": [
            "\n",
            "      Epoch    GPU_mem   box_loss   cls_loss   dfl_loss  Instances       Size\n"
          ]
        },
        {
          "output_type": "stream",
          "name": "stderr",
          "text": [
            "     97/100     0.833G      1.084     0.5766      1.055          9        320: 100%|██████████| 22/22 [00:02<00:00,  8.00it/s]\n",
            "                 Class     Images  Instances      Box(P          R      mAP50  mAP50-95): 100%|██████████| 2/2 [00:00<00:00, 10.53it/s]"
          ]
        },
        {
          "output_type": "stream",
          "name": "stdout",
          "text": [
            "                   all         44         44       0.92      0.864      0.901      0.498\n"
          ]
        },
        {
          "output_type": "stream",
          "name": "stderr",
          "text": [
            "\n"
          ]
        },
        {
          "output_type": "stream",
          "name": "stdout",
          "text": [
            "\n",
            "      Epoch    GPU_mem   box_loss   cls_loss   dfl_loss  Instances       Size\n"
          ]
        },
        {
          "output_type": "stream",
          "name": "stderr",
          "text": [
            "     98/100     0.841G      1.055     0.5841      1.047          9        320: 100%|██████████| 22/22 [00:02<00:00,  8.61it/s]\n",
            "                 Class     Images  Instances      Box(P          R      mAP50  mAP50-95): 100%|██████████| 2/2 [00:00<00:00,  9.39it/s]"
          ]
        },
        {
          "output_type": "stream",
          "name": "stdout",
          "text": [
            "                   all         44         44      0.921      0.864      0.903      0.498\n"
          ]
        },
        {
          "output_type": "stream",
          "name": "stderr",
          "text": [
            "\n"
          ]
        },
        {
          "output_type": "stream",
          "name": "stdout",
          "text": [
            "\n",
            "      Epoch    GPU_mem   box_loss   cls_loss   dfl_loss  Instances       Size\n"
          ]
        },
        {
          "output_type": "stream",
          "name": "stderr",
          "text": [
            "     99/100     0.833G      1.001     0.5758       1.04          9        320: 100%|██████████| 22/22 [00:02<00:00,  8.44it/s]\n",
            "                 Class     Images  Instances      Box(P          R      mAP50  mAP50-95): 100%|██████████| 2/2 [00:00<00:00, 10.19it/s]\n"
          ]
        },
        {
          "output_type": "stream",
          "name": "stdout",
          "text": [
            "                   all         44         44       0.95      0.861      0.901      0.491\n",
            "\n",
            "      Epoch    GPU_mem   box_loss   cls_loss   dfl_loss  Instances       Size\n"
          ]
        },
        {
          "output_type": "stream",
          "name": "stderr",
          "text": [
            "    100/100     0.841G      1.034     0.5515      1.036          9        320: 100%|██████████| 22/22 [00:03<00:00,  5.70it/s]\n",
            "                 Class     Images  Instances      Box(P          R      mAP50  mAP50-95): 100%|██████████| 2/2 [00:00<00:00,  6.59it/s]"
          ]
        },
        {
          "output_type": "stream",
          "name": "stdout",
          "text": [
            "                   all         44         44      0.923      0.864      0.902      0.494\n"
          ]
        },
        {
          "output_type": "stream",
          "name": "stderr",
          "text": [
            "\n"
          ]
        },
        {
          "output_type": "stream",
          "name": "stdout",
          "text": [
            "\n",
            "100 epochs completed in 0.125 hours.\n",
            "Optimizer stripped from runs/detect/train15/weights/last.pt, 6.2MB\n",
            "Optimizer stripped from runs/detect/train15/weights/best.pt, 6.2MB\n",
            "\n",
            "Validating runs/detect/train15/weights/best.pt...\n",
            "Ultralytics 8.3.24 🚀 Python-3.10.12 torch-2.5.0+cu121 CUDA:0 (Tesla T4, 15102MiB)\n",
            "Model summary (fused): 168 layers, 3,005,843 parameters, 0 gradients, 8.1 GFLOPs\n"
          ]
        },
        {
          "output_type": "stream",
          "name": "stderr",
          "text": [
            "                 Class     Images  Instances      Box(P          R      mAP50  mAP50-95): 100%|██████████| 2/2 [00:00<00:00,  3.98it/s]\n"
          ]
        },
        {
          "output_type": "stream",
          "name": "stdout",
          "text": [
            "                   all         44         44        0.9      0.864      0.897      0.503\n",
            "Speed: 0.2ms preprocess, 1.5ms inference, 0.0ms loss, 1.3ms postprocess per image\n",
            "Results saved to \u001b[1mruns/detect/train15\u001b[0m\n"
          ]
        },
        {
          "output_type": "execute_result",
          "data": {
            "text/plain": [
              "ultralytics.utils.metrics.DetMetrics object with attributes:\n",
              "\n",
              "ap_class_index: array([0])\n",
              "box: ultralytics.utils.metrics.Metric object\n",
              "confusion_matrix: <ultralytics.utils.metrics.ConfusionMatrix object at 0x7f9882a92200>\n",
              "curves: ['Precision-Recall(B)', 'F1-Confidence(B)', 'Precision-Confidence(B)', 'Recall-Confidence(B)']\n",
              "curves_results: [[array([          0,    0.001001,    0.002002,    0.003003,    0.004004,    0.005005,    0.006006,    0.007007,    0.008008,    0.009009,     0.01001,    0.011011,    0.012012,    0.013013,    0.014014,    0.015015,    0.016016,    0.017017,    0.018018,    0.019019,     0.02002,    0.021021,    0.022022,    0.023023,\n",
              "          0.024024,    0.025025,    0.026026,    0.027027,    0.028028,    0.029029,     0.03003,    0.031031,    0.032032,    0.033033,    0.034034,    0.035035,    0.036036,    0.037037,    0.038038,    0.039039,     0.04004,    0.041041,    0.042042,    0.043043,    0.044044,    0.045045,    0.046046,    0.047047,\n",
              "          0.048048,    0.049049,     0.05005,    0.051051,    0.052052,    0.053053,    0.054054,    0.055055,    0.056056,    0.057057,    0.058058,    0.059059,     0.06006,    0.061061,    0.062062,    0.063063,    0.064064,    0.065065,    0.066066,    0.067067,    0.068068,    0.069069,     0.07007,    0.071071,\n",
              "          0.072072,    0.073073,    0.074074,    0.075075,    0.076076,    0.077077,    0.078078,    0.079079,     0.08008,    0.081081,    0.082082,    0.083083,    0.084084,    0.085085,    0.086086,    0.087087,    0.088088,    0.089089,     0.09009,    0.091091,    0.092092,    0.093093,    0.094094,    0.095095,\n",
              "          0.096096,    0.097097,    0.098098,    0.099099,      0.1001,      0.1011,      0.1021,      0.1031,      0.1041,     0.10511,     0.10611,     0.10711,     0.10811,     0.10911,     0.11011,     0.11111,     0.11211,     0.11311,     0.11411,     0.11512,     0.11612,     0.11712,     0.11812,     0.11912,\n",
              "           0.12012,     0.12112,     0.12212,     0.12312,     0.12412,     0.12513,     0.12613,     0.12713,     0.12813,     0.12913,     0.13013,     0.13113,     0.13213,     0.13313,     0.13413,     0.13514,     0.13614,     0.13714,     0.13814,     0.13914,     0.14014,     0.14114,     0.14214,     0.14314,\n",
              "           0.14414,     0.14515,     0.14615,     0.14715,     0.14815,     0.14915,     0.15015,     0.15115,     0.15215,     0.15315,     0.15415,     0.15516,     0.15616,     0.15716,     0.15816,     0.15916,     0.16016,     0.16116,     0.16216,     0.16316,     0.16416,     0.16517,     0.16617,     0.16717,\n",
              "           0.16817,     0.16917,     0.17017,     0.17117,     0.17217,     0.17317,     0.17417,     0.17518,     0.17618,     0.17718,     0.17818,     0.17918,     0.18018,     0.18118,     0.18218,     0.18318,     0.18418,     0.18519,     0.18619,     0.18719,     0.18819,     0.18919,     0.19019,     0.19119,\n",
              "           0.19219,     0.19319,     0.19419,      0.1952,      0.1962,      0.1972,      0.1982,      0.1992,      0.2002,      0.2012,      0.2022,      0.2032,      0.2042,     0.20521,     0.20621,     0.20721,     0.20821,     0.20921,     0.21021,     0.21121,     0.21221,     0.21321,     0.21421,     0.21522,\n",
              "           0.21622,     0.21722,     0.21822,     0.21922,     0.22022,     0.22122,     0.22222,     0.22322,     0.22422,     0.22523,     0.22623,     0.22723,     0.22823,     0.22923,     0.23023,     0.23123,     0.23223,     0.23323,     0.23423,     0.23524,     0.23624,     0.23724,     0.23824,     0.23924,\n",
              "           0.24024,     0.24124,     0.24224,     0.24324,     0.24424,     0.24525,     0.24625,     0.24725,     0.24825,     0.24925,     0.25025,     0.25125,     0.25225,     0.25325,     0.25425,     0.25526,     0.25626,     0.25726,     0.25826,     0.25926,     0.26026,     0.26126,     0.26226,     0.26326,\n",
              "           0.26426,     0.26527,     0.26627,     0.26727,     0.26827,     0.26927,     0.27027,     0.27127,     0.27227,     0.27327,     0.27427,     0.27528,     0.27628,     0.27728,     0.27828,     0.27928,     0.28028,     0.28128,     0.28228,     0.28328,     0.28428,     0.28529,     0.28629,     0.28729,\n",
              "           0.28829,     0.28929,     0.29029,     0.29129,     0.29229,     0.29329,     0.29429,      0.2953,      0.2963,      0.2973,      0.2983,      0.2993,      0.3003,      0.3013,      0.3023,      0.3033,      0.3043,     0.30531,     0.30631,     0.30731,     0.30831,     0.30931,     0.31031,     0.31131,\n",
              "           0.31231,     0.31331,     0.31431,     0.31532,     0.31632,     0.31732,     0.31832,     0.31932,     0.32032,     0.32132,     0.32232,     0.32332,     0.32432,     0.32533,     0.32633,     0.32733,     0.32833,     0.32933,     0.33033,     0.33133,     0.33233,     0.33333,     0.33433,     0.33534,\n",
              "           0.33634,     0.33734,     0.33834,     0.33934,     0.34034,     0.34134,     0.34234,     0.34334,     0.34434,     0.34535,     0.34635,     0.34735,     0.34835,     0.34935,     0.35035,     0.35135,     0.35235,     0.35335,     0.35435,     0.35536,     0.35636,     0.35736,     0.35836,     0.35936,\n",
              "           0.36036,     0.36136,     0.36236,     0.36336,     0.36436,     0.36537,     0.36637,     0.36737,     0.36837,     0.36937,     0.37037,     0.37137,     0.37237,     0.37337,     0.37437,     0.37538,     0.37638,     0.37738,     0.37838,     0.37938,     0.38038,     0.38138,     0.38238,     0.38338,\n",
              "           0.38438,     0.38539,     0.38639,     0.38739,     0.38839,     0.38939,     0.39039,     0.39139,     0.39239,     0.39339,     0.39439,      0.3954,      0.3964,      0.3974,      0.3984,      0.3994,      0.4004,      0.4014,      0.4024,      0.4034,      0.4044,     0.40541,     0.40641,     0.40741,\n",
              "           0.40841,     0.40941,     0.41041,     0.41141,     0.41241,     0.41341,     0.41441,     0.41542,     0.41642,     0.41742,     0.41842,     0.41942,     0.42042,     0.42142,     0.42242,     0.42342,     0.42442,     0.42543,     0.42643,     0.42743,     0.42843,     0.42943,     0.43043,     0.43143,\n",
              "           0.43243,     0.43343,     0.43443,     0.43544,     0.43644,     0.43744,     0.43844,     0.43944,     0.44044,     0.44144,     0.44244,     0.44344,     0.44444,     0.44545,     0.44645,     0.44745,     0.44845,     0.44945,     0.45045,     0.45145,     0.45245,     0.45345,     0.45445,     0.45546,\n",
              "           0.45646,     0.45746,     0.45846,     0.45946,     0.46046,     0.46146,     0.46246,     0.46346,     0.46446,     0.46547,     0.46647,     0.46747,     0.46847,     0.46947,     0.47047,     0.47147,     0.47247,     0.47347,     0.47447,     0.47548,     0.47648,     0.47748,     0.47848,     0.47948,\n",
              "           0.48048,     0.48148,     0.48248,     0.48348,     0.48448,     0.48549,     0.48649,     0.48749,     0.48849,     0.48949,     0.49049,     0.49149,     0.49249,     0.49349,     0.49449,      0.4955,      0.4965,      0.4975,      0.4985,      0.4995,      0.5005,      0.5015,      0.5025,      0.5035,\n",
              "            0.5045,     0.50551,     0.50651,     0.50751,     0.50851,     0.50951,     0.51051,     0.51151,     0.51251,     0.51351,     0.51451,     0.51552,     0.51652,     0.51752,     0.51852,     0.51952,     0.52052,     0.52152,     0.52252,     0.52352,     0.52452,     0.52553,     0.52653,     0.52753,\n",
              "           0.52853,     0.52953,     0.53053,     0.53153,     0.53253,     0.53353,     0.53453,     0.53554,     0.53654,     0.53754,     0.53854,     0.53954,     0.54054,     0.54154,     0.54254,     0.54354,     0.54454,     0.54555,     0.54655,     0.54755,     0.54855,     0.54955,     0.55055,     0.55155,\n",
              "           0.55255,     0.55355,     0.55455,     0.55556,     0.55656,     0.55756,     0.55856,     0.55956,     0.56056,     0.56156,     0.56256,     0.56356,     0.56456,     0.56557,     0.56657,     0.56757,     0.56857,     0.56957,     0.57057,     0.57157,     0.57257,     0.57357,     0.57457,     0.57558,\n",
              "           0.57658,     0.57758,     0.57858,     0.57958,     0.58058,     0.58158,     0.58258,     0.58358,     0.58458,     0.58559,     0.58659,     0.58759,     0.58859,     0.58959,     0.59059,     0.59159,     0.59259,     0.59359,     0.59459,      0.5956,      0.5966,      0.5976,      0.5986,      0.5996,\n",
              "            0.6006,      0.6016,      0.6026,      0.6036,      0.6046,     0.60561,     0.60661,     0.60761,     0.60861,     0.60961,     0.61061,     0.61161,     0.61261,     0.61361,     0.61461,     0.61562,     0.61662,     0.61762,     0.61862,     0.61962,     0.62062,     0.62162,     0.62262,     0.62362,\n",
              "           0.62462,     0.62563,     0.62663,     0.62763,     0.62863,     0.62963,     0.63063,     0.63163,     0.63263,     0.63363,     0.63463,     0.63564,     0.63664,     0.63764,     0.63864,     0.63964,     0.64064,     0.64164,     0.64264,     0.64364,     0.64464,     0.64565,     0.64665,     0.64765,\n",
              "           0.64865,     0.64965,     0.65065,     0.65165,     0.65265,     0.65365,     0.65465,     0.65566,     0.65666,     0.65766,     0.65866,     0.65966,     0.66066,     0.66166,     0.66266,     0.66366,     0.66466,     0.66567,     0.66667,     0.66767,     0.66867,     0.66967,     0.67067,     0.67167,\n",
              "           0.67267,     0.67367,     0.67467,     0.67568,     0.67668,     0.67768,     0.67868,     0.67968,     0.68068,     0.68168,     0.68268,     0.68368,     0.68468,     0.68569,     0.68669,     0.68769,     0.68869,     0.68969,     0.69069,     0.69169,     0.69269,     0.69369,     0.69469,      0.6957,\n",
              "            0.6967,      0.6977,      0.6987,      0.6997,      0.7007,      0.7017,      0.7027,      0.7037,      0.7047,     0.70571,     0.70671,     0.70771,     0.70871,     0.70971,     0.71071,     0.71171,     0.71271,     0.71371,     0.71471,     0.71572,     0.71672,     0.71772,     0.71872,     0.71972,\n",
              "           0.72072,     0.72172,     0.72272,     0.72372,     0.72472,     0.72573,     0.72673,     0.72773,     0.72873,     0.72973,     0.73073,     0.73173,     0.73273,     0.73373,     0.73473,     0.73574,     0.73674,     0.73774,     0.73874,     0.73974,     0.74074,     0.74174,     0.74274,     0.74374,\n",
              "           0.74474,     0.74575,     0.74675,     0.74775,     0.74875,     0.74975,     0.75075,     0.75175,     0.75275,     0.75375,     0.75475,     0.75576,     0.75676,     0.75776,     0.75876,     0.75976,     0.76076,     0.76176,     0.76276,     0.76376,     0.76476,     0.76577,     0.76677,     0.76777,\n",
              "           0.76877,     0.76977,     0.77077,     0.77177,     0.77277,     0.77377,     0.77477,     0.77578,     0.77678,     0.77778,     0.77878,     0.77978,     0.78078,     0.78178,     0.78278,     0.78378,     0.78478,     0.78579,     0.78679,     0.78779,     0.78879,     0.78979,     0.79079,     0.79179,\n",
              "           0.79279,     0.79379,     0.79479,      0.7958,      0.7968,      0.7978,      0.7988,      0.7998,      0.8008,      0.8018,      0.8028,      0.8038,      0.8048,     0.80581,     0.80681,     0.80781,     0.80881,     0.80981,     0.81081,     0.81181,     0.81281,     0.81381,     0.81481,     0.81582,\n",
              "           0.81682,     0.81782,     0.81882,     0.81982,     0.82082,     0.82182,     0.82282,     0.82382,     0.82482,     0.82583,     0.82683,     0.82783,     0.82883,     0.82983,     0.83083,     0.83183,     0.83283,     0.83383,     0.83483,     0.83584,     0.83684,     0.83784,     0.83884,     0.83984,\n",
              "           0.84084,     0.84184,     0.84284,     0.84384,     0.84484,     0.84585,     0.84685,     0.84785,     0.84885,     0.84985,     0.85085,     0.85185,     0.85285,     0.85385,     0.85485,     0.85586,     0.85686,     0.85786,     0.85886,     0.85986,     0.86086,     0.86186,     0.86286,     0.86386,\n",
              "           0.86486,     0.86587,     0.86687,     0.86787,     0.86887,     0.86987,     0.87087,     0.87187,     0.87287,     0.87387,     0.87487,     0.87588,     0.87688,     0.87788,     0.87888,     0.87988,     0.88088,     0.88188,     0.88288,     0.88388,     0.88488,     0.88589,     0.88689,     0.88789,\n",
              "           0.88889,     0.88989,     0.89089,     0.89189,     0.89289,     0.89389,     0.89489,      0.8959,      0.8969,      0.8979,      0.8989,      0.8999,      0.9009,      0.9019,      0.9029,      0.9039,      0.9049,     0.90591,     0.90691,     0.90791,     0.90891,     0.90991,     0.91091,     0.91191,\n",
              "           0.91291,     0.91391,     0.91491,     0.91592,     0.91692,     0.91792,     0.91892,     0.91992,     0.92092,     0.92192,     0.92292,     0.92392,     0.92492,     0.92593,     0.92693,     0.92793,     0.92893,     0.92993,     0.93093,     0.93193,     0.93293,     0.93393,     0.93493,     0.93594,\n",
              "           0.93694,     0.93794,     0.93894,     0.93994,     0.94094,     0.94194,     0.94294,     0.94394,     0.94494,     0.94595,     0.94695,     0.94795,     0.94895,     0.94995,     0.95095,     0.95195,     0.95295,     0.95395,     0.95495,     0.95596,     0.95696,     0.95796,     0.95896,     0.95996,\n",
              "           0.96096,     0.96196,     0.96296,     0.96396,     0.96496,     0.96597,     0.96697,     0.96797,     0.96897,     0.96997,     0.97097,     0.97197,     0.97297,     0.97397,     0.97497,     0.97598,     0.97698,     0.97798,     0.97898,     0.97998,     0.98098,     0.98198,     0.98298,     0.98398,\n",
              "           0.98498,     0.98599,     0.98699,     0.98799,     0.98899,     0.98999,     0.99099,     0.99199,     0.99299,     0.99399,     0.99499,       0.996,       0.997,       0.998,       0.999,           1]), array([[          1,           1,           1,           1,           1,           1,           1,           1,           1,           1,           1,           1,           1,           1,           1,           1,           1,           1,           1,           1,           1,           1,           1,\n",
              "                  1,           1,           1,           1,           1,           1,           1,           1,           1,           1,           1,           1,           1,           1,           1,           1,           1,           1,           1,           1,           1,           1,           1,\n",
              "                  1,           1,           1,           1,           1,           1,           1,           1,           1,           1,           1,           1,           1,           1,           1,           1,           1,           1,           1,           1,           1,           1,           1,\n",
              "                  1,           1,           1,           1,           1,           1,           1,           1,           1,           1,           1,           1,           1,           1,           1,           1,           1,           1,           1,           1,           1,           1,           1,\n",
              "                  1,           1,           1,           1,           1,           1,           1,           1,           1,           1,           1,           1,           1,           1,           1,           1,           1,           1,           1,           1,           1,           1,           1,\n",
              "                  1,           1,           1,           1,           1,           1,           1,           1,           1,           1,           1,           1,           1,           1,           1,           1,           1,           1,           1,           1,           1,           1,           1,\n",
              "                  1,           1,           1,           1,           1,           1,           1,           1,           1,           1,           1,           1,           1,           1,           1,           1,           1,           1,           1,           1,           1,           1,           1,\n",
              "                  1,           1,           1,           1,           1,           1,           1,           1,           1,           1,           1,           1,           1,           1,           1,           1,           1,           1,           1,           1,           1,           1,           1,\n",
              "                  1,           1,           1,           1,           1,           1,           1,           1,           1,           1,           1,           1,           1,           1,           1,           1,           1,           1,           1,           1,           1,           1,           1,\n",
              "                  1,           1,           1,           1,           1,           1,           1,           1,           1,           1,           1,           1,           1,           1,           1,           1,           1,           1,           1,           1,           1,           1,           1,\n",
              "                  1,           1,           1,           1,           1,           1,           1,           1,           1,           1,           1,           1,           1,           1,           1,           1,           1,           1,           1,           1,           1,           1,           1,\n",
              "                  1,           1,           1,           1,           1,           1,           1,           1,           1,           1,           1,           1,           1,           1,           1,           1,           1,           1,           1,           1,           1,           1,           1,\n",
              "                  1,           1,           1,           1,           1,           1,           1,           1,           1,           1,           1,           1,           1,           1,           1,           1,           1,           1,           1,           1,           1,           1,           1,\n",
              "                  1,           1,           1,           1,           1,           1,           1,           1,           1,           1,           1,           1,           1,           1,           1,           1,           1,           1,           1,           1,           1,           1,           1,\n",
              "                  1,           1,           1,           1,           1,           1,           1,           1,           1,           1,           1,           1,           1,           1,           1,           1,           1,           1,           1,           1,           1,           1,           1,\n",
              "                  1,           1,           1,           1,           1,           1,           1,           1,           1,           1,           1,           1,           1,           1,           1,           1,           1,           1,           1,           1,           1,           1,           1,\n",
              "                  1,           1,           1,           1,           1,           1,           1,           1,           1,           1,           1,           1,           1,           1,           1,           1,           1,           1,           1,           1,           1,           1,           1,\n",
              "                  1,           1,           1,           1,           1,           1,           1,           1,           1,           1,           1,           1,           1,           1,           1,           1,           1,           1,           1,           1,           1,           1,           1,\n",
              "                  1,           1,           1,           1,           1,           1,           1,           1,           1,           1,           1,           1,           1,           1,           1,           1,           1,           1,           1,           1,           1,           1,           1,\n",
              "                  1,           1,           1,           1,           1,           1,           1,           1,           1,           1,           1,           1,           1,           1,           1,           1,           1,           1,           1,           1,           1,           1,           1,\n",
              "                  1,           1,           1,           1,           1,           1,           1,           1,           1,           1,           1,           1,           1,           1,           1,           1,           1,           1,           1,           1,           1,           1,           1,\n",
              "                  1,           1,           1,           1,           1,           1,           1,           1,           1,           1,           1,           1,           1,           1,           1,           1,           1,           1,           1,           1,           1,           1,           1,\n",
              "                  1,           1,           1,           1,           1,           1,           1,           1,           1,           1,           1,           1,           1,           1,           1,           1,           1,           1,           1,           1,           1,           1,           1,\n",
              "                  1,           1,           1,           1,           1,           1,           1,           1,           1,           1,           1,           1,           1,           1,           1,           1,           1,           1,           1,           1,           1,           1,           1,\n",
              "                  1,           1,           1,           1,           1,           1,           1,           1,           1,           1,           1,           1,           1,           1,           1,           1,           1,           1,           1,           1,           1,           1,           1,\n",
              "                  1,           1,           1,           1,           1,           1,           1,           1,           1,           1,           1,           1,           1,           1,           1,           1,           1,           1,           1,           1,           1,           1,           1,\n",
              "                  1,           1,           1,           1,           1,           1,           1,           1,           1,           1,           1,           1,           1,           1,           1,           1,     0.97297,     0.97297,     0.97297,     0.97297,     0.97297,     0.97297,     0.97297,\n",
              "            0.97297,     0.97297,     0.97297,     0.97297,     0.97297,     0.97297,     0.97297,     0.97297,     0.97297,     0.97297,     0.97297,     0.97297,     0.97297,     0.97297,     0.97297,     0.97297,     0.97297,     0.97297,     0.97297,     0.97297,     0.97297,     0.97297,     0.97297,\n",
              "            0.97297,     0.97297,     0.97297,     0.97297,     0.97297,     0.97297,     0.97297,     0.97297,     0.97297,     0.97297,     0.97297,     0.97297,     0.97297,     0.97297,     0.97297,     0.97297,     0.97297,     0.97297,     0.97297,     0.97297,     0.97297,     0.97297,     0.97297,\n",
              "            0.97297,     0.97297,     0.97297,     0.97297,     0.97297,     0.97297,     0.97297,     0.97297,     0.97297,     0.97297,     0.97297,     0.97297,     0.97297,     0.97297,     0.97297,     0.97297,     0.97297,     0.97297,     0.97297,     0.97297,     0.97297,     0.97297,     0.97297,\n",
              "            0.97297,     0.97297,     0.97297,     0.97297,     0.97297,     0.97297,     0.97297,     0.97297,     0.97297,     0.97297,     0.97297,     0.97297,     0.97297,     0.97297,     0.97297,     0.97297,     0.97297,     0.97297,     0.97297,     0.97297,     0.97297,     0.97297,     0.97297,\n",
              "            0.97297,     0.97297,     0.97297,     0.97297,     0.97297,     0.97297,     0.97297,     0.97297,     0.97297,     0.97297,     0.97297,     0.97297,     0.97297,     0.97297,     0.97297,     0.97297,     0.97297,     0.97297,     0.97297,     0.97297,     0.97297,     0.97297,     0.97297,\n",
              "            0.97297,     0.97297,     0.97297,     0.97297,     0.97297,     0.97297,     0.97297,     0.97297,     0.97297,     0.97297,     0.97297,     0.97297,     0.97297,     0.97297,     0.97297,     0.97297,     0.97297,     0.97297,     0.97297,     0.97297,     0.97297,     0.97297,     0.97297,\n",
              "            0.97297,     0.97297,     0.97297,     0.97297,     0.97297,     0.97297,     0.97297,     0.97297,     0.97297,     0.97297,     0.97297,     0.97297,     0.97297,     0.97297,     0.97297,     0.97297,     0.97297,     0.97297,     0.97297,     0.97297,     0.97297,     0.97297,     0.97297,\n",
              "            0.97297,     0.97297,     0.97297,     0.97297,     0.97297,     0.97297,     0.97297,     0.97297,     0.97297,     0.97297,     0.97297,     0.97297,     0.97297,     0.97297,     0.97297,     0.97297,     0.97297,     0.97297,     0.97297,     0.97297,     0.97297,     0.97297,     0.97297,\n",
              "            0.97297,     0.97297,     0.97297,     0.97297,     0.97297,     0.97297,     0.97297,     0.97297,     0.97297,     0.97297,     0.97297,     0.97297,     0.97297,       0.925,       0.925,       0.925,       0.925,       0.925,       0.925,       0.925,       0.925,       0.925,       0.925,\n",
              "              0.925,       0.925,       0.925,       0.925,       0.925,       0.925,       0.925,       0.925,       0.925,       0.925,       0.925,       0.925,       0.925,     0.90476,     0.90476,     0.90476,     0.90476,     0.90476,     0.90476,     0.90476,     0.90476,     0.90476,     0.90476,\n",
              "            0.90476,     0.90476,     0.90476,     0.90476,     0.90476,     0.90476,     0.90476,     0.90476,     0.90476,     0.90476,     0.90476,     0.90476,     0.76471,     0.76471,     0.76471,     0.76471,     0.76471,     0.76471,     0.76471,     0.76471,     0.76471,     0.76471,     0.76471,\n",
              "            0.76471,     0.76471,     0.76471,     0.76471,     0.76471,     0.76471,     0.76471,     0.76471,     0.76471,     0.76471,     0.76471,     0.76471,     0.57143,     0.57143,     0.57143,     0.57143,     0.57143,     0.57143,     0.57143,     0.57143,     0.57143,     0.57143,     0.57143,\n",
              "            0.57143,     0.57143,     0.57143,     0.57143,     0.57143,     0.57143,     0.57143,     0.57143,     0.57143,     0.57143,     0.57143,     0.57143,     0.40594,     0.40594,     0.40594,     0.40594,     0.40594,     0.40594,     0.40594,     0.40594,     0.40594,     0.40594,     0.40594,\n",
              "            0.40594,     0.40594,     0.40594,     0.40594,     0.40594,     0.40594,     0.40594,     0.40594,     0.40594,     0.40594,     0.40594,     0.09631,    0.094893,    0.093477,    0.092061,    0.090644,    0.089228,    0.087812,    0.086395,    0.084979,    0.083563,    0.082146,     0.08073,\n",
              "           0.079314,    0.077898,    0.076481,    0.075065,    0.073649,    0.072232,    0.070816,      0.0694,    0.067983,    0.066567,    0.065151,    0.063734,    0.062318,    0.060902,    0.059485,    0.058069,    0.056653,    0.055236,     0.05382,    0.052404,    0.050987,    0.049571,    0.048155,\n",
              "           0.046739,    0.045322,    0.043906,     0.04249,    0.041073,    0.039657,    0.038241,    0.036824,    0.035408,    0.033992,    0.032575,    0.031159,    0.029743,    0.028326,     0.02691,    0.025494,    0.024077,    0.022661,    0.021245,    0.019828,    0.018412,    0.016996,     0.01558,\n",
              "           0.014163,    0.012747,    0.011331,   0.0099142,   0.0084979,   0.0070816,   0.0056653,    0.004249,   0.0028326,   0.0014163,           0]]), 'Recall', 'Precision'], [array([          0,    0.001001,    0.002002,    0.003003,    0.004004,    0.005005,    0.006006,    0.007007,    0.008008,    0.009009,     0.01001,    0.011011,    0.012012,    0.013013,    0.014014,    0.015015,    0.016016,    0.017017,    0.018018,    0.019019,     0.02002,    0.021021,    0.022022,    0.023023,\n",
              "          0.024024,    0.025025,    0.026026,    0.027027,    0.028028,    0.029029,     0.03003,    0.031031,    0.032032,    0.033033,    0.034034,    0.035035,    0.036036,    0.037037,    0.038038,    0.039039,     0.04004,    0.041041,    0.042042,    0.043043,    0.044044,    0.045045,    0.046046,    0.047047,\n",
              "          0.048048,    0.049049,     0.05005,    0.051051,    0.052052,    0.053053,    0.054054,    0.055055,    0.056056,    0.057057,    0.058058,    0.059059,     0.06006,    0.061061,    0.062062,    0.063063,    0.064064,    0.065065,    0.066066,    0.067067,    0.068068,    0.069069,     0.07007,    0.071071,\n",
              "          0.072072,    0.073073,    0.074074,    0.075075,    0.076076,    0.077077,    0.078078,    0.079079,     0.08008,    0.081081,    0.082082,    0.083083,    0.084084,    0.085085,    0.086086,    0.087087,    0.088088,    0.089089,     0.09009,    0.091091,    0.092092,    0.093093,    0.094094,    0.095095,\n",
              "          0.096096,    0.097097,    0.098098,    0.099099,      0.1001,      0.1011,      0.1021,      0.1031,      0.1041,     0.10511,     0.10611,     0.10711,     0.10811,     0.10911,     0.11011,     0.11111,     0.11211,     0.11311,     0.11411,     0.11512,     0.11612,     0.11712,     0.11812,     0.11912,\n",
              "           0.12012,     0.12112,     0.12212,     0.12312,     0.12412,     0.12513,     0.12613,     0.12713,     0.12813,     0.12913,     0.13013,     0.13113,     0.13213,     0.13313,     0.13413,     0.13514,     0.13614,     0.13714,     0.13814,     0.13914,     0.14014,     0.14114,     0.14214,     0.14314,\n",
              "           0.14414,     0.14515,     0.14615,     0.14715,     0.14815,     0.14915,     0.15015,     0.15115,     0.15215,     0.15315,     0.15415,     0.15516,     0.15616,     0.15716,     0.15816,     0.15916,     0.16016,     0.16116,     0.16216,     0.16316,     0.16416,     0.16517,     0.16617,     0.16717,\n",
              "           0.16817,     0.16917,     0.17017,     0.17117,     0.17217,     0.17317,     0.17417,     0.17518,     0.17618,     0.17718,     0.17818,     0.17918,     0.18018,     0.18118,     0.18218,     0.18318,     0.18418,     0.18519,     0.18619,     0.18719,     0.18819,     0.18919,     0.19019,     0.19119,\n",
              "           0.19219,     0.19319,     0.19419,      0.1952,      0.1962,      0.1972,      0.1982,      0.1992,      0.2002,      0.2012,      0.2022,      0.2032,      0.2042,     0.20521,     0.20621,     0.20721,     0.20821,     0.20921,     0.21021,     0.21121,     0.21221,     0.21321,     0.21421,     0.21522,\n",
              "           0.21622,     0.21722,     0.21822,     0.21922,     0.22022,     0.22122,     0.22222,     0.22322,     0.22422,     0.22523,     0.22623,     0.22723,     0.22823,     0.22923,     0.23023,     0.23123,     0.23223,     0.23323,     0.23423,     0.23524,     0.23624,     0.23724,     0.23824,     0.23924,\n",
              "           0.24024,     0.24124,     0.24224,     0.24324,     0.24424,     0.24525,     0.24625,     0.24725,     0.24825,     0.24925,     0.25025,     0.25125,     0.25225,     0.25325,     0.25425,     0.25526,     0.25626,     0.25726,     0.25826,     0.25926,     0.26026,     0.26126,     0.26226,     0.26326,\n",
              "           0.26426,     0.26527,     0.26627,     0.26727,     0.26827,     0.26927,     0.27027,     0.27127,     0.27227,     0.27327,     0.27427,     0.27528,     0.27628,     0.27728,     0.27828,     0.27928,     0.28028,     0.28128,     0.28228,     0.28328,     0.28428,     0.28529,     0.28629,     0.28729,\n",
              "           0.28829,     0.28929,     0.29029,     0.29129,     0.29229,     0.29329,     0.29429,      0.2953,      0.2963,      0.2973,      0.2983,      0.2993,      0.3003,      0.3013,      0.3023,      0.3033,      0.3043,     0.30531,     0.30631,     0.30731,     0.30831,     0.30931,     0.31031,     0.31131,\n",
              "           0.31231,     0.31331,     0.31431,     0.31532,     0.31632,     0.31732,     0.31832,     0.31932,     0.32032,     0.32132,     0.32232,     0.32332,     0.32432,     0.32533,     0.32633,     0.32733,     0.32833,     0.32933,     0.33033,     0.33133,     0.33233,     0.33333,     0.33433,     0.33534,\n",
              "           0.33634,     0.33734,     0.33834,     0.33934,     0.34034,     0.34134,     0.34234,     0.34334,     0.34434,     0.34535,     0.34635,     0.34735,     0.34835,     0.34935,     0.35035,     0.35135,     0.35235,     0.35335,     0.35435,     0.35536,     0.35636,     0.35736,     0.35836,     0.35936,\n",
              "           0.36036,     0.36136,     0.36236,     0.36336,     0.36436,     0.36537,     0.36637,     0.36737,     0.36837,     0.36937,     0.37037,     0.37137,     0.37237,     0.37337,     0.37437,     0.37538,     0.37638,     0.37738,     0.37838,     0.37938,     0.38038,     0.38138,     0.38238,     0.38338,\n",
              "           0.38438,     0.38539,     0.38639,     0.38739,     0.38839,     0.38939,     0.39039,     0.39139,     0.39239,     0.39339,     0.39439,      0.3954,      0.3964,      0.3974,      0.3984,      0.3994,      0.4004,      0.4014,      0.4024,      0.4034,      0.4044,     0.40541,     0.40641,     0.40741,\n",
              "           0.40841,     0.40941,     0.41041,     0.41141,     0.41241,     0.41341,     0.41441,     0.41542,     0.41642,     0.41742,     0.41842,     0.41942,     0.42042,     0.42142,     0.42242,     0.42342,     0.42442,     0.42543,     0.42643,     0.42743,     0.42843,     0.42943,     0.43043,     0.43143,\n",
              "           0.43243,     0.43343,     0.43443,     0.43544,     0.43644,     0.43744,     0.43844,     0.43944,     0.44044,     0.44144,     0.44244,     0.44344,     0.44444,     0.44545,     0.44645,     0.44745,     0.44845,     0.44945,     0.45045,     0.45145,     0.45245,     0.45345,     0.45445,     0.45546,\n",
              "           0.45646,     0.45746,     0.45846,     0.45946,     0.46046,     0.46146,     0.46246,     0.46346,     0.46446,     0.46547,     0.46647,     0.46747,     0.46847,     0.46947,     0.47047,     0.47147,     0.47247,     0.47347,     0.47447,     0.47548,     0.47648,     0.47748,     0.47848,     0.47948,\n",
              "           0.48048,     0.48148,     0.48248,     0.48348,     0.48448,     0.48549,     0.48649,     0.48749,     0.48849,     0.48949,     0.49049,     0.49149,     0.49249,     0.49349,     0.49449,      0.4955,      0.4965,      0.4975,      0.4985,      0.4995,      0.5005,      0.5015,      0.5025,      0.5035,\n",
              "            0.5045,     0.50551,     0.50651,     0.50751,     0.50851,     0.50951,     0.51051,     0.51151,     0.51251,     0.51351,     0.51451,     0.51552,     0.51652,     0.51752,     0.51852,     0.51952,     0.52052,     0.52152,     0.52252,     0.52352,     0.52452,     0.52553,     0.52653,     0.52753,\n",
              "           0.52853,     0.52953,     0.53053,     0.53153,     0.53253,     0.53353,     0.53453,     0.53554,     0.53654,     0.53754,     0.53854,     0.53954,     0.54054,     0.54154,     0.54254,     0.54354,     0.54454,     0.54555,     0.54655,     0.54755,     0.54855,     0.54955,     0.55055,     0.55155,\n",
              "           0.55255,     0.55355,     0.55455,     0.55556,     0.55656,     0.55756,     0.55856,     0.55956,     0.56056,     0.56156,     0.56256,     0.56356,     0.56456,     0.56557,     0.56657,     0.56757,     0.56857,     0.56957,     0.57057,     0.57157,     0.57257,     0.57357,     0.57457,     0.57558,\n",
              "           0.57658,     0.57758,     0.57858,     0.57958,     0.58058,     0.58158,     0.58258,     0.58358,     0.58458,     0.58559,     0.58659,     0.58759,     0.58859,     0.58959,     0.59059,     0.59159,     0.59259,     0.59359,     0.59459,      0.5956,      0.5966,      0.5976,      0.5986,      0.5996,\n",
              "            0.6006,      0.6016,      0.6026,      0.6036,      0.6046,     0.60561,     0.60661,     0.60761,     0.60861,     0.60961,     0.61061,     0.61161,     0.61261,     0.61361,     0.61461,     0.61562,     0.61662,     0.61762,     0.61862,     0.61962,     0.62062,     0.62162,     0.62262,     0.62362,\n",
              "           0.62462,     0.62563,     0.62663,     0.62763,     0.62863,     0.62963,     0.63063,     0.63163,     0.63263,     0.63363,     0.63463,     0.63564,     0.63664,     0.63764,     0.63864,     0.63964,     0.64064,     0.64164,     0.64264,     0.64364,     0.64464,     0.64565,     0.64665,     0.64765,\n",
              "           0.64865,     0.64965,     0.65065,     0.65165,     0.65265,     0.65365,     0.65465,     0.65566,     0.65666,     0.65766,     0.65866,     0.65966,     0.66066,     0.66166,     0.66266,     0.66366,     0.66466,     0.66567,     0.66667,     0.66767,     0.66867,     0.66967,     0.67067,     0.67167,\n",
              "           0.67267,     0.67367,     0.67467,     0.67568,     0.67668,     0.67768,     0.67868,     0.67968,     0.68068,     0.68168,     0.68268,     0.68368,     0.68468,     0.68569,     0.68669,     0.68769,     0.68869,     0.68969,     0.69069,     0.69169,     0.69269,     0.69369,     0.69469,      0.6957,\n",
              "            0.6967,      0.6977,      0.6987,      0.6997,      0.7007,      0.7017,      0.7027,      0.7037,      0.7047,     0.70571,     0.70671,     0.70771,     0.70871,     0.70971,     0.71071,     0.71171,     0.71271,     0.71371,     0.71471,     0.71572,     0.71672,     0.71772,     0.71872,     0.71972,\n",
              "           0.72072,     0.72172,     0.72272,     0.72372,     0.72472,     0.72573,     0.72673,     0.72773,     0.72873,     0.72973,     0.73073,     0.73173,     0.73273,     0.73373,     0.73473,     0.73574,     0.73674,     0.73774,     0.73874,     0.73974,     0.74074,     0.74174,     0.74274,     0.74374,\n",
              "           0.74474,     0.74575,     0.74675,     0.74775,     0.74875,     0.74975,     0.75075,     0.75175,     0.75275,     0.75375,     0.75475,     0.75576,     0.75676,     0.75776,     0.75876,     0.75976,     0.76076,     0.76176,     0.76276,     0.76376,     0.76476,     0.76577,     0.76677,     0.76777,\n",
              "           0.76877,     0.76977,     0.77077,     0.77177,     0.77277,     0.77377,     0.77477,     0.77578,     0.77678,     0.77778,     0.77878,     0.77978,     0.78078,     0.78178,     0.78278,     0.78378,     0.78478,     0.78579,     0.78679,     0.78779,     0.78879,     0.78979,     0.79079,     0.79179,\n",
              "           0.79279,     0.79379,     0.79479,      0.7958,      0.7968,      0.7978,      0.7988,      0.7998,      0.8008,      0.8018,      0.8028,      0.8038,      0.8048,     0.80581,     0.80681,     0.80781,     0.80881,     0.80981,     0.81081,     0.81181,     0.81281,     0.81381,     0.81481,     0.81582,\n",
              "           0.81682,     0.81782,     0.81882,     0.81982,     0.82082,     0.82182,     0.82282,     0.82382,     0.82482,     0.82583,     0.82683,     0.82783,     0.82883,     0.82983,     0.83083,     0.83183,     0.83283,     0.83383,     0.83483,     0.83584,     0.83684,     0.83784,     0.83884,     0.83984,\n",
              "           0.84084,     0.84184,     0.84284,     0.84384,     0.84484,     0.84585,     0.84685,     0.84785,     0.84885,     0.84985,     0.85085,     0.85185,     0.85285,     0.85385,     0.85485,     0.85586,     0.85686,     0.85786,     0.85886,     0.85986,     0.86086,     0.86186,     0.86286,     0.86386,\n",
              "           0.86486,     0.86587,     0.86687,     0.86787,     0.86887,     0.86987,     0.87087,     0.87187,     0.87287,     0.87387,     0.87487,     0.87588,     0.87688,     0.87788,     0.87888,     0.87988,     0.88088,     0.88188,     0.88288,     0.88388,     0.88488,     0.88589,     0.88689,     0.88789,\n",
              "           0.88889,     0.88989,     0.89089,     0.89189,     0.89289,     0.89389,     0.89489,      0.8959,      0.8969,      0.8979,      0.8989,      0.8999,      0.9009,      0.9019,      0.9029,      0.9039,      0.9049,     0.90591,     0.90691,     0.90791,     0.90891,     0.90991,     0.91091,     0.91191,\n",
              "           0.91291,     0.91391,     0.91491,     0.91592,     0.91692,     0.91792,     0.91892,     0.91992,     0.92092,     0.92192,     0.92292,     0.92392,     0.92492,     0.92593,     0.92693,     0.92793,     0.92893,     0.92993,     0.93093,     0.93193,     0.93293,     0.93393,     0.93493,     0.93594,\n",
              "           0.93694,     0.93794,     0.93894,     0.93994,     0.94094,     0.94194,     0.94294,     0.94394,     0.94494,     0.94595,     0.94695,     0.94795,     0.94895,     0.94995,     0.95095,     0.95195,     0.95295,     0.95395,     0.95495,     0.95596,     0.95696,     0.95796,     0.95896,     0.95996,\n",
              "           0.96096,     0.96196,     0.96296,     0.96396,     0.96496,     0.96597,     0.96697,     0.96797,     0.96897,     0.96997,     0.97097,     0.97197,     0.97297,     0.97397,     0.97497,     0.97598,     0.97698,     0.97798,     0.97898,     0.97998,     0.98098,     0.98198,     0.98298,     0.98398,\n",
              "           0.98498,     0.98599,     0.98699,     0.98799,     0.98899,     0.98999,     0.99099,     0.99199,     0.99299,     0.99399,     0.99499,       0.996,       0.997,       0.998,       0.999,           1]), array([[    0.17484,     0.17484,     0.25458,     0.29987,     0.35613,     0.41445,     0.44103,     0.47393,     0.48888,     0.50582,     0.53011,     0.56102,      0.5675,     0.57009,     0.58022,     0.58694,     0.59903,     0.61885,     0.62303,     0.62888,     0.63957,     0.64223,     0.64462,\n",
              "            0.65793,     0.66267,     0.66628,     0.66855,     0.67065,     0.67265,     0.67433,     0.67601,     0.67768,     0.68103,     0.68435,     0.68666,     0.68896,     0.69408,      0.6985,     0.70102,     0.69556,     0.69034,     0.69276,     0.69516,     0.69956,      0.7042,     0.70703,\n",
              "            0.71029,     0.71474,     0.71647,     0.71755,     0.71863,      0.7197,     0.72077,     0.72185,     0.72278,     0.72364,      0.7245,     0.72535,     0.72621,     0.72706,     0.72791,     0.72876,     0.73054,     0.73261,     0.73467,     0.73762,     0.74172,     0.74358,     0.74457,\n",
              "            0.74557,     0.74656,     0.74756,     0.74854,     0.74953,     0.75056,     0.75164,     0.75271,     0.75377,     0.75484,      0.7559,     0.75696,     0.76176,     0.76487,     0.76519,      0.7655,     0.76581,     0.76612,     0.76644,     0.76675,     0.76706,     0.76737,     0.76768,\n",
              "            0.76799,      0.7683,     0.76861,     0.76892,     0.76923,     0.76954,     0.76985,     0.77016,     0.77047,     0.77078,     0.77109,      0.7714,     0.77171,     0.77201,     0.77232,     0.77261,     0.77291,      0.7732,     0.77349,     0.77378,     0.77407,     0.77437,     0.77466,\n",
              "            0.77495,     0.77524,     0.77553,     0.77582,     0.77611,      0.7764,     0.77669,     0.77698,     0.77727,     0.77756,     0.77785,     0.77814,     0.77843,     0.77872,     0.77901,      0.7793,     0.77959,     0.77987,     0.78021,     0.78059,     0.78097,     0.78135,     0.78173,\n",
              "             0.7821,     0.78248,     0.78286,     0.78323,     0.78361,     0.78398,     0.78436,     0.78473,     0.78511,     0.78548,     0.78586,     0.78623,     0.78661,     0.78698,     0.78735,     0.78773,     0.78822,     0.78879,     0.78936,     0.78993,      0.7905,     0.79107,     0.79164,\n",
              "            0.79221,     0.79278,     0.79334,     0.79391,     0.79447,     0.79504,      0.7956,     0.79759,     0.80133,     0.80422,      0.8046,     0.80499,     0.80537,     0.80576,     0.80614,     0.80652,     0.80691,     0.80729,     0.80767,     0.80805,     0.80843,     0.80882,      0.8092,\n",
              "            0.80958,     0.80996,     0.81034,     0.81072,      0.8111,     0.81148,     0.81186,     0.81223,     0.81282,     0.81389,     0.81496,     0.81602,     0.81709,     0.81815,      0.8192,     0.82026,     0.81978,     0.81465,     0.80949,     0.80951,     0.81075,     0.81198,     0.81321,\n",
              "            0.81444,     0.81566,     0.81688,     0.81846,     0.82017,     0.82186,     0.82355,     0.82524,     0.82631,     0.82676,     0.82721,     0.82766,     0.82811,     0.82855,       0.829,     0.82945,      0.8299,     0.83034,     0.83079,     0.83123,     0.83168,     0.83212,     0.83257,\n",
              "            0.83301,     0.83345,      0.8339,     0.83434,     0.83478,     0.83524,     0.83583,     0.83642,     0.83701,      0.8376,     0.83819,     0.83877,     0.83936,     0.83995,     0.84053,     0.84112,      0.8417,     0.84228,     0.84286,     0.84344,     0.84402,     0.84452,      0.8448,\n",
              "            0.84508,     0.84536,     0.84563,     0.84591,     0.84619,     0.84647,     0.84675,     0.84702,      0.8473,     0.84758,     0.84785,     0.84813,     0.84841,     0.84868,     0.84896,     0.84924,     0.84951,     0.84979,     0.85006,     0.85034,     0.85061,     0.85089,     0.85116,\n",
              "            0.85144,     0.85171,     0.85199,     0.85226,     0.85253,     0.85281,     0.85308,     0.85335,     0.85363,      0.8539,     0.85466,     0.85548,      0.8563,     0.85711,     0.85793,     0.85874,     0.85955,     0.86036,     0.86117,     0.86197,     0.86278,     0.86358,     0.86457,\n",
              "            0.86557,     0.86657,     0.86757,     0.86856,     0.86955,     0.87054,     0.87153,     0.87252,      0.8735,     0.87371,     0.87388,     0.87404,      0.8742,     0.87436,     0.87452,     0.87468,     0.87484,       0.875,     0.87516,     0.87533,     0.87549,     0.87565,     0.87581,\n",
              "            0.87597,     0.87613,     0.87629,     0.87645,     0.87661,     0.87677,     0.87693,     0.87709,     0.87725,     0.87741,     0.87757,     0.87773,     0.87789,     0.87805,     0.87821,     0.87837,     0.87853,     0.87869,     0.87885,     0.87901,     0.87917,     0.87933,     0.87949,\n",
              "            0.87965,      0.8798,     0.87996,     0.88012,     0.88028,     0.88044,      0.8806,     0.88076,     0.88092,     0.88108,     0.88123,     0.88139,     0.88155,     0.88171,     0.88187,     0.88203,     0.88219,     0.88234,      0.8825,     0.88266,     0.88282,     0.88298,     0.88313,\n",
              "            0.88329,     0.88345,     0.88361,     0.88363,     0.88332,     0.88301,      0.8827,     0.88239,     0.88208,     0.88177,     0.88146,     0.88115,     0.88084,     0.88053,     0.88022,      0.8799,     0.87959,     0.87928,     0.87897,     0.87866,     0.87834,     0.87803,     0.87772,\n",
              "             0.8774,     0.87709,     0.87678,     0.87647,     0.87615,     0.87584,     0.87552,     0.87521,      0.8749,     0.87458,     0.87427,     0.87395,     0.87364,     0.87332,     0.87301,     0.87269,     0.87238,     0.87206,     0.87175,     0.87143,     0.87112,      0.8708,     0.87065,\n",
              "            0.87082,       0.871,     0.87117,     0.87135,     0.87153,      0.8717,     0.87188,     0.87205,     0.87223,     0.87241,     0.87258,     0.87276,     0.87293,     0.87311,     0.87328,     0.87346,     0.87363,     0.87381,     0.87398,     0.87416,     0.87433,     0.87451,     0.87468,\n",
              "            0.87486,     0.87503,     0.87521,     0.87538,     0.87555,     0.87573,      0.8759,     0.87608,     0.87625,     0.87643,      0.8766,     0.87677,     0.87695,     0.87712,     0.87729,     0.87747,     0.87764,     0.87781,     0.87799,     0.87816,     0.87833,     0.87851,     0.87868,\n",
              "            0.87885,     0.87902,      0.8792,     0.87937,     0.87954,     0.87972,     0.87989,     0.88006,     0.88023,      0.8804,     0.88058,     0.88075,     0.88092,     0.88085,     0.88073,     0.88061,     0.88048,     0.88036,     0.88024,     0.88012,     0.87999,     0.87987,     0.87975,\n",
              "            0.87962,      0.8795,     0.87938,     0.87926,     0.87913,     0.87901,     0.87889,     0.87876,     0.87864,     0.87852,     0.87839,     0.87827,     0.87815,     0.87802,      0.8779,     0.87778,     0.87765,     0.87753,     0.87741,     0.87728,     0.87716,     0.87704,     0.87691,\n",
              "            0.87679,     0.87667,     0.87654,     0.87642,      0.8763,     0.87617,     0.87605,     0.87593,      0.8758,     0.87568,     0.87556,     0.87543,     0.87531,     0.87518,     0.87506,     0.87494,     0.87481,     0.87469,     0.87456,     0.87444,     0.87432,     0.87419,     0.87407,\n",
              "            0.87395,     0.87382,      0.8737,     0.87357,     0.87345,     0.87332,      0.8732,     0.87308,     0.87295,     0.87283,      0.8727,     0.87258,     0.87246,     0.87233,     0.87221,     0.87208,     0.87196,     0.87183,     0.87171,     0.87158,     0.87146,     0.87134,     0.87121,\n",
              "            0.87109,     0.87096,     0.87084,     0.87071,     0.87059,     0.87046,     0.87034,     0.87021,     0.87009,     0.86997,     0.86984,     0.86972,     0.86959,     0.86947,     0.86934,     0.86922,     0.86909,     0.86897,     0.86884,     0.86872,     0.86859,     0.86847,     0.86834,\n",
              "            0.86822,     0.86809,     0.86797,     0.86784,     0.86772,     0.86759,     0.86748,     0.86772,     0.86796,      0.8682,     0.86844,     0.86869,     0.86893,     0.86917,     0.86941,     0.86965,     0.86989,     0.87013,     0.87037,     0.87061,     0.87085,     0.87109,     0.87133,\n",
              "            0.87157,      0.8718,     0.87204,     0.87228,     0.87252,     0.87276,       0.873,     0.87324,     0.87347,     0.87371,     0.87395,     0.87419,     0.87442,     0.87466,      0.8749,     0.87513,     0.87537,     0.87561,     0.87584,     0.87608,     0.87632,     0.87655,     0.87679,\n",
              "            0.87702,     0.87726,      0.8775,     0.87773,     0.87797,     0.87842,       0.879,     0.87958,     0.88015,     0.88073,      0.8813,     0.88187,     0.88245,     0.88302,     0.88359,     0.88416,     0.88472,     0.88529,     0.88586,     0.88642,     0.88699,     0.88755,     0.88812,\n",
              "            0.88868,     0.88862,     0.88818,     0.88775,     0.88732,     0.88688,     0.88645,     0.88601,     0.88558,     0.88514,     0.88471,     0.88427,     0.88383,      0.8834,     0.88296,     0.88252,     0.88209,     0.88165,     0.88121,     0.88077,     0.88033,     0.87989,     0.87945,\n",
              "            0.87901,     0.87857,     0.87813,     0.87769,     0.87725,     0.87681,     0.87636,     0.87592,     0.87548,     0.87504,     0.87323,      0.8713,     0.86936,     0.86742,     0.86546,     0.86351,     0.86154,     0.86029,     0.85951,     0.85873,     0.85795,     0.85717,     0.85638,\n",
              "             0.8556,     0.85481,     0.85403,     0.85324,     0.85245,     0.85166,     0.85087,     0.85008,     0.84928,     0.84849,     0.84769,      0.8469,     0.84595,     0.84291,     0.83985,     0.83678,     0.83369,     0.82921,     0.81871,     0.81401,     0.81153,     0.80905,     0.80656,\n",
              "            0.80406,     0.80155,     0.79957,     0.79843,      0.7973,     0.79616,     0.79502,     0.79388,     0.79273,     0.79159,     0.79044,     0.78929,     0.78814,     0.78698,     0.78583,     0.78467,     0.78111,     0.76973,     0.76444,     0.76095,     0.75744,     0.75391,     0.75037,\n",
              "            0.75219,     0.75462,     0.75702,      0.7594,     0.75936,     0.75696,     0.75456,     0.75214,     0.74972,     0.74729,     0.74484,      0.7417,     0.73552,     0.72928,     0.70562,     0.70462,     0.70362,     0.70261,      0.7016,      0.7006,     0.69959,     0.69858,     0.69756,\n",
              "            0.69655,     0.69553,     0.69452,      0.6935,     0.69248,     0.69146,     0.69043,     0.68941,     0.68838,     0.68735,     0.68617,     0.68449,     0.68281,     0.68112,     0.67943,     0.67774,     0.67604,     0.67433,     0.67263,     0.67091,      0.6692,     0.66748,     0.66529,\n",
              "            0.66269,     0.66008,     0.65746,     0.65483,     0.65219,     0.64954,     0.64688,     0.64421,     0.64153,     0.63884,     0.63614,     0.63342,      0.6307,     0.62796,     0.62522,     0.62297,     0.62075,     0.61854,     0.61631,     0.61407,     0.61183,     0.60959,     0.60733,\n",
              "            0.60507,     0.60259,     0.59909,     0.59556,     0.59202,     0.58845,     0.58488,     0.58128,      0.5318,     0.52722,     0.52261,     0.51797,     0.51331,     0.50861,     0.50532,     0.50206,     0.49879,      0.4955,      0.4922,     0.48888,     0.48555,     0.36943,     0.36378,\n",
              "            0.35809,     0.35236,     0.34659,     0.34078,     0.33566,     0.33068,     0.32567,     0.32063,     0.31556,     0.31046,     0.30154,     0.28799,     0.27415,     0.25663,     0.23982,     0.23724,     0.23465,     0.23205,     0.22945,     0.22684,     0.22422,     0.22159,     0.21895,\n",
              "            0.21631,     0.21366,       0.211,     0.20834,     0.20566,     0.20279,     0.19965,      0.1965,     0.19334,     0.19016,     0.18698,     0.18378,     0.18058,     0.17736,     0.17413,     0.17088,     0.16763,     0.10829,    0.085245,    0.078101,    0.070903,    0.063651,    0.056345,\n",
              "           0.048983,           0,           0,           0,           0,           0,           0,           0,           0,           0,           0,           0,           0,           0,           0,           0,           0,           0,           0,           0,           0,           0,           0,\n",
              "                  0,           0,           0,           0,           0,           0,           0,           0,           0,           0,           0,           0,           0,           0,           0,           0,           0,           0,           0,           0,           0,           0,           0,\n",
              "                  0,           0,           0,           0,           0,           0,           0,           0,           0,           0,           0,           0,           0,           0,           0,           0,           0,           0,           0,           0,           0,           0,           0,\n",
              "                  0,           0,           0,           0,           0,           0,           0,           0,           0,           0,           0,           0,           0,           0,           0,           0,           0,           0,           0,           0,           0,           0,           0,\n",
              "                  0,           0,           0,           0,           0,           0,           0,           0,           0,           0,           0,           0,           0,           0,           0,           0,           0,           0,           0,           0,           0,           0,           0,\n",
              "                  0,           0,           0,           0,           0,           0,           0,           0,           0,           0,           0]]), 'Confidence', 'F1'], [array([          0,    0.001001,    0.002002,    0.003003,    0.004004,    0.005005,    0.006006,    0.007007,    0.008008,    0.009009,     0.01001,    0.011011,    0.012012,    0.013013,    0.014014,    0.015015,    0.016016,    0.017017,    0.018018,    0.019019,     0.02002,    0.021021,    0.022022,    0.023023,\n",
              "          0.024024,    0.025025,    0.026026,    0.027027,    0.028028,    0.029029,     0.03003,    0.031031,    0.032032,    0.033033,    0.034034,    0.035035,    0.036036,    0.037037,    0.038038,    0.039039,     0.04004,    0.041041,    0.042042,    0.043043,    0.044044,    0.045045,    0.046046,    0.047047,\n",
              "          0.048048,    0.049049,     0.05005,    0.051051,    0.052052,    0.053053,    0.054054,    0.055055,    0.056056,    0.057057,    0.058058,    0.059059,     0.06006,    0.061061,    0.062062,    0.063063,    0.064064,    0.065065,    0.066066,    0.067067,    0.068068,    0.069069,     0.07007,    0.071071,\n",
              "          0.072072,    0.073073,    0.074074,    0.075075,    0.076076,    0.077077,    0.078078,    0.079079,     0.08008,    0.081081,    0.082082,    0.083083,    0.084084,    0.085085,    0.086086,    0.087087,    0.088088,    0.089089,     0.09009,    0.091091,    0.092092,    0.093093,    0.094094,    0.095095,\n",
              "          0.096096,    0.097097,    0.098098,    0.099099,      0.1001,      0.1011,      0.1021,      0.1031,      0.1041,     0.10511,     0.10611,     0.10711,     0.10811,     0.10911,     0.11011,     0.11111,     0.11211,     0.11311,     0.11411,     0.11512,     0.11612,     0.11712,     0.11812,     0.11912,\n",
              "           0.12012,     0.12112,     0.12212,     0.12312,     0.12412,     0.12513,     0.12613,     0.12713,     0.12813,     0.12913,     0.13013,     0.13113,     0.13213,     0.13313,     0.13413,     0.13514,     0.13614,     0.13714,     0.13814,     0.13914,     0.14014,     0.14114,     0.14214,     0.14314,\n",
              "           0.14414,     0.14515,     0.14615,     0.14715,     0.14815,     0.14915,     0.15015,     0.15115,     0.15215,     0.15315,     0.15415,     0.15516,     0.15616,     0.15716,     0.15816,     0.15916,     0.16016,     0.16116,     0.16216,     0.16316,     0.16416,     0.16517,     0.16617,     0.16717,\n",
              "           0.16817,     0.16917,     0.17017,     0.17117,     0.17217,     0.17317,     0.17417,     0.17518,     0.17618,     0.17718,     0.17818,     0.17918,     0.18018,     0.18118,     0.18218,     0.18318,     0.18418,     0.18519,     0.18619,     0.18719,     0.18819,     0.18919,     0.19019,     0.19119,\n",
              "           0.19219,     0.19319,     0.19419,      0.1952,      0.1962,      0.1972,      0.1982,      0.1992,      0.2002,      0.2012,      0.2022,      0.2032,      0.2042,     0.20521,     0.20621,     0.20721,     0.20821,     0.20921,     0.21021,     0.21121,     0.21221,     0.21321,     0.21421,     0.21522,\n",
              "           0.21622,     0.21722,     0.21822,     0.21922,     0.22022,     0.22122,     0.22222,     0.22322,     0.22422,     0.22523,     0.22623,     0.22723,     0.22823,     0.22923,     0.23023,     0.23123,     0.23223,     0.23323,     0.23423,     0.23524,     0.23624,     0.23724,     0.23824,     0.23924,\n",
              "           0.24024,     0.24124,     0.24224,     0.24324,     0.24424,     0.24525,     0.24625,     0.24725,     0.24825,     0.24925,     0.25025,     0.25125,     0.25225,     0.25325,     0.25425,     0.25526,     0.25626,     0.25726,     0.25826,     0.25926,     0.26026,     0.26126,     0.26226,     0.26326,\n",
              "           0.26426,     0.26527,     0.26627,     0.26727,     0.26827,     0.26927,     0.27027,     0.27127,     0.27227,     0.27327,     0.27427,     0.27528,     0.27628,     0.27728,     0.27828,     0.27928,     0.28028,     0.28128,     0.28228,     0.28328,     0.28428,     0.28529,     0.28629,     0.28729,\n",
              "           0.28829,     0.28929,     0.29029,     0.29129,     0.29229,     0.29329,     0.29429,      0.2953,      0.2963,      0.2973,      0.2983,      0.2993,      0.3003,      0.3013,      0.3023,      0.3033,      0.3043,     0.30531,     0.30631,     0.30731,     0.30831,     0.30931,     0.31031,     0.31131,\n",
              "           0.31231,     0.31331,     0.31431,     0.31532,     0.31632,     0.31732,     0.31832,     0.31932,     0.32032,     0.32132,     0.32232,     0.32332,     0.32432,     0.32533,     0.32633,     0.32733,     0.32833,     0.32933,     0.33033,     0.33133,     0.33233,     0.33333,     0.33433,     0.33534,\n",
              "           0.33634,     0.33734,     0.33834,     0.33934,     0.34034,     0.34134,     0.34234,     0.34334,     0.34434,     0.34535,     0.34635,     0.34735,     0.34835,     0.34935,     0.35035,     0.35135,     0.35235,     0.35335,     0.35435,     0.35536,     0.35636,     0.35736,     0.35836,     0.35936,\n",
              "           0.36036,     0.36136,     0.36236,     0.36336,     0.36436,     0.36537,     0.36637,     0.36737,     0.36837,     0.36937,     0.37037,     0.37137,     0.37237,     0.37337,     0.37437,     0.37538,     0.37638,     0.37738,     0.37838,     0.37938,     0.38038,     0.38138,     0.38238,     0.38338,\n",
              "           0.38438,     0.38539,     0.38639,     0.38739,     0.38839,     0.38939,     0.39039,     0.39139,     0.39239,     0.39339,     0.39439,      0.3954,      0.3964,      0.3974,      0.3984,      0.3994,      0.4004,      0.4014,      0.4024,      0.4034,      0.4044,     0.40541,     0.40641,     0.40741,\n",
              "           0.40841,     0.40941,     0.41041,     0.41141,     0.41241,     0.41341,     0.41441,     0.41542,     0.41642,     0.41742,     0.41842,     0.41942,     0.42042,     0.42142,     0.42242,     0.42342,     0.42442,     0.42543,     0.42643,     0.42743,     0.42843,     0.42943,     0.43043,     0.43143,\n",
              "           0.43243,     0.43343,     0.43443,     0.43544,     0.43644,     0.43744,     0.43844,     0.43944,     0.44044,     0.44144,     0.44244,     0.44344,     0.44444,     0.44545,     0.44645,     0.44745,     0.44845,     0.44945,     0.45045,     0.45145,     0.45245,     0.45345,     0.45445,     0.45546,\n",
              "           0.45646,     0.45746,     0.45846,     0.45946,     0.46046,     0.46146,     0.46246,     0.46346,     0.46446,     0.46547,     0.46647,     0.46747,     0.46847,     0.46947,     0.47047,     0.47147,     0.47247,     0.47347,     0.47447,     0.47548,     0.47648,     0.47748,     0.47848,     0.47948,\n",
              "           0.48048,     0.48148,     0.48248,     0.48348,     0.48448,     0.48549,     0.48649,     0.48749,     0.48849,     0.48949,     0.49049,     0.49149,     0.49249,     0.49349,     0.49449,      0.4955,      0.4965,      0.4975,      0.4985,      0.4995,      0.5005,      0.5015,      0.5025,      0.5035,\n",
              "            0.5045,     0.50551,     0.50651,     0.50751,     0.50851,     0.50951,     0.51051,     0.51151,     0.51251,     0.51351,     0.51451,     0.51552,     0.51652,     0.51752,     0.51852,     0.51952,     0.52052,     0.52152,     0.52252,     0.52352,     0.52452,     0.52553,     0.52653,     0.52753,\n",
              "           0.52853,     0.52953,     0.53053,     0.53153,     0.53253,     0.53353,     0.53453,     0.53554,     0.53654,     0.53754,     0.53854,     0.53954,     0.54054,     0.54154,     0.54254,     0.54354,     0.54454,     0.54555,     0.54655,     0.54755,     0.54855,     0.54955,     0.55055,     0.55155,\n",
              "           0.55255,     0.55355,     0.55455,     0.55556,     0.55656,     0.55756,     0.55856,     0.55956,     0.56056,     0.56156,     0.56256,     0.56356,     0.56456,     0.56557,     0.56657,     0.56757,     0.56857,     0.56957,     0.57057,     0.57157,     0.57257,     0.57357,     0.57457,     0.57558,\n",
              "           0.57658,     0.57758,     0.57858,     0.57958,     0.58058,     0.58158,     0.58258,     0.58358,     0.58458,     0.58559,     0.58659,     0.58759,     0.58859,     0.58959,     0.59059,     0.59159,     0.59259,     0.59359,     0.59459,      0.5956,      0.5966,      0.5976,      0.5986,      0.5996,\n",
              "            0.6006,      0.6016,      0.6026,      0.6036,      0.6046,     0.60561,     0.60661,     0.60761,     0.60861,     0.60961,     0.61061,     0.61161,     0.61261,     0.61361,     0.61461,     0.61562,     0.61662,     0.61762,     0.61862,     0.61962,     0.62062,     0.62162,     0.62262,     0.62362,\n",
              "           0.62462,     0.62563,     0.62663,     0.62763,     0.62863,     0.62963,     0.63063,     0.63163,     0.63263,     0.63363,     0.63463,     0.63564,     0.63664,     0.63764,     0.63864,     0.63964,     0.64064,     0.64164,     0.64264,     0.64364,     0.64464,     0.64565,     0.64665,     0.64765,\n",
              "           0.64865,     0.64965,     0.65065,     0.65165,     0.65265,     0.65365,     0.65465,     0.65566,     0.65666,     0.65766,     0.65866,     0.65966,     0.66066,     0.66166,     0.66266,     0.66366,     0.66466,     0.66567,     0.66667,     0.66767,     0.66867,     0.66967,     0.67067,     0.67167,\n",
              "           0.67267,     0.67367,     0.67467,     0.67568,     0.67668,     0.67768,     0.67868,     0.67968,     0.68068,     0.68168,     0.68268,     0.68368,     0.68468,     0.68569,     0.68669,     0.68769,     0.68869,     0.68969,     0.69069,     0.69169,     0.69269,     0.69369,     0.69469,      0.6957,\n",
              "            0.6967,      0.6977,      0.6987,      0.6997,      0.7007,      0.7017,      0.7027,      0.7037,      0.7047,     0.70571,     0.70671,     0.70771,     0.70871,     0.70971,     0.71071,     0.71171,     0.71271,     0.71371,     0.71471,     0.71572,     0.71672,     0.71772,     0.71872,     0.71972,\n",
              "           0.72072,     0.72172,     0.72272,     0.72372,     0.72472,     0.72573,     0.72673,     0.72773,     0.72873,     0.72973,     0.73073,     0.73173,     0.73273,     0.73373,     0.73473,     0.73574,     0.73674,     0.73774,     0.73874,     0.73974,     0.74074,     0.74174,     0.74274,     0.74374,\n",
              "           0.74474,     0.74575,     0.74675,     0.74775,     0.74875,     0.74975,     0.75075,     0.75175,     0.75275,     0.75375,     0.75475,     0.75576,     0.75676,     0.75776,     0.75876,     0.75976,     0.76076,     0.76176,     0.76276,     0.76376,     0.76476,     0.76577,     0.76677,     0.76777,\n",
              "           0.76877,     0.76977,     0.77077,     0.77177,     0.77277,     0.77377,     0.77477,     0.77578,     0.77678,     0.77778,     0.77878,     0.77978,     0.78078,     0.78178,     0.78278,     0.78378,     0.78478,     0.78579,     0.78679,     0.78779,     0.78879,     0.78979,     0.79079,     0.79179,\n",
              "           0.79279,     0.79379,     0.79479,      0.7958,      0.7968,      0.7978,      0.7988,      0.7998,      0.8008,      0.8018,      0.8028,      0.8038,      0.8048,     0.80581,     0.80681,     0.80781,     0.80881,     0.80981,     0.81081,     0.81181,     0.81281,     0.81381,     0.81481,     0.81582,\n",
              "           0.81682,     0.81782,     0.81882,     0.81982,     0.82082,     0.82182,     0.82282,     0.82382,     0.82482,     0.82583,     0.82683,     0.82783,     0.82883,     0.82983,     0.83083,     0.83183,     0.83283,     0.83383,     0.83483,     0.83584,     0.83684,     0.83784,     0.83884,     0.83984,\n",
              "           0.84084,     0.84184,     0.84284,     0.84384,     0.84484,     0.84585,     0.84685,     0.84785,     0.84885,     0.84985,     0.85085,     0.85185,     0.85285,     0.85385,     0.85485,     0.85586,     0.85686,     0.85786,     0.85886,     0.85986,     0.86086,     0.86186,     0.86286,     0.86386,\n",
              "           0.86486,     0.86587,     0.86687,     0.86787,     0.86887,     0.86987,     0.87087,     0.87187,     0.87287,     0.87387,     0.87487,     0.87588,     0.87688,     0.87788,     0.87888,     0.87988,     0.88088,     0.88188,     0.88288,     0.88388,     0.88488,     0.88589,     0.88689,     0.88789,\n",
              "           0.88889,     0.88989,     0.89089,     0.89189,     0.89289,     0.89389,     0.89489,      0.8959,      0.8969,      0.8979,      0.8989,      0.8999,      0.9009,      0.9019,      0.9029,      0.9039,      0.9049,     0.90591,     0.90691,     0.90791,     0.90891,     0.90991,     0.91091,     0.91191,\n",
              "           0.91291,     0.91391,     0.91491,     0.91592,     0.91692,     0.91792,     0.91892,     0.91992,     0.92092,     0.92192,     0.92292,     0.92392,     0.92492,     0.92593,     0.92693,     0.92793,     0.92893,     0.92993,     0.93093,     0.93193,     0.93293,     0.93393,     0.93493,     0.93594,\n",
              "           0.93694,     0.93794,     0.93894,     0.93994,     0.94094,     0.94194,     0.94294,     0.94394,     0.94494,     0.94595,     0.94695,     0.94795,     0.94895,     0.94995,     0.95095,     0.95195,     0.95295,     0.95395,     0.95495,     0.95596,     0.95696,     0.95796,     0.95896,     0.95996,\n",
              "           0.96096,     0.96196,     0.96296,     0.96396,     0.96496,     0.96597,     0.96697,     0.96797,     0.96897,     0.96997,     0.97097,     0.97197,     0.97297,     0.97397,     0.97497,     0.97598,     0.97698,     0.97798,     0.97898,     0.97998,     0.98098,     0.98198,     0.98298,     0.98398,\n",
              "           0.98498,     0.98599,     0.98699,     0.98799,     0.98899,     0.98999,     0.99099,     0.99199,     0.99299,     0.99399,     0.99499,       0.996,       0.997,       0.998,       0.999,           1]), array([[   0.096471,    0.096471,     0.14743,     0.17869,     0.22013,     0.26649,     0.28888,     0.31778,     0.33137,     0.34712,     0.37043,     0.40133,     0.41251,     0.41524,     0.42608,     0.43337,     0.44668,     0.46908,     0.47391,     0.48071,     0.49332,     0.49648,     0.49935,\n",
              "            0.51551,     0.52136,     0.52584,     0.52867,      0.5313,     0.53381,     0.53593,     0.53805,     0.54017,     0.54444,     0.54871,     0.55168,     0.55465,     0.56132,     0.56712,     0.57103,     0.56808,     0.56532,     0.56857,     0.57181,     0.57779,     0.58414,     0.58805,\n",
              "            0.59258,      0.5988,     0.60123,     0.60275,     0.60427,     0.60579,     0.60732,     0.60884,     0.61017,     0.61139,     0.61262,     0.61384,     0.61507,     0.61629,     0.61752,     0.61874,     0.62131,     0.62431,     0.62731,     0.63162,     0.63766,     0.64041,     0.64189,\n",
              "            0.64337,     0.64486,     0.64634,     0.64782,      0.6493,     0.65085,     0.65246,     0.65408,     0.65569,      0.6573,     0.65892,     0.66053,     0.66787,     0.67267,     0.67316,     0.67364,     0.67413,     0.67461,     0.67509,     0.67558,     0.67606,     0.67654,     0.67703,\n",
              "            0.67751,     0.67799,     0.67848,     0.67896,     0.67945,     0.67993,     0.68041,      0.6809,     0.68138,     0.68186,     0.68235,     0.68283,     0.68332,      0.6838,     0.68428,     0.68474,      0.6852,     0.68566,     0.68612,     0.68658,     0.68704,      0.6875,     0.68796,\n",
              "            0.68842,     0.68887,     0.68933,     0.68979,     0.69025,     0.69071,     0.69117,     0.69163,     0.69209,     0.69255,     0.69301,     0.69347,     0.69393,     0.69439,     0.69485,     0.69531,     0.69577,     0.69623,     0.69677,     0.69737,     0.69798,     0.69858,     0.69918,\n",
              "            0.69979,     0.70039,     0.70099,      0.7016,      0.7022,     0.70281,     0.70341,     0.70401,     0.70462,     0.70522,     0.70582,     0.70643,     0.70703,     0.70764,     0.70824,     0.70884,     0.70964,     0.71057,     0.71149,     0.71242,     0.71335,     0.71428,     0.71521,\n",
              "            0.71614,     0.71706,     0.71799,     0.71892,     0.71985,     0.72078,     0.72171,     0.72497,     0.73118,     0.73601,     0.73665,      0.7373,     0.73794,     0.73859,     0.73923,     0.73988,     0.74052,     0.74117,     0.74181,     0.74246,      0.7431,     0.74375,     0.74439,\n",
              "            0.74503,     0.74568,     0.74632,     0.74697,     0.74761,     0.74826,      0.7489,     0.74955,     0.75054,     0.75237,      0.7542,     0.75602,     0.75785,     0.75968,     0.76151,     0.76333,     0.76423,      0.7623,     0.76037,     0.76178,     0.76397,     0.76616,     0.76835,\n",
              "            0.77055,     0.77274,     0.77493,     0.77778,     0.78086,     0.78394,     0.78702,      0.7901,     0.79207,      0.7929,     0.79373,     0.79456,     0.79538,     0.79621,     0.79704,     0.79786,     0.79869,     0.79952,     0.80035,     0.80117,       0.802,     0.80283,     0.80365,\n",
              "            0.80448,     0.80531,     0.80613,     0.80696,     0.80779,     0.80865,     0.80976,     0.81087,     0.81198,     0.81309,      0.8142,      0.8153,     0.81641,     0.81752,     0.81863,     0.81974,     0.82085,     0.82196,     0.82307,     0.82417,     0.82528,     0.82623,     0.82677,\n",
              "             0.8273,     0.82783,     0.82837,      0.8289,     0.82944,     0.82997,      0.8305,     0.83104,     0.83157,     0.83211,     0.83264,     0.83317,     0.83371,     0.83424,     0.83477,     0.83531,     0.83584,     0.83638,     0.83691,     0.83744,     0.83798,     0.83851,     0.83904,\n",
              "            0.83958,     0.84011,     0.84065,     0.84118,     0.84171,     0.84225,     0.84278,     0.84332,     0.84385,     0.84438,     0.84587,     0.84747,     0.84908,     0.85068,     0.85229,      0.8539,      0.8555,     0.85711,     0.85871,     0.86032,     0.86192,     0.86353,     0.86551,\n",
              "            0.86752,     0.86953,     0.87154,     0.87355,     0.87556,     0.87756,     0.87957,     0.88158,     0.88359,     0.88403,     0.88436,     0.88469,     0.88502,     0.88535,     0.88568,     0.88601,     0.88634,     0.88667,       0.887,     0.88734,     0.88767,       0.888,     0.88833,\n",
              "            0.88866,     0.88899,     0.88932,     0.88965,     0.88998,     0.89031,     0.89064,     0.89097,      0.8913,     0.89163,     0.89196,     0.89229,     0.89262,     0.89295,     0.89328,     0.89362,     0.89395,     0.89428,     0.89461,     0.89494,     0.89527,      0.8956,     0.89593,\n",
              "            0.89626,     0.89659,     0.89692,     0.89725,     0.89758,     0.89791,     0.89824,     0.89857,      0.8989,     0.89923,     0.89956,      0.8999,     0.90023,     0.90056,     0.90089,     0.90122,     0.90155,     0.90188,     0.90221,     0.90254,     0.90287,      0.9032,     0.90353,\n",
              "            0.90386,     0.90419,     0.90452,     0.90475,     0.90469,     0.90464,     0.90458,     0.90453,     0.90447,     0.90441,     0.90436,      0.9043,     0.90425,     0.90419,     0.90414,     0.90408,     0.90403,     0.90397,     0.90392,     0.90386,     0.90381,     0.90375,     0.90369,\n",
              "            0.90364,     0.90358,     0.90353,     0.90347,     0.90342,     0.90336,     0.90331,     0.90325,      0.9032,     0.90314,     0.90309,     0.90303,     0.90297,     0.90292,     0.90286,     0.90281,     0.90275,      0.9027,     0.90264,     0.90259,     0.90253,     0.90248,     0.90256,\n",
              "            0.90294,     0.90332,      0.9037,     0.90408,     0.90446,     0.90484,     0.90522,      0.9056,     0.90598,     0.90635,     0.90673,     0.90711,     0.90749,     0.90787,     0.90825,     0.90863,     0.90901,     0.90939,     0.90977,     0.91015,     0.91052,      0.9109,     0.91128,\n",
              "            0.91166,     0.91204,     0.91242,      0.9128,     0.91318,     0.91356,     0.91394,     0.91432,     0.91469,     0.91507,     0.91545,     0.91583,     0.91621,     0.91659,     0.91697,     0.91735,     0.91773,     0.91811,     0.91849,     0.91886,     0.91924,     0.91962,        0.92,\n",
              "            0.92038,     0.92076,     0.92114,     0.92152,      0.9219,     0.92228,     0.92266,     0.92303,     0.92341,     0.92379,     0.92417,     0.92455,     0.92493,     0.92499,     0.92497,     0.92495,     0.92493,     0.92491,      0.9249,     0.92488,     0.92486,     0.92484,     0.92483,\n",
              "            0.92481,     0.92479,     0.92477,     0.92476,     0.92474,     0.92472,      0.9247,     0.92469,     0.92467,     0.92465,     0.92463,     0.92461,      0.9246,     0.92458,     0.92456,     0.92454,     0.92453,     0.92451,     0.92449,     0.92447,     0.92446,     0.92444,     0.92442,\n",
              "             0.9244,     0.92438,     0.92437,     0.92435,     0.92433,     0.92431,      0.9243,     0.92428,     0.92426,     0.92424,     0.92423,     0.92421,     0.92419,     0.92417,     0.92415,     0.92414,     0.92412,      0.9241,     0.92408,     0.92407,     0.92405,     0.92403,     0.92401,\n",
              "              0.924,     0.92398,     0.92396,     0.92394,     0.92392,     0.92391,     0.92389,     0.92387,     0.92385,     0.92384,     0.92382,      0.9238,     0.92378,     0.92377,     0.92375,     0.92373,     0.92371,      0.9237,     0.92368,     0.92366,     0.92364,     0.92362,     0.92361,\n",
              "            0.92359,     0.92357,     0.92355,     0.92354,     0.92352,      0.9235,     0.92348,     0.92347,     0.92345,     0.92343,     0.92341,     0.92339,     0.92338,     0.92336,     0.92334,     0.92332,     0.92331,     0.92329,     0.92327,     0.92325,     0.92324,     0.92322,      0.9232,\n",
              "            0.92318,     0.92316,     0.92315,     0.92313,     0.92311,     0.92309,      0.9231,     0.92365,     0.92419,     0.92474,     0.92529,     0.92583,     0.92638,     0.92693,     0.92748,     0.92802,     0.92857,     0.92912,     0.92966,     0.93021,     0.93076,     0.93131,     0.93185,\n",
              "             0.9324,     0.93295,      0.9335,     0.93404,     0.93459,     0.93514,     0.93568,     0.93623,     0.93678,     0.93733,     0.93787,     0.93842,     0.93897,     0.93952,     0.94006,     0.94061,     0.94116,      0.9417,     0.94225,      0.9428,     0.94335,     0.94389,     0.94444,\n",
              "            0.94499,     0.94553,     0.94608,     0.94663,     0.94718,     0.94824,     0.94959,     0.95093,     0.95228,     0.95363,     0.95497,     0.95632,     0.95766,     0.95901,     0.96036,      0.9617,     0.96305,     0.96439,     0.96574,     0.96709,     0.96843,     0.96978,     0.97112,\n",
              "            0.97247,     0.97296,     0.97293,     0.97291,     0.97289,     0.97286,     0.97284,     0.97282,     0.97279,     0.97277,     0.97275,     0.97272,      0.9727,     0.97267,     0.97265,     0.97263,      0.9726,     0.97258,     0.97256,     0.97253,     0.97251,     0.97248,     0.97246,\n",
              "            0.97244,     0.97241,     0.97239,     0.97237,     0.97234,     0.97232,      0.9723,     0.97227,     0.97225,     0.97222,     0.97212,     0.97201,     0.97191,      0.9718,     0.97169,     0.97158,     0.97147,      0.9714,     0.97136,     0.97131,     0.97127,     0.97122,     0.97117,\n",
              "            0.97113,     0.97108,     0.97104,     0.97099,     0.97095,      0.9709,     0.97086,     0.97081,     0.97077,     0.97072,     0.97068,     0.97063,     0.97058,     0.97039,     0.97021,     0.97003,     0.96985,     0.96958,     0.96893,     0.96863,     0.96848,     0.96832,     0.96816,\n",
              "              0.968,     0.96784,     0.96771,     0.96764,     0.96756,     0.96748,     0.96741,     0.96733,     0.96726,     0.96718,      0.9671,     0.96703,     0.96695,     0.96688,      0.9668,     0.96672,     0.96648,     0.96569,     0.96532,     0.96507,     0.96482,     0.96456,     0.96431,\n",
              "            0.97157,     0.97971,     0.98784,     0.99598,           1,           1,           1,           1,           1,           1,           1,           1,           1,           1,           1,           1,           1,           1,           1,           1,           1,           1,           1,\n",
              "                  1,           1,           1,           1,           1,           1,           1,           1,           1,           1,           1,           1,           1,           1,           1,           1,           1,           1,           1,           1,           1,           1,           1,\n",
              "                  1,           1,           1,           1,           1,           1,           1,           1,           1,           1,           1,           1,           1,           1,           1,           1,           1,           1,           1,           1,           1,           1,           1,\n",
              "                  1,           1,           1,           1,           1,           1,           1,           1,           1,           1,           1,           1,           1,           1,           1,           1,           1,           1,           1,           1,           1,           1,           1,\n",
              "                  1,           1,           1,           1,           1,           1,           1,           1,           1,           1,           1,           1,           1,           1,           1,           1,           1,           1,           1,           1,           1,           1,           1,\n",
              "                  1,           1,           1,           1,           1,           1,           1,           1,           1,           1,           1,           1,           1,           1,           1,           1,           1,           1,           1,           1,           1,           1,           1,\n",
              "                  1,           1,           1,           1,           1,           1,           1,           1,           1,           1,           1,           1,           1,           1,           1,           1,           1,           1,           1,           1,           1,           1,           1,\n",
              "                  1,           1,           1,           1,           1,           1,           1,           1,           1,           1,           1,           1,           1,           1,           1,           1,           1,           1,           1,           1,           1,           1,           1,\n",
              "                  1,           1,           1,           1,           1,           1,           1,           1,           1,           1,           1,           1,           1,           1,           1,           1,           1,           1,           1,           1,           1,           1,           1,\n",
              "                  1,           1,           1,           1,           1,           1,           1,           1,           1,           1,           1,           1,           1,           1,           1,           1,           1,           1,           1,           1,           1,           1,           1,\n",
              "                  1,           1,           1,           1,           1,           1,           1,           1,           1,           1,           1,           1,           1,           1,           1,           1,           1,           1,           1,           1,           1,           1,           1,\n",
              "                  1,           1,           1,           1,           1,           1,           1,           1,           1,           1,           1]]), 'Confidence', 'Precision'], [array([          0,    0.001001,    0.002002,    0.003003,    0.004004,    0.005005,    0.006006,    0.007007,    0.008008,    0.009009,     0.01001,    0.011011,    0.012012,    0.013013,    0.014014,    0.015015,    0.016016,    0.017017,    0.018018,    0.019019,     0.02002,    0.021021,    0.022022,    0.023023,\n",
              "          0.024024,    0.025025,    0.026026,    0.027027,    0.028028,    0.029029,     0.03003,    0.031031,    0.032032,    0.033033,    0.034034,    0.035035,    0.036036,    0.037037,    0.038038,    0.039039,     0.04004,    0.041041,    0.042042,    0.043043,    0.044044,    0.045045,    0.046046,    0.047047,\n",
              "          0.048048,    0.049049,     0.05005,    0.051051,    0.052052,    0.053053,    0.054054,    0.055055,    0.056056,    0.057057,    0.058058,    0.059059,     0.06006,    0.061061,    0.062062,    0.063063,    0.064064,    0.065065,    0.066066,    0.067067,    0.068068,    0.069069,     0.07007,    0.071071,\n",
              "          0.072072,    0.073073,    0.074074,    0.075075,    0.076076,    0.077077,    0.078078,    0.079079,     0.08008,    0.081081,    0.082082,    0.083083,    0.084084,    0.085085,    0.086086,    0.087087,    0.088088,    0.089089,     0.09009,    0.091091,    0.092092,    0.093093,    0.094094,    0.095095,\n",
              "          0.096096,    0.097097,    0.098098,    0.099099,      0.1001,      0.1011,      0.1021,      0.1031,      0.1041,     0.10511,     0.10611,     0.10711,     0.10811,     0.10911,     0.11011,     0.11111,     0.11211,     0.11311,     0.11411,     0.11512,     0.11612,     0.11712,     0.11812,     0.11912,\n",
              "           0.12012,     0.12112,     0.12212,     0.12312,     0.12412,     0.12513,     0.12613,     0.12713,     0.12813,     0.12913,     0.13013,     0.13113,     0.13213,     0.13313,     0.13413,     0.13514,     0.13614,     0.13714,     0.13814,     0.13914,     0.14014,     0.14114,     0.14214,     0.14314,\n",
              "           0.14414,     0.14515,     0.14615,     0.14715,     0.14815,     0.14915,     0.15015,     0.15115,     0.15215,     0.15315,     0.15415,     0.15516,     0.15616,     0.15716,     0.15816,     0.15916,     0.16016,     0.16116,     0.16216,     0.16316,     0.16416,     0.16517,     0.16617,     0.16717,\n",
              "           0.16817,     0.16917,     0.17017,     0.17117,     0.17217,     0.17317,     0.17417,     0.17518,     0.17618,     0.17718,     0.17818,     0.17918,     0.18018,     0.18118,     0.18218,     0.18318,     0.18418,     0.18519,     0.18619,     0.18719,     0.18819,     0.18919,     0.19019,     0.19119,\n",
              "           0.19219,     0.19319,     0.19419,      0.1952,      0.1962,      0.1972,      0.1982,      0.1992,      0.2002,      0.2012,      0.2022,      0.2032,      0.2042,     0.20521,     0.20621,     0.20721,     0.20821,     0.20921,     0.21021,     0.21121,     0.21221,     0.21321,     0.21421,     0.21522,\n",
              "           0.21622,     0.21722,     0.21822,     0.21922,     0.22022,     0.22122,     0.22222,     0.22322,     0.22422,     0.22523,     0.22623,     0.22723,     0.22823,     0.22923,     0.23023,     0.23123,     0.23223,     0.23323,     0.23423,     0.23524,     0.23624,     0.23724,     0.23824,     0.23924,\n",
              "           0.24024,     0.24124,     0.24224,     0.24324,     0.24424,     0.24525,     0.24625,     0.24725,     0.24825,     0.24925,     0.25025,     0.25125,     0.25225,     0.25325,     0.25425,     0.25526,     0.25626,     0.25726,     0.25826,     0.25926,     0.26026,     0.26126,     0.26226,     0.26326,\n",
              "           0.26426,     0.26527,     0.26627,     0.26727,     0.26827,     0.26927,     0.27027,     0.27127,     0.27227,     0.27327,     0.27427,     0.27528,     0.27628,     0.27728,     0.27828,     0.27928,     0.28028,     0.28128,     0.28228,     0.28328,     0.28428,     0.28529,     0.28629,     0.28729,\n",
              "           0.28829,     0.28929,     0.29029,     0.29129,     0.29229,     0.29329,     0.29429,      0.2953,      0.2963,      0.2973,      0.2983,      0.2993,      0.3003,      0.3013,      0.3023,      0.3033,      0.3043,     0.30531,     0.30631,     0.30731,     0.30831,     0.30931,     0.31031,     0.31131,\n",
              "           0.31231,     0.31331,     0.31431,     0.31532,     0.31632,     0.31732,     0.31832,     0.31932,     0.32032,     0.32132,     0.32232,     0.32332,     0.32432,     0.32533,     0.32633,     0.32733,     0.32833,     0.32933,     0.33033,     0.33133,     0.33233,     0.33333,     0.33433,     0.33534,\n",
              "           0.33634,     0.33734,     0.33834,     0.33934,     0.34034,     0.34134,     0.34234,     0.34334,     0.34434,     0.34535,     0.34635,     0.34735,     0.34835,     0.34935,     0.35035,     0.35135,     0.35235,     0.35335,     0.35435,     0.35536,     0.35636,     0.35736,     0.35836,     0.35936,\n",
              "           0.36036,     0.36136,     0.36236,     0.36336,     0.36436,     0.36537,     0.36637,     0.36737,     0.36837,     0.36937,     0.37037,     0.37137,     0.37237,     0.37337,     0.37437,     0.37538,     0.37638,     0.37738,     0.37838,     0.37938,     0.38038,     0.38138,     0.38238,     0.38338,\n",
              "           0.38438,     0.38539,     0.38639,     0.38739,     0.38839,     0.38939,     0.39039,     0.39139,     0.39239,     0.39339,     0.39439,      0.3954,      0.3964,      0.3974,      0.3984,      0.3994,      0.4004,      0.4014,      0.4024,      0.4034,      0.4044,     0.40541,     0.40641,     0.40741,\n",
              "           0.40841,     0.40941,     0.41041,     0.41141,     0.41241,     0.41341,     0.41441,     0.41542,     0.41642,     0.41742,     0.41842,     0.41942,     0.42042,     0.42142,     0.42242,     0.42342,     0.42442,     0.42543,     0.42643,     0.42743,     0.42843,     0.42943,     0.43043,     0.43143,\n",
              "           0.43243,     0.43343,     0.43443,     0.43544,     0.43644,     0.43744,     0.43844,     0.43944,     0.44044,     0.44144,     0.44244,     0.44344,     0.44444,     0.44545,     0.44645,     0.44745,     0.44845,     0.44945,     0.45045,     0.45145,     0.45245,     0.45345,     0.45445,     0.45546,\n",
              "           0.45646,     0.45746,     0.45846,     0.45946,     0.46046,     0.46146,     0.46246,     0.46346,     0.46446,     0.46547,     0.46647,     0.46747,     0.46847,     0.46947,     0.47047,     0.47147,     0.47247,     0.47347,     0.47447,     0.47548,     0.47648,     0.47748,     0.47848,     0.47948,\n",
              "           0.48048,     0.48148,     0.48248,     0.48348,     0.48448,     0.48549,     0.48649,     0.48749,     0.48849,     0.48949,     0.49049,     0.49149,     0.49249,     0.49349,     0.49449,      0.4955,      0.4965,      0.4975,      0.4985,      0.4995,      0.5005,      0.5015,      0.5025,      0.5035,\n",
              "            0.5045,     0.50551,     0.50651,     0.50751,     0.50851,     0.50951,     0.51051,     0.51151,     0.51251,     0.51351,     0.51451,     0.51552,     0.51652,     0.51752,     0.51852,     0.51952,     0.52052,     0.52152,     0.52252,     0.52352,     0.52452,     0.52553,     0.52653,     0.52753,\n",
              "           0.52853,     0.52953,     0.53053,     0.53153,     0.53253,     0.53353,     0.53453,     0.53554,     0.53654,     0.53754,     0.53854,     0.53954,     0.54054,     0.54154,     0.54254,     0.54354,     0.54454,     0.54555,     0.54655,     0.54755,     0.54855,     0.54955,     0.55055,     0.55155,\n",
              "           0.55255,     0.55355,     0.55455,     0.55556,     0.55656,     0.55756,     0.55856,     0.55956,     0.56056,     0.56156,     0.56256,     0.56356,     0.56456,     0.56557,     0.56657,     0.56757,     0.56857,     0.56957,     0.57057,     0.57157,     0.57257,     0.57357,     0.57457,     0.57558,\n",
              "           0.57658,     0.57758,     0.57858,     0.57958,     0.58058,     0.58158,     0.58258,     0.58358,     0.58458,     0.58559,     0.58659,     0.58759,     0.58859,     0.58959,     0.59059,     0.59159,     0.59259,     0.59359,     0.59459,      0.5956,      0.5966,      0.5976,      0.5986,      0.5996,\n",
              "            0.6006,      0.6016,      0.6026,      0.6036,      0.6046,     0.60561,     0.60661,     0.60761,     0.60861,     0.60961,     0.61061,     0.61161,     0.61261,     0.61361,     0.61461,     0.61562,     0.61662,     0.61762,     0.61862,     0.61962,     0.62062,     0.62162,     0.62262,     0.62362,\n",
              "           0.62462,     0.62563,     0.62663,     0.62763,     0.62863,     0.62963,     0.63063,     0.63163,     0.63263,     0.63363,     0.63463,     0.63564,     0.63664,     0.63764,     0.63864,     0.63964,     0.64064,     0.64164,     0.64264,     0.64364,     0.64464,     0.64565,     0.64665,     0.64765,\n",
              "           0.64865,     0.64965,     0.65065,     0.65165,     0.65265,     0.65365,     0.65465,     0.65566,     0.65666,     0.65766,     0.65866,     0.65966,     0.66066,     0.66166,     0.66266,     0.66366,     0.66466,     0.66567,     0.66667,     0.66767,     0.66867,     0.66967,     0.67067,     0.67167,\n",
              "           0.67267,     0.67367,     0.67467,     0.67568,     0.67668,     0.67768,     0.67868,     0.67968,     0.68068,     0.68168,     0.68268,     0.68368,     0.68468,     0.68569,     0.68669,     0.68769,     0.68869,     0.68969,     0.69069,     0.69169,     0.69269,     0.69369,     0.69469,      0.6957,\n",
              "            0.6967,      0.6977,      0.6987,      0.6997,      0.7007,      0.7017,      0.7027,      0.7037,      0.7047,     0.70571,     0.70671,     0.70771,     0.70871,     0.70971,     0.71071,     0.71171,     0.71271,     0.71371,     0.71471,     0.71572,     0.71672,     0.71772,     0.71872,     0.71972,\n",
              "           0.72072,     0.72172,     0.72272,     0.72372,     0.72472,     0.72573,     0.72673,     0.72773,     0.72873,     0.72973,     0.73073,     0.73173,     0.73273,     0.73373,     0.73473,     0.73574,     0.73674,     0.73774,     0.73874,     0.73974,     0.74074,     0.74174,     0.74274,     0.74374,\n",
              "           0.74474,     0.74575,     0.74675,     0.74775,     0.74875,     0.74975,     0.75075,     0.75175,     0.75275,     0.75375,     0.75475,     0.75576,     0.75676,     0.75776,     0.75876,     0.75976,     0.76076,     0.76176,     0.76276,     0.76376,     0.76476,     0.76577,     0.76677,     0.76777,\n",
              "           0.76877,     0.76977,     0.77077,     0.77177,     0.77277,     0.77377,     0.77477,     0.77578,     0.77678,     0.77778,     0.77878,     0.77978,     0.78078,     0.78178,     0.78278,     0.78378,     0.78478,     0.78579,     0.78679,     0.78779,     0.78879,     0.78979,     0.79079,     0.79179,\n",
              "           0.79279,     0.79379,     0.79479,      0.7958,      0.7968,      0.7978,      0.7988,      0.7998,      0.8008,      0.8018,      0.8028,      0.8038,      0.8048,     0.80581,     0.80681,     0.80781,     0.80881,     0.80981,     0.81081,     0.81181,     0.81281,     0.81381,     0.81481,     0.81582,\n",
              "           0.81682,     0.81782,     0.81882,     0.81982,     0.82082,     0.82182,     0.82282,     0.82382,     0.82482,     0.82583,     0.82683,     0.82783,     0.82883,     0.82983,     0.83083,     0.83183,     0.83283,     0.83383,     0.83483,     0.83584,     0.83684,     0.83784,     0.83884,     0.83984,\n",
              "           0.84084,     0.84184,     0.84284,     0.84384,     0.84484,     0.84585,     0.84685,     0.84785,     0.84885,     0.84985,     0.85085,     0.85185,     0.85285,     0.85385,     0.85485,     0.85586,     0.85686,     0.85786,     0.85886,     0.85986,     0.86086,     0.86186,     0.86286,     0.86386,\n",
              "           0.86486,     0.86587,     0.86687,     0.86787,     0.86887,     0.86987,     0.87087,     0.87187,     0.87287,     0.87387,     0.87487,     0.87588,     0.87688,     0.87788,     0.87888,     0.87988,     0.88088,     0.88188,     0.88288,     0.88388,     0.88488,     0.88589,     0.88689,     0.88789,\n",
              "           0.88889,     0.88989,     0.89089,     0.89189,     0.89289,     0.89389,     0.89489,      0.8959,      0.8969,      0.8979,      0.8989,      0.8999,      0.9009,      0.9019,      0.9029,      0.9039,      0.9049,     0.90591,     0.90691,     0.90791,     0.90891,     0.90991,     0.91091,     0.91191,\n",
              "           0.91291,     0.91391,     0.91491,     0.91592,     0.91692,     0.91792,     0.91892,     0.91992,     0.92092,     0.92192,     0.92292,     0.92392,     0.92492,     0.92593,     0.92693,     0.92793,     0.92893,     0.92993,     0.93093,     0.93193,     0.93293,     0.93393,     0.93493,     0.93594,\n",
              "           0.93694,     0.93794,     0.93894,     0.93994,     0.94094,     0.94194,     0.94294,     0.94394,     0.94494,     0.94595,     0.94695,     0.94795,     0.94895,     0.94995,     0.95095,     0.95195,     0.95295,     0.95395,     0.95495,     0.95596,     0.95696,     0.95796,     0.95896,     0.95996,\n",
              "           0.96096,     0.96196,     0.96296,     0.96396,     0.96496,     0.96597,     0.96697,     0.96797,     0.96897,     0.96997,     0.97097,     0.97197,     0.97297,     0.97397,     0.97497,     0.97598,     0.97698,     0.97798,     0.97898,     0.97998,     0.98098,     0.98198,     0.98298,     0.98398,\n",
              "           0.98498,     0.98599,     0.98699,     0.98799,     0.98899,     0.98999,     0.99099,     0.99199,     0.99299,     0.99399,     0.99499,       0.996,       0.997,       0.998,       0.999,           1]), array([[    0.93182,     0.93182,     0.93182,     0.93182,     0.93182,     0.93182,     0.93182,     0.93182,     0.93182,     0.93182,     0.93182,     0.93182,     0.90909,     0.90909,     0.90909,     0.90909,     0.90909,     0.90909,     0.90909,     0.90909,     0.90909,     0.90909,     0.90909,\n",
              "            0.90909,     0.90909,     0.90909,     0.90909,     0.90909,     0.90909,     0.90909,     0.90909,     0.90909,     0.90909,     0.90909,     0.90909,     0.90909,     0.90909,     0.90909,     0.90763,     0.89683,     0.88636,     0.88636,     0.88636,     0.88636,     0.88636,     0.88636,\n",
              "            0.88636,     0.88636,     0.88636,     0.88636,     0.88636,     0.88636,     0.88636,     0.88636,     0.88636,     0.88636,     0.88636,     0.88636,     0.88636,     0.88636,     0.88636,     0.88636,     0.88636,     0.88636,     0.88636,     0.88636,     0.88636,     0.88636,     0.88636,\n",
              "            0.88636,     0.88636,     0.88636,     0.88636,     0.88636,     0.88636,     0.88636,     0.88636,     0.88636,     0.88636,     0.88636,     0.88636,     0.88636,     0.88636,     0.88636,     0.88636,     0.88636,     0.88636,     0.88636,     0.88636,     0.88636,     0.88636,     0.88636,\n",
              "            0.88636,     0.88636,     0.88636,     0.88636,     0.88636,     0.88636,     0.88636,     0.88636,     0.88636,     0.88636,     0.88636,     0.88636,     0.88636,     0.88636,     0.88636,     0.88636,     0.88636,     0.88636,     0.88636,     0.88636,     0.88636,     0.88636,     0.88636,\n",
              "            0.88636,     0.88636,     0.88636,     0.88636,     0.88636,     0.88636,     0.88636,     0.88636,     0.88636,     0.88636,     0.88636,     0.88636,     0.88636,     0.88636,     0.88636,     0.88636,     0.88636,     0.88636,     0.88636,     0.88636,     0.88636,     0.88636,     0.88636,\n",
              "            0.88636,     0.88636,     0.88636,     0.88636,     0.88636,     0.88636,     0.88636,     0.88636,     0.88636,     0.88636,     0.88636,     0.88636,     0.88636,     0.88636,     0.88636,     0.88636,     0.88636,     0.88636,     0.88636,     0.88636,     0.88636,     0.88636,     0.88636,\n",
              "            0.88636,     0.88636,     0.88636,     0.88636,     0.88636,     0.88636,     0.88636,     0.88636,     0.88636,     0.88636,     0.88636,     0.88636,     0.88636,     0.88636,     0.88636,     0.88636,     0.88636,     0.88636,     0.88636,     0.88636,     0.88636,     0.88636,     0.88636,\n",
              "            0.88636,     0.88636,     0.88636,     0.88636,     0.88636,     0.88636,     0.88636,     0.88636,     0.88636,     0.88636,     0.88636,     0.88636,     0.88636,     0.88636,     0.88636,     0.88636,     0.88405,     0.87473,     0.86541,     0.86364,     0.86364,     0.86364,     0.86364,\n",
              "            0.86364,     0.86364,     0.86364,     0.86364,     0.86364,     0.86364,     0.86364,     0.86364,     0.86364,     0.86364,     0.86364,     0.86364,     0.86364,     0.86364,     0.86364,     0.86364,     0.86364,     0.86364,     0.86364,     0.86364,     0.86364,     0.86364,     0.86364,\n",
              "            0.86364,     0.86364,     0.86364,     0.86364,     0.86364,     0.86364,     0.86364,     0.86364,     0.86364,     0.86364,     0.86364,     0.86364,     0.86364,     0.86364,     0.86364,     0.86364,     0.86364,     0.86364,     0.86364,     0.86364,     0.86364,     0.86364,     0.86364,\n",
              "            0.86364,     0.86364,     0.86364,     0.86364,     0.86364,     0.86364,     0.86364,     0.86364,     0.86364,     0.86364,     0.86364,     0.86364,     0.86364,     0.86364,     0.86364,     0.86364,     0.86364,     0.86364,     0.86364,     0.86364,     0.86364,     0.86364,     0.86364,\n",
              "            0.86364,     0.86364,     0.86364,     0.86364,     0.86364,     0.86364,     0.86364,     0.86364,     0.86364,     0.86364,     0.86364,     0.86364,     0.86364,     0.86364,     0.86364,     0.86364,     0.86364,     0.86364,     0.86364,     0.86364,     0.86364,     0.86364,     0.86364,\n",
              "            0.86364,     0.86364,     0.86364,     0.86364,     0.86364,     0.86364,     0.86364,     0.86364,     0.86364,     0.86364,     0.86364,     0.86364,     0.86364,     0.86364,     0.86364,     0.86364,     0.86364,     0.86364,     0.86364,     0.86364,     0.86364,     0.86364,     0.86364,\n",
              "            0.86364,     0.86364,     0.86364,     0.86364,     0.86364,     0.86364,     0.86364,     0.86364,     0.86364,     0.86364,     0.86364,     0.86364,     0.86364,     0.86364,     0.86364,     0.86364,     0.86364,     0.86364,     0.86364,     0.86364,     0.86364,     0.86364,     0.86364,\n",
              "            0.86364,     0.86364,     0.86364,     0.86364,     0.86364,     0.86364,     0.86364,     0.86364,     0.86364,     0.86364,     0.86364,     0.86364,     0.86364,     0.86364,     0.86364,     0.86364,     0.86364,     0.86364,     0.86364,     0.86364,     0.86364,     0.86364,     0.86364,\n",
              "            0.86364,     0.86364,     0.86364,     0.86349,     0.86294,      0.8624,     0.86186,     0.86132,     0.86078,     0.86024,     0.85969,     0.85915,     0.85861,     0.85807,     0.85753,     0.85698,     0.85644,      0.8559,     0.85536,     0.85482,     0.85428,     0.85373,     0.85319,\n",
              "            0.85265,     0.85211,     0.85157,     0.85103,     0.85048,     0.84994,      0.8494,     0.84886,     0.84832,     0.84777,     0.84723,     0.84669,     0.84615,     0.84561,     0.84507,     0.84452,     0.84398,     0.84344,      0.8429,     0.84236,     0.84182,     0.84127,     0.84091,\n",
              "            0.84091,     0.84091,     0.84091,     0.84091,     0.84091,     0.84091,     0.84091,     0.84091,     0.84091,     0.84091,     0.84091,     0.84091,     0.84091,     0.84091,     0.84091,     0.84091,     0.84091,     0.84091,     0.84091,     0.84091,     0.84091,     0.84091,     0.84091,\n",
              "            0.84091,     0.84091,     0.84091,     0.84091,     0.84091,     0.84091,     0.84091,     0.84091,     0.84091,     0.84091,     0.84091,     0.84091,     0.84091,     0.84091,     0.84091,     0.84091,     0.84091,     0.84091,     0.84091,     0.84091,     0.84091,     0.84091,     0.84091,\n",
              "            0.84091,     0.84091,     0.84091,     0.84091,     0.84091,     0.84091,     0.84091,     0.84091,     0.84091,     0.84091,     0.84091,     0.84091,     0.84091,     0.84074,     0.84053,     0.84032,     0.84011,      0.8399,     0.83969,     0.83948,     0.83928,     0.83907,     0.83886,\n",
              "            0.83865,     0.83844,     0.83823,     0.83802,     0.83781,      0.8376,      0.8374,     0.83719,     0.83698,     0.83677,     0.83656,     0.83635,     0.83614,     0.83593,     0.83572,     0.83552,     0.83531,      0.8351,     0.83489,     0.83468,     0.83447,     0.83426,     0.83405,\n",
              "            0.83384,     0.83363,     0.83343,     0.83322,     0.83301,      0.8328,     0.83259,     0.83238,     0.83217,     0.83196,     0.83175,     0.83155,     0.83134,     0.83113,     0.83092,     0.83071,      0.8305,     0.83029,     0.83008,     0.82987,     0.82967,     0.82946,     0.82925,\n",
              "            0.82904,     0.82883,     0.82862,     0.82841,      0.8282,     0.82799,     0.82778,     0.82758,     0.82737,     0.82716,     0.82695,     0.82674,     0.82653,     0.82632,     0.82611,      0.8259,      0.8257,     0.82549,     0.82528,     0.82507,     0.82486,     0.82465,     0.82444,\n",
              "            0.82423,     0.82402,     0.82381,     0.82361,      0.8234,     0.82319,     0.82298,     0.82277,     0.82256,     0.82235,     0.82214,     0.82193,     0.82173,     0.82152,     0.82131,      0.8211,     0.82089,     0.82068,     0.82047,     0.82026,     0.82005,     0.81985,     0.81964,\n",
              "            0.81943,     0.81922,     0.81901,      0.8188,     0.81859,     0.81838,     0.81818,     0.81818,     0.81818,     0.81818,     0.81818,     0.81818,     0.81818,     0.81818,     0.81818,     0.81818,     0.81818,     0.81818,     0.81818,     0.81818,     0.81818,     0.81818,     0.81818,\n",
              "            0.81818,     0.81818,     0.81818,     0.81818,     0.81818,     0.81818,     0.81818,     0.81818,     0.81818,     0.81818,     0.81818,     0.81818,     0.81818,     0.81818,     0.81818,     0.81818,     0.81818,     0.81818,     0.81818,     0.81818,     0.81818,     0.81818,     0.81818,\n",
              "            0.81818,     0.81818,     0.81818,     0.81818,     0.81818,     0.81818,     0.81818,     0.81818,     0.81818,     0.81818,     0.81818,     0.81818,     0.81818,     0.81818,     0.81818,     0.81818,     0.81818,     0.81818,     0.81818,     0.81818,     0.81818,     0.81818,     0.81818,\n",
              "            0.81818,     0.81773,     0.81702,      0.8163,     0.81558,     0.81487,     0.81415,     0.81343,     0.81272,       0.812,     0.81128,     0.81057,     0.80985,     0.80913,     0.80842,      0.8077,     0.80698,     0.80626,     0.80555,     0.80483,     0.80411,      0.8034,     0.80268,\n",
              "            0.80196,     0.80125,     0.80053,     0.79981,      0.7991,     0.79838,     0.79766,     0.79695,     0.79623,     0.79551,      0.7926,     0.78949,     0.78639,     0.78328,     0.78018,     0.77707,     0.77396,     0.77199,     0.77076,     0.76954,     0.76831,     0.76708,     0.76586,\n",
              "            0.76463,     0.76341,     0.76218,     0.76095,     0.75973,      0.7585,     0.75728,     0.75605,     0.75482,      0.7536,     0.75237,     0.75115,     0.74969,     0.74503,     0.74037,     0.73572,     0.73106,     0.72435,     0.70882,     0.70195,     0.69836,     0.69478,      0.6912,\n",
              "            0.68761,     0.68403,      0.6812,      0.6796,     0.67799,     0.67638,     0.67478,     0.67317,     0.67156,     0.66996,     0.66835,     0.66674,     0.66514,     0.66353,     0.66192,     0.66032,     0.65541,     0.63987,     0.63276,      0.6281,     0.62344,     0.61878,     0.61412,\n",
              "            0.61364,     0.61364,     0.61364,     0.61364,     0.61207,     0.60896,     0.60585,     0.60275,     0.59964,     0.59653,     0.59343,     0.58944,     0.58168,     0.57391,     0.54514,     0.54395,     0.54275,     0.54156,     0.54036,     0.53917,     0.53797,     0.53678,     0.53558,\n",
              "            0.53439,     0.53319,       0.532,     0.53081,     0.52961,     0.52842,     0.52722,     0.52603,     0.52483,     0.52364,     0.52226,     0.52032,     0.51838,     0.51644,      0.5145,     0.51256,     0.51062,     0.50868,     0.50673,     0.50479,     0.50285,     0.50091,     0.49845,\n",
              "            0.49554,     0.49263,     0.48972,      0.4868,     0.48389,     0.48098,     0.47807,     0.47516,     0.47224,     0.46933,     0.46642,     0.46351,      0.4606,     0.45768,     0.45477,      0.4524,     0.45007,     0.44774,     0.44541,     0.44308,     0.44075,     0.43842,     0.43609,\n",
              "            0.43376,     0.43122,     0.42764,     0.42406,     0.42047,     0.41689,      0.4133,     0.40972,     0.36221,     0.35797,     0.35374,      0.3495,     0.34527,     0.34103,     0.33808,     0.33517,     0.33226,     0.32934,     0.32643,     0.32352,     0.32061,     0.22657,     0.22233,\n",
              "             0.2181,     0.21386,     0.20962,     0.20539,     0.20168,     0.19809,     0.19451,     0.19092,     0.18734,     0.18376,     0.17754,     0.16822,     0.15885,      0.1472,     0.13625,     0.13458,     0.13292,     0.13126,     0.12959,     0.12793,     0.12626,      0.1246,     0.12294,\n",
              "            0.12127,     0.11961,     0.11794,     0.11628,     0.11462,     0.11284,      0.1109,     0.10896,     0.10701,     0.10507,     0.10313,     0.10119,    0.099249,    0.097308,    0.095366,    0.093425,    0.091484,    0.057247,     0.04452,    0.040637,    0.036755,    0.032872,    0.028989,\n",
              "           0.025107,           0,           0,           0,           0,           0,           0,           0,           0,           0,           0,           0,           0,           0,           0,           0,           0,           0,           0,           0,           0,           0,           0,\n",
              "                  0,           0,           0,           0,           0,           0,           0,           0,           0,           0,           0,           0,           0,           0,           0,           0,           0,           0,           0,           0,           0,           0,           0,\n",
              "                  0,           0,           0,           0,           0,           0,           0,           0,           0,           0,           0,           0,           0,           0,           0,           0,           0,           0,           0,           0,           0,           0,           0,\n",
              "                  0,           0,           0,           0,           0,           0,           0,           0,           0,           0,           0,           0,           0,           0,           0,           0,           0,           0,           0,           0,           0,           0,           0,\n",
              "                  0,           0,           0,           0,           0,           0,           0,           0,           0,           0,           0,           0,           0,           0,           0,           0,           0,           0,           0,           0,           0,           0,           0,\n",
              "                  0,           0,           0,           0,           0,           0,           0,           0,           0,           0,           0]]), 'Confidence', 'Recall']]\n",
              "fitness: 0.5422894253953132\n",
              "keys: ['metrics/precision(B)', 'metrics/recall(B)', 'metrics/mAP50(B)', 'metrics/mAP50-95(B)']\n",
              "maps: array([    0.50284])\n",
              "names: {0: 'license_plate'}\n",
              "plot: True\n",
              "results_dict: {'metrics/precision(B)': 0.8998955252482236, 'metrics/recall(B)': 0.8636363636363636, 'metrics/mAP50(B)': 0.8973120337048922, 'metrics/mAP50-95(B)': 0.5028424689164711, 'fitness': 0.5422894253953132}\n",
              "save_dir: PosixPath('runs/detect/train15')\n",
              "speed: {'preprocess': 0.20584735003384677, 'inference': 1.501343467018821, 'loss': 0.000579790635542436, 'postprocess': 1.2852820483121004}\n",
              "task: 'detect'"
            ]
          },
          "metadata": {},
          "execution_count": 156
        }
      ],
      "source": [
        "model.train(\n",
        "    data=f'{dataset_path}/datasets.yaml',\n",
        "    epochs=100,\n",
        "    batch=16,\n",
        "    device='cuda',\n",
        "    imgsz=320,  # Image size (width and height) for training\n",
        "    cache=True\n",
        ")"
      ]
    },
    {
      "cell_type": "code",
      "execution_count": 157,
      "metadata": {
        "id": "nu49bltDAFn9",
        "colab": {
          "base_uri": "https://localhost:8080/",
          "height": 487
        },
        "outputId": "0d1654fb-064c-4fd4-d364-aa7c23098d62"
      },
      "outputs": [
        {
          "output_type": "display_data",
          "data": {
            "text/plain": [
              "<Figure size 1000x500 with 1 Axes>"
            ],
            "image/png": "[encoded data removed]"
          },
          "metadata": {}
        }
      ],
      "source": [
        "# Find recent training log dir\n",
        "log_dir = max(glob('runs/detect/train*'), key=extract_number_from_str)\n",
        "\n",
        "results = pd.read_csv(os.path.join(log_dir, 'results.csv'))\n",
        "results.columns = results.columns.str.strip()\n",
        "\n",
        "epochs = results.index + 1\n",
        "mAP_0_5 = results['metrics/mAP50(B)']\n",
        "mAP_0_5_0_95 = results['metrics/mAP50-95(B)']\n",
        "\n",
        "plt.figure(figsize=(10, 5))\n",
        "plt.plot(epochs, mAP_0_5, label='mAP@0.5')\n",
        "plt.plot(epochs, mAP_0_5_0_95, label='mAP@0.5:0.95')\n",
        "plt.xlabel('Epoch')\n",
        "plt.ylabel('Accuracy')\n",
        "plt.title('Accuracy Over Epochs')\n",
        "plt.legend()\n",
        "plt.grid(True)\n",
        "plt.show()"
      ]
    },
    {
      "cell_type": "code",
      "source": [
        "import numpy as np\n",
        "from collections import defaultdict\n",
        "from scipy.interpolate import interp1d\n",
        "\n",
        "def calculate_iou(box1, box2):\n",
        "    \"\"\"Calculate Intersection over Union (IoU) between two boxes\"\"\"\n",
        "    x1 = max(box1[0], box2[0])\n",
        "    y1 = max(box1[1], box2[1])\n",
        "    x2 = min(box1[2], box2[2])\n",
        "    y2 = min(box1[3], box2[3])\n",
        "\n",
        "    intersection = max(0, x2 - x1) * max(0, y2 - y1)\n",
        "\n",
        "    box1_area = (box1[2] - box1[0]) * (box1[3] - box1[1])\n",
        "    box2_area = (box2[2] - box2[0]) * (box2[3] - box2[1])\n",
        "\n",
        "    union = box1_area + box2_area - intersection\n",
        "\n",
        "    return intersection / union if union > 0 else 0\n",
        "\n",
        "def calculate_metrics(predictions, ground_truth, iou_thresholds=[0.5]):\n",
        "    \"\"\"\n",
        "    Calculate precision, recall, mAP, and F1 score for object detection\n",
        "\n",
        "    Args:\n",
        "        predictions: List of dictionaries containing predicted boxes and scores\n",
        "        ground_truth: List of dictionaries containing ground truth boxes\n",
        "        iou_thresholds: List of IoU thresholds for evaluation\n",
        "\n",
        "    Returns:\n",
        "        Dictionary containing calculated metrics\n",
        "    \"\"\"\n",
        "    metrics = defaultdict(dict)\n",
        "\n",
        "    for iou_threshold in iou_thresholds:\n",
        "        true_positives = []\n",
        "        false_positives = []\n",
        "        scores = []\n",
        "        n_ground_truth = 0\n",
        "\n",
        "        # Process each image\n",
        "        for img_id in ground_truth:\n",
        "            gt_boxes = ground_truth[img_id]\n",
        "            pred_boxes = predictions.get(img_id, [])\n",
        "            n_ground_truth += len(gt_boxes)\n",
        "\n",
        "            # Mark ground truth boxes as not detected yet\n",
        "            gt_matched = [False] * len(gt_boxes)\n",
        "\n",
        "            # Sort predictions by confidence score\n",
        "            pred_boxes = sorted(pred_boxes, key=lambda x: x['confidence'], reverse=True)\n",
        "\n",
        "            for pred in pred_boxes:\n",
        "                scores.append(pred['confidence'])\n",
        "                max_iou = 0\n",
        "                max_idx = -1\n",
        "\n",
        "                # Find the best matching ground truth box\n",
        "                for idx, gt_box in enumerate(gt_boxes):\n",
        "                    if not gt_matched[idx]:\n",
        "                        iou = calculate_iou(pred['bbox'], gt_box)\n",
        "                        if iou > max_iou:\n",
        "                            max_iou = iou\n",
        "                            max_idx = idx\n",
        "\n",
        "                if max_iou >= iou_threshold and max_idx >= 0:\n",
        "                    true_positives.append(1)\n",
        "                    false_positives.append(0)\n",
        "                    gt_matched[max_idx] = True\n",
        "                else:\n",
        "                    true_positives.append(0)\n",
        "                    false_positives.append(1)\n",
        "\n",
        "        # Calculate cumulative precision and recall\n",
        "        cumsum_tp = np.cumsum(true_positives)\n",
        "        cumsum_fp = np.cumsum(false_positives)\n",
        "        precision = cumsum_tp / (cumsum_tp + cumsum_fp)\n",
        "        recall = cumsum_tp / n_ground_truth if n_ground_truth > 0 else np.zeros_like(cumsum_tp)\n",
        "\n",
        "        # Calculate AP using 11-point interpolation\n",
        "        ap = 0\n",
        "        for t in np.arange(0, 1.1, 0.1):\n",
        "            if np.sum(recall >= t) == 0:\n",
        "                p = 0\n",
        "            else:\n",
        "                p = np.max(precision[recall >= t])\n",
        "            ap += p / 11\n",
        "\n",
        "        # Calculate F1 score\n",
        "        f1 = 2 * (precision * recall) / (precision + recall + 1e-6)\n",
        "        max_f1 = np.max(f1) if len(f1) > 0 else 0\n",
        "\n",
        "        metrics[f'mAP@{iou_threshold}'] = ap\n",
        "        metrics[f'precision@{iou_threshold}'] = np.mean(precision)\n",
        "        metrics[f'recall@{iou_threshold}'] = np.mean(recall)\n",
        "        metrics[f'f1@{iou_threshold}'] = max_f1\n",
        "\n",
        "    # Calculate mAP@0.5:0.95\n",
        "    if len(iou_thresholds) > 1:\n",
        "        metrics['mAP@0.5:0.95'] = np.mean([metrics[f'mAP@{t}'] for t in iou_thresholds])\n",
        "\n",
        "    return metrics\n",
        "\n",
        "def evaluate_model(model, test_df, output_dir='predictions'):\n",
        "    \"\"\"\n",
        "    Evaluate model performance on test dataset\n",
        "\n",
        "    Args:\n",
        "        model: Trained YOLO model\n",
        "        test_df: DataFrame containing test image paths\n",
        "        output_dir: Directory to save results\n",
        "    \"\"\"\n",
        "    # Get predictions\n",
        "    predictions = {}\n",
        "    ground_truth = {}\n",
        "\n",
        "    # Process test images\n",
        "    for idx, row in test_df.iterrows():\n",
        "        img_path = row['img_path']\n",
        "        img_name = os.path.basename(img_path)\n",
        "\n",
        "        # Get model predictions\n",
        "        results = model.predict(img_path, device='cuda' if torch.cuda.is_available() else 'cpu')\n",
        "\n",
        "        # Store predictions\n",
        "        predictions[img_name] = []\n",
        "        for result in results:\n",
        "            for box in result.boxes:\n",
        "                x1, y1, x2, y2 = map(int, box.xyxy[0])\n",
        "                confidence = float(box.conf[0])\n",
        "                predictions[img_name].append({\n",
        "                    'bbox': [x1, y1, x2, y2],\n",
        "                    'confidence': confidence\n",
        "                })\n",
        "\n",
        "        # Store ground truth\n",
        "        ground_truth[img_name] = [[row['xmin'], row['ymin'], row['xmax'], row['ymax']]]\n",
        "\n",
        "    # Calculate metrics for different IoU thresholds\n",
        "    iou_thresholds = np.linspace(0.5, 0.95, 10)\n",
        "    metrics = calculate_metrics(predictions, ground_truth, iou_thresholds)\n",
        "\n",
        "    # Print results\n",
        "    print(\"\\nEvaluation Metrics:\")\n",
        "    print(f\"mAP@0.5: {metrics['mAP@0.5']:.4f}\")\n",
        "    print(f\"mAP@0.5:0.95: {metrics['mAP@0.5:0.95']:.4f}\")\n",
        "    print(f\"Precision@0.5: {metrics['precision@0.5']:.4f}\")\n",
        "    print(f\"Recall@0.5: {metrics['recall@0.5']:.4f}\")\n",
        "    print(f\"F1@0.5: {metrics['f1@0.5']:.4f}\")\n",
        "\n",
        "    return metrics"
      ],
      "metadata": {
        "id": "111ANM-5KgI_"
      },
      "execution_count": 167,
      "outputs": []
    },
    {
      "cell_type": "code",
      "source": [
        "evaluate_model(model, test)"
      ],
      "metadata": {
        "colab": {
          "base_uri": "https://localhost:8080/"
        },
        "id": "o-jaSTGaLcSc",
        "outputId": "83777058-8b64-4ddf-e6e5-540fdb303b05"
      },
      "execution_count": 168,
      "outputs": [
        {
          "output_type": "stream",
          "name": "stdout",
          "text": [
            "\n",
            "image 1/1 /content/dataset/preprocessed_images/Cars425.png: 160x320 1 license_plate, 53.9ms\n",
            "Speed: 1.5ms preprocess, 53.9ms inference, 1.2ms postprocess per image at shape (1, 3, 160, 320)\n",
            "\n",
            "image 1/1 /content/dataset/preprocessed_images/Cars75.png: 224x320 1 license_plate, 50.5ms\n",
            "Speed: 1.0ms preprocess, 50.5ms inference, 1.1ms postprocess per image at shape (1, 3, 224, 320)\n",
            "\n",
            "image 1/1 /content/dataset/preprocessed_images/Cars181.png: 320x192 1 license_plate, 44.9ms\n",
            "Speed: 0.9ms preprocess, 44.9ms inference, 0.9ms postprocess per image at shape (1, 3, 320, 192)\n",
            "\n",
            "image 1/1 /content/dataset/preprocessed_images/Cars30.png: 192x320 2 license_plates, 43.6ms\n",
            "Speed: 0.9ms preprocess, 43.6ms inference, 1.1ms postprocess per image at shape (1, 3, 192, 320)\n",
            "\n",
            "image 1/1 /content/dataset/preprocessed_images/Cars364.png: 224x320 1 license_plate, 51.8ms\n",
            "Speed: 1.0ms preprocess, 51.8ms inference, 1.2ms postprocess per image at shape (1, 3, 224, 320)\n",
            "\n",
            "image 1/1 /content/dataset/preprocessed_images/Cars408.png: 224x320 1 license_plate, 52.9ms\n",
            "Speed: 0.9ms preprocess, 52.9ms inference, 1.1ms postprocess per image at shape (1, 3, 224, 320)\n",
            "\n",
            "image 1/1 /content/dataset/preprocessed_images/Cars253.png: 192x320 1 license_plate, 46.1ms\n",
            "Speed: 0.8ms preprocess, 46.1ms inference, 1.0ms postprocess per image at shape (1, 3, 192, 320)\n",
            "\n",
            "image 1/1 /content/dataset/preprocessed_images/Cars155.png: 224x320 (no detections), 48.8ms\n",
            "Speed: 1.0ms preprocess, 48.8ms inference, 0.6ms postprocess per image at shape (1, 3, 224, 320)\n",
            "\n",
            "image 1/1 /content/dataset/preprocessed_images/Cars168.png: 192x320 1 license_plate, 77.1ms\n",
            "Speed: 0.9ms preprocess, 77.1ms inference, 2.9ms postprocess per image at shape (1, 3, 192, 320)\n",
            "\n",
            "image 1/1 /content/dataset/preprocessed_images/Cars415.png: 256x320 1 license_plate, 45.0ms\n",
            "Speed: 1.1ms preprocess, 45.0ms inference, 1.0ms postprocess per image at shape (1, 3, 256, 320)\n",
            "\n",
            "image 1/1 /content/dataset/preprocessed_images/Cars152.png: 224x320 1 license_plate, 34.2ms\n",
            "Speed: 0.7ms preprocess, 34.2ms inference, 0.8ms postprocess per image at shape (1, 3, 224, 320)\n",
            "\n",
            "image 1/1 /content/dataset/preprocessed_images/Cars70.png: 192x320 (no detections), 27.0ms\n",
            "Speed: 0.8ms preprocess, 27.0ms inference, 0.4ms postprocess per image at shape (1, 3, 192, 320)\n",
            "\n",
            "image 1/1 /content/dataset/preprocessed_images/Cars203.png: 224x320 1 license_plate, 30.4ms\n",
            "Speed: 0.9ms preprocess, 30.4ms inference, 0.7ms postprocess per image at shape (1, 3, 224, 320)\n",
            "\n",
            "image 1/1 /content/dataset/preprocessed_images/Cars335.png: 320x320 2 license_plates, 38.9ms\n",
            "Speed: 0.9ms preprocess, 38.9ms inference, 0.7ms postprocess per image at shape (1, 3, 320, 320)\n",
            "\n",
            "image 1/1 /content/dataset/preprocessed_images/Cars39.png: 256x320 1 license_plate, 33.6ms\n",
            "Speed: 0.9ms preprocess, 33.6ms inference, 0.7ms postprocess per image at shape (1, 3, 256, 320)\n",
            "\n",
            "image 1/1 /content/dataset/preprocessed_images/Cars395.png: 256x320 1 license_plate, 35.1ms\n",
            "Speed: 0.8ms preprocess, 35.1ms inference, 0.8ms postprocess per image at shape (1, 3, 256, 320)\n",
            "\n",
            "image 1/1 /content/dataset/preprocessed_images/Cars274.png: 256x320 1 license_plate, 33.3ms\n",
            "Speed: 0.8ms preprocess, 33.3ms inference, 0.8ms postprocess per image at shape (1, 3, 256, 320)\n",
            "\n",
            "image 1/1 /content/dataset/preprocessed_images/Cars72.png: 288x320 2 license_plates, 47.7ms\n",
            "Speed: 0.9ms preprocess, 47.7ms inference, 1.0ms postprocess per image at shape (1, 3, 288, 320)\n",
            "\n",
            "image 1/1 /content/dataset/preprocessed_images/Cars9.png: 256x320 1 license_plate, 32.9ms\n",
            "Speed: 1.0ms preprocess, 32.9ms inference, 0.7ms postprocess per image at shape (1, 3, 256, 320)\n",
            "\n",
            "image 1/1 /content/dataset/preprocessed_images/Cars281.png: 224x320 1 license_plate, 31.6ms\n",
            "Speed: 1.0ms preprocess, 31.6ms inference, 0.7ms postprocess per image at shape (1, 3, 224, 320)\n",
            "\n",
            "image 1/1 /content/dataset/preprocessed_images/Cars287.png: 288x320 2 license_plates, 38.4ms\n",
            "Speed: 1.2ms preprocess, 38.4ms inference, 0.8ms postprocess per image at shape (1, 3, 288, 320)\n",
            "\n",
            "image 1/1 /content/dataset/preprocessed_images/Cars362.png: 256x320 (no detections), 35.2ms\n",
            "Speed: 1.5ms preprocess, 35.2ms inference, 0.4ms postprocess per image at shape (1, 3, 256, 320)\n",
            "\n",
            "image 1/1 /content/dataset/preprocessed_images/Cars353.png: 224x320 1 license_plate, 32.0ms\n",
            "Speed: 0.8ms preprocess, 32.0ms inference, 0.7ms postprocess per image at shape (1, 3, 224, 320)\n",
            "\n",
            "image 1/1 /content/dataset/preprocessed_images/Cars55.png: 256x320 2 license_plates, 37.6ms\n",
            "Speed: 1.5ms preprocess, 37.6ms inference, 0.7ms postprocess per image at shape (1, 3, 256, 320)\n",
            "\n",
            "image 1/1 /content/dataset/preprocessed_images/Cars289.png: 256x320 1 license_plate, 34.5ms\n",
            "Speed: 1.5ms preprocess, 34.5ms inference, 0.7ms postprocess per image at shape (1, 3, 256, 320)\n",
            "\n",
            "image 1/1 /content/dataset/preprocessed_images/Cars198.png: 256x320 1 license_plate, 36.0ms\n",
            "Speed: 1.0ms preprocess, 36.0ms inference, 0.8ms postprocess per image at shape (1, 3, 256, 320)\n",
            "\n",
            "image 1/1 /content/dataset/preprocessed_images/Cars148.png: 192x320 (no detections), 30.1ms\n",
            "Speed: 0.9ms preprocess, 30.1ms inference, 0.4ms postprocess per image at shape (1, 3, 192, 320)\n",
            "\n",
            "image 1/1 /content/dataset/preprocessed_images/Cars392.png: 224x320 1 license_plate, 32.7ms\n",
            "Speed: 1.0ms preprocess, 32.7ms inference, 0.7ms postprocess per image at shape (1, 3, 224, 320)\n",
            "\n",
            "image 1/1 /content/dataset/preprocessed_images/Cars341.png: 224x320 1 license_plate, 32.2ms\n",
            "Speed: 1.0ms preprocess, 32.2ms inference, 0.7ms postprocess per image at shape (1, 3, 224, 320)\n",
            "\n",
            "image 1/1 /content/dataset/preprocessed_images/Cars268.png: 256x320 1 license_plate, 39.9ms\n",
            "Speed: 0.8ms preprocess, 39.9ms inference, 0.9ms postprocess per image at shape (1, 3, 256, 320)\n",
            "\n",
            "image 1/1 /content/dataset/preprocessed_images/Cars126.png: 256x320 1 license_plate, 45.2ms\n",
            "Speed: 2.5ms preprocess, 45.2ms inference, 1.0ms postprocess per image at shape (1, 3, 256, 320)\n",
            "\n",
            "image 1/1 /content/dataset/preprocessed_images/Cars400.png: 224x320 1 license_plate, 44.2ms\n",
            "Speed: 1.0ms preprocess, 44.2ms inference, 0.8ms postprocess per image at shape (1, 3, 224, 320)\n",
            "\n",
            "image 1/1 /content/dataset/preprocessed_images/Cars305.png: 192x320 1 license_plate, 36.2ms\n",
            "Speed: 1.1ms preprocess, 36.2ms inference, 0.8ms postprocess per image at shape (1, 3, 192, 320)\n",
            "\n",
            "image 1/1 /content/dataset/preprocessed_images/Cars93.png: 224x320 (no detections), 40.8ms\n",
            "Speed: 0.9ms preprocess, 40.8ms inference, 0.5ms postprocess per image at shape (1, 3, 224, 320)\n",
            "\n",
            "image 1/1 /content/dataset/preprocessed_images/Cars428.png: 192x320 1 license_plate, 37.6ms\n",
            "Speed: 0.8ms preprocess, 37.6ms inference, 0.8ms postprocess per image at shape (1, 3, 192, 320)\n",
            "\n",
            "image 1/1 /content/dataset/preprocessed_images/Cars77.png: 224x320 1 license_plate, 42.2ms\n",
            "Speed: 1.1ms preprocess, 42.2ms inference, 0.9ms postprocess per image at shape (1, 3, 224, 320)\n",
            "\n",
            "image 1/1 /content/dataset/preprocessed_images/Cars298.png: 224x320 (no detections), 39.2ms\n",
            "Speed: 1.0ms preprocess, 39.2ms inference, 0.5ms postprocess per image at shape (1, 3, 224, 320)\n",
            "\n",
            "image 1/1 /content/dataset/preprocessed_images/Cars140.png: 224x320 1 license_plate, 33.3ms\n",
            "Speed: 0.7ms preprocess, 33.3ms inference, 0.7ms postprocess per image at shape (1, 3, 224, 320)\n",
            "\n",
            "image 1/1 /content/dataset/preprocessed_images/Cars323.png: 192x320 1 license_plate, 30.4ms\n",
            "Speed: 1.8ms preprocess, 30.4ms inference, 0.7ms postprocess per image at shape (1, 3, 192, 320)\n",
            "\n",
            "image 1/1 /content/dataset/preprocessed_images/Cars429.png: 320x256 1 license_plate, 52.3ms\n",
            "Speed: 1.2ms preprocess, 52.3ms inference, 0.7ms postprocess per image at shape (1, 3, 320, 256)\n",
            "\n",
            "image 1/1 /content/dataset/preprocessed_images/Cars225.png: 224x320 1 license_plate, 32.1ms\n",
            "Speed: 1.2ms preprocess, 32.1ms inference, 0.7ms postprocess per image at shape (1, 3, 224, 320)\n",
            "\n",
            "image 1/1 /content/dataset/preprocessed_images/Cars154.png: 320x256 1 license_plate, 37.0ms\n",
            "Speed: 1.1ms preprocess, 37.0ms inference, 0.9ms postprocess per image at shape (1, 3, 320, 256)\n",
            "\n",
            "image 1/1 /content/dataset/preprocessed_images/Cars78.png: 256x320 1 license_plate, 34.6ms\n",
            "Speed: 0.8ms preprocess, 34.6ms inference, 0.7ms postprocess per image at shape (1, 3, 256, 320)\n",
            "\n",
            "image 1/1 /content/dataset/preprocessed_images/Cars73.png: 192x320 1 license_plate, 28.4ms\n",
            "Speed: 0.9ms preprocess, 28.4ms inference, 0.7ms postprocess per image at shape (1, 3, 192, 320)\n",
            "\n",
            "Evaluation Metrics:\n",
            "mAP@0.5: 0.6089\n",
            "mAP@0.5:0.95: 0.3519\n",
            "Precision@0.5: 0.7363\n",
            "Recall@0.5: 0.3805\n",
            "F1@0.5: 0.8046\n"
          ]
        },
        {
          "output_type": "execute_result",
          "data": {
            "text/plain": [
              "defaultdict(dict,\n",
              "            {'mAP@0.5': 0.6088794926004228,\n",
              "             'precision@0.5': 0.7362870874590688,\n",
              "             'recall@0.5': 0.38054968287526436,\n",
              "             'f1@0.5': 0.8045972012157948,\n",
              "             'mAP@0.55': 0.5792811839323467,\n",
              "             'precision@0.55': 0.6838982413629882,\n",
              "             'recall@0.55': 0.3525369978858351,\n",
              "             'f1@0.55': 0.7586201897215609,\n",
              "             'mAP@0.6': 0.5792811839323467,\n",
              "             'precision@0.6': 0.6838982413629882,\n",
              "             'recall@0.6': 0.3525369978858351,\n",
              "             'f1@0.6': 0.7586201897215609,\n",
              "             'mAP@0.65': 0.5644820295983086,\n",
              "             'precision@0.65': 0.679818254762821,\n",
              "             'recall@0.65': 0.3488372093023256,\n",
              "             'f1@0.65': 0.7356316839744447,\n",
              "             'mAP@0.7': 0.46753246753246747,\n",
              "             'precision@0.7': 0.6129715697323199,\n",
              "             'recall@0.7': 0.3134249471458774,\n",
              "             'f1@0.7': 0.6744181049219495,\n",
              "             'mAP@0.75': 0.35064935064935066,\n",
              "             'precision@0.75': 0.4774841026066365,\n",
              "             'recall@0.75': 0.24947145877378438,\n",
              "             'f1@0.75': 0.5581390351545847,\n",
              "             'mAP@0.8': 0.2600756488848311,\n",
              "             'precision@0.8': 0.43258004396089705,\n",
              "             'recall@0.8': 0.2167019027484144,\n",
              "             'f1@0.8': 0.447058324152807,\n",
              "             'mAP@0.85': 0.08647450110864745,\n",
              "             'precision@0.85': 0.2201597852504392,\n",
              "             'recall@0.85': 0.13266384778012688,\n",
              "             'f1@0.85': 0.3058818535648291,\n",
              "             'mAP@0.8999999999999999': 0.022172949002217293,\n",
              "             'precision@0.8999999999999999': 0.0668693810793812,\n",
              "             'recall@0.8999999999999999': 0.04281183932346722,\n",
              "             'f1@0.8999999999999999': 0.11764655944848647,\n",
              "             'mAP@0.95': 0.0,\n",
              "             'precision@0.95': 0.0,\n",
              "             'recall@0.95': 0.0,\n",
              "             'f1@0.95': 0.0,\n",
              "             'mAP@0.5:0.95': 0.35188288072409385})"
            ]
          },
          "metadata": {},
          "execution_count": 168
        }
      ]
    },
    {
      "cell_type": "code",
      "execution_count": 158,
      "metadata": {
        "id": "zEQau1MAALCz"
      },
      "outputs": [],
      "source": [
        "# save model\n",
        "model.save('anpr-v1.pt')"
      ]
    },
    {
      "cell_type": "markdown",
      "metadata": {
        "id": "AWvIFV7vAOBE"
      },
      "source": [
        "# Test and predictions"
      ]
    },
    {
      "cell_type": "code",
      "execution_count": 159,
      "metadata": {
        "id": "98ycDW8OAPH7"
      },
      "outputs": [],
      "source": [
        "# to predict test image\n",
        "def predict_and_plot(path_test_car):\n",
        "\n",
        "    results = model.predict(path_test_car, device='cpu')\n",
        "\n",
        "\n",
        "    image = cv2.imread(path_test_car)\n",
        "\n",
        "    image = cv2.cvtColor(image, cv2.COLOR_BGR2RGB)\n",
        "\n",
        "\n",
        "    for result in results:\n",
        "        for box in result.boxes:\n",
        "\n",
        "            x1, y1, x2, y2 = map(int, box.xyxy[0])\n",
        "            confidence = box.conf[0]\n",
        "\n",
        "            cv2.rectangle(image, (x1, y1), (x2, y2), (0, 255, 0), 2)\n",
        "\n",
        "            cv2.putText(image, f'{confidence*100:.2f}%', (x1, y1 - 10),\n",
        "                        cv2.FONT_HERSHEY_SIMPLEX, 0.9, (255, 0, 0), 2)\n",
        "\n",
        "\n",
        "    plt.imshow(image)\n",
        "    plt.axis('off')\n",
        "    plt.show()"
      ]
    },
    {
      "cell_type": "code",
      "execution_count": 160,
      "metadata": {
        "id": "2yHv9s35AUK1",
        "colab": {
          "base_uri": "https://localhost:8080/",
          "height": 321
        },
        "outputId": "a91bc0ba-1409-4157-8dc6-8c698e4f5d14"
      },
      "outputs": [
        {
          "output_type": "stream",
          "name": "stdout",
          "text": [
            "\n",
            "image 1/1 /content/dataset/preprocessed_images/Cars425.png: 160x320 1 license_plate, 39.1ms\n",
            "Speed: 0.9ms preprocess, 39.1ms inference, 17.0ms postprocess per image at shape (1, 3, 160, 320)\n"
          ]
        },
        {
          "output_type": "display_data",
          "data": {
            "text/plain": [
              "<Figure size 640x480 with 1 Axes>"
            ],
            "image/png": "[encoded data removed]"
          },
          "metadata": {}
        }
      ],
      "source": [
        "predict_and_plot(test.iloc[0].img_path)"
      ]
    },
    {
      "cell_type": "code",
      "execution_count": 161,
      "metadata": {
        "id": "o_4kpvffAdmW",
        "colab": {
          "base_uri": "https://localhost:8080/",
          "height": 460
        },
        "outputId": "5c16df6e-7a06-4809-d3b1-c7ab2634fb3c"
      },
      "outputs": [
        {
          "output_type": "stream",
          "name": "stdout",
          "text": [
            "\n",
            "image 1/1 /content/dataset/preprocessed_images/Cars181.png: 320x192 1 license_plate, 51.2ms\n",
            "Speed: 0.9ms preprocess, 51.2ms inference, 1.0ms postprocess per image at shape (1, 3, 320, 192)\n"
          ]
        },
        {
          "output_type": "display_data",
          "data": {
            "text/plain": [
              "<Figure size 640x480 with 1 Axes>"
            ],
            "image/png": "[encoded data removed]"
          },
          "metadata": {}
        }
      ],
      "source": [
        "predict_and_plot(test.iloc[2].img_path)"
      ]
    },
    {
      "cell_type": "markdown",
      "source": [
        "## Testing"
      ],
      "metadata": {
        "id": "_eRhkU9KcTke"
      }
    },
    {
      "cell_type": "code",
      "source": [
        "import os\n",
        "import cv2\n",
        "import matplotlib.pyplot as plt\n",
        "from tqdm import tqdm\n",
        "\n",
        "def batch_predict_and_save(model, test_df, output_dir='predictions'):\n",
        "    \"\"\"\n",
        "    Run ANPR predictions on all images in the test dataset and save results\n",
        "\n",
        "    Args:\n",
        "        model: Trained YOLO model\n",
        "        test_df: DataFrame containing test image paths\n",
        "        output_dir: Directory to save annotated images\n",
        "    \"\"\"\n",
        "    # Create output directory if it doesn't exist\n",
        "    os.makedirs(output_dir, exist_ok=True)\n",
        "\n",
        "    # Process all test images\n",
        "    results_dict = {}\n",
        "\n",
        "    for idx, row in tqdm(test_df.iterrows(), total=len(test_df), desc=\"Processing images\"):\n",
        "        img_path = row['img_path']\n",
        "        img_name = os.path.basename(img_path)\n",
        "\n",
        "        # Run prediction\n",
        "        results = model.predict(img_path, device='cuda' if torch.cuda.is_available() else 'cpu')\n",
        "\n",
        "        # Read and convert image\n",
        "        image = cv2.imread(img_path)\n",
        "        image = cv2.cvtColor(image, cv2.COLOR_BGR2RGB)\n",
        "\n",
        "        # Store detection results\n",
        "        detections = []\n",
        "\n",
        "        # Draw bounding boxes and confidence scores\n",
        "        for result in results:\n",
        "            for box in result.boxes:\n",
        "                x1, y1, x2, y2 = map(int, box.xyxy[0])\n",
        "                confidence = float(box.conf[0])\n",
        "\n",
        "                # Draw rectangle and confidence score\n",
        "                cv2.rectangle(image, (x1, y1), (x2, y2), (0, 255, 0), 2)\n",
        "                cv2.putText(image, f'{confidence*100:.2f}%',\n",
        "                           (x1, y1 - 10),\n",
        "                           cv2.FONT_HERSHEY_SIMPLEX,\n",
        "                           0.9,\n",
        "                           (255, 0, 0),\n",
        "                           2)\n",
        "\n",
        "                detections.append({\n",
        "                    'bbox': [x1, y1, x2, y2],\n",
        "                    'confidence': confidence\n",
        "                })\n",
        "\n",
        "        # Save results\n",
        "        results_dict[img_name] = {\n",
        "            'detections': detections,\n",
        "            'original_path': img_path\n",
        "        }\n",
        "\n",
        "        # Save annotated image\n",
        "        plt.figure(figsize=(10, 10))\n",
        "        plt.imshow(image)\n",
        "        plt.axis('off')\n",
        "        plt.savefig(os.path.join(output_dir, f'annotated_{img_name}'),\n",
        "                   bbox_inches='tight',\n",
        "                   pad_inches=0)\n",
        "        plt.close()\n",
        "\n",
        "    return results_dict\n",
        "\n",
        "# Function to display summary statistics\n",
        "def display_detection_stats(results_dict):\n",
        "    \"\"\"\n",
        "    Display summary statistics for the batch predictions\n",
        "\n",
        "    Args:\n",
        "        results_dict: Dictionary containing detection results\n",
        "    \"\"\"\n",
        "    total_images = len(results_dict)\n",
        "    images_with_detections = sum(1 for v in results_dict.values() if v['detections'])\n",
        "    total_detections = sum(len(v['detections']) for v in results_dict.values())\n",
        "    avg_confidence = np.mean([d['confidence']\n",
        "                            for v in results_dict.values()\n",
        "                            for d in v['detections']]) if total_detections > 0 else 0\n",
        "\n",
        "    print(f\"Detection Summary:\")\n",
        "    print(f\"Total images processed: {total_images}\")\n",
        "    print(f\"Images with detections: {images_with_detections}\")\n",
        "    print(f\"Total license plates detected: {total_detections}\")\n",
        "    print(f\"Average confidence score: {avg_confidence*100:.2f}%\")\n",
        "\n",
        "# Usage example\n",
        "def run_batch_detection(model, test_df):\n",
        "    \"\"\"\n",
        "    Run the complete batch detection pipeline\n",
        "\n",
        "    Args:\n",
        "        model: Trained YOLO model\n",
        "        test_df: DataFrame containing test image paths\n",
        "    \"\"\"\n",
        "    print(\"Starting batch license plate detection...\")\n",
        "\n",
        "    # Run predictions on all images\n",
        "    results = batch_predict_and_save(model, test_df)\n",
        "\n",
        "    # Display statistics\n",
        "    display_detection_stats(results)\n",
        "\n",
        "    print(f\"\\nPredictions saved in 'predictions' directory\")\n",
        "    return results"
      ],
      "metadata": {
        "id": "7PWAwFFKcWrH"
      },
      "execution_count": 162,
      "outputs": []
    },
    {
      "cell_type": "code",
      "source": [
        "# Assign train to train_data\n",
        "train_data = train\n",
        "\n",
        "# Run batch prediction\n",
        "run_batch_detection(model=model, test_df=train_data)"
      ],
      "metadata": {
        "colab": {
          "base_uri": "https://localhost:8080/"
        },
        "id": "WjSx558DIafN",
        "outputId": "91a248e2-8451-4057-94e3-688e22c57e5c"
      },
      "execution_count": 165,
      "outputs": [
        {
          "output_type": "stream",
          "name": "stdout",
          "text": [
            "Starting batch license plate detection...\n"
          ]
        },
        {
          "output_type": "stream",
          "name": "stderr",
          "text": [
            "\rProcessing images:   0%|          | 0/345 [00:00<?, ?it/s]"
          ]
        },
        {
          "output_type": "stream",
          "name": "stdout",
          "text": [
            "\n",
            "image 1/1 /content/dataset/preprocessed_images/Cars124.png: 224x320 1 license_plate, 68.0ms\n",
            "Speed: 1.3ms preprocess, 68.0ms inference, 1.1ms postprocess per image at shape (1, 3, 224, 320)\n"
          ]
        },
        {
          "output_type": "stream",
          "name": "stderr",
          "text": [
            "\rProcessing images:   0%|          | 1/345 [00:00<02:13,  2.58it/s]"
          ]
        },
        {
          "output_type": "stream",
          "name": "stdout",
          "text": [
            "\n",
            "image 1/1 /content/dataset/preprocessed_images/Cars315.png: 256x320 1 license_plate, 66.8ms\n",
            "Speed: 1.1ms preprocess, 66.8ms inference, 1.0ms postprocess per image at shape (1, 3, 256, 320)\n"
          ]
        },
        {
          "output_type": "stream",
          "name": "stderr",
          "text": [
            "\rProcessing images:   1%|          | 2/345 [00:00<02:11,  2.61it/s]"
          ]
        },
        {
          "output_type": "stream",
          "name": "stdout",
          "text": [
            "\n",
            "image 1/1 /content/dataset/preprocessed_images/Cars282.png: 256x320 1 license_plate, 53.4ms\n",
            "Speed: 1.2ms preprocess, 53.4ms inference, 0.9ms postprocess per image at shape (1, 3, 256, 320)\n"
          ]
        },
        {
          "output_type": "stream",
          "name": "stderr",
          "text": [
            "\rProcessing images:   1%|          | 3/345 [00:01<02:13,  2.57it/s]"
          ]
        },
        {
          "output_type": "stream",
          "name": "stdout",
          "text": [
            "\n",
            "image 1/1 /content/dataset/preprocessed_images/Cars236.png: 160x320 1 license_plate, 44.1ms\n",
            "Speed: 0.8ms preprocess, 44.1ms inference, 0.9ms postprocess per image at shape (1, 3, 160, 320)\n"
          ]
        },
        {
          "output_type": "stream",
          "name": "stderr",
          "text": [
            "\rProcessing images:   1%|          | 4/345 [00:01<02:01,  2.80it/s]"
          ]
        },
        {
          "output_type": "stream",
          "name": "stdout",
          "text": [
            "\n",
            "image 1/1 /content/dataset/preprocessed_images/Cars112.png: 320x192 1 license_plate, 50.3ms\n",
            "Speed: 0.9ms preprocess, 50.3ms inference, 0.9ms postprocess per image at shape (1, 3, 320, 192)\n"
          ]
        },
        {
          "output_type": "stream",
          "name": "stderr",
          "text": [
            "\rProcessing images:   1%|▏         | 5/345 [00:01<01:59,  2.85it/s]"
          ]
        },
        {
          "output_type": "stream",
          "name": "stdout",
          "text": [
            "\n",
            "image 1/1 /content/dataset/preprocessed_images/Cars402.png: 192x320 1 license_plate, 43.8ms\n",
            "Speed: 0.9ms preprocess, 43.8ms inference, 0.9ms postprocess per image at shape (1, 3, 192, 320)\n"
          ]
        },
        {
          "output_type": "stream",
          "name": "stderr",
          "text": [
            "\rProcessing images:   2%|▏         | 6/345 [00:02<01:59,  2.84it/s]"
          ]
        },
        {
          "output_type": "stream",
          "name": "stdout",
          "text": [
            "\n",
            "image 1/1 /content/dataset/preprocessed_images/Cars105.png: 192x320 2 license_plates, 50.9ms\n",
            "Speed: 1.2ms preprocess, 50.9ms inference, 1.1ms postprocess per image at shape (1, 3, 192, 320)\n"
          ]
        },
        {
          "output_type": "stream",
          "name": "stderr",
          "text": [
            "\rProcessing images:   2%|▏         | 7/345 [00:02<01:52,  3.01it/s]"
          ]
        },
        {
          "output_type": "stream",
          "name": "stdout",
          "text": [
            "\n",
            "image 1/1 /content/dataset/preprocessed_images/Cars358.png: 160x320 2 license_plates, 27.3ms\n",
            "Speed: 0.7ms preprocess, 27.3ms inference, 0.7ms postprocess per image at shape (1, 3, 160, 320)\n"
          ]
        },
        {
          "output_type": "stream",
          "name": "stderr",
          "text": [
            "\rProcessing images:   2%|▏         | 8/345 [00:02<01:40,  3.36it/s]"
          ]
        },
        {
          "output_type": "stream",
          "name": "stdout",
          "text": [
            "\n",
            "image 1/1 /content/dataset/preprocessed_images/Cars180.png: 256x320 1 license_plate, 36.3ms\n",
            "Speed: 0.8ms preprocess, 36.3ms inference, 0.7ms postprocess per image at shape (1, 3, 256, 320)\n"
          ]
        },
        {
          "output_type": "stream",
          "name": "stderr",
          "text": [
            "\rProcessing images:   3%|▎         | 9/345 [00:02<01:35,  3.50it/s]"
          ]
        },
        {
          "output_type": "stream",
          "name": "stdout",
          "text": [
            "\n",
            "image 1/1 /content/dataset/preprocessed_images/Cars280.png: 224x320 1 license_plate, 31.0ms\n",
            "Speed: 0.7ms preprocess, 31.0ms inference, 0.7ms postprocess per image at shape (1, 3, 224, 320)\n"
          ]
        },
        {
          "output_type": "stream",
          "name": "stderr",
          "text": [
            "\rProcessing images:   3%|▎         | 10/345 [00:03<01:37,  3.44it/s]"
          ]
        },
        {
          "output_type": "stream",
          "name": "stdout",
          "text": [
            "\n",
            "image 1/1 /content/dataset/preprocessed_images/Cars265.png: 192x320 1 license_plate, 29.5ms\n",
            "Speed: 0.9ms preprocess, 29.5ms inference, 0.8ms postprocess per image at shape (1, 3, 192, 320)\n"
          ]
        },
        {
          "output_type": "stream",
          "name": "stderr",
          "text": [
            "\rProcessing images:   3%|▎         | 11/345 [00:03<01:30,  3.70it/s]"
          ]
        },
        {
          "output_type": "stream",
          "name": "stdout",
          "text": [
            "\n",
            "image 1/1 /content/dataset/preprocessed_images/Cars230.png: 192x320 1 license_plate, 30.1ms\n",
            "Speed: 0.6ms preprocess, 30.1ms inference, 0.7ms postprocess per image at shape (1, 3, 192, 320)\n"
          ]
        },
        {
          "output_type": "stream",
          "name": "stderr",
          "text": [
            "\rProcessing images:   3%|▎         | 12/345 [00:03<01:28,  3.77it/s]"
          ]
        },
        {
          "output_type": "stream",
          "name": "stdout",
          "text": [
            "\n",
            "image 1/1 /content/dataset/preprocessed_images/Cars386.png: 256x320 1 license_plate, 38.9ms\n",
            "Speed: 0.9ms preprocess, 38.9ms inference, 0.9ms postprocess per image at shape (1, 3, 256, 320)\n"
          ]
        },
        {
          "output_type": "stream",
          "name": "stderr",
          "text": [
            "\rProcessing images:   4%|▍         | 13/345 [00:03<01:28,  3.74it/s]"
          ]
        },
        {
          "output_type": "stream",
          "name": "stdout",
          "text": [
            "\n",
            "image 1/1 /content/dataset/preprocessed_images/Cars275.png: 192x320 1 license_plate, 32.9ms\n",
            "Speed: 0.6ms preprocess, 32.9ms inference, 0.7ms postprocess per image at shape (1, 3, 192, 320)\n"
          ]
        },
        {
          "output_type": "stream",
          "name": "stderr",
          "text": [
            "\rProcessing images:   4%|▍         | 14/345 [00:04<01:25,  3.87it/s]"
          ]
        },
        {
          "output_type": "stream",
          "name": "stdout",
          "text": [
            "\n",
            "image 1/1 /content/dataset/preprocessed_images/Cars424.png: 256x320 1 license_plate, 35.6ms\n",
            "Speed: 0.8ms preprocess, 35.6ms inference, 0.7ms postprocess per image at shape (1, 3, 256, 320)\n"
          ]
        },
        {
          "output_type": "stream",
          "name": "stderr",
          "text": [
            "\rProcessing images:   4%|▍         | 15/345 [00:04<01:26,  3.84it/s]"
          ]
        },
        {
          "output_type": "stream",
          "name": "stdout",
          "text": [
            "\n",
            "image 1/1 /content/dataset/preprocessed_images/Cars11.png: 256x320 1 license_plate, 33.6ms\n",
            "Speed: 0.8ms preprocess, 33.6ms inference, 0.6ms postprocess per image at shape (1, 3, 256, 320)\n"
          ]
        },
        {
          "output_type": "stream",
          "name": "stderr",
          "text": [
            "\rProcessing images:   5%|▍         | 16/345 [00:04<01:26,  3.79it/s]"
          ]
        },
        {
          "output_type": "stream",
          "name": "stdout",
          "text": [
            "\n",
            "image 1/1 /content/dataset/preprocessed_images/Cars390.png: 256x320 1 license_plate, 34.3ms\n",
            "Speed: 0.9ms preprocess, 34.3ms inference, 0.7ms postprocess per image at shape (1, 3, 256, 320)\n"
          ]
        },
        {
          "output_type": "stream",
          "name": "stderr",
          "text": [
            "\rProcessing images:   5%|▍         | 17/345 [00:05<01:26,  3.79it/s]"
          ]
        },
        {
          "output_type": "stream",
          "name": "stdout",
          "text": [
            "\n",
            "image 1/1 /content/dataset/preprocessed_images/Cars51.png: 224x320 1 license_plate, 32.8ms\n",
            "Speed: 0.7ms preprocess, 32.8ms inference, 0.7ms postprocess per image at shape (1, 3, 224, 320)\n"
          ]
        },
        {
          "output_type": "stream",
          "name": "stderr",
          "text": [
            "\rProcessing images:   5%|▌         | 18/345 [00:05<01:25,  3.83it/s]"
          ]
        },
        {
          "output_type": "stream",
          "name": "stdout",
          "text": [
            "\n",
            "image 1/1 /content/dataset/preprocessed_images/Cars309.png: 192x320 1 license_plate, 28.8ms\n",
            "Speed: 2.0ms preprocess, 28.8ms inference, 0.7ms postprocess per image at shape (1, 3, 192, 320)\n"
          ]
        },
        {
          "output_type": "stream",
          "name": "stderr",
          "text": [
            "\rProcessing images:   6%|▌         | 19/345 [00:05<01:21,  4.01it/s]"
          ]
        },
        {
          "output_type": "stream",
          "name": "stdout",
          "text": [
            "\n",
            "image 1/1 /content/dataset/preprocessed_images/Cars226.png: 224x320 1 license_plate, 33.6ms\n",
            "Speed: 0.7ms preprocess, 33.6ms inference, 0.7ms postprocess per image at shape (1, 3, 224, 320)\n"
          ]
        },
        {
          "output_type": "stream",
          "name": "stderr",
          "text": [
            "\rProcessing images:   6%|▌         | 20/345 [00:05<01:21,  3.97it/s]"
          ]
        },
        {
          "output_type": "stream",
          "name": "stdout",
          "text": [
            "\n",
            "image 1/1 /content/dataset/preprocessed_images/Cars273.png: 192x320 1 license_plate, 29.0ms\n",
            "Speed: 0.7ms preprocess, 29.0ms inference, 0.7ms postprocess per image at shape (1, 3, 192, 320)\n"
          ]
        },
        {
          "output_type": "stream",
          "name": "stderr",
          "text": [
            "\rProcessing images:   6%|▌         | 21/345 [00:06<01:20,  4.02it/s]"
          ]
        },
        {
          "output_type": "stream",
          "name": "stdout",
          "text": [
            "\n",
            "image 1/1 /content/dataset/preprocessed_images/Cars380.png: 192x320 1 license_plate, 27.5ms\n",
            "Speed: 0.9ms preprocess, 27.5ms inference, 0.7ms postprocess per image at shape (1, 3, 192, 320)\n"
          ]
        },
        {
          "output_type": "stream",
          "name": "stderr",
          "text": [
            "\rProcessing images:   6%|▋         | 22/345 [00:06<01:18,  4.12it/s]"
          ]
        },
        {
          "output_type": "stream",
          "name": "stdout",
          "text": [
            "\n",
            "image 1/1 /content/dataset/preprocessed_images/Cars31.png: 224x320 1 license_plate, 32.1ms\n",
            "Speed: 1.3ms preprocess, 32.1ms inference, 0.6ms postprocess per image at shape (1, 3, 224, 320)\n"
          ]
        },
        {
          "output_type": "stream",
          "name": "stderr",
          "text": [
            "\rProcessing images:   7%|▋         | 23/345 [00:06<01:17,  4.14it/s]"
          ]
        },
        {
          "output_type": "stream",
          "name": "stdout",
          "text": [
            "\n",
            "image 1/1 /content/dataset/preprocessed_images/Cars418.png: 192x320 1 license_plate, 31.7ms\n",
            "Speed: 0.6ms preprocess, 31.7ms inference, 0.7ms postprocess per image at shape (1, 3, 192, 320)\n"
          ]
        },
        {
          "output_type": "stream",
          "name": "stderr",
          "text": [
            "\rProcessing images:   7%|▋         | 24/345 [00:06<01:16,  4.22it/s]"
          ]
        },
        {
          "output_type": "stream",
          "name": "stdout",
          "text": [
            "\n",
            "image 1/1 /content/dataset/preprocessed_images/Cars257.png: 256x320 1 license_plate, 33.7ms\n",
            "Speed: 0.8ms preprocess, 33.7ms inference, 0.7ms postprocess per image at shape (1, 3, 256, 320)\n"
          ]
        },
        {
          "output_type": "stream",
          "name": "stderr",
          "text": [
            "\rProcessing images:   7%|▋         | 25/345 [00:06<01:18,  4.10it/s]"
          ]
        },
        {
          "output_type": "stream",
          "name": "stdout",
          "text": [
            "\n",
            "image 1/1 /content/dataset/preprocessed_images/Cars92.png: 224x320 1 license_plate, 32.0ms\n",
            "Speed: 1.0ms preprocess, 32.0ms inference, 0.7ms postprocess per image at shape (1, 3, 224, 320)\n"
          ]
        },
        {
          "output_type": "stream",
          "name": "stderr",
          "text": [
            "\rProcessing images:   8%|▊         | 26/345 [00:07<01:19,  4.02it/s]"
          ]
        },
        {
          "output_type": "stream",
          "name": "stdout",
          "text": [
            "\n",
            "image 1/1 /content/dataset/preprocessed_images/Cars344.png: 224x320 1 license_plate, 33.8ms\n",
            "Speed: 1.0ms preprocess, 33.8ms inference, 0.7ms postprocess per image at shape (1, 3, 224, 320)\n"
          ]
        },
        {
          "output_type": "stream",
          "name": "stderr",
          "text": [
            "\rProcessing images:   8%|▊         | 27/345 [00:07<01:20,  3.97it/s]"
          ]
        },
        {
          "output_type": "stream",
          "name": "stdout",
          "text": [
            "\n",
            "image 1/1 /content/dataset/preprocessed_images/Cars26.png: 192x320 1 license_plate, 29.1ms\n",
            "Speed: 0.7ms preprocess, 29.1ms inference, 0.7ms postprocess per image at shape (1, 3, 192, 320)\n"
          ]
        },
        {
          "output_type": "stream",
          "name": "stderr",
          "text": [
            "\rProcessing images:   8%|▊         | 28/345 [00:07<01:18,  4.06it/s]"
          ]
        },
        {
          "output_type": "stream",
          "name": "stdout",
          "text": [
            "\n",
            "image 1/1 /content/dataset/preprocessed_images/Cars157.png: 224x320 2 license_plates, 33.6ms\n",
            "Speed: 0.9ms preprocess, 33.6ms inference, 0.7ms postprocess per image at shape (1, 3, 224, 320)\n"
          ]
        },
        {
          "output_type": "stream",
          "name": "stderr",
          "text": [
            "\rProcessing images:   8%|▊         | 29/345 [00:07<01:18,  4.03it/s]"
          ]
        },
        {
          "output_type": "stream",
          "name": "stdout",
          "text": [
            "\n",
            "image 1/1 /content/dataset/preprocessed_images/Cars76.png: 256x320 1 license_plate, 48.3ms\n",
            "Speed: 1.2ms preprocess, 48.3ms inference, 0.7ms postprocess per image at shape (1, 3, 256, 320)\n"
          ]
        },
        {
          "output_type": "stream",
          "name": "stderr",
          "text": [
            "\rProcessing images:   9%|▊         | 30/345 [00:08<01:21,  3.85it/s]"
          ]
        },
        {
          "output_type": "stream",
          "name": "stdout",
          "text": [
            "\n",
            "image 1/1 /content/dataset/preprocessed_images/Cars79.png: 288x320 1 license_plate, 41.8ms\n",
            "Speed: 1.0ms preprocess, 41.8ms inference, 0.7ms postprocess per image at shape (1, 3, 288, 320)\n"
          ]
        },
        {
          "output_type": "stream",
          "name": "stderr",
          "text": [
            "\rProcessing images:   9%|▉         | 31/345 [00:08<01:25,  3.66it/s]"
          ]
        },
        {
          "output_type": "stream",
          "name": "stdout",
          "text": [
            "\n",
            "image 1/1 /content/dataset/preprocessed_images/Cars427.png: 256x320 1 license_plate, 33.1ms\n",
            "Speed: 1.0ms preprocess, 33.1ms inference, 0.7ms postprocess per image at shape (1, 3, 256, 320)\n"
          ]
        },
        {
          "output_type": "stream",
          "name": "stderr",
          "text": [
            "\rProcessing images:   9%|▉         | 32/345 [00:08<01:25,  3.67it/s]"
          ]
        },
        {
          "output_type": "stream",
          "name": "stdout",
          "text": [
            "\n",
            "image 1/1 /content/dataset/preprocessed_images/Cars74.png: 224x320 1 license_plate, 31.1ms\n",
            "Speed: 0.8ms preprocess, 31.1ms inference, 0.7ms postprocess per image at shape (1, 3, 224, 320)\n"
          ]
        },
        {
          "output_type": "stream",
          "name": "stderr",
          "text": [
            "\rProcessing images:  10%|▉         | 33/345 [00:09<01:23,  3.76it/s]"
          ]
        },
        {
          "output_type": "stream",
          "name": "stdout",
          "text": [
            "\n",
            "image 1/1 /content/dataset/preprocessed_images/Cars41.png: 320x256 1 license_plate, 34.1ms\n",
            "Speed: 0.9ms preprocess, 34.1ms inference, 0.7ms postprocess per image at shape (1, 3, 320, 256)\n"
          ]
        },
        {
          "output_type": "stream",
          "name": "stderr",
          "text": [
            "\rProcessing images:  10%|▉         | 34/345 [00:09<01:23,  3.73it/s]"
          ]
        },
        {
          "output_type": "stream",
          "name": "stdout",
          "text": [
            "\n",
            "image 1/1 /content/dataset/preprocessed_images/Cars310.png: 288x320 1 license_plate, 40.8ms\n",
            "Speed: 0.9ms preprocess, 40.8ms inference, 0.6ms postprocess per image at shape (1, 3, 288, 320)\n"
          ]
        },
        {
          "output_type": "stream",
          "name": "stderr",
          "text": [
            "\rProcessing images:  10%|█         | 35/345 [00:09<01:26,  3.59it/s]"
          ]
        },
        {
          "output_type": "stream",
          "name": "stdout",
          "text": [
            "\n",
            "image 1/1 /content/dataset/preprocessed_images/Cars242.png: 320x320 1 license_plate, 38.0ms\n",
            "Speed: 1.6ms preprocess, 38.0ms inference, 0.7ms postprocess per image at shape (1, 3, 320, 320)\n"
          ]
        },
        {
          "output_type": "stream",
          "name": "stderr",
          "text": [
            "\rProcessing images:  10%|█         | 36/345 [00:09<01:29,  3.46it/s]"
          ]
        },
        {
          "output_type": "stream",
          "name": "stdout",
          "text": [
            "\n",
            "image 1/1 /content/dataset/preprocessed_images/Cars406.png: 224x320 1 license_plate, 32.0ms\n",
            "Speed: 0.9ms preprocess, 32.0ms inference, 0.8ms postprocess per image at shape (1, 3, 224, 320)\n"
          ]
        },
        {
          "output_type": "stream",
          "name": "stderr",
          "text": [
            "\rProcessing images:  11%|█         | 37/345 [00:10<01:26,  3.58it/s]"
          ]
        },
        {
          "output_type": "stream",
          "name": "stdout",
          "text": [
            "\n",
            "image 1/1 /content/dataset/preprocessed_images/Cars145.png: 224x320 1 license_plate, 30.9ms\n",
            "Speed: 0.9ms preprocess, 30.9ms inference, 0.7ms postprocess per image at shape (1, 3, 224, 320)\n"
          ]
        },
        {
          "output_type": "stream",
          "name": "stderr",
          "text": [
            "\rProcessing images:  11%|█         | 38/345 [00:10<01:23,  3.70it/s]"
          ]
        },
        {
          "output_type": "stream",
          "name": "stdout",
          "text": [
            "\n",
            "image 1/1 /content/dataset/preprocessed_images/Cars189.png: 224x320 1 license_plate, 33.5ms\n",
            "Speed: 0.8ms preprocess, 33.5ms inference, 0.7ms postprocess per image at shape (1, 3, 224, 320)\n"
          ]
        },
        {
          "output_type": "stream",
          "name": "stderr",
          "text": [
            "\rProcessing images:  11%|█▏        | 39/345 [00:10<01:21,  3.77it/s]"
          ]
        },
        {
          "output_type": "stream",
          "name": "stdout",
          "text": [
            "\n",
            "image 1/1 /content/dataset/preprocessed_images/Cars291.png: 192x320 1 license_plate, 27.3ms\n",
            "Speed: 1.1ms preprocess, 27.3ms inference, 0.6ms postprocess per image at shape (1, 3, 192, 320)\n"
          ]
        },
        {
          "output_type": "stream",
          "name": "stderr",
          "text": [
            "\rProcessing images:  12%|█▏        | 40/345 [00:10<01:18,  3.88it/s]"
          ]
        },
        {
          "output_type": "stream",
          "name": "stdout",
          "text": [
            "\n",
            "image 1/1 /content/dataset/preprocessed_images/Cars176.png: 224x320 1 license_plate, 32.8ms\n",
            "Speed: 1.1ms preprocess, 32.8ms inference, 0.8ms postprocess per image at shape (1, 3, 224, 320)\n"
          ]
        },
        {
          "output_type": "stream",
          "name": "stderr",
          "text": [
            "\rProcessing images:  12%|█▏        | 41/345 [00:11<01:16,  3.95it/s]"
          ]
        },
        {
          "output_type": "stream",
          "name": "stdout",
          "text": [
            "\n",
            "image 1/1 /content/dataset/preprocessed_images/Cars232.png: 256x320 1 license_plate, 32.4ms\n",
            "Speed: 0.8ms preprocess, 32.4ms inference, 0.7ms postprocess per image at shape (1, 3, 256, 320)\n"
          ]
        },
        {
          "output_type": "stream",
          "name": "stderr",
          "text": [
            "\rProcessing images:  12%|█▏        | 42/345 [00:11<01:16,  3.95it/s]"
          ]
        },
        {
          "output_type": "stream",
          "name": "stdout",
          "text": [
            "\n",
            "image 1/1 /content/dataset/preprocessed_images/Cars381.png: 192x320 1 license_plate, 28.0ms\n",
            "Speed: 0.8ms preprocess, 28.0ms inference, 0.7ms postprocess per image at shape (1, 3, 192, 320)\n"
          ]
        },
        {
          "output_type": "stream",
          "name": "stderr",
          "text": [
            "\rProcessing images:  12%|█▏        | 43/345 [00:11<01:14,  4.08it/s]"
          ]
        },
        {
          "output_type": "stream",
          "name": "stdout",
          "text": [
            "\n",
            "image 1/1 /content/dataset/preprocessed_images/Cars222.png: 192x320 1 license_plate, 26.5ms\n",
            "Speed: 0.9ms preprocess, 26.5ms inference, 0.7ms postprocess per image at shape (1, 3, 192, 320)\n"
          ]
        },
        {
          "output_type": "stream",
          "name": "stderr",
          "text": [
            "\rProcessing images:  13%|█▎        | 44/345 [00:11<01:11,  4.19it/s]"
          ]
        },
        {
          "output_type": "stream",
          "name": "stdout",
          "text": [
            "\n",
            "image 1/1 /content/dataset/preprocessed_images/Cars44.png: 256x320 1 license_plate, 35.8ms\n",
            "Speed: 0.9ms preprocess, 35.8ms inference, 0.8ms postprocess per image at shape (1, 3, 256, 320)\n"
          ]
        },
        {
          "output_type": "stream",
          "name": "stderr",
          "text": [
            "\rProcessing images:  13%|█▎        | 45/345 [00:12<01:15,  3.98it/s]"
          ]
        },
        {
          "output_type": "stream",
          "name": "stdout",
          "text": [
            "\n",
            "image 1/1 /content/dataset/preprocessed_images/Cars313.png: 256x320 1 license_plate, 34.4ms\n",
            "Speed: 1.0ms preprocess, 34.4ms inference, 0.7ms postprocess per image at shape (1, 3, 256, 320)\n"
          ]
        },
        {
          "output_type": "stream",
          "name": "stderr",
          "text": [
            "\rProcessing images:  13%|█▎        | 46/345 [00:12<01:20,  3.72it/s]"
          ]
        },
        {
          "output_type": "stream",
          "name": "stdout",
          "text": [
            "\n",
            "image 1/1 /content/dataset/preprocessed_images/Cars296.png: 256x320 1 license_plate, 52.2ms\n",
            "Speed: 1.3ms preprocess, 52.2ms inference, 1.0ms postprocess per image at shape (1, 3, 256, 320)\n"
          ]
        },
        {
          "output_type": "stream",
          "name": "stderr",
          "text": [
            "\rProcessing images:  14%|█▎        | 47/345 [00:12<01:33,  3.20it/s]"
          ]
        },
        {
          "output_type": "stream",
          "name": "stdout",
          "text": [
            "\n",
            "image 1/1 /content/dataset/preprocessed_images/Cars303.png: 256x320 1 license_plate, 52.1ms\n",
            "Speed: 1.4ms preprocess, 52.1ms inference, 0.9ms postprocess per image at shape (1, 3, 256, 320)\n"
          ]
        },
        {
          "output_type": "stream",
          "name": "stderr",
          "text": [
            "\rProcessing images:  14%|█▍        | 48/345 [00:13<01:40,  2.96it/s]"
          ]
        },
        {
          "output_type": "stream",
          "name": "stdout",
          "text": [
            "\n",
            "image 1/1 /content/dataset/preprocessed_images/Cars301.png: 160x320 1 license_plate, 37.1ms\n",
            "Speed: 0.8ms preprocess, 37.1ms inference, 0.8ms postprocess per image at shape (1, 3, 160, 320)\n"
          ]
        },
        {
          "output_type": "stream",
          "name": "stderr",
          "text": [
            "\rProcessing images:  14%|█▍        | 49/345 [00:13<01:36,  3.06it/s]"
          ]
        },
        {
          "output_type": "stream",
          "name": "stdout",
          "text": [
            "\n",
            "image 1/1 /content/dataset/preprocessed_images/Cars379.png: 288x320 1 license_plate, 56.5ms\n",
            "Speed: 1.2ms preprocess, 56.5ms inference, 1.9ms postprocess per image at shape (1, 3, 288, 320)\n"
          ]
        },
        {
          "output_type": "stream",
          "name": "stderr",
          "text": [
            "\rProcessing images:  14%|█▍        | 50/345 [00:14<01:45,  2.81it/s]"
          ]
        },
        {
          "output_type": "stream",
          "name": "stdout",
          "text": [
            "\n",
            "image 1/1 /content/dataset/preprocessed_images/Cars350.png: 224x320 1 license_plate, 52.7ms\n",
            "Speed: 1.1ms preprocess, 52.7ms inference, 0.9ms postprocess per image at shape (1, 3, 224, 320)\n"
          ]
        },
        {
          "output_type": "stream",
          "name": "stderr",
          "text": [
            "\rProcessing images:  15%|█▍        | 51/345 [00:14<01:42,  2.86it/s]"
          ]
        },
        {
          "output_type": "stream",
          "name": "stdout",
          "text": [
            "\n",
            "image 1/1 /content/dataset/preprocessed_images/Cars361.png: 256x320 1 license_plate, 48.1ms\n",
            "Speed: 1.1ms preprocess, 48.1ms inference, 0.9ms postprocess per image at shape (1, 3, 256, 320)\n"
          ]
        },
        {
          "output_type": "stream",
          "name": "stderr",
          "text": [
            "\rProcessing images:  15%|█▌        | 52/345 [00:14<01:42,  2.85it/s]"
          ]
        },
        {
          "output_type": "stream",
          "name": "stdout",
          "text": [
            "\n",
            "image 1/1 /content/dataset/preprocessed_images/Cars137.png: 224x320 1 license_plate, 43.8ms\n",
            "Speed: 1.1ms preprocess, 43.8ms inference, 0.8ms postprocess per image at shape (1, 3, 224, 320)\n"
          ]
        },
        {
          "output_type": "stream",
          "name": "stderr",
          "text": [
            "\rProcessing images:  15%|█▌        | 53/345 [00:15<01:41,  2.88it/s]"
          ]
        },
        {
          "output_type": "stream",
          "name": "stdout",
          "text": [
            "\n",
            "image 1/1 /content/dataset/preprocessed_images/Cars248.png: 256x320 1 license_plate, 52.7ms\n",
            "Speed: 1.2ms preprocess, 52.7ms inference, 1.1ms postprocess per image at shape (1, 3, 256, 320)\n"
          ]
        },
        {
          "output_type": "stream",
          "name": "stderr",
          "text": [
            "\rProcessing images:  16%|█▌        | 54/345 [00:15<01:43,  2.80it/s]"
          ]
        },
        {
          "output_type": "stream",
          "name": "stdout",
          "text": [
            "\n",
            "image 1/1 /content/dataset/preprocessed_images/Cars239.png: 256x320 1 license_plate, 53.0ms\n",
            "Speed: 1.3ms preprocess, 53.0ms inference, 0.9ms postprocess per image at shape (1, 3, 256, 320)\n"
          ]
        },
        {
          "output_type": "stream",
          "name": "stderr",
          "text": [
            "\rProcessing images:  16%|█▌        | 55/345 [00:15<01:46,  2.74it/s]"
          ]
        },
        {
          "output_type": "stream",
          "name": "stdout",
          "text": [
            "\n",
            "image 1/1 /content/dataset/preprocessed_images/Cars90.png: 256x320 1 license_plate, 54.3ms\n",
            "Speed: 1.3ms preprocess, 54.3ms inference, 1.0ms postprocess per image at shape (1, 3, 256, 320)\n"
          ]
        },
        {
          "output_type": "stream",
          "name": "stderr",
          "text": [
            "\rProcessing images:  16%|█▌        | 56/345 [00:16<01:51,  2.59it/s]"
          ]
        },
        {
          "output_type": "stream",
          "name": "stdout",
          "text": [
            "\n",
            "image 1/1 /content/dataset/preprocessed_images/Cars256.png: 224x320 1 license_plate, 51.1ms\n",
            "Speed: 2.3ms preprocess, 51.1ms inference, 0.9ms postprocess per image at shape (1, 3, 224, 320)\n"
          ]
        },
        {
          "output_type": "stream",
          "name": "stderr",
          "text": [
            "\rProcessing images:  17%|█▋        | 57/345 [00:16<01:47,  2.68it/s]"
          ]
        },
        {
          "output_type": "stream",
          "name": "stdout",
          "text": [
            "\n",
            "image 1/1 /content/dataset/preprocessed_images/Cars359.png: 256x320 1 license_plate, 51.8ms\n",
            "Speed: 1.1ms preprocess, 51.8ms inference, 0.9ms postprocess per image at shape (1, 3, 256, 320)\n"
          ]
        },
        {
          "output_type": "stream",
          "name": "stderr",
          "text": [
            "\rProcessing images:  17%|█▋        | 58/345 [00:16<01:47,  2.67it/s]"
          ]
        },
        {
          "output_type": "stream",
          "name": "stdout",
          "text": [
            "\n",
            "image 1/1 /content/dataset/preprocessed_images/Cars88.png: 256x320 1 license_plate, 53.9ms\n",
            "Speed: 1.1ms preprocess, 53.9ms inference, 4.0ms postprocess per image at shape (1, 3, 256, 320)\n"
          ]
        },
        {
          "output_type": "stream",
          "name": "stderr",
          "text": [
            "\rProcessing images:  17%|█▋        | 59/345 [00:17<01:49,  2.61it/s]"
          ]
        },
        {
          "output_type": "stream",
          "name": "stdout",
          "text": [
            "\n",
            "image 1/1 /content/dataset/preprocessed_images/Cars205.png: 320x320 2 license_plates, 56.4ms\n",
            "Speed: 1.4ms preprocess, 56.4ms inference, 0.8ms postprocess per image at shape (1, 3, 320, 320)\n"
          ]
        },
        {
          "output_type": "stream",
          "name": "stderr",
          "text": [
            "\rProcessing images:  17%|█▋        | 60/345 [00:17<01:55,  2.46it/s]"
          ]
        },
        {
          "output_type": "stream",
          "name": "stdout",
          "text": [
            "\n",
            "image 1/1 /content/dataset/preprocessed_images/Cars314.png: 192x320 1 license_plate, 44.6ms\n",
            "Speed: 0.9ms preprocess, 44.6ms inference, 0.9ms postprocess per image at shape (1, 3, 192, 320)\n"
          ]
        },
        {
          "output_type": "stream",
          "name": "stderr",
          "text": [
            "\rProcessing images:  18%|█▊        | 61/345 [00:18<01:50,  2.57it/s]"
          ]
        },
        {
          "output_type": "stream",
          "name": "stdout",
          "text": [
            "\n",
            "image 1/1 /content/dataset/preprocessed_images/Cars162.png: 192x320 1 license_plate, 42.8ms\n",
            "Speed: 1.0ms preprocess, 42.8ms inference, 0.9ms postprocess per image at shape (1, 3, 192, 320)\n"
          ]
        },
        {
          "output_type": "stream",
          "name": "stderr",
          "text": [
            "\rProcessing images:  18%|█▊        | 62/345 [00:18<01:46,  2.67it/s]"
          ]
        },
        {
          "output_type": "stream",
          "name": "stdout",
          "text": [
            "\n",
            "image 1/1 /content/dataset/preprocessed_images/Cars99.png: 320x256 1 license_plate, 52.6ms\n",
            "Speed: 1.2ms preprocess, 52.6ms inference, 1.1ms postprocess per image at shape (1, 3, 320, 256)\n"
          ]
        },
        {
          "output_type": "stream",
          "name": "stderr",
          "text": [
            "\rProcessing images:  18%|█▊        | 63/345 [00:18<01:49,  2.58it/s]"
          ]
        },
        {
          "output_type": "stream",
          "name": "stdout",
          "text": [
            "\n",
            "image 1/1 /content/dataset/preprocessed_images/Cars64.png: 224x320 1 license_plate, 52.6ms\n",
            "Speed: 1.2ms preprocess, 52.6ms inference, 1.0ms postprocess per image at shape (1, 3, 224, 320)\n"
          ]
        },
        {
          "output_type": "stream",
          "name": "stderr",
          "text": [
            "\rProcessing images:  19%|█▊        | 64/345 [00:19<01:49,  2.56it/s]"
          ]
        },
        {
          "output_type": "stream",
          "name": "stdout",
          "text": [
            "\n",
            "image 1/1 /content/dataset/preprocessed_images/Cars16.png: 192x320 (no detections), 47.2ms\n",
            "Speed: 5.5ms preprocess, 47.2ms inference, 0.6ms postprocess per image at shape (1, 3, 192, 320)\n"
          ]
        },
        {
          "output_type": "stream",
          "name": "stderr",
          "text": [
            "\rProcessing images:  19%|█▉        | 65/345 [00:19<01:44,  2.69it/s]"
          ]
        },
        {
          "output_type": "stream",
          "name": "stdout",
          "text": [
            "\n",
            "image 1/1 /content/dataset/preprocessed_images/Cars7.png: 224x320 1 license_plate, 48.8ms\n",
            "Speed: 1.1ms preprocess, 48.8ms inference, 1.0ms postprocess per image at shape (1, 3, 224, 320)\n"
          ]
        },
        {
          "output_type": "stream",
          "name": "stderr",
          "text": [
            "\rProcessing images:  19%|█▉        | 66/345 [00:20<01:46,  2.62it/s]"
          ]
        },
        {
          "output_type": "stream",
          "name": "stdout",
          "text": [
            "\n",
            "image 1/1 /content/dataset/preprocessed_images/Cars191.png: 224x320 1 license_plate, 53.6ms\n",
            "Speed: 1.2ms preprocess, 53.6ms inference, 1.0ms postprocess per image at shape (1, 3, 224, 320)\n"
          ]
        },
        {
          "output_type": "stream",
          "name": "stderr",
          "text": [
            "\rProcessing images:  19%|█▉        | 67/345 [00:20<01:46,  2.62it/s]"
          ]
        },
        {
          "output_type": "stream",
          "name": "stdout",
          "text": [
            "\n",
            "image 1/1 /content/dataset/preprocessed_images/Cars6.png: 256x320 1 license_plate, 52.4ms\n",
            "Speed: 1.2ms preprocess, 52.4ms inference, 0.9ms postprocess per image at shape (1, 3, 256, 320)\n"
          ]
        },
        {
          "output_type": "stream",
          "name": "stderr",
          "text": [
            "\rProcessing images:  20%|█▉        | 68/345 [00:20<01:47,  2.58it/s]"
          ]
        },
        {
          "output_type": "stream",
          "name": "stdout",
          "text": [
            "\n",
            "image 1/1 /content/dataset/preprocessed_images/Cars142.png: 160x320 1 license_plate, 39.2ms\n",
            "Speed: 0.8ms preprocess, 39.2ms inference, 0.9ms postprocess per image at shape (1, 3, 160, 320)\n"
          ]
        },
        {
          "output_type": "stream",
          "name": "stderr",
          "text": [
            "\rProcessing images:  20%|██        | 69/345 [00:21<01:41,  2.71it/s]"
          ]
        },
        {
          "output_type": "stream",
          "name": "stdout",
          "text": [
            "\n",
            "image 1/1 /content/dataset/preprocessed_images/Cars179.png: 224x320 1 license_plate, 54.6ms\n",
            "Speed: 1.2ms preprocess, 54.6ms inference, 0.9ms postprocess per image at shape (1, 3, 224, 320)\n"
          ]
        },
        {
          "output_type": "stream",
          "name": "stderr",
          "text": [
            "\rProcessing images:  20%|██        | 70/345 [00:21<01:42,  2.69it/s]"
          ]
        },
        {
          "output_type": "stream",
          "name": "stdout",
          "text": [
            "\n",
            "image 1/1 /content/dataset/preprocessed_images/Cars209.png: 256x320 1 license_plate, 52.6ms\n",
            "Speed: 1.1ms preprocess, 52.6ms inference, 1.0ms postprocess per image at shape (1, 3, 256, 320)\n"
          ]
        },
        {
          "output_type": "stream",
          "name": "stderr",
          "text": [
            "\rProcessing images:  21%|██        | 71/345 [00:21<01:41,  2.70it/s]"
          ]
        },
        {
          "output_type": "stream",
          "name": "stdout",
          "text": [
            "\n",
            "image 1/1 /content/dataset/preprocessed_images/Cars285.png: 224x320 1 license_plate, 50.2ms\n",
            "Speed: 1.1ms preprocess, 50.2ms inference, 0.9ms postprocess per image at shape (1, 3, 224, 320)\n"
          ]
        },
        {
          "output_type": "stream",
          "name": "stderr",
          "text": [
            "\rProcessing images:  21%|██        | 72/345 [00:22<01:34,  2.89it/s]"
          ]
        },
        {
          "output_type": "stream",
          "name": "stdout",
          "text": [
            "\n",
            "image 1/1 /content/dataset/preprocessed_images/Cars300.png: 192x320 1 license_plate, 30.5ms\n",
            "Speed: 1.1ms preprocess, 30.5ms inference, 0.7ms postprocess per image at shape (1, 3, 192, 320)\n"
          ]
        },
        {
          "output_type": "stream",
          "name": "stderr",
          "text": [
            "\rProcessing images:  21%|██        | 73/345 [00:22<01:24,  3.20it/s]"
          ]
        },
        {
          "output_type": "stream",
          "name": "stdout",
          "text": [
            "\n",
            "image 1/1 /content/dataset/preprocessed_images/Cars153.png: 192x320 1 license_plate, 29.3ms\n",
            "Speed: 1.0ms preprocess, 29.3ms inference, 0.8ms postprocess per image at shape (1, 3, 192, 320)\n"
          ]
        },
        {
          "output_type": "stream",
          "name": "stderr",
          "text": [
            "\rProcessing images:  21%|██▏       | 74/345 [00:22<01:17,  3.49it/s]"
          ]
        },
        {
          "output_type": "stream",
          "name": "stdout",
          "text": [
            "\n",
            "image 1/1 /content/dataset/preprocessed_images/Cars121.png: 256x320 1 license_plate, 33.9ms\n",
            "Speed: 0.7ms preprocess, 33.9ms inference, 0.6ms postprocess per image at shape (1, 3, 256, 320)\n"
          ]
        },
        {
          "output_type": "stream",
          "name": "stderr",
          "text": [
            "\rProcessing images:  22%|██▏       | 75/345 [00:22<01:15,  3.58it/s]"
          ]
        },
        {
          "output_type": "stream",
          "name": "stdout",
          "text": [
            "\n",
            "image 1/1 /content/dataset/preprocessed_images/Cars166.png: 320x256 1 license_plate, 33.3ms\n",
            "Speed: 0.7ms preprocess, 33.3ms inference, 0.7ms postprocess per image at shape (1, 3, 320, 256)\n"
          ]
        },
        {
          "output_type": "stream",
          "name": "stderr",
          "text": [
            "\rProcessing images:  22%|██▏       | 76/345 [00:23<01:14,  3.62it/s]"
          ]
        },
        {
          "output_type": "stream",
          "name": "stdout",
          "text": [
            "\n",
            "image 1/1 /content/dataset/preprocessed_images/Cars61.png: 256x320 1 license_plate, 42.0ms\n",
            "Speed: 1.4ms preprocess, 42.0ms inference, 0.7ms postprocess per image at shape (1, 3, 256, 320)\n"
          ]
        },
        {
          "output_type": "stream",
          "name": "stderr",
          "text": [
            "\rProcessing images:  22%|██▏       | 77/345 [00:23<01:15,  3.57it/s]"
          ]
        },
        {
          "output_type": "stream",
          "name": "stdout",
          "text": [
            "\n",
            "image 1/1 /content/dataset/preprocessed_images/Cars62.png: 256x320 1 license_plate, 36.1ms\n",
            "Speed: 1.2ms preprocess, 36.1ms inference, 0.9ms postprocess per image at shape (1, 3, 256, 320)\n"
          ]
        },
        {
          "output_type": "stream",
          "name": "stderr",
          "text": [
            "\rProcessing images:  23%|██▎       | 78/345 [00:23<01:14,  3.61it/s]"
          ]
        },
        {
          "output_type": "stream",
          "name": "stdout",
          "text": [
            "\n",
            "image 1/1 /content/dataset/preprocessed_images/Cars252.png: 256x320 1 license_plate, 34.4ms\n",
            "Speed: 0.9ms preprocess, 34.4ms inference, 0.7ms postprocess per image at shape (1, 3, 256, 320)\n"
          ]
        },
        {
          "output_type": "stream",
          "name": "stderr",
          "text": [
            "\rProcessing images:  23%|██▎       | 79/345 [00:24<01:13,  3.63it/s]"
          ]
        },
        {
          "output_type": "stream",
          "name": "stdout",
          "text": [
            "\n",
            "image 1/1 /content/dataset/preprocessed_images/Cars227.png: 224x320 3 license_plates, 35.5ms\n",
            "Speed: 1.0ms preprocess, 35.5ms inference, 0.7ms postprocess per image at shape (1, 3, 224, 320)\n"
          ]
        },
        {
          "output_type": "stream",
          "name": "stderr",
          "text": [
            "\rProcessing images:  23%|██▎       | 80/345 [00:24<01:12,  3.67it/s]"
          ]
        },
        {
          "output_type": "stream",
          "name": "stdout",
          "text": [
            "\n",
            "image 1/1 /content/dataset/preprocessed_images/Cars202.png: 256x320 1 license_plate, 34.7ms\n",
            "Speed: 1.1ms preprocess, 34.7ms inference, 0.7ms postprocess per image at shape (1, 3, 256, 320)\n"
          ]
        },
        {
          "output_type": "stream",
          "name": "stderr",
          "text": [
            "\rProcessing images:  23%|██▎       | 81/345 [00:24<01:11,  3.70it/s]"
          ]
        },
        {
          "output_type": "stream",
          "name": "stdout",
          "text": [
            "\n",
            "image 1/1 /content/dataset/preprocessed_images/Cars422.png: 192x320 1 license_plate, 28.6ms\n",
            "Speed: 0.7ms preprocess, 28.6ms inference, 0.7ms postprocess per image at shape (1, 3, 192, 320)\n"
          ]
        },
        {
          "output_type": "stream",
          "name": "stderr",
          "text": [
            "\rProcessing images:  24%|██▍       | 82/345 [00:24<01:08,  3.85it/s]"
          ]
        },
        {
          "output_type": "stream",
          "name": "stdout",
          "text": [
            "\n",
            "image 1/1 /content/dataset/preprocessed_images/Cars71.png: 192x320 1 license_plate, 28.2ms\n",
            "Speed: 1.0ms preprocess, 28.2ms inference, 0.6ms postprocess per image at shape (1, 3, 192, 320)\n"
          ]
        },
        {
          "output_type": "stream",
          "name": "stderr",
          "text": [
            "\rProcessing images:  24%|██▍       | 83/345 [00:25<01:05,  4.00it/s]"
          ]
        },
        {
          "output_type": "stream",
          "name": "stdout",
          "text": [
            "\n",
            "image 1/1 /content/dataset/preprocessed_images/Cars81.png: 256x320 1 license_plate, 33.1ms\n",
            "Speed: 1.1ms preprocess, 33.1ms inference, 0.7ms postprocess per image at shape (1, 3, 256, 320)\n"
          ]
        },
        {
          "output_type": "stream",
          "name": "stderr",
          "text": [
            "\rProcessing images:  24%|██▍       | 84/345 [00:25<01:06,  3.94it/s]"
          ]
        },
        {
          "output_type": "stream",
          "name": "stdout",
          "text": [
            "\n",
            "image 1/1 /content/dataset/preprocessed_images/Cars133.png: 224x320 1 license_plate, 35.3ms\n",
            "Speed: 1.2ms preprocess, 35.3ms inference, 0.7ms postprocess per image at shape (1, 3, 224, 320)\n"
          ]
        },
        {
          "output_type": "stream",
          "name": "stderr",
          "text": [
            "\rProcessing images:  25%|██▍       | 85/345 [00:25<01:08,  3.78it/s]"
          ]
        },
        {
          "output_type": "stream",
          "name": "stdout",
          "text": [
            "\n",
            "image 1/1 /content/dataset/preprocessed_images/Cars170.png: 256x320 1 license_plate, 48.9ms\n",
            "Speed: 1.4ms preprocess, 48.9ms inference, 0.8ms postprocess per image at shape (1, 3, 256, 320)\n"
          ]
        },
        {
          "output_type": "stream",
          "name": "stderr",
          "text": [
            "\rProcessing images:  25%|██▍       | 86/345 [00:25<01:10,  3.65it/s]"
          ]
        },
        {
          "output_type": "stream",
          "name": "stdout",
          "text": [
            "\n",
            "image 1/1 /content/dataset/preprocessed_images/Cars333.png: 224x320 1 license_plate, 33.1ms\n",
            "Speed: 1.1ms preprocess, 33.1ms inference, 0.8ms postprocess per image at shape (1, 3, 224, 320)\n"
          ]
        },
        {
          "output_type": "stream",
          "name": "stderr",
          "text": [
            "\rProcessing images:  25%|██▌       | 87/345 [00:26<01:09,  3.71it/s]"
          ]
        },
        {
          "output_type": "stream",
          "name": "stdout",
          "text": [
            "\n",
            "image 1/1 /content/dataset/preprocessed_images/Cars138.png: 256x320 2 license_plates, 42.3ms\n",
            "Speed: 1.2ms preprocess, 42.3ms inference, 0.7ms postprocess per image at shape (1, 3, 256, 320)\n"
          ]
        },
        {
          "output_type": "stream",
          "name": "stderr",
          "text": [
            "\rProcessing images:  26%|██▌       | 88/345 [00:26<01:09,  3.70it/s]"
          ]
        },
        {
          "output_type": "stream",
          "name": "stdout",
          "text": [
            "\n",
            "image 1/1 /content/dataset/preprocessed_images/Cars410.png: 320x256 1 license_plate, 35.5ms\n",
            "Speed: 0.8ms preprocess, 35.5ms inference, 0.7ms postprocess per image at shape (1, 3, 320, 256)\n"
          ]
        },
        {
          "output_type": "stream",
          "name": "stderr",
          "text": [
            "\rProcessing images:  26%|██▌       | 89/345 [00:26<01:08,  3.73it/s]"
          ]
        },
        {
          "output_type": "stream",
          "name": "stdout",
          "text": [
            "\n",
            "image 1/1 /content/dataset/preprocessed_images/Cars10.png: 192x320 1 license_plate, 27.6ms\n",
            "Speed: 1.3ms preprocess, 27.6ms inference, 0.7ms postprocess per image at shape (1, 3, 192, 320)\n"
          ]
        },
        {
          "output_type": "stream",
          "name": "stderr",
          "text": [
            "\rProcessing images:  26%|██▌       | 90/345 [00:26<01:04,  3.95it/s]"
          ]
        },
        {
          "output_type": "stream",
          "name": "stdout",
          "text": [
            "\n",
            "image 1/1 /content/dataset/preprocessed_images/Cars238.png: 224x320 1 license_plate, 33.1ms\n",
            "Speed: 1.1ms preprocess, 33.1ms inference, 0.7ms postprocess per image at shape (1, 3, 224, 320)\n"
          ]
        },
        {
          "output_type": "stream",
          "name": "stderr",
          "text": [
            "\rProcessing images:  26%|██▋       | 91/345 [00:27<01:05,  3.87it/s]"
          ]
        },
        {
          "output_type": "stream",
          "name": "stdout",
          "text": [
            "\n",
            "image 1/1 /content/dataset/preprocessed_images/Cars216.png: 256x320 1 license_plate, 32.5ms\n",
            "Speed: 1.3ms preprocess, 32.5ms inference, 0.7ms postprocess per image at shape (1, 3, 256, 320)\n"
          ]
        },
        {
          "output_type": "stream",
          "name": "stderr",
          "text": [
            "\rProcessing images:  27%|██▋       | 92/345 [00:27<01:06,  3.80it/s]"
          ]
        },
        {
          "output_type": "stream",
          "name": "stdout",
          "text": [
            "\n",
            "image 1/1 /content/dataset/preprocessed_images/Cars94.png: 256x320 1 license_plate, 32.5ms\n",
            "Speed: 1.1ms preprocess, 32.5ms inference, 0.8ms postprocess per image at shape (1, 3, 256, 320)\n"
          ]
        },
        {
          "output_type": "stream",
          "name": "stderr",
          "text": [
            "\rProcessing images:  27%|██▋       | 93/345 [00:27<01:06,  3.79it/s]"
          ]
        },
        {
          "output_type": "stream",
          "name": "stdout",
          "text": [
            "\n",
            "image 1/1 /content/dataset/preprocessed_images/Cars288.png: 192x320 1 license_plate, 30.8ms\n",
            "Speed: 1.3ms preprocess, 30.8ms inference, 0.7ms postprocess per image at shape (1, 3, 192, 320)\n"
          ]
        },
        {
          "output_type": "stream",
          "name": "stderr",
          "text": [
            "\rProcessing images:  27%|██▋       | 94/345 [00:27<01:02,  3.99it/s]"
          ]
        },
        {
          "output_type": "stream",
          "name": "stdout",
          "text": [
            "\n",
            "image 1/1 /content/dataset/preprocessed_images/Cars149.png: 256x320 1 license_plate, 37.1ms\n",
            "Speed: 1.1ms preprocess, 37.1ms inference, 0.7ms postprocess per image at shape (1, 3, 256, 320)\n"
          ]
        },
        {
          "output_type": "stream",
          "name": "stderr",
          "text": [
            "\rProcessing images:  28%|██▊       | 95/345 [00:28<01:04,  3.89it/s]"
          ]
        },
        {
          "output_type": "stream",
          "name": "stdout",
          "text": [
            "\n",
            "image 1/1 /content/dataset/preprocessed_images/Cars212.png: 256x320 1 license_plate, 31.7ms\n",
            "Speed: 1.1ms preprocess, 31.7ms inference, 0.7ms postprocess per image at shape (1, 3, 256, 320)\n"
          ]
        },
        {
          "output_type": "stream",
          "name": "stderr",
          "text": [
            "\rProcessing images:  28%|██▊       | 96/345 [00:28<01:04,  3.84it/s]"
          ]
        },
        {
          "output_type": "stream",
          "name": "stdout",
          "text": [
            "\n",
            "image 1/1 /content/dataset/preprocessed_images/Cars188.png: 320x256 (no detections), 35.9ms\n",
            "Speed: 1.3ms preprocess, 35.9ms inference, 0.4ms postprocess per image at shape (1, 3, 320, 256)\n"
          ]
        },
        {
          "output_type": "stream",
          "name": "stderr",
          "text": [
            "\rProcessing images:  28%|██▊       | 97/345 [00:28<01:04,  3.82it/s]"
          ]
        },
        {
          "output_type": "stream",
          "name": "stdout",
          "text": [
            "\n",
            "image 1/1 /content/dataset/preprocessed_images/Cars383.png: 224x320 2 license_plates, 37.6ms\n",
            "Speed: 1.0ms preprocess, 37.6ms inference, 0.6ms postprocess per image at shape (1, 3, 224, 320)\n"
          ]
        },
        {
          "output_type": "stream",
          "name": "stderr",
          "text": [
            "\rProcessing images:  28%|██▊       | 98/345 [00:28<01:04,  3.86it/s]"
          ]
        },
        {
          "output_type": "stream",
          "name": "stdout",
          "text": [
            "\n",
            "image 1/1 /content/dataset/preprocessed_images/Cars119.png: 224x320 1 license_plate, 32.3ms\n",
            "Speed: 1.0ms preprocess, 32.3ms inference, 0.7ms postprocess per image at shape (1, 3, 224, 320)\n"
          ]
        },
        {
          "output_type": "stream",
          "name": "stderr",
          "text": [
            "\rProcessing images:  29%|██▊       | 99/345 [00:29<01:02,  3.92it/s]"
          ]
        },
        {
          "output_type": "stream",
          "name": "stdout",
          "text": [
            "\n",
            "image 1/1 /content/dataset/preprocessed_images/Cars123.png: 256x320 1 license_plate, 34.7ms\n",
            "Speed: 1.1ms preprocess, 34.7ms inference, 0.8ms postprocess per image at shape (1, 3, 256, 320)\n"
          ]
        },
        {
          "output_type": "stream",
          "name": "stderr",
          "text": [
            "\rProcessing images:  29%|██▉       | 100/345 [00:29<01:03,  3.88it/s]"
          ]
        },
        {
          "output_type": "stream",
          "name": "stdout",
          "text": [
            "\n",
            "image 1/1 /content/dataset/preprocessed_images/Cars426.png: 256x320 1 license_plate, 37.1ms\n",
            "Speed: 1.2ms preprocess, 37.1ms inference, 0.9ms postprocess per image at shape (1, 3, 256, 320)\n"
          ]
        },
        {
          "output_type": "stream",
          "name": "stderr",
          "text": [
            "\rProcessing images:  29%|██▉       | 101/345 [00:29<01:03,  3.84it/s]"
          ]
        },
        {
          "output_type": "stream",
          "name": "stdout",
          "text": [
            "\n",
            "image 1/1 /content/dataset/preprocessed_images/Cars15.png: 224x320 1 license_plate, 34.0ms\n",
            "Speed: 1.4ms preprocess, 34.0ms inference, 0.8ms postprocess per image at shape (1, 3, 224, 320)\n"
          ]
        },
        {
          "output_type": "stream",
          "name": "stderr",
          "text": [
            "\rProcessing images:  30%|██▉       | 102/345 [00:30<01:02,  3.87it/s]"
          ]
        },
        {
          "output_type": "stream",
          "name": "stdout",
          "text": [
            "\n",
            "image 1/1 /content/dataset/preprocessed_images/Cars251.png: 192x320 (no detections), 36.3ms\n",
            "Speed: 1.0ms preprocess, 36.3ms inference, 0.4ms postprocess per image at shape (1, 3, 192, 320)\n"
          ]
        },
        {
          "output_type": "stream",
          "name": "stderr",
          "text": [
            "\rProcessing images:  30%|██▉       | 103/345 [00:30<01:01,  3.93it/s]"
          ]
        },
        {
          "output_type": "stream",
          "name": "stdout",
          "text": [
            "\n",
            "image 1/1 /content/dataset/preprocessed_images/Cars371.png: 160x320 1 license_plate, 27.4ms\n",
            "Speed: 0.8ms preprocess, 27.4ms inference, 0.7ms postprocess per image at shape (1, 3, 160, 320)\n"
          ]
        },
        {
          "output_type": "stream",
          "name": "stderr",
          "text": [
            "\rProcessing images:  30%|███       | 104/345 [00:30<00:57,  4.19it/s]"
          ]
        },
        {
          "output_type": "stream",
          "name": "stdout",
          "text": [
            "\n",
            "image 1/1 /content/dataset/preprocessed_images/Cars19.png: 192x320 1 license_plate, 32.8ms\n",
            "Speed: 1.1ms preprocess, 32.8ms inference, 0.7ms postprocess per image at shape (1, 3, 192, 320)\n"
          ]
        },
        {
          "output_type": "stream",
          "name": "stderr",
          "text": [
            "\rProcessing images:  30%|███       | 105/345 [00:30<00:57,  4.16it/s]"
          ]
        },
        {
          "output_type": "stream",
          "name": "stdout",
          "text": [
            "\n",
            "image 1/1 /content/dataset/preprocessed_images/Cars385.png: 224x320 1 license_plate, 36.3ms\n",
            "Speed: 1.4ms preprocess, 36.3ms inference, 1.2ms postprocess per image at shape (1, 3, 224, 320)\n"
          ]
        },
        {
          "output_type": "stream",
          "name": "stderr",
          "text": [
            "\rProcessing images:  31%|███       | 106/345 [00:30<00:58,  4.12it/s]"
          ]
        },
        {
          "output_type": "stream",
          "name": "stdout",
          "text": [
            "\n",
            "image 1/1 /content/dataset/preprocessed_images/Cars327.png: 224x320 1 license_plate, 35.2ms\n",
            "Speed: 2.2ms preprocess, 35.2ms inference, 0.7ms postprocess per image at shape (1, 3, 224, 320)\n"
          ]
        },
        {
          "output_type": "stream",
          "name": "stderr",
          "text": [
            "\rProcessing images:  31%|███       | 107/345 [00:31<00:58,  4.05it/s]"
          ]
        },
        {
          "output_type": "stream",
          "name": "stdout",
          "text": [
            "\n",
            "image 1/1 /content/dataset/preprocessed_images/Cars394.png: 256x320 1 license_plate, 35.5ms\n",
            "Speed: 1.1ms preprocess, 35.5ms inference, 0.7ms postprocess per image at shape (1, 3, 256, 320)\n"
          ]
        },
        {
          "output_type": "stream",
          "name": "stderr",
          "text": [
            "\rProcessing images:  31%|███▏      | 108/345 [00:31<01:01,  3.85it/s]"
          ]
        },
        {
          "output_type": "stream",
          "name": "stdout",
          "text": [
            "\n",
            "image 1/1 /content/dataset/preprocessed_images/Cars217.png: 192x320 1 license_plate, 27.6ms\n",
            "Speed: 1.0ms preprocess, 27.6ms inference, 0.6ms postprocess per image at shape (1, 3, 192, 320)\n"
          ]
        },
        {
          "output_type": "stream",
          "name": "stderr",
          "text": [
            "\rProcessing images:  32%|███▏      | 109/345 [00:31<00:59,  3.95it/s]"
          ]
        },
        {
          "output_type": "stream",
          "name": "stdout",
          "text": [
            "\n",
            "image 1/1 /content/dataset/preprocessed_images/Cars322.png: 288x320 1 license_plate, 37.2ms\n",
            "Speed: 1.3ms preprocess, 37.2ms inference, 0.7ms postprocess per image at shape (1, 3, 288, 320)\n"
          ]
        },
        {
          "output_type": "stream",
          "name": "stderr",
          "text": [
            "\rProcessing images:  32%|███▏      | 110/345 [00:32<01:01,  3.80it/s]"
          ]
        },
        {
          "output_type": "stream",
          "name": "stdout",
          "text": [
            "\n",
            "image 1/1 /content/dataset/preprocessed_images/Cars367.png: 224x320 1 license_plate, 46.7ms\n",
            "Speed: 1.1ms preprocess, 46.7ms inference, 0.9ms postprocess per image at shape (1, 3, 224, 320)\n"
          ]
        },
        {
          "output_type": "stream",
          "name": "stderr",
          "text": [
            "\rProcessing images:  32%|███▏      | 111/345 [00:32<01:10,  3.33it/s]"
          ]
        },
        {
          "output_type": "stream",
          "name": "stdout",
          "text": [
            "\n",
            "image 1/1 /content/dataset/preprocessed_images/Cars197.png: 192x320 1 license_plate, 41.3ms\n",
            "Speed: 1.3ms preprocess, 41.3ms inference, 0.9ms postprocess per image at shape (1, 3, 192, 320)\n"
          ]
        },
        {
          "output_type": "stream",
          "name": "stderr",
          "text": [
            "\rProcessing images:  32%|███▏      | 112/345 [00:32<01:10,  3.31it/s]"
          ]
        },
        {
          "output_type": "stream",
          "name": "stdout",
          "text": [
            "\n",
            "image 1/1 /content/dataset/preprocessed_images/Cars276.png: 224x320 1 license_plate, 50.7ms\n",
            "Speed: 1.0ms preprocess, 50.7ms inference, 1.1ms postprocess per image at shape (1, 3, 224, 320)\n"
          ]
        },
        {
          "output_type": "stream",
          "name": "stderr",
          "text": [
            "\rProcessing images:  33%|███▎      | 113/345 [00:33<01:16,  3.02it/s]"
          ]
        },
        {
          "output_type": "stream",
          "name": "stdout",
          "text": [
            "\n",
            "image 1/1 /content/dataset/preprocessed_images/Cars378.png: 256x320 1 license_plate, 54.3ms\n",
            "Speed: 1.1ms preprocess, 54.3ms inference, 0.8ms postprocess per image at shape (1, 3, 256, 320)\n"
          ]
        },
        {
          "output_type": "stream",
          "name": "stderr",
          "text": [
            "\rProcessing images:  33%|███▎      | 114/345 [00:33<01:16,  3.01it/s]"
          ]
        },
        {
          "output_type": "stream",
          "name": "stdout",
          "text": [
            "\n",
            "image 1/1 /content/dataset/preprocessed_images/Cars420.png: 256x320 1 license_plate, 55.6ms\n",
            "Speed: 1.2ms preprocess, 55.6ms inference, 1.0ms postprocess per image at shape (1, 3, 256, 320)\n"
          ]
        },
        {
          "output_type": "stream",
          "name": "stderr",
          "text": [
            "\rProcessing images:  33%|███▎      | 115/345 [00:33<01:22,  2.80it/s]"
          ]
        },
        {
          "output_type": "stream",
          "name": "stdout",
          "text": [
            "\n",
            "image 1/1 /content/dataset/preprocessed_images/Cars125.png: 224x320 1 license_plate, 47.2ms\n",
            "Speed: 1.4ms preprocess, 47.2ms inference, 0.8ms postprocess per image at shape (1, 3, 224, 320)\n"
          ]
        },
        {
          "output_type": "stream",
          "name": "stderr",
          "text": [
            "\rProcessing images:  34%|███▎      | 116/345 [00:34<01:23,  2.74it/s]"
          ]
        },
        {
          "output_type": "stream",
          "name": "stdout",
          "text": [
            "\n",
            "image 1/1 /content/dataset/preprocessed_images/Cars347.png: 192x320 1 license_plate, 43.6ms\n",
            "Speed: 0.8ms preprocess, 43.6ms inference, 0.9ms postprocess per image at shape (1, 3, 192, 320)\n"
          ]
        },
        {
          "output_type": "stream",
          "name": "stderr",
          "text": [
            "\rProcessing images:  34%|███▍      | 117/345 [00:34<01:17,  2.94it/s]"
          ]
        },
        {
          "output_type": "stream",
          "name": "stdout",
          "text": [
            "\n",
            "image 1/1 /content/dataset/preprocessed_images/Cars136.png: 224x320 1 license_plate, 51.7ms\n",
            "Speed: 1.0ms preprocess, 51.7ms inference, 0.8ms postprocess per image at shape (1, 3, 224, 320)\n"
          ]
        },
        {
          "output_type": "stream",
          "name": "stderr",
          "text": [
            "\rProcessing images:  34%|███▍      | 118/345 [00:34<01:18,  2.89it/s]"
          ]
        },
        {
          "output_type": "stream",
          "name": "stdout",
          "text": [
            "\n",
            "image 1/1 /content/dataset/preprocessed_images/Cars311.png: 224x320 1 license_plate, 49.7ms\n",
            "Speed: 1.1ms preprocess, 49.7ms inference, 0.8ms postprocess per image at shape (1, 3, 224, 320)\n"
          ]
        },
        {
          "output_type": "stream",
          "name": "stderr",
          "text": [
            "\rProcessing images:  34%|███▍      | 119/345 [00:35<01:21,  2.76it/s]"
          ]
        },
        {
          "output_type": "stream",
          "name": "stdout",
          "text": [
            "\n",
            "image 1/1 /content/dataset/preprocessed_images/Cars117.png: 160x320 1 license_plate, 41.8ms\n",
            "Speed: 0.9ms preprocess, 41.8ms inference, 0.9ms postprocess per image at shape (1, 3, 160, 320)\n"
          ]
        },
        {
          "output_type": "stream",
          "name": "stderr",
          "text": [
            "\rProcessing images:  35%|███▍      | 120/345 [00:35<01:17,  2.90it/s]"
          ]
        },
        {
          "output_type": "stream",
          "name": "stdout",
          "text": [
            "\n",
            "image 1/1 /content/dataset/preprocessed_images/Cars317.png: 256x320 1 license_plate, 58.1ms\n",
            "Speed: 1.2ms preprocess, 58.1ms inference, 1.0ms postprocess per image at shape (1, 3, 256, 320)\n"
          ]
        },
        {
          "output_type": "stream",
          "name": "stderr",
          "text": [
            "\rProcessing images:  35%|███▌      | 121/345 [00:35<01:19,  2.82it/s]"
          ]
        },
        {
          "output_type": "stream",
          "name": "stdout",
          "text": [
            "\n",
            "image 1/1 /content/dataset/preprocessed_images/Cars218.png: 224x320 (no detections), 50.9ms\n",
            "Speed: 1.0ms preprocess, 50.9ms inference, 0.6ms postprocess per image at shape (1, 3, 224, 320)\n"
          ]
        },
        {
          "output_type": "stream",
          "name": "stderr",
          "text": [
            "\rProcessing images:  35%|███▌      | 122/345 [00:36<01:21,  2.74it/s]"
          ]
        },
        {
          "output_type": "stream",
          "name": "stdout",
          "text": [
            "\n",
            "image 1/1 /content/dataset/preprocessed_images/Cars167.png: 256x320 1 license_plate, 52.0ms\n",
            "Speed: 1.3ms preprocess, 52.0ms inference, 2.7ms postprocess per image at shape (1, 3, 256, 320)\n"
          ]
        },
        {
          "output_type": "stream",
          "name": "stderr",
          "text": [
            "\rProcessing images:  36%|███▌      | 123/345 [00:36<01:25,  2.60it/s]"
          ]
        },
        {
          "output_type": "stream",
          "name": "stdout",
          "text": [
            "\n",
            "image 1/1 /content/dataset/preprocessed_images/Cars156.png: 160x320 1 license_plate, 39.0ms\n",
            "Speed: 0.8ms preprocess, 39.0ms inference, 0.9ms postprocess per image at shape (1, 3, 160, 320)\n"
          ]
        },
        {
          "output_type": "stream",
          "name": "stderr",
          "text": [
            "\rProcessing images:  36%|███▌      | 124/345 [00:37<01:20,  2.74it/s]"
          ]
        },
        {
          "output_type": "stream",
          "name": "stdout",
          "text": [
            "\n",
            "image 1/1 /content/dataset/preprocessed_images/Cars338.png: 224x320 (no detections), 70.3ms\n",
            "Speed: 1.1ms preprocess, 70.3ms inference, 0.6ms postprocess per image at shape (1, 3, 224, 320)\n"
          ]
        },
        {
          "output_type": "stream",
          "name": "stderr",
          "text": [
            "\rProcessing images:  36%|███▌      | 125/345 [00:37<01:19,  2.76it/s]"
          ]
        },
        {
          "output_type": "stream",
          "name": "stdout",
          "text": [
            "\n",
            "image 1/1 /content/dataset/preprocessed_images/Cars80.png: 256x320 1 license_plate, 55.1ms\n",
            "Speed: 1.1ms preprocess, 55.1ms inference, 0.9ms postprocess per image at shape (1, 3, 256, 320)\n"
          ]
        },
        {
          "output_type": "stream",
          "name": "stderr",
          "text": [
            "\rProcessing images:  37%|███▋      | 126/345 [00:37<01:21,  2.67it/s]"
          ]
        },
        {
          "output_type": "stream",
          "name": "stdout",
          "text": [
            "\n",
            "image 1/1 /content/dataset/preprocessed_images/Cars210.png: 224x320 1 license_plate, 67.5ms\n",
            "Speed: 1.0ms preprocess, 67.5ms inference, 0.9ms postprocess per image at shape (1, 3, 224, 320)\n"
          ]
        },
        {
          "output_type": "stream",
          "name": "stderr",
          "text": [
            "\rProcessing images:  37%|███▋      | 127/345 [00:38<01:24,  2.57it/s]"
          ]
        },
        {
          "output_type": "stream",
          "name": "stdout",
          "text": [
            "\n",
            "image 1/1 /content/dataset/preprocessed_images/Cars249.png: 224x320 2 license_plates, 64.9ms\n",
            "Speed: 1.0ms preprocess, 64.9ms inference, 1.1ms postprocess per image at shape (1, 3, 224, 320)\n"
          ]
        },
        {
          "output_type": "stream",
          "name": "stderr",
          "text": [
            "\rProcessing images:  37%|███▋      | 128/345 [00:38<01:27,  2.49it/s]"
          ]
        },
        {
          "output_type": "stream",
          "name": "stdout",
          "text": [
            "\n",
            "image 1/1 /content/dataset/preprocessed_images/Cars382.png: 256x320 1 license_plate, 59.5ms\n",
            "Speed: 1.1ms preprocess, 59.5ms inference, 0.9ms postprocess per image at shape (1, 3, 256, 320)\n"
          ]
        },
        {
          "output_type": "stream",
          "name": "stderr",
          "text": [
            "\rProcessing images:  37%|███▋      | 129/345 [00:39<01:28,  2.44it/s]"
          ]
        },
        {
          "output_type": "stream",
          "name": "stdout",
          "text": [
            "\n",
            "image 1/1 /content/dataset/preprocessed_images/Cars407.png: 224x320 1 license_plate, 48.3ms\n",
            "Speed: 1.2ms preprocess, 48.3ms inference, 0.9ms postprocess per image at shape (1, 3, 224, 320)\n"
          ]
        },
        {
          "output_type": "stream",
          "name": "stderr",
          "text": [
            "\rProcessing images:  38%|███▊      | 130/345 [00:39<01:26,  2.48it/s]"
          ]
        },
        {
          "output_type": "stream",
          "name": "stdout",
          "text": [
            "\n",
            "image 1/1 /content/dataset/preprocessed_images/Cars139.png: 256x320 1 license_plate, 58.9ms\n",
            "Speed: 1.3ms preprocess, 58.9ms inference, 0.9ms postprocess per image at shape (1, 3, 256, 320)\n"
          ]
        },
        {
          "output_type": "stream",
          "name": "stderr",
          "text": [
            "\rProcessing images:  38%|███▊      | 131/345 [00:40<01:29,  2.38it/s]"
          ]
        },
        {
          "output_type": "stream",
          "name": "stdout",
          "text": [
            "\n",
            "image 1/1 /content/dataset/preprocessed_images/Cars60.png: 256x320 1 license_plate, 58.3ms\n",
            "Speed: 1.1ms preprocess, 58.3ms inference, 1.4ms postprocess per image at shape (1, 3, 256, 320)\n"
          ]
        },
        {
          "output_type": "stream",
          "name": "stderr",
          "text": [
            "\rProcessing images:  38%|███▊      | 132/345 [00:40<01:28,  2.41it/s]"
          ]
        },
        {
          "output_type": "stream",
          "name": "stdout",
          "text": [
            "\n",
            "image 1/1 /content/dataset/preprocessed_images/Cars413.png: 224x320 1 license_plate, 48.2ms\n",
            "Speed: 1.2ms preprocess, 48.2ms inference, 0.9ms postprocess per image at shape (1, 3, 224, 320)\n"
          ]
        },
        {
          "output_type": "stream",
          "name": "stderr",
          "text": [
            "\rProcessing images:  39%|███▊      | 133/345 [00:40<01:18,  2.71it/s]"
          ]
        },
        {
          "output_type": "stream",
          "name": "stdout",
          "text": [
            "\n",
            "image 1/1 /content/dataset/preprocessed_images/Cars339.png: 192x320 1 license_plate, 28.6ms\n",
            "Speed: 0.9ms preprocess, 28.6ms inference, 0.6ms postprocess per image at shape (1, 3, 192, 320)\n"
          ]
        },
        {
          "output_type": "stream",
          "name": "stderr",
          "text": [
            "\rProcessing images:  39%|███▉      | 134/345 [00:40<01:09,  3.05it/s]"
          ]
        },
        {
          "output_type": "stream",
          "name": "stdout",
          "text": [
            "\n",
            "image 1/1 /content/dataset/preprocessed_images/Cars266.png: 192x320 1 license_plate, 29.9ms\n",
            "Speed: 0.8ms preprocess, 29.9ms inference, 0.7ms postprocess per image at shape (1, 3, 192, 320)\n"
          ]
        },
        {
          "output_type": "stream",
          "name": "stderr",
          "text": [
            "\rProcessing images:  39%|███▉      | 135/345 [00:41<01:02,  3.37it/s]"
          ]
        },
        {
          "output_type": "stream",
          "name": "stdout",
          "text": [
            "\n",
            "image 1/1 /content/dataset/preprocessed_images/Cars308.png: 256x320 1 license_plate, 50.4ms\n",
            "Speed: 1.2ms preprocess, 50.4ms inference, 1.0ms postprocess per image at shape (1, 3, 256, 320)\n"
          ]
        },
        {
          "output_type": "stream",
          "name": "stderr",
          "text": [
            "\rProcessing images:  39%|███▉      | 136/345 [00:41<01:01,  3.39it/s]"
          ]
        },
        {
          "output_type": "stream",
          "name": "stdout",
          "text": [
            "\n",
            "image 1/1 /content/dataset/preprocessed_images/Cars115.png: 256x320 1 license_plate, 40.2ms\n",
            "Speed: 1.2ms preprocess, 40.2ms inference, 0.7ms postprocess per image at shape (1, 3, 256, 320)\n"
          ]
        },
        {
          "output_type": "stream",
          "name": "stderr",
          "text": [
            "\rProcessing images:  40%|███▉      | 137/345 [00:41<01:00,  3.44it/s]"
          ]
        },
        {
          "output_type": "stream",
          "name": "stdout",
          "text": [
            "\n",
            "image 1/1 /content/dataset/preprocessed_images/Cars290.png: 224x320 2 license_plates, 31.7ms\n",
            "Speed: 1.0ms preprocess, 31.7ms inference, 0.7ms postprocess per image at shape (1, 3, 224, 320)\n"
          ]
        },
        {
          "output_type": "stream",
          "name": "stderr",
          "text": [
            "\rProcessing images:  40%|████      | 138/345 [00:41<00:57,  3.59it/s]"
          ]
        },
        {
          "output_type": "stream",
          "name": "stdout",
          "text": [
            "\n",
            "image 1/1 /content/dataset/preprocessed_images/Cars388.png: 256x320 1 license_plate, 41.1ms\n",
            "Speed: 1.3ms preprocess, 41.1ms inference, 1.1ms postprocess per image at shape (1, 3, 256, 320)\n"
          ]
        },
        {
          "output_type": "stream",
          "name": "stderr",
          "text": [
            "\rProcessing images:  40%|████      | 139/345 [00:42<00:58,  3.51it/s]"
          ]
        },
        {
          "output_type": "stream",
          "name": "stdout",
          "text": [
            "\n",
            "image 1/1 /content/dataset/preprocessed_images/Cars267.png: 192x320 1 license_plate, 28.8ms\n",
            "Speed: 1.0ms preprocess, 28.8ms inference, 0.7ms postprocess per image at shape (1, 3, 192, 320)\n"
          ]
        },
        {
          "output_type": "stream",
          "name": "stderr",
          "text": [
            "\rProcessing images:  41%|████      | 140/345 [00:42<00:54,  3.77it/s]"
          ]
        },
        {
          "output_type": "stream",
          "name": "stdout",
          "text": [
            "\n",
            "image 1/1 /content/dataset/preprocessed_images/Cars118.png: 224x320 1 license_plate, 39.9ms\n",
            "Speed: 1.1ms preprocess, 39.9ms inference, 0.9ms postprocess per image at shape (1, 3, 224, 320)\n"
          ]
        },
        {
          "output_type": "stream",
          "name": "stderr",
          "text": [
            "\rProcessing images:  41%|████      | 141/345 [00:42<00:53,  3.83it/s]"
          ]
        },
        {
          "output_type": "stream",
          "name": "stdout",
          "text": [
            "\n",
            "image 1/1 /content/dataset/preprocessed_images/Cars34.png: 288x320 2 license_plates, 38.0ms\n",
            "Speed: 1.2ms preprocess, 38.0ms inference, 0.7ms postprocess per image at shape (1, 3, 288, 320)\n"
          ]
        },
        {
          "output_type": "stream",
          "name": "stderr",
          "text": [
            "\rProcessing images:  41%|████      | 142/345 [00:43<00:54,  3.74it/s]"
          ]
        },
        {
          "output_type": "stream",
          "name": "stdout",
          "text": [
            "\n",
            "image 1/1 /content/dataset/preprocessed_images/Cars183.png: 192x320 1 license_plate, 33.5ms\n",
            "Speed: 1.2ms preprocess, 33.5ms inference, 0.7ms postprocess per image at shape (1, 3, 192, 320)\n"
          ]
        },
        {
          "output_type": "stream",
          "name": "stderr",
          "text": [
            "\rProcessing images:  41%|████▏     | 143/345 [00:43<00:54,  3.72it/s]"
          ]
        },
        {
          "output_type": "stream",
          "name": "stdout",
          "text": [
            "\n",
            "image 1/1 /content/dataset/preprocessed_images/Cars343.png: 256x320 1 license_plate, 41.5ms\n",
            "Speed: 1.2ms preprocess, 41.5ms inference, 0.7ms postprocess per image at shape (1, 3, 256, 320)\n"
          ]
        },
        {
          "output_type": "stream",
          "name": "stderr",
          "text": [
            "\rProcessing images:  42%|████▏     | 144/345 [00:43<00:54,  3.70it/s]"
          ]
        },
        {
          "output_type": "stream",
          "name": "stdout",
          "text": [
            "\n",
            "image 1/1 /content/dataset/preprocessed_images/Cars373.png: 192x320 1 license_plate, 29.4ms\n",
            "Speed: 0.9ms preprocess, 29.4ms inference, 0.7ms postprocess per image at shape (1, 3, 192, 320)\n"
          ]
        },
        {
          "output_type": "stream",
          "name": "stderr",
          "text": [
            "\rProcessing images:  42%|████▏     | 145/345 [00:43<00:51,  3.90it/s]"
          ]
        },
        {
          "output_type": "stream",
          "name": "stdout",
          "text": [
            "\n",
            "image 1/1 /content/dataset/preprocessed_images/Cars95.png: 224x320 1 license_plate, 31.0ms\n",
            "Speed: 0.9ms preprocess, 31.0ms inference, 1.0ms postprocess per image at shape (1, 3, 224, 320)\n"
          ]
        },
        {
          "output_type": "stream",
          "name": "stderr",
          "text": [
            "\rProcessing images:  42%|████▏     | 146/345 [00:44<00:52,  3.82it/s]"
          ]
        },
        {
          "output_type": "stream",
          "name": "stdout",
          "text": [
            "\n",
            "image 1/1 /content/dataset/preprocessed_images/Cars293.png: 224x320 1 license_plate, 35.8ms\n",
            "Speed: 1.1ms preprocess, 35.8ms inference, 0.8ms postprocess per image at shape (1, 3, 224, 320)\n"
          ]
        },
        {
          "output_type": "stream",
          "name": "stderr",
          "text": [
            "\rProcessing images:  43%|████▎     | 147/345 [00:44<00:52,  3.76it/s]"
          ]
        },
        {
          "output_type": "stream",
          "name": "stdout",
          "text": [
            "\n",
            "image 1/1 /content/dataset/preprocessed_images/Cars146.png: 256x320 (no detections), 39.1ms\n",
            "Speed: 1.2ms preprocess, 39.1ms inference, 0.4ms postprocess per image at shape (1, 3, 256, 320)\n"
          ]
        },
        {
          "output_type": "stream",
          "name": "stderr",
          "text": [
            "\rProcessing images:  43%|████▎     | 148/345 [00:44<00:52,  3.76it/s]"
          ]
        },
        {
          "output_type": "stream",
          "name": "stdout",
          "text": [
            "\n",
            "image 1/1 /content/dataset/preprocessed_images/Cars283.png: 192x320 (no detections), 34.3ms\n",
            "Speed: 0.9ms preprocess, 34.3ms inference, 0.3ms postprocess per image at shape (1, 3, 192, 320)\n"
          ]
        },
        {
          "output_type": "stream",
          "name": "stderr",
          "text": [
            "\rProcessing images:  43%|████▎     | 149/345 [00:44<00:49,  3.99it/s]"
          ]
        },
        {
          "output_type": "stream",
          "name": "stdout",
          "text": [
            "\n",
            "image 1/1 /content/dataset/preprocessed_images/Cars32.png: 256x320 1 license_plate, 35.7ms\n",
            "Speed: 0.7ms preprocess, 35.7ms inference, 0.7ms postprocess per image at shape (1, 3, 256, 320)\n"
          ]
        },
        {
          "output_type": "stream",
          "name": "stderr",
          "text": [
            "\rProcessing images:  43%|████▎     | 150/345 [00:45<00:49,  3.92it/s]"
          ]
        },
        {
          "output_type": "stream",
          "name": "stdout",
          "text": [
            "\n",
            "image 1/1 /content/dataset/preprocessed_images/Cars38.png: 320x320 1 license_plate, 46.7ms\n",
            "Speed: 1.8ms preprocess, 46.7ms inference, 0.9ms postprocess per image at shape (1, 3, 320, 320)\n"
          ]
        },
        {
          "output_type": "stream",
          "name": "stderr",
          "text": [
            "\rProcessing images:  44%|████▍     | 151/345 [00:45<00:54,  3.58it/s]"
          ]
        },
        {
          "output_type": "stream",
          "name": "stdout",
          "text": [
            "\n",
            "image 1/1 /content/dataset/preprocessed_images/Cars328.png: 192x320 1 license_plate, 30.8ms\n",
            "Speed: 1.5ms preprocess, 30.8ms inference, 0.7ms postprocess per image at shape (1, 3, 192, 320)\n"
          ]
        },
        {
          "output_type": "stream",
          "name": "stderr",
          "text": [
            "\rProcessing images:  44%|████▍     | 152/345 [00:45<00:50,  3.79it/s]"
          ]
        },
        {
          "output_type": "stream",
          "name": "stdout",
          "text": [
            "\n",
            "image 1/1 /content/dataset/preprocessed_images/Cars193.png: 224x320 1 license_plate, 34.7ms\n",
            "Speed: 1.0ms preprocess, 34.7ms inference, 0.7ms postprocess per image at shape (1, 3, 224, 320)\n"
          ]
        },
        {
          "output_type": "stream",
          "name": "stderr",
          "text": [
            "\rProcessing images:  44%|████▍     | 153/345 [00:45<00:50,  3.82it/s]"
          ]
        },
        {
          "output_type": "stream",
          "name": "stdout",
          "text": [
            "\n",
            "image 1/1 /content/dataset/preprocessed_images/Cars57.png: 192x320 1 license_plate, 30.4ms\n",
            "Speed: 0.9ms preprocess, 30.4ms inference, 0.8ms postprocess per image at shape (1, 3, 192, 320)\n"
          ]
        },
        {
          "output_type": "stream",
          "name": "stderr",
          "text": [
            "\rProcessing images:  45%|████▍     | 154/345 [00:46<00:47,  3.98it/s]"
          ]
        },
        {
          "output_type": "stream",
          "name": "stdout",
          "text": [
            "\n",
            "image 1/1 /content/dataset/preprocessed_images/Cars278.png: 192x320 1 license_plate, 39.9ms\n",
            "Speed: 0.9ms preprocess, 39.9ms inference, 0.9ms postprocess per image at shape (1, 3, 192, 320)\n"
          ]
        },
        {
          "output_type": "stream",
          "name": "stderr",
          "text": [
            "\rProcessing images:  45%|████▍     | 155/345 [00:46<00:46,  4.04it/s]"
          ]
        },
        {
          "output_type": "stream",
          "name": "stdout",
          "text": [
            "\n",
            "image 1/1 /content/dataset/preprocessed_images/Cars4.png: 192x320 1 license_plate, 32.1ms\n",
            "Speed: 1.3ms preprocess, 32.1ms inference, 0.7ms postprocess per image at shape (1, 3, 192, 320)\n"
          ]
        },
        {
          "output_type": "stream",
          "name": "stderr",
          "text": [
            "\rProcessing images:  45%|████▌     | 156/345 [00:46<00:47,  4.00it/s]"
          ]
        },
        {
          "output_type": "stream",
          "name": "stdout",
          "text": [
            "\n",
            "image 1/1 /content/dataset/preprocessed_images/Cars261.png: 256x320 2 license_plates, 33.6ms\n",
            "Speed: 1.9ms preprocess, 33.6ms inference, 0.6ms postprocess per image at shape (1, 3, 256, 320)\n"
          ]
        },
        {
          "output_type": "stream",
          "name": "stderr",
          "text": [
            "\rProcessing images:  46%|████▌     | 157/345 [00:46<00:47,  3.96it/s]"
          ]
        },
        {
          "output_type": "stream",
          "name": "stdout",
          "text": [
            "\n",
            "image 1/1 /content/dataset/preprocessed_images/Cars387.png: 224x320 1 license_plate, 34.3ms\n",
            "Speed: 1.2ms preprocess, 34.3ms inference, 0.6ms postprocess per image at shape (1, 3, 224, 320)\n"
          ]
        },
        {
          "output_type": "stream",
          "name": "stderr",
          "text": [
            "\rProcessing images:  46%|████▌     | 158/345 [00:47<00:47,  3.94it/s]"
          ]
        },
        {
          "output_type": "stream",
          "name": "stdout",
          "text": [
            "\n",
            "image 1/1 /content/dataset/preprocessed_images/Cars325.png: 192x320 (no detections), 38.1ms\n",
            "Speed: 1.0ms preprocess, 38.1ms inference, 0.5ms postprocess per image at shape (1, 3, 192, 320)\n"
          ]
        },
        {
          "output_type": "stream",
          "name": "stderr",
          "text": [
            "\rProcessing images:  46%|████▌     | 159/345 [00:47<00:45,  4.07it/s]"
          ]
        },
        {
          "output_type": "stream",
          "name": "stdout",
          "text": [
            "\n",
            "image 1/1 /content/dataset/preprocessed_images/Cars393.png: 192x320 1 license_plate, 37.1ms\n",
            "Speed: 1.8ms preprocess, 37.1ms inference, 1.0ms postprocess per image at shape (1, 3, 192, 320)\n"
          ]
        },
        {
          "output_type": "stream",
          "name": "stderr",
          "text": [
            "\rProcessing images:  46%|████▋     | 160/345 [00:47<00:45,  4.10it/s]"
          ]
        },
        {
          "output_type": "stream",
          "name": "stdout",
          "text": [
            "\n",
            "image 1/1 /content/dataset/preprocessed_images/Cars326.png: 256x320 1 license_plate, 33.6ms\n",
            "Speed: 1.1ms preprocess, 33.6ms inference, 0.7ms postprocess per image at shape (1, 3, 256, 320)\n"
          ]
        },
        {
          "output_type": "stream",
          "name": "stderr",
          "text": [
            "\rProcessing images:  47%|████▋     | 161/345 [00:47<00:45,  4.00it/s]"
          ]
        },
        {
          "output_type": "stream",
          "name": "stdout",
          "text": [
            "\n",
            "image 1/1 /content/dataset/preprocessed_images/Cars295.png: 224x320 1 license_plate, 34.4ms\n",
            "Speed: 1.2ms preprocess, 34.4ms inference, 0.7ms postprocess per image at shape (1, 3, 224, 320)\n"
          ]
        },
        {
          "output_type": "stream",
          "name": "stderr",
          "text": [
            "\rProcessing images:  47%|████▋     | 162/345 [00:48<00:45,  4.01it/s]"
          ]
        },
        {
          "output_type": "stream",
          "name": "stdout",
          "text": [
            "\n",
            "image 1/1 /content/dataset/preprocessed_images/Cars192.png: 256x320 1 license_plate, 47.2ms\n",
            "Speed: 1.3ms preprocess, 47.2ms inference, 0.9ms postprocess per image at shape (1, 3, 256, 320)\n"
          ]
        },
        {
          "output_type": "stream",
          "name": "stderr",
          "text": [
            "\rProcessing images:  47%|████▋     | 163/345 [00:48<00:46,  3.88it/s]"
          ]
        },
        {
          "output_type": "stream",
          "name": "stdout",
          "text": [
            "\n",
            "image 1/1 /content/dataset/preprocessed_images/Cars48.png: 192x320 1 license_plate, 36.4ms\n",
            "Speed: 1.3ms preprocess, 36.4ms inference, 1.1ms postprocess per image at shape (1, 3, 192, 320)\n"
          ]
        },
        {
          "output_type": "stream",
          "name": "stderr",
          "text": [
            "\rProcessing images:  48%|████▊     | 164/345 [00:48<00:45,  3.97it/s]"
          ]
        },
        {
          "output_type": "stream",
          "name": "stdout",
          "text": [
            "\n",
            "image 1/1 /content/dataset/preprocessed_images/Cars171.png: 224x320 1 license_plate, 32.0ms\n",
            "Speed: 1.2ms preprocess, 32.0ms inference, 0.7ms postprocess per image at shape (1, 3, 224, 320)\n"
          ]
        },
        {
          "output_type": "stream",
          "name": "stderr",
          "text": [
            "\rProcessing images:  48%|████▊     | 165/345 [00:48<00:45,  3.99it/s]"
          ]
        },
        {
          "output_type": "stream",
          "name": "stdout",
          "text": [
            "\n",
            "image 1/1 /content/dataset/preprocessed_images/Cars151.png: 224x320 1 license_plate, 32.2ms\n",
            "Speed: 1.0ms preprocess, 32.2ms inference, 0.7ms postprocess per image at shape (1, 3, 224, 320)\n"
          ]
        },
        {
          "output_type": "stream",
          "name": "stderr",
          "text": [
            "\rProcessing images:  48%|████▊     | 166/345 [00:49<00:44,  4.06it/s]"
          ]
        },
        {
          "output_type": "stream",
          "name": "stdout",
          "text": [
            "\n",
            "image 1/1 /content/dataset/preprocessed_images/Cars27.png: 192x320 1 license_plate, 38.2ms\n",
            "Speed: 0.9ms preprocess, 38.2ms inference, 0.9ms postprocess per image at shape (1, 3, 192, 320)\n"
          ]
        },
        {
          "output_type": "stream",
          "name": "stderr",
          "text": [
            "\rProcessing images:  48%|████▊     | 167/345 [00:49<00:43,  4.08it/s]"
          ]
        },
        {
          "output_type": "stream",
          "name": "stdout",
          "text": [
            "\n",
            "image 1/1 /content/dataset/preprocessed_images/Cars174.png: 192x320 (no detections), 32.0ms\n",
            "Speed: 0.9ms preprocess, 32.0ms inference, 0.4ms postprocess per image at shape (1, 3, 192, 320)\n"
          ]
        },
        {
          "output_type": "stream",
          "name": "stderr",
          "text": [
            "\rProcessing images:  49%|████▊     | 168/345 [00:50<01:40,  1.75it/s]"
          ]
        },
        {
          "output_type": "stream",
          "name": "stdout",
          "text": [
            "\n",
            "image 1/1 /content/dataset/preprocessed_images/Cars97.png: 256x320 1 license_plate, 51.5ms\n",
            "Speed: 1.3ms preprocess, 51.5ms inference, 0.9ms postprocess per image at shape (1, 3, 256, 320)\n"
          ]
        },
        {
          "output_type": "stream",
          "name": "stderr",
          "text": [
            "\rProcessing images:  49%|████▉     | 169/345 [00:51<01:31,  1.93it/s]"
          ]
        },
        {
          "output_type": "stream",
          "name": "stdout",
          "text": [
            "\n",
            "image 1/1 /content/dataset/preprocessed_images/Cars221.png: 192x320 (no detections), 46.5ms\n",
            "Speed: 1.0ms preprocess, 46.5ms inference, 0.6ms postprocess per image at shape (1, 3, 192, 320)\n"
          ]
        },
        {
          "output_type": "stream",
          "name": "stderr",
          "text": [
            "\rProcessing images:  49%|████▉     | 170/345 [00:51<01:20,  2.18it/s]"
          ]
        },
        {
          "output_type": "stream",
          "name": "stdout",
          "text": [
            "\n",
            "image 1/1 /content/dataset/preprocessed_images/Cars177.png: 192x320 1 license_plate, 41.5ms\n",
            "Speed: 1.0ms preprocess, 41.5ms inference, 0.9ms postprocess per image at shape (1, 3, 192, 320)\n"
          ]
        },
        {
          "output_type": "stream",
          "name": "stderr",
          "text": [
            "\rProcessing images:  50%|████▉     | 171/345 [00:51<01:13,  2.36it/s]"
          ]
        },
        {
          "output_type": "stream",
          "name": "stdout",
          "text": [
            "\n",
            "image 1/1 /content/dataset/preprocessed_images/Cars2.png: 320x320 1 license_plate, 67.8ms\n",
            "Speed: 1.6ms preprocess, 67.8ms inference, 1.1ms postprocess per image at shape (1, 3, 320, 320)\n"
          ]
        },
        {
          "output_type": "stream",
          "name": "stderr",
          "text": [
            "\rProcessing images:  50%|████▉     | 172/345 [00:52<01:14,  2.32it/s]"
          ]
        },
        {
          "output_type": "stream",
          "name": "stdout",
          "text": [
            "\n",
            "image 1/1 /content/dataset/preprocessed_images/Cars404.png: 320x320 1 license_plate, 62.2ms\n",
            "Speed: 1.5ms preprocess, 62.2ms inference, 1.1ms postprocess per image at shape (1, 3, 320, 320)\n"
          ]
        },
        {
          "output_type": "stream",
          "name": "stderr",
          "text": [
            "\rProcessing images:  50%|█████     | 173/345 [00:52<01:12,  2.37it/s]"
          ]
        },
        {
          "output_type": "stream",
          "name": "stdout",
          "text": [
            "\n",
            "image 1/1 /content/dataset/preprocessed_images/Cars391.png: 192x320 1 license_plate, 50.2ms\n",
            "Speed: 1.0ms preprocess, 50.2ms inference, 0.9ms postprocess per image at shape (1, 3, 192, 320)\n"
          ]
        },
        {
          "output_type": "stream",
          "name": "stderr",
          "text": [
            "\rProcessing images:  50%|█████     | 174/345 [00:52<01:09,  2.47it/s]"
          ]
        },
        {
          "output_type": "stream",
          "name": "stdout",
          "text": [
            "\n",
            "image 1/1 /content/dataset/preprocessed_images/Cars432.png: 224x320 1 license_plate, 46.5ms\n",
            "Speed: 1.2ms preprocess, 46.5ms inference, 1.0ms postprocess per image at shape (1, 3, 224, 320)\n"
          ]
        },
        {
          "output_type": "stream",
          "name": "stderr",
          "text": [
            "\rProcessing images:  51%|█████     | 175/345 [00:53<01:06,  2.54it/s]"
          ]
        },
        {
          "output_type": "stream",
          "name": "stdout",
          "text": [
            "\n",
            "image 1/1 /content/dataset/preprocessed_images/Cars336.png: 256x320 1 license_plate, 65.1ms\n",
            "Speed: 1.3ms preprocess, 65.1ms inference, 1.1ms postprocess per image at shape (1, 3, 256, 320)\n"
          ]
        },
        {
          "output_type": "stream",
          "name": "stderr",
          "text": [
            "\rProcessing images:  51%|█████     | 176/345 [00:53<01:05,  2.58it/s]"
          ]
        },
        {
          "output_type": "stream",
          "name": "stdout",
          "text": [
            "\n",
            "image 1/1 /content/dataset/preprocessed_images/Cars294.png: 224x320 1 license_plate, 58.4ms\n",
            "Speed: 1.2ms preprocess, 58.4ms inference, 1.1ms postprocess per image at shape (1, 3, 224, 320)\n"
          ]
        },
        {
          "output_type": "stream",
          "name": "stderr",
          "text": [
            "\rProcessing images:  51%|█████▏    | 177/345 [00:54<01:02,  2.70it/s]"
          ]
        },
        {
          "output_type": "stream",
          "name": "stdout",
          "text": [
            "\n",
            "image 1/1 /content/dataset/preprocessed_images/Cars244.png: 256x320 1 license_plate, 61.0ms\n",
            "Speed: 1.4ms preprocess, 61.0ms inference, 1.1ms postprocess per image at shape (1, 3, 256, 320)\n"
          ]
        },
        {
          "output_type": "stream",
          "name": "stderr",
          "text": [
            "\rProcessing images:  52%|█████▏    | 178/345 [00:54<01:04,  2.60it/s]"
          ]
        },
        {
          "output_type": "stream",
          "name": "stdout",
          "text": [
            "\n",
            "image 1/1 /content/dataset/preprocessed_images/Cars224.png: 256x320 2 license_plates, 63.3ms\n",
            "Speed: 1.3ms preprocess, 63.3ms inference, 1.0ms postprocess per image at shape (1, 3, 256, 320)\n"
          ]
        },
        {
          "output_type": "stream",
          "name": "stderr",
          "text": [
            "\rProcessing images:  52%|█████▏    | 179/345 [00:54<01:06,  2.49it/s]"
          ]
        },
        {
          "output_type": "stream",
          "name": "stdout",
          "text": [
            "\n",
            "image 1/1 /content/dataset/preprocessed_images/Cars127.png: 224x320 1 license_plate, 56.3ms\n",
            "Speed: 1.1ms preprocess, 56.3ms inference, 1.0ms postprocess per image at shape (1, 3, 224, 320)\n"
          ]
        },
        {
          "output_type": "stream",
          "name": "stderr",
          "text": [
            "\rProcessing images:  52%|█████▏    | 180/345 [00:55<01:05,  2.51it/s]"
          ]
        },
        {
          "output_type": "stream",
          "name": "stdout",
          "text": [
            "\n",
            "image 1/1 /content/dataset/preprocessed_images/Cars195.png: 192x320 2 license_plates, 47.2ms\n",
            "Speed: 2.8ms preprocess, 47.2ms inference, 1.0ms postprocess per image at shape (1, 3, 192, 320)\n"
          ]
        },
        {
          "output_type": "stream",
          "name": "stderr",
          "text": [
            "\rProcessing images:  52%|█████▏    | 181/345 [00:55<01:03,  2.60it/s]"
          ]
        },
        {
          "output_type": "stream",
          "name": "stdout",
          "text": [
            "\n",
            "image 1/1 /content/dataset/preprocessed_images/Cars234.png: 192x320 1 license_plate, 49.0ms\n",
            "Speed: 1.3ms preprocess, 49.0ms inference, 1.0ms postprocess per image at shape (1, 3, 192, 320)\n"
          ]
        },
        {
          "output_type": "stream",
          "name": "stderr",
          "text": [
            "\rProcessing images:  53%|█████▎    | 182/345 [00:55<01:00,  2.71it/s]"
          ]
        },
        {
          "output_type": "stream",
          "name": "stdout",
          "text": [
            "\n",
            "image 1/1 /content/dataset/preprocessed_images/Cars351.png: 192x320 1 license_plate, 50.8ms\n",
            "Speed: 0.9ms preprocess, 50.8ms inference, 1.0ms postprocess per image at shape (1, 3, 192, 320)\n"
          ]
        },
        {
          "output_type": "stream",
          "name": "stderr",
          "text": [
            "\rProcessing images:  53%|█████▎    | 183/345 [00:56<00:57,  2.84it/s]"
          ]
        },
        {
          "output_type": "stream",
          "name": "stdout",
          "text": [
            "\n",
            "image 1/1 /content/dataset/preprocessed_images/Cars120.png: 224x320 1 license_plate, 55.9ms\n",
            "Speed: 1.1ms preprocess, 55.9ms inference, 1.0ms postprocess per image at shape (1, 3, 224, 320)\n"
          ]
        },
        {
          "output_type": "stream",
          "name": "stderr",
          "text": [
            "\rProcessing images:  53%|█████▎    | 184/345 [00:56<00:58,  2.75it/s]"
          ]
        },
        {
          "output_type": "stream",
          "name": "stdout",
          "text": [
            "\n",
            "image 1/1 /content/dataset/preprocessed_images/Cars316.png: 256x320 (no detections), 55.9ms\n",
            "Speed: 1.4ms preprocess, 55.9ms inference, 0.6ms postprocess per image at shape (1, 3, 256, 320)\n"
          ]
        },
        {
          "output_type": "stream",
          "name": "stderr",
          "text": [
            "\rProcessing images:  54%|█████▎    | 185/345 [00:57<01:01,  2.61it/s]"
          ]
        },
        {
          "output_type": "stream",
          "name": "stdout",
          "text": [
            "\n",
            "image 1/1 /content/dataset/preprocessed_images/Cars319.png: 288x320 1 license_plate, 82.7ms\n",
            "Speed: 1.3ms preprocess, 82.7ms inference, 0.9ms postprocess per image at shape (1, 3, 288, 320)\n"
          ]
        },
        {
          "output_type": "stream",
          "name": "stderr",
          "text": [
            "\rProcessing images:  54%|█████▍    | 186/345 [00:57<01:05,  2.43it/s]"
          ]
        },
        {
          "output_type": "stream",
          "name": "stdout",
          "text": [
            "\n",
            "image 1/1 /content/dataset/preprocessed_images/Cars264.png: 320x320 1 license_plate, 68.1ms\n",
            "Speed: 1.4ms preprocess, 68.1ms inference, 1.0ms postprocess per image at shape (1, 3, 320, 320)\n"
          ]
        },
        {
          "output_type": "stream",
          "name": "stderr",
          "text": [
            "\rProcessing images:  54%|█████▍    | 187/345 [00:58<01:09,  2.27it/s]"
          ]
        },
        {
          "output_type": "stream",
          "name": "stdout",
          "text": [
            "\n",
            "image 1/1 /content/dataset/preprocessed_images/Cars59.png: 256x320 1 license_plate, 58.9ms\n",
            "Speed: 7.7ms preprocess, 58.9ms inference, 1.2ms postprocess per image at shape (1, 3, 256, 320)\n"
          ]
        },
        {
          "output_type": "stream",
          "name": "stderr",
          "text": [
            "\rProcessing images:  54%|█████▍    | 188/345 [00:58<01:05,  2.40it/s]"
          ]
        },
        {
          "output_type": "stream",
          "name": "stdout",
          "text": [
            "\n",
            "image 1/1 /content/dataset/preprocessed_images/Cars29.png: 256x320 2 license_plates, 61.8ms\n",
            "Speed: 1.2ms preprocess, 61.8ms inference, 1.0ms postprocess per image at shape (1, 3, 256, 320)\n"
          ]
        },
        {
          "output_type": "stream",
          "name": "stderr",
          "text": [
            "\rProcessing images:  55%|█████▍    | 189/345 [00:58<01:04,  2.40it/s]"
          ]
        },
        {
          "output_type": "stream",
          "name": "stdout",
          "text": [
            "\n",
            "image 1/1 /content/dataset/preprocessed_images/Cars160.png: 192x320 1 license_plate, 46.5ms\n",
            "Speed: 1.2ms preprocess, 46.5ms inference, 1.0ms postprocess per image at shape (1, 3, 192, 320)\n"
          ]
        },
        {
          "output_type": "stream",
          "name": "stderr",
          "text": [
            "\rProcessing images:  55%|█████▌    | 190/345 [00:59<01:01,  2.50it/s]"
          ]
        },
        {
          "output_type": "stream",
          "name": "stdout",
          "text": [
            "\n",
            "image 1/1 /content/dataset/preprocessed_images/Cars412.png: 192x320 1 license_plate, 55.6ms\n",
            "Speed: 1.4ms preprocess, 55.6ms inference, 1.1ms postprocess per image at shape (1, 3, 192, 320)\n"
          ]
        },
        {
          "output_type": "stream",
          "name": "stderr",
          "text": [
            "\rProcessing images:  55%|█████▌    | 191/345 [00:59<00:57,  2.67it/s]"
          ]
        },
        {
          "output_type": "stream",
          "name": "stdout",
          "text": [
            "\n",
            "image 1/1 /content/dataset/preprocessed_images/Cars101.png: 256x320 1 license_plate, 40.0ms\n",
            "Speed: 1.3ms preprocess, 40.0ms inference, 0.7ms postprocess per image at shape (1, 3, 256, 320)\n"
          ]
        },
        {
          "output_type": "stream",
          "name": "stderr",
          "text": [
            "\rProcessing images:  56%|█████▌    | 192/345 [00:59<00:52,  2.92it/s]"
          ]
        },
        {
          "output_type": "stream",
          "name": "stdout",
          "text": [
            "\n",
            "image 1/1 /content/dataset/preprocessed_images/Cars53.png: 256x320 1 license_plate, 41.2ms\n",
            "Speed: 1.2ms preprocess, 41.2ms inference, 0.8ms postprocess per image at shape (1, 3, 256, 320)\n"
          ]
        },
        {
          "output_type": "stream",
          "name": "stderr",
          "text": [
            "\rProcessing images:  56%|█████▌    | 193/345 [01:00<00:48,  3.14it/s]"
          ]
        },
        {
          "output_type": "stream",
          "name": "stdout",
          "text": [
            "\n",
            "image 1/1 /content/dataset/preprocessed_images/Cars334.png: 192x320 1 license_plate, 54.8ms\n",
            "Speed: 1.0ms preprocess, 54.8ms inference, 0.8ms postprocess per image at shape (1, 3, 192, 320)\n"
          ]
        },
        {
          "output_type": "stream",
          "name": "stderr",
          "text": [
            "\rProcessing images:  56%|█████▌    | 194/345 [01:00<00:45,  3.32it/s]"
          ]
        },
        {
          "output_type": "stream",
          "name": "stdout",
          "text": [
            "\n",
            "image 1/1 /content/dataset/preprocessed_images/Cars186.png: 192x320 1 license_plate, 31.8ms\n",
            "Speed: 2.3ms preprocess, 31.8ms inference, 0.7ms postprocess per image at shape (1, 3, 192, 320)\n"
          ]
        },
        {
          "output_type": "stream",
          "name": "stderr",
          "text": [
            "\rProcessing images:  57%|█████▋    | 195/345 [01:00<00:42,  3.54it/s]"
          ]
        },
        {
          "output_type": "stream",
          "name": "stdout",
          "text": [
            "\n",
            "image 1/1 /content/dataset/preprocessed_images/Cars346.png: 224x320 1 license_plate, 33.5ms\n",
            "Speed: 1.3ms preprocess, 33.5ms inference, 0.6ms postprocess per image at shape (1, 3, 224, 320)\n"
          ]
        },
        {
          "output_type": "stream",
          "name": "stderr",
          "text": [
            "\rProcessing images:  57%|█████▋    | 196/345 [01:00<00:40,  3.70it/s]"
          ]
        },
        {
          "output_type": "stream",
          "name": "stdout",
          "text": [
            "\n",
            "image 1/1 /content/dataset/preprocessed_images/Cars299.png: 256x320 1 license_plate, 39.0ms\n",
            "Speed: 1.3ms preprocess, 39.0ms inference, 0.7ms postprocess per image at shape (1, 3, 256, 320)\n"
          ]
        },
        {
          "output_type": "stream",
          "name": "stderr",
          "text": [
            "\rProcessing images:  57%|█████▋    | 197/345 [01:01<00:39,  3.71it/s]"
          ]
        },
        {
          "output_type": "stream",
          "name": "stdout",
          "text": [
            "\n",
            "image 1/1 /content/dataset/preprocessed_images/Cars332.png: 192x320 1 license_plate, 38.5ms\n",
            "Speed: 1.1ms preprocess, 38.5ms inference, 1.0ms postprocess per image at shape (1, 3, 192, 320)\n"
          ]
        },
        {
          "output_type": "stream",
          "name": "stderr",
          "text": [
            "\rProcessing images:  57%|█████▋    | 198/345 [01:01<00:39,  3.77it/s]"
          ]
        },
        {
          "output_type": "stream",
          "name": "stdout",
          "text": [
            "\n",
            "image 1/1 /content/dataset/preprocessed_images/Cars260.png: 192x320 1 license_plate, 30.9ms\n",
            "Speed: 1.2ms preprocess, 30.9ms inference, 0.8ms postprocess per image at shape (1, 3, 192, 320)\n"
          ]
        },
        {
          "output_type": "stream",
          "name": "stderr",
          "text": [
            "\rProcessing images:  58%|█████▊    | 199/345 [01:01<00:37,  3.90it/s]"
          ]
        },
        {
          "output_type": "stream",
          "name": "stdout",
          "text": [
            "\n",
            "image 1/1 /content/dataset/preprocessed_images/Cars354.png: 224x320 1 license_plate, 33.5ms\n",
            "Speed: 1.2ms preprocess, 33.5ms inference, 0.7ms postprocess per image at shape (1, 3, 224, 320)\n"
          ]
        },
        {
          "output_type": "stream",
          "name": "stderr",
          "text": [
            "\rProcessing images:  58%|█████▊    | 200/345 [01:01<00:37,  3.91it/s]"
          ]
        },
        {
          "output_type": "stream",
          "name": "stdout",
          "text": [
            "\n",
            "image 1/1 /content/dataset/preprocessed_images/Cars58.png: 224x320 1 license_plate, 35.6ms\n",
            "Speed: 1.8ms preprocess, 35.6ms inference, 0.7ms postprocess per image at shape (1, 3, 224, 320)\n"
          ]
        },
        {
          "output_type": "stream",
          "name": "stderr",
          "text": [
            "\rProcessing images:  58%|█████▊    | 201/345 [01:02<00:36,  4.00it/s]"
          ]
        },
        {
          "output_type": "stream",
          "name": "stdout",
          "text": [
            "\n",
            "image 1/1 /content/dataset/preprocessed_images/Cars18.png: 256x320 1 license_plate, 38.4ms\n",
            "Speed: 1.3ms preprocess, 38.4ms inference, 0.7ms postprocess per image at shape (1, 3, 256, 320)\n"
          ]
        },
        {
          "output_type": "stream",
          "name": "stderr",
          "text": [
            "\rProcessing images:  59%|█████▊    | 202/345 [01:02<00:37,  3.78it/s]"
          ]
        },
        {
          "output_type": "stream",
          "name": "stdout",
          "text": [
            "\n",
            "image 1/1 /content/dataset/preprocessed_images/Cars135.png: 192x320 1 license_plate, 32.8ms\n",
            "Speed: 1.0ms preprocess, 32.8ms inference, 0.8ms postprocess per image at shape (1, 3, 192, 320)\n"
          ]
        },
        {
          "output_type": "stream",
          "name": "stderr",
          "text": [
            "\rProcessing images:  59%|█████▉    | 203/345 [01:02<00:35,  3.97it/s]"
          ]
        },
        {
          "output_type": "stream",
          "name": "stdout",
          "text": [
            "\n",
            "image 1/1 /content/dataset/preprocessed_images/Cars405.png: 192x320 1 license_plate, 34.0ms\n",
            "Speed: 1.1ms preprocess, 34.0ms inference, 0.7ms postprocess per image at shape (1, 3, 192, 320)\n"
          ]
        },
        {
          "output_type": "stream",
          "name": "stderr",
          "text": [
            "\rProcessing images:  59%|█████▉    | 204/345 [01:02<00:35,  4.01it/s]"
          ]
        },
        {
          "output_type": "stream",
          "name": "stdout",
          "text": [
            "\n",
            "image 1/1 /content/dataset/preprocessed_images/Cars35.png: 224x320 1 license_plate, 35.2ms\n",
            "Speed: 1.3ms preprocess, 35.2ms inference, 0.7ms postprocess per image at shape (1, 3, 224, 320)\n"
          ]
        },
        {
          "output_type": "stream",
          "name": "stderr",
          "text": [
            "\rProcessing images:  59%|█████▉    | 205/345 [01:03<00:35,  3.97it/s]"
          ]
        },
        {
          "output_type": "stream",
          "name": "stdout",
          "text": [
            "\n",
            "image 1/1 /content/dataset/preprocessed_images/Cars223.png: 224x320 1 license_plate, 40.1ms\n",
            "Speed: 1.4ms preprocess, 40.1ms inference, 0.8ms postprocess per image at shape (1, 3, 224, 320)\n"
          ]
        },
        {
          "output_type": "stream",
          "name": "stderr",
          "text": [
            "\rProcessing images:  60%|█████▉    | 206/345 [01:03<00:36,  3.77it/s]"
          ]
        },
        {
          "output_type": "stream",
          "name": "stdout",
          "text": [
            "\n",
            "image 1/1 /content/dataset/preprocessed_images/Cars63.png: 224x320 1 license_plate, 34.6ms\n",
            "Speed: 1.4ms preprocess, 34.6ms inference, 0.7ms postprocess per image at shape (1, 3, 224, 320)\n"
          ]
        },
        {
          "output_type": "stream",
          "name": "stderr",
          "text": [
            "\rProcessing images:  60%|██████    | 207/345 [01:03<00:36,  3.81it/s]"
          ]
        },
        {
          "output_type": "stream",
          "name": "stdout",
          "text": [
            "\n",
            "image 1/1 /content/dataset/preprocessed_images/Cars320.png: 320x256 1 license_plate, 40.9ms\n",
            "Speed: 1.3ms preprocess, 40.9ms inference, 0.7ms postprocess per image at shape (1, 3, 320, 256)\n"
          ]
        },
        {
          "output_type": "stream",
          "name": "stderr",
          "text": [
            "\rProcessing images:  60%|██████    | 208/345 [01:03<00:36,  3.77it/s]"
          ]
        },
        {
          "output_type": "stream",
          "name": "stdout",
          "text": [
            "\n",
            "image 1/1 /content/dataset/preprocessed_images/Cars286.png: 256x320 1 license_plate, 40.4ms\n",
            "Speed: 1.3ms preprocess, 40.4ms inference, 0.8ms postprocess per image at shape (1, 3, 256, 320)\n"
          ]
        },
        {
          "output_type": "stream",
          "name": "stderr",
          "text": [
            "\rProcessing images:  61%|██████    | 209/345 [01:04<00:36,  3.71it/s]"
          ]
        },
        {
          "output_type": "stream",
          "name": "stdout",
          "text": [
            "\n",
            "image 1/1 /content/dataset/preprocessed_images/Cars113.png: 256x320 1 license_plate, 42.6ms\n",
            "Speed: 1.2ms preprocess, 42.6ms inference, 1.4ms postprocess per image at shape (1, 3, 256, 320)\n"
          ]
        },
        {
          "output_type": "stream",
          "name": "stderr",
          "text": [
            "\rProcessing images:  61%|██████    | 210/345 [01:04<00:37,  3.64it/s]"
          ]
        },
        {
          "output_type": "stream",
          "name": "stdout",
          "text": [
            "\n",
            "image 1/1 /content/dataset/preprocessed_images/Cars104.png: 256x320 1 license_plate, 45.5ms\n",
            "Speed: 1.2ms preprocess, 45.5ms inference, 0.8ms postprocess per image at shape (1, 3, 256, 320)\n"
          ]
        },
        {
          "output_type": "stream",
          "name": "stderr",
          "text": [
            "\rProcessing images:  61%|██████    | 211/345 [01:04<00:37,  3.60it/s]"
          ]
        },
        {
          "output_type": "stream",
          "name": "stdout",
          "text": [
            "\n",
            "image 1/1 /content/dataset/preprocessed_images/Cars122.png: 256x320 1 license_plate, 36.5ms\n",
            "Speed: 1.2ms preprocess, 36.5ms inference, 0.7ms postprocess per image at shape (1, 3, 256, 320)\n"
          ]
        },
        {
          "output_type": "stream",
          "name": "stderr",
          "text": [
            "\rProcessing images:  61%|██████▏   | 212/345 [01:05<00:36,  3.62it/s]"
          ]
        },
        {
          "output_type": "stream",
          "name": "stdout",
          "text": [
            "\n",
            "image 1/1 /content/dataset/preprocessed_images/Cars272.png: 160x320 1 license_plate, 28.0ms\n",
            "Speed: 1.3ms preprocess, 28.0ms inference, 0.7ms postprocess per image at shape (1, 3, 160, 320)\n"
          ]
        },
        {
          "output_type": "stream",
          "name": "stderr",
          "text": [
            "\rProcessing images:  62%|██████▏   | 213/345 [01:05<00:33,  3.96it/s]"
          ]
        },
        {
          "output_type": "stream",
          "name": "stdout",
          "text": [
            "\n",
            "image 1/1 /content/dataset/preprocessed_images/Cars49.png: 224x320 1 license_plate, 48.4ms\n",
            "Speed: 1.3ms preprocess, 48.4ms inference, 1.0ms postprocess per image at shape (1, 3, 224, 320)\n"
          ]
        },
        {
          "output_type": "stream",
          "name": "stderr",
          "text": [
            "\rProcessing images:  62%|██████▏   | 214/345 [01:05<00:33,  3.90it/s]"
          ]
        },
        {
          "output_type": "stream",
          "name": "stdout",
          "text": [
            "\n",
            "image 1/1 /content/dataset/preprocessed_images/Cars345.png: 256x320 1 license_plate, 39.6ms\n",
            "Speed: 1.5ms preprocess, 39.6ms inference, 0.7ms postprocess per image at shape (1, 3, 256, 320)\n"
          ]
        },
        {
          "output_type": "stream",
          "name": "stderr",
          "text": [
            "\rProcessing images:  62%|██████▏   | 215/345 [01:05<00:33,  3.86it/s]"
          ]
        },
        {
          "output_type": "stream",
          "name": "stdout",
          "text": [
            "\n",
            "image 1/1 /content/dataset/preprocessed_images/Cars258.png: 224x320 1 license_plate, 35.4ms\n",
            "Speed: 1.2ms preprocess, 35.4ms inference, 0.7ms postprocess per image at shape (1, 3, 224, 320)\n"
          ]
        },
        {
          "output_type": "stream",
          "name": "stderr",
          "text": [
            "\rProcessing images:  63%|██████▎   | 216/345 [01:05<00:32,  3.91it/s]"
          ]
        },
        {
          "output_type": "stream",
          "name": "stdout",
          "text": [
            "\n",
            "image 1/1 /content/dataset/preprocessed_images/Cars318.png: 192x320 1 license_plate, 33.1ms\n",
            "Speed: 1.7ms preprocess, 33.1ms inference, 0.7ms postprocess per image at shape (1, 3, 192, 320)\n"
          ]
        },
        {
          "output_type": "stream",
          "name": "stderr",
          "text": [
            "\rProcessing images:  63%|██████▎   | 217/345 [01:06<00:31,  4.04it/s]"
          ]
        },
        {
          "output_type": "stream",
          "name": "stdout",
          "text": [
            "\n",
            "image 1/1 /content/dataset/preprocessed_images/Cars302.png: 160x320 2 license_plates, 28.0ms\n",
            "Speed: 0.9ms preprocess, 28.0ms inference, 0.7ms postprocess per image at shape (1, 3, 160, 320)\n"
          ]
        },
        {
          "output_type": "stream",
          "name": "stderr",
          "text": [
            "\rProcessing images:  63%|██████▎   | 218/345 [01:06<00:30,  4.21it/s]"
          ]
        },
        {
          "output_type": "stream",
          "name": "stdout",
          "text": [
            "\n",
            "image 1/1 /content/dataset/preprocessed_images/Cars159.png: 288x320 2 license_plates, 43.7ms\n",
            "Speed: 1.2ms preprocess, 43.7ms inference, 0.8ms postprocess per image at shape (1, 3, 288, 320)\n"
          ]
        },
        {
          "output_type": "stream",
          "name": "stderr",
          "text": [
            "\rProcessing images:  63%|██████▎   | 219/345 [01:06<00:32,  3.94it/s]"
          ]
        },
        {
          "output_type": "stream",
          "name": "stdout",
          "text": [
            "\n",
            "image 1/1 /content/dataset/preprocessed_images/Cars8.png: 160x320 1 license_plate, 29.5ms\n",
            "Speed: 0.9ms preprocess, 29.5ms inference, 0.6ms postprocess per image at shape (1, 3, 160, 320)\n"
          ]
        },
        {
          "output_type": "stream",
          "name": "stderr",
          "text": [
            "\rProcessing images:  64%|██████▍   | 220/345 [01:06<00:29,  4.22it/s]"
          ]
        },
        {
          "output_type": "stream",
          "name": "stdout",
          "text": [
            "\n",
            "image 1/1 /content/dataset/preprocessed_images/Cars269.png: 256x320 1 license_plate, 38.8ms\n",
            "Speed: 1.3ms preprocess, 38.8ms inference, 0.7ms postprocess per image at shape (1, 3, 256, 320)\n"
          ]
        },
        {
          "output_type": "stream",
          "name": "stderr",
          "text": [
            "\rProcessing images:  64%|██████▍   | 221/345 [01:07<00:30,  4.04it/s]"
          ]
        },
        {
          "output_type": "stream",
          "name": "stdout",
          "text": [
            "\n",
            "image 1/1 /content/dataset/preprocessed_images/Cars304.png: 192x320 1 license_plate, 29.6ms\n",
            "Speed: 1.1ms preprocess, 29.6ms inference, 0.7ms postprocess per image at shape (1, 3, 192, 320)\n"
          ]
        },
        {
          "output_type": "stream",
          "name": "stderr",
          "text": [
            "\rProcessing images:  64%|██████▍   | 222/345 [01:07<00:30,  4.10it/s]"
          ]
        },
        {
          "output_type": "stream",
          "name": "stdout",
          "text": [
            "\n",
            "image 1/1 /content/dataset/preprocessed_images/Cars17.png: 224x320 2 license_plates, 34.4ms\n",
            "Speed: 1.2ms preprocess, 34.4ms inference, 0.7ms postprocess per image at shape (1, 3, 224, 320)\n"
          ]
        },
        {
          "output_type": "stream",
          "name": "stderr",
          "text": [
            "\rProcessing images:  65%|██████▍   | 223/345 [01:07<00:30,  4.05it/s]"
          ]
        },
        {
          "output_type": "stream",
          "name": "stdout",
          "text": [
            "\n",
            "image 1/1 /content/dataset/preprocessed_images/Cars337.png: 256x320 2 license_plates, 42.7ms\n",
            "Speed: 1.3ms preprocess, 42.7ms inference, 0.7ms postprocess per image at shape (1, 3, 256, 320)\n"
          ]
        },
        {
          "output_type": "stream",
          "name": "stderr",
          "text": [
            "\rProcessing images:  65%|██████▍   | 224/345 [01:07<00:30,  3.92it/s]"
          ]
        },
        {
          "output_type": "stream",
          "name": "stdout",
          "text": [
            "\n",
            "image 1/1 /content/dataset/preprocessed_images/Cars349.png: 224x320 1 license_plate, 38.8ms\n",
            "Speed: 1.3ms preprocess, 38.8ms inference, 0.8ms postprocess per image at shape (1, 3, 224, 320)\n"
          ]
        },
        {
          "output_type": "stream",
          "name": "stderr",
          "text": [
            "\rProcessing images:  65%|██████▌   | 225/345 [01:08<00:30,  3.92it/s]"
          ]
        },
        {
          "output_type": "stream",
          "name": "stdout",
          "text": [
            "\n",
            "image 1/1 /content/dataset/preprocessed_images/Cars178.png: 256x320 1 license_plate, 35.1ms\n",
            "Speed: 1.1ms preprocess, 35.1ms inference, 0.7ms postprocess per image at shape (1, 3, 256, 320)\n"
          ]
        },
        {
          "output_type": "stream",
          "name": "stderr",
          "text": [
            "\rProcessing images:  66%|██████▌   | 226/345 [01:08<00:30,  3.86it/s]"
          ]
        },
        {
          "output_type": "stream",
          "name": "stdout",
          "text": [
            "\n",
            "image 1/1 /content/dataset/preprocessed_images/Cars1.png: 224x320 1 license_plate, 33.6ms\n",
            "Speed: 1.3ms preprocess, 33.6ms inference, 0.7ms postprocess per image at shape (1, 3, 224, 320)\n"
          ]
        },
        {
          "output_type": "stream",
          "name": "stderr",
          "text": [
            "\rProcessing images:  66%|██████▌   | 227/345 [01:08<00:29,  3.95it/s]"
          ]
        },
        {
          "output_type": "stream",
          "name": "stdout",
          "text": [
            "\n",
            "image 1/1 /content/dataset/preprocessed_images/Cars247.png: 192x320 1 license_plate, 27.8ms\n",
            "Speed: 0.9ms preprocess, 27.8ms inference, 0.9ms postprocess per image at shape (1, 3, 192, 320)\n"
          ]
        },
        {
          "output_type": "stream",
          "name": "stderr",
          "text": [
            "\rProcessing images:  66%|██████▌   | 228/345 [01:08<00:28,  4.07it/s]"
          ]
        },
        {
          "output_type": "stream",
          "name": "stdout",
          "text": [
            "\n",
            "image 1/1 /content/dataset/preprocessed_images/Cars377.png: 192x320 1 license_plate, 30.4ms\n",
            "Speed: 1.3ms preprocess, 30.4ms inference, 0.7ms postprocess per image at shape (1, 3, 192, 320)\n"
          ]
        },
        {
          "output_type": "stream",
          "name": "stderr",
          "text": [
            "\rProcessing images:  66%|██████▋   | 229/345 [01:09<00:28,  4.05it/s]"
          ]
        },
        {
          "output_type": "stream",
          "name": "stdout",
          "text": [
            "\n",
            "image 1/1 /content/dataset/preprocessed_images/Cars243.png: 256x320 1 license_plate, 38.8ms\n",
            "Speed: 1.5ms preprocess, 38.8ms inference, 0.7ms postprocess per image at shape (1, 3, 256, 320)\n"
          ]
        },
        {
          "output_type": "stream",
          "name": "stderr",
          "text": [
            "\rProcessing images:  67%|██████▋   | 230/345 [01:09<00:31,  3.70it/s]"
          ]
        },
        {
          "output_type": "stream",
          "name": "stdout",
          "text": [
            "\n",
            "image 1/1 /content/dataset/preprocessed_images/Cars196.png: 224x320 (no detections), 57.8ms\n",
            "Speed: 1.4ms preprocess, 57.8ms inference, 0.6ms postprocess per image at shape (1, 3, 224, 320)\n"
          ]
        },
        {
          "output_type": "stream",
          "name": "stderr",
          "text": [
            "\rProcessing images:  67%|██████▋   | 231/345 [01:09<00:33,  3.39it/s]"
          ]
        },
        {
          "output_type": "stream",
          "name": "stdout",
          "text": [
            "\n",
            "image 1/1 /content/dataset/preprocessed_images/Cars355.png: 224x320 1 license_plate, 47.5ms\n",
            "Speed: 1.2ms preprocess, 47.5ms inference, 0.9ms postprocess per image at shape (1, 3, 224, 320)\n"
          ]
        },
        {
          "output_type": "stream",
          "name": "stderr",
          "text": [
            "\rProcessing images:  67%|██████▋   | 232/345 [01:10<00:35,  3.19it/s]"
          ]
        },
        {
          "output_type": "stream",
          "name": "stdout",
          "text": [
            "\n",
            "image 1/1 /content/dataset/preprocessed_images/Cars52.png: 256x320 1 license_plate, 47.6ms\n",
            "Speed: 1.3ms preprocess, 47.6ms inference, 0.8ms postprocess per image at shape (1, 3, 256, 320)\n"
          ]
        },
        {
          "output_type": "stream",
          "name": "stderr",
          "text": [
            "\rProcessing images:  68%|██████▊   | 233/345 [01:10<00:37,  2.98it/s]"
          ]
        },
        {
          "output_type": "stream",
          "name": "stdout",
          "text": [
            "\n",
            "image 1/1 /content/dataset/preprocessed_images/Cars284.png: 320x256 1 license_plate, 49.3ms\n",
            "Speed: 1.7ms preprocess, 49.3ms inference, 1.7ms postprocess per image at shape (1, 3, 320, 256)\n"
          ]
        },
        {
          "output_type": "stream",
          "name": "stderr",
          "text": [
            "\rProcessing images:  68%|██████▊   | 234/345 [01:10<00:37,  2.94it/s]"
          ]
        },
        {
          "output_type": "stream",
          "name": "stdout",
          "text": [
            "\n",
            "image 1/1 /content/dataset/preprocessed_images/Cars250.png: 224x320 1 license_plate, 53.8ms\n",
            "Speed: 1.1ms preprocess, 53.8ms inference, 0.9ms postprocess per image at shape (1, 3, 224, 320)\n"
          ]
        },
        {
          "output_type": "stream",
          "name": "stderr",
          "text": [
            "\rProcessing images:  68%|██████▊   | 235/345 [01:11<00:37,  2.96it/s]"
          ]
        },
        {
          "output_type": "stream",
          "name": "stdout",
          "text": [
            "\n",
            "image 1/1 /content/dataset/preprocessed_images/Cars184.png: 192x320 1 license_plate, 41.9ms\n",
            "Speed: 1.0ms preprocess, 41.9ms inference, 1.0ms postprocess per image at shape (1, 3, 192, 320)\n"
          ]
        },
        {
          "output_type": "stream",
          "name": "stderr",
          "text": [
            "\rProcessing images:  68%|██████▊   | 236/345 [01:11<00:36,  2.97it/s]"
          ]
        },
        {
          "output_type": "stream",
          "name": "stdout",
          "text": [
            "\n",
            "image 1/1 /content/dataset/preprocessed_images/Cars312.png: 192x320 1 license_plate, 47.0ms\n",
            "Speed: 1.1ms preprocess, 47.0ms inference, 0.9ms postprocess per image at shape (1, 3, 192, 320)\n"
          ]
        },
        {
          "output_type": "stream",
          "name": "stderr",
          "text": [
            "\rProcessing images:  69%|██████▊   | 237/345 [01:12<00:38,  2.84it/s]"
          ]
        },
        {
          "output_type": "stream",
          "name": "stdout",
          "text": [
            "\n",
            "image 1/1 /content/dataset/preprocessed_images/Cars401.png: 256x320 1 license_plate, 51.6ms\n",
            "Speed: 1.3ms preprocess, 51.6ms inference, 0.9ms postprocess per image at shape (1, 3, 256, 320)\n"
          ]
        },
        {
          "output_type": "stream",
          "name": "stderr",
          "text": [
            "\rProcessing images:  69%|██████▉   | 238/345 [01:12<00:39,  2.73it/s]"
          ]
        },
        {
          "output_type": "stream",
          "name": "stdout",
          "text": [
            "\n",
            "image 1/1 /content/dataset/preprocessed_images/Cars297.png: 192x320 1 license_plate, 46.4ms\n",
            "Speed: 1.0ms preprocess, 46.4ms inference, 0.9ms postprocess per image at shape (1, 3, 192, 320)\n"
          ]
        },
        {
          "output_type": "stream",
          "name": "stderr",
          "text": [
            "\rProcessing images:  69%|██████▉   | 239/345 [01:12<00:38,  2.79it/s]"
          ]
        },
        {
          "output_type": "stream",
          "name": "stdout",
          "text": [
            "\n",
            "image 1/1 /content/dataset/preprocessed_images/Cars22.png: 256x320 1 license_plate, 50.1ms\n",
            "Speed: 1.2ms preprocess, 50.1ms inference, 0.9ms postprocess per image at shape (1, 3, 256, 320)\n"
          ]
        },
        {
          "output_type": "stream",
          "name": "stderr",
          "text": [
            "\rProcessing images:  70%|██████▉   | 240/345 [01:13<00:37,  2.79it/s]"
          ]
        },
        {
          "output_type": "stream",
          "name": "stdout",
          "text": [
            "\n",
            "image 1/1 /content/dataset/preprocessed_images/Cars213.png: 256x320 2 license_plates, 54.1ms\n",
            "Speed: 2.3ms preprocess, 54.1ms inference, 1.0ms postprocess per image at shape (1, 3, 256, 320)\n"
          ]
        },
        {
          "output_type": "stream",
          "name": "stderr",
          "text": [
            "\rProcessing images:  70%|██████▉   | 241/345 [01:13<00:38,  2.67it/s]"
          ]
        },
        {
          "output_type": "stream",
          "name": "stdout",
          "text": [
            "\n",
            "image 1/1 /content/dataset/preprocessed_images/Cars307.png: 224x320 1 license_plate, 57.7ms\n",
            "Speed: 1.1ms preprocess, 57.7ms inference, 0.9ms postprocess per image at shape (1, 3, 224, 320)\n"
          ]
        },
        {
          "output_type": "stream",
          "name": "stderr",
          "text": [
            "\rProcessing images:  70%|███████   | 242/345 [01:13<00:40,  2.54it/s]"
          ]
        },
        {
          "output_type": "stream",
          "name": "stdout",
          "text": [
            "\n",
            "image 1/1 /content/dataset/preprocessed_images/Cars416.png: 256x320 1 license_plate, 66.3ms\n",
            "Speed: 1.2ms preprocess, 66.3ms inference, 0.9ms postprocess per image at shape (1, 3, 256, 320)\n"
          ]
        },
        {
          "output_type": "stream",
          "name": "stderr",
          "text": [
            "\rProcessing images:  70%|███████   | 243/345 [01:14<00:41,  2.48it/s]"
          ]
        },
        {
          "output_type": "stream",
          "name": "stdout",
          "text": [
            "\n",
            "image 1/1 /content/dataset/preprocessed_images/Cars421.png: 256x320 1 license_plate, 68.1ms\n",
            "Speed: 1.2ms preprocess, 68.1ms inference, 5.8ms postprocess per image at shape (1, 3, 256, 320)\n"
          ]
        },
        {
          "output_type": "stream",
          "name": "stderr",
          "text": [
            "\rProcessing images:  71%|███████   | 244/345 [01:14<00:41,  2.41it/s]"
          ]
        },
        {
          "output_type": "stream",
          "name": "stdout",
          "text": [
            "\n",
            "image 1/1 /content/dataset/preprocessed_images/Cars190.png: 256x320 1 license_plate, 52.2ms\n",
            "Speed: 1.5ms preprocess, 52.2ms inference, 1.0ms postprocess per image at shape (1, 3, 256, 320)\n"
          ]
        },
        {
          "output_type": "stream",
          "name": "stderr",
          "text": [
            "\rProcessing images:  71%|███████   | 245/345 [01:15<00:41,  2.42it/s]"
          ]
        },
        {
          "output_type": "stream",
          "name": "stdout",
          "text": [
            "\n",
            "image 1/1 /content/dataset/preprocessed_images/Cars107.png: 192x320 1 license_plate, 49.0ms\n",
            "Speed: 1.3ms preprocess, 49.0ms inference, 1.0ms postprocess per image at shape (1, 3, 192, 320)\n"
          ]
        },
        {
          "output_type": "stream",
          "name": "stderr",
          "text": [
            "\rProcessing images:  71%|███████▏  | 246/345 [01:15<00:39,  2.54it/s]"
          ]
        },
        {
          "output_type": "stream",
          "name": "stdout",
          "text": [
            "\n",
            "image 1/1 /content/dataset/preprocessed_images/Cars360.png: 192x320 1 license_plate, 43.8ms\n",
            "Speed: 1.0ms preprocess, 43.8ms inference, 1.0ms postprocess per image at shape (1, 3, 192, 320)\n"
          ]
        },
        {
          "output_type": "stream",
          "name": "stderr",
          "text": [
            "\rProcessing images:  72%|███████▏  | 247/345 [01:15<00:37,  2.63it/s]"
          ]
        },
        {
          "output_type": "stream",
          "name": "stdout",
          "text": [
            "\n",
            "image 1/1 /content/dataset/preprocessed_images/Cars128.png: 192x320 1 license_plate, 45.6ms\n",
            "Speed: 1.0ms preprocess, 45.6ms inference, 1.0ms postprocess per image at shape (1, 3, 192, 320)\n"
          ]
        },
        {
          "output_type": "stream",
          "name": "stderr",
          "text": [
            "\rProcessing images:  72%|███████▏  | 248/345 [01:16<00:35,  2.71it/s]"
          ]
        },
        {
          "output_type": "stream",
          "name": "stdout",
          "text": [
            "\n",
            "image 1/1 /content/dataset/preprocessed_images/Cars329.png: 224x320 1 license_plate, 52.7ms\n",
            "Speed: 1.1ms preprocess, 52.7ms inference, 0.9ms postprocess per image at shape (1, 3, 224, 320)\n"
          ]
        },
        {
          "output_type": "stream",
          "name": "stderr",
          "text": [
            "\rProcessing images:  72%|███████▏  | 249/345 [01:16<00:35,  2.73it/s]"
          ]
        },
        {
          "output_type": "stream",
          "name": "stdout",
          "text": [
            "\n",
            "image 1/1 /content/dataset/preprocessed_images/Cars330.png: 256x320 (no detections), 51.4ms\n",
            "Speed: 1.2ms preprocess, 51.4ms inference, 0.6ms postprocess per image at shape (1, 3, 256, 320)\n"
          ]
        },
        {
          "output_type": "stream",
          "name": "stderr",
          "text": [
            "\rProcessing images:  72%|███████▏  | 250/345 [01:17<00:36,  2.61it/s]"
          ]
        },
        {
          "output_type": "stream",
          "name": "stdout",
          "text": [
            "\n",
            "image 1/1 /content/dataset/preprocessed_images/Cars231.png: 224x320 1 license_plate, 52.8ms\n",
            "Speed: 2.0ms preprocess, 52.8ms inference, 1.1ms postprocess per image at shape (1, 3, 224, 320)\n"
          ]
        },
        {
          "output_type": "stream",
          "name": "stderr",
          "text": [
            "\rProcessing images:  73%|███████▎  | 251/345 [01:17<00:37,  2.54it/s]"
          ]
        },
        {
          "output_type": "stream",
          "name": "stdout",
          "text": [
            "\n",
            "image 1/1 /content/dataset/preprocessed_images/Cars131.png: 192x320 3 license_plates, 54.0ms\n",
            "Speed: 1.0ms preprocess, 54.0ms inference, 1.1ms postprocess per image at shape (1, 3, 192, 320)\n"
          ]
        },
        {
          "output_type": "stream",
          "name": "stderr",
          "text": [
            "\rProcessing images:  73%|███████▎  | 252/345 [01:17<00:34,  2.66it/s]"
          ]
        },
        {
          "output_type": "stream",
          "name": "stdout",
          "text": [
            "\n",
            "image 1/1 /content/dataset/preprocessed_images/Cars150.png: 256x320 1 license_plate, 54.9ms\n",
            "Speed: 1.2ms preprocess, 54.9ms inference, 0.9ms postprocess per image at shape (1, 3, 256, 320)\n"
          ]
        },
        {
          "output_type": "stream",
          "name": "stderr",
          "text": [
            "\rProcessing images:  73%|███████▎  | 253/345 [01:18<00:32,  2.80it/s]"
          ]
        },
        {
          "output_type": "stream",
          "name": "stdout",
          "text": [
            "\n",
            "image 1/1 /content/dataset/preprocessed_images/Cars111.png: 192x320 1 license_plate, 39.4ms\n",
            "Speed: 1.1ms preprocess, 39.4ms inference, 0.7ms postprocess per image at shape (1, 3, 192, 320)\n"
          ]
        },
        {
          "output_type": "stream",
          "name": "stderr",
          "text": [
            "\rProcessing images:  74%|███████▎  | 254/345 [01:18<00:29,  3.09it/s]"
          ]
        },
        {
          "output_type": "stream",
          "name": "stdout",
          "text": [
            "\n",
            "image 1/1 /content/dataset/preprocessed_images/Cars342.png: 256x320 1 license_plate, 40.5ms\n",
            "Speed: 1.4ms preprocess, 40.5ms inference, 0.7ms postprocess per image at shape (1, 3, 256, 320)\n"
          ]
        },
        {
          "output_type": "stream",
          "name": "stderr",
          "text": [
            "\rProcessing images:  74%|███████▍  | 255/345 [01:18<00:27,  3.24it/s]"
          ]
        },
        {
          "output_type": "stream",
          "name": "stdout",
          "text": [
            "\n",
            "image 1/1 /content/dataset/preprocessed_images/Cars3.png: 192x320 1 license_plate, 31.5ms\n",
            "Speed: 0.9ms preprocess, 31.5ms inference, 0.7ms postprocess per image at shape (1, 3, 192, 320)\n"
          ]
        },
        {
          "output_type": "stream",
          "name": "stderr",
          "text": [
            "\rProcessing images:  74%|███████▍  | 256/345 [01:18<00:25,  3.53it/s]"
          ]
        },
        {
          "output_type": "stream",
          "name": "stdout",
          "text": [
            "\n",
            "image 1/1 /content/dataset/preprocessed_images/Cars376.png: 224x320 1 license_plate, 33.0ms\n",
            "Speed: 1.2ms preprocess, 33.0ms inference, 0.7ms postprocess per image at shape (1, 3, 224, 320)\n"
          ]
        },
        {
          "output_type": "stream",
          "name": "stderr",
          "text": [
            "\rProcessing images:  74%|███████▍  | 257/345 [01:19<00:24,  3.60it/s]"
          ]
        },
        {
          "output_type": "stream",
          "name": "stdout",
          "text": [
            "\n",
            "image 1/1 /content/dataset/preprocessed_images/Cars175.png: 256x320 1 license_plate, 39.8ms\n",
            "Speed: 1.3ms preprocess, 39.8ms inference, 0.7ms postprocess per image at shape (1, 3, 256, 320)\n"
          ]
        },
        {
          "output_type": "stream",
          "name": "stderr",
          "text": [
            "\rProcessing images:  75%|███████▍  | 258/345 [01:19<00:24,  3.56it/s]"
          ]
        },
        {
          "output_type": "stream",
          "name": "stdout",
          "text": [
            "\n",
            "image 1/1 /content/dataset/preprocessed_images/Cars69.png: 224x320 1 license_plate, 36.0ms\n",
            "Speed: 1.2ms preprocess, 36.0ms inference, 0.7ms postprocess per image at shape (1, 3, 224, 320)\n"
          ]
        },
        {
          "output_type": "stream",
          "name": "stderr",
          "text": [
            "\rProcessing images:  75%|███████▌  | 259/345 [01:19<00:23,  3.67it/s]"
          ]
        },
        {
          "output_type": "stream",
          "name": "stdout",
          "text": [
            "\n",
            "image 1/1 /content/dataset/preprocessed_images/Cars24.png: 256x320 1 license_plate, 36.5ms\n",
            "Speed: 1.4ms preprocess, 36.5ms inference, 0.8ms postprocess per image at shape (1, 3, 256, 320)\n"
          ]
        },
        {
          "output_type": "stream",
          "name": "stderr",
          "text": [
            "\rProcessing images:  75%|███████▌  | 260/345 [01:19<00:22,  3.70it/s]"
          ]
        },
        {
          "output_type": "stream",
          "name": "stdout",
          "text": [
            "\n",
            "image 1/1 /content/dataset/preprocessed_images/Cars169.png: 160x320 1 license_plate, 37.4ms\n",
            "Speed: 0.9ms preprocess, 37.4ms inference, 1.0ms postprocess per image at shape (1, 3, 160, 320)\n"
          ]
        },
        {
          "output_type": "stream",
          "name": "stderr",
          "text": [
            "\rProcessing images:  76%|███████▌  | 261/345 [01:20<00:22,  3.81it/s]"
          ]
        },
        {
          "output_type": "stream",
          "name": "stdout",
          "text": [
            "\n",
            "image 1/1 /content/dataset/preprocessed_images/Cars161.png: 256x320 1 license_plate, 33.6ms\n",
            "Speed: 1.5ms preprocess, 33.6ms inference, 0.6ms postprocess per image at shape (1, 3, 256, 320)\n"
          ]
        },
        {
          "output_type": "stream",
          "name": "stderr",
          "text": [
            "\rProcessing images:  76%|███████▌  | 262/345 [01:20<00:22,  3.76it/s]"
          ]
        },
        {
          "output_type": "stream",
          "name": "stdout",
          "text": [
            "\n",
            "image 1/1 /content/dataset/preprocessed_images/Cars233.png: 128x320 1 license_plate, 25.3ms\n",
            "Speed: 0.7ms preprocess, 25.3ms inference, 0.7ms postprocess per image at shape (1, 3, 128, 320)\n"
          ]
        },
        {
          "output_type": "stream",
          "name": "stderr",
          "text": [
            "\rProcessing images:  76%|███████▌  | 263/345 [01:20<00:19,  4.22it/s]"
          ]
        },
        {
          "output_type": "stream",
          "name": "stdout",
          "text": [
            "\n",
            "image 1/1 /content/dataset/preprocessed_images/Cars375.png: 256x320 1 license_plate, 47.1ms\n",
            "Speed: 1.1ms preprocess, 47.1ms inference, 0.6ms postprocess per image at shape (1, 3, 256, 320)\n"
          ]
        },
        {
          "output_type": "stream",
          "name": "stderr",
          "text": [
            "\rProcessing images:  77%|███████▋  | 264/345 [01:20<00:20,  4.05it/s]"
          ]
        },
        {
          "output_type": "stream",
          "name": "stdout",
          "text": [
            "\n",
            "image 1/1 /content/dataset/preprocessed_images/Cars241.png: 224x320 1 license_plate, 31.9ms\n",
            "Speed: 1.6ms preprocess, 31.9ms inference, 0.7ms postprocess per image at shape (1, 3, 224, 320)\n"
          ]
        },
        {
          "output_type": "stream",
          "name": "stderr",
          "text": [
            "\rProcessing images:  77%|███████▋  | 265/345 [01:21<00:19,  4.03it/s]"
          ]
        },
        {
          "output_type": "stream",
          "name": "stdout",
          "text": [
            "\n",
            "image 1/1 /content/dataset/preprocessed_images/Cars65.png: 288x320 1 license_plate, 43.9ms\n",
            "Speed: 1.5ms preprocess, 43.9ms inference, 0.7ms postprocess per image at shape (1, 3, 288, 320)\n"
          ]
        },
        {
          "output_type": "stream",
          "name": "stderr",
          "text": [
            "\rProcessing images:  77%|███████▋  | 266/345 [01:21<00:20,  3.86it/s]"
          ]
        },
        {
          "output_type": "stream",
          "name": "stdout",
          "text": [
            "\n",
            "image 1/1 /content/dataset/preprocessed_images/Cars277.png: 256x320 1 license_plate, 35.5ms\n",
            "Speed: 1.1ms preprocess, 35.5ms inference, 0.8ms postprocess per image at shape (1, 3, 256, 320)\n"
          ]
        },
        {
          "output_type": "stream",
          "name": "stderr",
          "text": [
            "\rProcessing images:  77%|███████▋  | 267/345 [01:21<00:20,  3.83it/s]"
          ]
        },
        {
          "output_type": "stream",
          "name": "stdout",
          "text": [
            "\n",
            "image 1/1 /content/dataset/preprocessed_images/Cars411.png: 224x320 1 license_plate, 36.3ms\n",
            "Speed: 1.2ms preprocess, 36.3ms inference, 0.7ms postprocess per image at shape (1, 3, 224, 320)\n"
          ]
        },
        {
          "output_type": "stream",
          "name": "stderr",
          "text": [
            "\rProcessing images:  78%|███████▊  | 268/345 [01:21<00:19,  3.88it/s]"
          ]
        },
        {
          "output_type": "stream",
          "name": "stdout",
          "text": [
            "\n",
            "image 1/1 /content/dataset/preprocessed_images/Cars40.png: 192x320 1 license_plate, 36.8ms\n",
            "Speed: 0.9ms preprocess, 36.8ms inference, 0.7ms postprocess per image at shape (1, 3, 192, 320)\n"
          ]
        },
        {
          "output_type": "stream",
          "name": "stderr",
          "text": [
            "\rProcessing images:  78%|███████▊  | 269/345 [01:22<00:19,  3.94it/s]"
          ]
        },
        {
          "output_type": "stream",
          "name": "stdout",
          "text": [
            "\n",
            "image 1/1 /content/dataset/preprocessed_images/Cars430.png: 192x320 1 license_plate, 33.3ms\n",
            "Speed: 1.0ms preprocess, 33.3ms inference, 0.7ms postprocess per image at shape (1, 3, 192, 320)\n"
          ]
        },
        {
          "output_type": "stream",
          "name": "stderr",
          "text": [
            "\rProcessing images:  78%|███████▊  | 270/345 [01:22<00:18,  4.06it/s]"
          ]
        },
        {
          "output_type": "stream",
          "name": "stdout",
          "text": [
            "\n",
            "image 1/1 /content/dataset/preprocessed_images/Cars240.png: 192x320 1 license_plate, 32.9ms\n",
            "Speed: 1.3ms preprocess, 32.9ms inference, 0.7ms postprocess per image at shape (1, 3, 192, 320)\n"
          ]
        },
        {
          "output_type": "stream",
          "name": "stderr",
          "text": [
            "\rProcessing images:  79%|███████▊  | 271/345 [01:22<00:17,  4.17it/s]"
          ]
        },
        {
          "output_type": "stream",
          "name": "stdout",
          "text": [
            "\n",
            "image 1/1 /content/dataset/preprocessed_images/Cars214.png: 224x320 1 license_plate, 35.2ms\n",
            "Speed: 0.8ms preprocess, 35.2ms inference, 0.7ms postprocess per image at shape (1, 3, 224, 320)\n"
          ]
        },
        {
          "output_type": "stream",
          "name": "stderr",
          "text": [
            "\rProcessing images:  79%|███████▉  | 272/345 [01:22<00:17,  4.15it/s]"
          ]
        },
        {
          "output_type": "stream",
          "name": "stdout",
          "text": [
            "\n",
            "image 1/1 /content/dataset/preprocessed_images/Cars187.png: 192x320 1 license_plate, 31.9ms\n",
            "Speed: 1.2ms preprocess, 31.9ms inference, 0.7ms postprocess per image at shape (1, 3, 192, 320)\n"
          ]
        },
        {
          "output_type": "stream",
          "name": "stderr",
          "text": [
            "\rProcessing images:  79%|███████▉  | 273/345 [01:23<00:17,  4.20it/s]"
          ]
        },
        {
          "output_type": "stream",
          "name": "stdout",
          "text": [
            "\n",
            "image 1/1 /content/dataset/preprocessed_images/Cars207.png: 320x288 2 license_plates, 50.2ms\n",
            "Speed: 2.1ms preprocess, 50.2ms inference, 1.0ms postprocess per image at shape (1, 3, 320, 288)\n"
          ]
        },
        {
          "output_type": "stream",
          "name": "stderr",
          "text": [
            "\rProcessing images:  79%|███████▉  | 274/345 [01:23<00:18,  3.81it/s]"
          ]
        },
        {
          "output_type": "stream",
          "name": "stdout",
          "text": [
            "\n",
            "image 1/1 /content/dataset/preprocessed_images/Cars98.png: 320x320 1 license_plate, 43.0ms\n",
            "Speed: 1.6ms preprocess, 43.0ms inference, 0.7ms postprocess per image at shape (1, 3, 320, 320)\n"
          ]
        },
        {
          "output_type": "stream",
          "name": "stderr",
          "text": [
            "\rProcessing images:  80%|███████▉  | 275/345 [01:23<00:19,  3.67it/s]"
          ]
        },
        {
          "output_type": "stream",
          "name": "stdout",
          "text": [
            "\n",
            "image 1/1 /content/dataset/preprocessed_images/Cars129.png: 256x320 1 license_plate, 37.8ms\n",
            "Speed: 1.3ms preprocess, 37.8ms inference, 0.7ms postprocess per image at shape (1, 3, 256, 320)\n"
          ]
        },
        {
          "output_type": "stream",
          "name": "stderr",
          "text": [
            "\rProcessing images:  80%|████████  | 276/345 [01:24<00:18,  3.67it/s]"
          ]
        },
        {
          "output_type": "stream",
          "name": "stdout",
          "text": [
            "\n",
            "image 1/1 /content/dataset/preprocessed_images/Cars143.png: 224x320 2 license_plates, 37.8ms\n",
            "Speed: 1.5ms preprocess, 37.8ms inference, 0.8ms postprocess per image at shape (1, 3, 224, 320)\n"
          ]
        },
        {
          "output_type": "stream",
          "name": "stderr",
          "text": [
            "\rProcessing images:  80%|████████  | 277/345 [01:24<00:18,  3.70it/s]"
          ]
        },
        {
          "output_type": "stream",
          "name": "stdout",
          "text": [
            "\n",
            "image 1/1 /content/dataset/preprocessed_images/Cars132.png: 192x320 (no detections), 29.2ms\n",
            "Speed: 1.2ms preprocess, 29.2ms inference, 0.3ms postprocess per image at shape (1, 3, 192, 320)\n"
          ]
        },
        {
          "output_type": "stream",
          "name": "stderr",
          "text": [
            "\rProcessing images:  81%|████████  | 278/345 [01:24<00:17,  3.88it/s]"
          ]
        },
        {
          "output_type": "stream",
          "name": "stdout",
          "text": [
            "\n",
            "image 1/1 /content/dataset/preprocessed_images/Cars356.png: 224x320 1 license_plate, 33.6ms\n",
            "Speed: 1.0ms preprocess, 33.6ms inference, 0.7ms postprocess per image at shape (1, 3, 224, 320)\n"
          ]
        },
        {
          "output_type": "stream",
          "name": "stderr",
          "text": [
            "\rProcessing images:  81%|████████  | 279/345 [01:24<00:17,  3.88it/s]"
          ]
        },
        {
          "output_type": "stream",
          "name": "stdout",
          "text": [
            "\n",
            "image 1/1 /content/dataset/preprocessed_images/Cars219.png: 256x320 1 license_plate, 44.7ms\n",
            "Speed: 1.6ms preprocess, 44.7ms inference, 1.1ms postprocess per image at shape (1, 3, 256, 320)\n"
          ]
        },
        {
          "output_type": "stream",
          "name": "stderr",
          "text": [
            "\rProcessing images:  81%|████████  | 280/345 [01:25<00:17,  3.75it/s]"
          ]
        },
        {
          "output_type": "stream",
          "name": "stdout",
          "text": [
            "\n",
            "image 1/1 /content/dataset/preprocessed_images/Cars397.png: 256x320 2 license_plates, 36.7ms\n",
            "Speed: 1.3ms preprocess, 36.7ms inference, 0.8ms postprocess per image at shape (1, 3, 256, 320)\n"
          ]
        },
        {
          "output_type": "stream",
          "name": "stderr",
          "text": [
            "\rProcessing images:  81%|████████▏ | 281/345 [01:25<00:17,  3.66it/s]"
          ]
        },
        {
          "output_type": "stream",
          "name": "stdout",
          "text": [
            "\n",
            "image 1/1 /content/dataset/preprocessed_images/Cars254.png: 320x320 1 license_plate, 39.9ms\n",
            "Speed: 1.6ms preprocess, 39.9ms inference, 2.0ms postprocess per image at shape (1, 3, 320, 320)\n"
          ]
        },
        {
          "output_type": "stream",
          "name": "stderr",
          "text": [
            "\rProcessing images:  82%|████████▏ | 282/345 [01:25<00:17,  3.54it/s]"
          ]
        },
        {
          "output_type": "stream",
          "name": "stdout",
          "text": [
            "\n",
            "image 1/1 /content/dataset/preprocessed_images/Cars83.png: 256x320 1 license_plate, 32.8ms\n",
            "Speed: 1.6ms preprocess, 32.8ms inference, 0.6ms postprocess per image at shape (1, 3, 256, 320)\n"
          ]
        },
        {
          "output_type": "stream",
          "name": "stderr",
          "text": [
            "\rProcessing images:  82%|████████▏ | 283/345 [01:25<00:17,  3.56it/s]"
          ]
        },
        {
          "output_type": "stream",
          "name": "stdout",
          "text": [
            "\n",
            "image 1/1 /content/dataset/preprocessed_images/Cars165.png: 192x320 2 license_plates, 30.7ms\n",
            "Speed: 1.2ms preprocess, 30.7ms inference, 0.7ms postprocess per image at shape (1, 3, 192, 320)\n"
          ]
        },
        {
          "output_type": "stream",
          "name": "stderr",
          "text": [
            "\rProcessing images:  82%|████████▏ | 284/345 [01:26<00:17,  3.54it/s]"
          ]
        },
        {
          "output_type": "stream",
          "name": "stdout",
          "text": [
            "\n",
            "image 1/1 /content/dataset/preprocessed_images/Cars116.png: 288x320 1 license_plate, 69.1ms\n",
            "Speed: 1.4ms preprocess, 69.1ms inference, 0.8ms postprocess per image at shape (1, 3, 288, 320)\n"
          ]
        },
        {
          "output_type": "stream",
          "name": "stderr",
          "text": [
            "\rProcessing images:  83%|████████▎ | 285/345 [01:26<00:17,  3.43it/s]"
          ]
        },
        {
          "output_type": "stream",
          "name": "stdout",
          "text": [
            "\n",
            "image 1/1 /content/dataset/preprocessed_images/Cars229.png: 192x320 (no detections), 30.5ms\n",
            "Speed: 0.9ms preprocess, 30.5ms inference, 0.4ms postprocess per image at shape (1, 3, 192, 320)\n"
          ]
        },
        {
          "output_type": "stream",
          "name": "stderr",
          "text": [
            "\rProcessing images:  83%|████████▎ | 286/345 [01:26<00:15,  3.71it/s]"
          ]
        },
        {
          "output_type": "stream",
          "name": "stdout",
          "text": [
            "\n",
            "image 1/1 /content/dataset/preprocessed_images/Cars141.png: 224x320 1 license_plate, 33.7ms\n",
            "Speed: 1.0ms preprocess, 33.7ms inference, 0.7ms postprocess per image at shape (1, 3, 224, 320)\n"
          ]
        },
        {
          "output_type": "stream",
          "name": "stderr",
          "text": [
            "\rProcessing images:  83%|████████▎ | 287/345 [01:27<00:15,  3.80it/s]"
          ]
        },
        {
          "output_type": "stream",
          "name": "stdout",
          "text": [
            "\n",
            "image 1/1 /content/dataset/preprocessed_images/Cars185.png: 224x320 1 license_plate, 38.4ms\n",
            "Speed: 1.0ms preprocess, 38.4ms inference, 0.9ms postprocess per image at shape (1, 3, 224, 320)\n"
          ]
        },
        {
          "output_type": "stream",
          "name": "stderr",
          "text": [
            "\rProcessing images:  83%|████████▎ | 288/345 [01:27<00:14,  3.82it/s]"
          ]
        },
        {
          "output_type": "stream",
          "name": "stdout",
          "text": [
            "\n",
            "image 1/1 /content/dataset/preprocessed_images/Cars173.png: 192x320 1 license_plate, 28.8ms\n",
            "Speed: 0.9ms preprocess, 28.8ms inference, 0.7ms postprocess per image at shape (1, 3, 192, 320)\n"
          ]
        },
        {
          "output_type": "stream",
          "name": "stderr",
          "text": [
            "\rProcessing images:  84%|████████▍ | 289/345 [01:27<00:14,  3.94it/s]"
          ]
        },
        {
          "output_type": "stream",
          "name": "stdout",
          "text": [
            "\n",
            "image 1/1 /content/dataset/preprocessed_images/Cars389.png: 256x320 1 license_plate, 37.2ms\n",
            "Speed: 1.3ms preprocess, 37.2ms inference, 0.7ms postprocess per image at shape (1, 3, 256, 320)\n"
          ]
        },
        {
          "output_type": "stream",
          "name": "stderr",
          "text": [
            "\rProcessing images:  84%|████████▍ | 290/345 [01:27<00:14,  3.81it/s]"
          ]
        },
        {
          "output_type": "stream",
          "name": "stdout",
          "text": [
            "\n",
            "image 1/1 /content/dataset/preprocessed_images/Cars331.png: 256x320 1 license_plate, 36.5ms\n",
            "Speed: 1.4ms preprocess, 36.5ms inference, 0.6ms postprocess per image at shape (1, 3, 256, 320)\n"
          ]
        },
        {
          "output_type": "stream",
          "name": "stderr",
          "text": [
            "\rProcessing images:  84%|████████▍ | 291/345 [01:28<00:15,  3.59it/s]"
          ]
        },
        {
          "output_type": "stream",
          "name": "stdout",
          "text": [
            "\n",
            "image 1/1 /content/dataset/preprocessed_images/Cars211.png: 256x320 1 license_plate, 60.0ms\n",
            "Speed: 1.1ms preprocess, 60.0ms inference, 0.9ms postprocess per image at shape (1, 3, 256, 320)\n"
          ]
        },
        {
          "output_type": "stream",
          "name": "stderr",
          "text": [
            "\rProcessing images:  85%|████████▍ | 292/345 [01:28<00:16,  3.13it/s]"
          ]
        },
        {
          "output_type": "stream",
          "name": "stdout",
          "text": [
            "\n",
            "image 1/1 /content/dataset/preprocessed_images/Cars100.png: 224x320 1 license_plate, 61.8ms\n",
            "Speed: 1.2ms preprocess, 61.8ms inference, 1.0ms postprocess per image at shape (1, 3, 224, 320)\n"
          ]
        },
        {
          "output_type": "stream",
          "name": "stderr",
          "text": [
            "\rProcessing images:  85%|████████▍ | 293/345 [01:28<00:18,  2.86it/s]"
          ]
        },
        {
          "output_type": "stream",
          "name": "stdout",
          "text": [
            "\n",
            "image 1/1 /content/dataset/preprocessed_images/Cars12.png: 128x320 1 license_plate, 33.3ms\n",
            "Speed: 0.7ms preprocess, 33.3ms inference, 0.8ms postprocess per image at shape (1, 3, 128, 320)\n"
          ]
        },
        {
          "output_type": "stream",
          "name": "stderr",
          "text": [
            "\rProcessing images:  85%|████████▌ | 294/345 [01:29<00:15,  3.24it/s]"
          ]
        },
        {
          "output_type": "stream",
          "name": "stdout",
          "text": [
            "\n",
            "image 1/1 /content/dataset/preprocessed_images/Cars56.png: 160x320 1 license_plate, 60.5ms\n",
            "Speed: 0.8ms preprocess, 60.5ms inference, 0.9ms postprocess per image at shape (1, 3, 160, 320)\n"
          ]
        },
        {
          "output_type": "stream",
          "name": "stderr",
          "text": [
            "\rProcessing images:  86%|████████▌ | 295/345 [01:29<00:15,  3.33it/s]"
          ]
        },
        {
          "output_type": "stream",
          "name": "stdout",
          "text": [
            "\n",
            "image 1/1 /content/dataset/preprocessed_images/Cars43.png: 192x320 1 license_plate, 48.1ms\n",
            "Speed: 3.0ms preprocess, 48.1ms inference, 1.0ms postprocess per image at shape (1, 3, 192, 320)\n"
          ]
        },
        {
          "output_type": "stream",
          "name": "stderr",
          "text": [
            "\rProcessing images:  86%|████████▌ | 296/345 [01:29<00:15,  3.20it/s]"
          ]
        },
        {
          "output_type": "stream",
          "name": "stdout",
          "text": [
            "\n",
            "image 1/1 /content/dataset/preprocessed_images/Cars384.png: 256x320 1 license_plate, 64.3ms\n",
            "Speed: 1.2ms preprocess, 64.3ms inference, 1.1ms postprocess per image at shape (1, 3, 256, 320)\n"
          ]
        },
        {
          "output_type": "stream",
          "name": "stderr",
          "text": [
            "\rProcessing images:  86%|████████▌ | 297/345 [01:30<00:16,  2.95it/s]"
          ]
        },
        {
          "output_type": "stream",
          "name": "stdout",
          "text": [
            "\n",
            "image 1/1 /content/dataset/preprocessed_images/Cars47.png: 256x320 1 license_plate, 60.7ms\n",
            "Speed: 1.2ms preprocess, 60.7ms inference, 0.9ms postprocess per image at shape (1, 3, 256, 320)\n"
          ]
        },
        {
          "output_type": "stream",
          "name": "stderr",
          "text": [
            "\rProcessing images:  86%|████████▋ | 298/345 [01:30<00:16,  2.83it/s]"
          ]
        },
        {
          "output_type": "stream",
          "name": "stdout",
          "text": [
            "\n",
            "image 1/1 /content/dataset/preprocessed_images/Cars68.png: 224x320 1 license_plate, 41.7ms\n",
            "Speed: 1.4ms preprocess, 41.7ms inference, 1.1ms postprocess per image at shape (1, 3, 224, 320)\n"
          ]
        },
        {
          "output_type": "stream",
          "name": "stderr",
          "text": [
            "\rProcessing images:  87%|████████▋ | 299/345 [01:30<00:16,  2.79it/s]"
          ]
        },
        {
          "output_type": "stream",
          "name": "stdout",
          "text": [
            "\n",
            "image 1/1 /content/dataset/preprocessed_images/Cars263.png: 256x320 1 license_plate, 61.5ms\n",
            "Speed: 1.2ms preprocess, 61.5ms inference, 1.0ms postprocess per image at shape (1, 3, 256, 320)\n"
          ]
        },
        {
          "output_type": "stream",
          "name": "stderr",
          "text": [
            "\rProcessing images:  87%|████████▋ | 300/345 [01:31<00:16,  2.75it/s]"
          ]
        },
        {
          "output_type": "stream",
          "name": "stdout",
          "text": [
            "\n",
            "image 1/1 /content/dataset/preprocessed_images/Cars20.png: 224x320 1 license_plate, 54.0ms\n",
            "Speed: 1.0ms preprocess, 54.0ms inference, 1.0ms postprocess per image at shape (1, 3, 224, 320)\n"
          ]
        },
        {
          "output_type": "stream",
          "name": "stderr",
          "text": [
            "\rProcessing images:  87%|████████▋ | 301/345 [01:32<00:25,  1.75it/s]"
          ]
        },
        {
          "output_type": "stream",
          "name": "stdout",
          "text": [
            "\n",
            "image 1/1 /content/dataset/preprocessed_images/Cars158.png: 256x320 1 license_plate, 52.7ms\n",
            "Speed: 1.4ms preprocess, 52.7ms inference, 0.9ms postprocess per image at shape (1, 3, 256, 320)\n"
          ]
        },
        {
          "output_type": "stream",
          "name": "stderr",
          "text": [
            "\rProcessing images:  88%|████████▊ | 302/345 [01:32<00:22,  1.93it/s]"
          ]
        },
        {
          "output_type": "stream",
          "name": "stdout",
          "text": [
            "\n",
            "image 1/1 /content/dataset/preprocessed_images/Cars396.png: 320x256 1 license_plate, 56.1ms\n",
            "Speed: 1.2ms preprocess, 56.1ms inference, 1.0ms postprocess per image at shape (1, 3, 320, 256)\n"
          ]
        },
        {
          "output_type": "stream",
          "name": "stderr",
          "text": [
            "\rProcessing images:  88%|████████▊ | 303/345 [01:33<00:20,  2.08it/s]"
          ]
        },
        {
          "output_type": "stream",
          "name": "stdout",
          "text": [
            "\n",
            "image 1/1 /content/dataset/preprocessed_images/Cars372.png: 256x320 1 license_plate, 60.2ms\n",
            "Speed: 1.4ms preprocess, 60.2ms inference, 0.9ms postprocess per image at shape (1, 3, 256, 320)\n"
          ]
        },
        {
          "output_type": "stream",
          "name": "stderr",
          "text": [
            "\rProcessing images:  88%|████████▊ | 304/345 [01:33<00:19,  2.14it/s]"
          ]
        },
        {
          "output_type": "stream",
          "name": "stdout",
          "text": [
            "\n",
            "image 1/1 /content/dataset/preprocessed_images/Cars259.png: 192x320 1 license_plate, 58.1ms\n",
            "Speed: 1.0ms preprocess, 58.1ms inference, 1.0ms postprocess per image at shape (1, 3, 192, 320)\n"
          ]
        },
        {
          "output_type": "stream",
          "name": "stderr",
          "text": [
            "\rProcessing images:  88%|████████▊ | 305/345 [01:33<00:17,  2.26it/s]"
          ]
        },
        {
          "output_type": "stream",
          "name": "stdout",
          "text": [
            "\n",
            "image 1/1 /content/dataset/preprocessed_images/Cars28.png: 256x320 (no detections), 67.1ms\n",
            "Speed: 1.3ms preprocess, 67.1ms inference, 0.6ms postprocess per image at shape (1, 3, 256, 320)\n"
          ]
        },
        {
          "output_type": "stream",
          "name": "stderr",
          "text": [
            "\rProcessing images:  89%|████████▊ | 306/345 [01:34<00:17,  2.28it/s]"
          ]
        },
        {
          "output_type": "stream",
          "name": "stdout",
          "text": [
            "\n",
            "image 1/1 /content/dataset/preprocessed_images/Cars5.png: 256x320 1 license_plate, 53.7ms\n",
            "Speed: 1.1ms preprocess, 53.7ms inference, 1.1ms postprocess per image at shape (1, 3, 256, 320)\n"
          ]
        },
        {
          "output_type": "stream",
          "name": "stderr",
          "text": [
            "\rProcessing images:  89%|████████▉ | 307/345 [01:34<00:16,  2.29it/s]"
          ]
        },
        {
          "output_type": "stream",
          "name": "stdout",
          "text": [
            "\n",
            "image 1/1 /content/dataset/preprocessed_images/Cars419.png: 288x320 1 license_plate, 61.9ms\n",
            "Speed: 1.3ms preprocess, 61.9ms inference, 1.0ms postprocess per image at shape (1, 3, 288, 320)\n"
          ]
        },
        {
          "output_type": "stream",
          "name": "stderr",
          "text": [
            "\rProcessing images:  89%|████████▉ | 308/345 [01:35<00:16,  2.26it/s]"
          ]
        },
        {
          "output_type": "stream",
          "name": "stdout",
          "text": [
            "\n",
            "image 1/1 /content/dataset/preprocessed_images/Cars67.png: 160x320 1 license_plate, 43.5ms\n",
            "Speed: 0.9ms preprocess, 43.5ms inference, 0.9ms postprocess per image at shape (1, 3, 160, 320)\n"
          ]
        },
        {
          "output_type": "stream",
          "name": "stderr",
          "text": [
            "\rProcessing images:  90%|████████▉ | 309/345 [01:35<00:14,  2.43it/s]"
          ]
        },
        {
          "output_type": "stream",
          "name": "stdout",
          "text": [
            "\n",
            "image 1/1 /content/dataset/preprocessed_images/Cars365.png: 224x320 1 license_plate, 50.3ms\n",
            "Speed: 1.5ms preprocess, 50.3ms inference, 0.9ms postprocess per image at shape (1, 3, 224, 320)\n"
          ]
        },
        {
          "output_type": "stream",
          "name": "stderr",
          "text": [
            "\rProcessing images:  90%|████████▉ | 310/345 [01:36<00:14,  2.41it/s]"
          ]
        },
        {
          "output_type": "stream",
          "name": "stdout",
          "text": [
            "\n",
            "image 1/1 /content/dataset/preprocessed_images/Cars270.png: 192x320 1 license_plate, 53.7ms\n",
            "Speed: 0.9ms preprocess, 53.7ms inference, 0.9ms postprocess per image at shape (1, 3, 192, 320)\n"
          ]
        },
        {
          "output_type": "stream",
          "name": "stderr",
          "text": [
            "\rProcessing images:  90%|█████████ | 311/345 [01:36<00:13,  2.53it/s]"
          ]
        },
        {
          "output_type": "stream",
          "name": "stdout",
          "text": [
            "\n",
            "image 1/1 /content/dataset/preprocessed_images/Cars228.png: 160x320 1 license_plate, 41.4ms\n",
            "Speed: 0.8ms preprocess, 41.4ms inference, 0.8ms postprocess per image at shape (1, 3, 160, 320)\n"
          ]
        },
        {
          "output_type": "stream",
          "name": "stderr",
          "text": [
            "\rProcessing images:  90%|█████████ | 312/345 [01:36<00:11,  2.76it/s]"
          ]
        },
        {
          "output_type": "stream",
          "name": "stdout",
          "text": [
            "\n",
            "image 1/1 /content/dataset/preprocessed_images/Cars144.png: 288x320 1 license_plate, 59.5ms\n",
            "Speed: 0.8ms preprocess, 59.5ms inference, 1.0ms postprocess per image at shape (1, 3, 288, 320)\n"
          ]
        },
        {
          "output_type": "stream",
          "name": "stderr",
          "text": [
            "\rProcessing images:  91%|█████████ | 313/345 [01:37<00:12,  2.66it/s]"
          ]
        },
        {
          "output_type": "stream",
          "name": "stdout",
          "text": [
            "\n",
            "image 1/1 /content/dataset/preprocessed_images/Cars374.png: 192x320 1 license_plate, 34.9ms\n",
            "Speed: 1.1ms preprocess, 34.9ms inference, 0.9ms postprocess per image at shape (1, 3, 192, 320)\n"
          ]
        },
        {
          "output_type": "stream",
          "name": "stderr",
          "text": [
            "\rProcessing images:  91%|█████████ | 314/345 [01:37<00:10,  2.98it/s]"
          ]
        },
        {
          "output_type": "stream",
          "name": "stdout",
          "text": [
            "\n",
            "image 1/1 /content/dataset/preprocessed_images/Cars271.png: 224x320 1 license_plate, 39.2ms\n",
            "Speed: 1.3ms preprocess, 39.2ms inference, 0.7ms postprocess per image at shape (1, 3, 224, 320)\n"
          ]
        },
        {
          "output_type": "stream",
          "name": "stderr",
          "text": [
            "\rProcessing images:  91%|█████████▏| 315/345 [01:37<00:09,  3.21it/s]"
          ]
        },
        {
          "output_type": "stream",
          "name": "stdout",
          "text": [
            "\n",
            "image 1/1 /content/dataset/preprocessed_images/Cars306.png: 320x320 1 license_plate, 43.2ms\n",
            "Speed: 1.3ms preprocess, 43.2ms inference, 0.7ms postprocess per image at shape (1, 3, 320, 320)\n"
          ]
        },
        {
          "output_type": "stream",
          "name": "stderr",
          "text": [
            "\rProcessing images:  92%|█████████▏| 316/345 [01:37<00:09,  3.17it/s]"
          ]
        },
        {
          "output_type": "stream",
          "name": "stdout",
          "text": [
            "\n",
            "image 1/1 /content/dataset/preprocessed_images/Cars399.png: 192x320 1 license_plate, 31.2ms\n",
            "Speed: 1.3ms preprocess, 31.2ms inference, 0.7ms postprocess per image at shape (1, 3, 192, 320)\n"
          ]
        },
        {
          "output_type": "stream",
          "name": "stderr",
          "text": [
            "\rProcessing images:  92%|█████████▏| 317/345 [01:38<00:08,  3.44it/s]"
          ]
        },
        {
          "output_type": "stream",
          "name": "stdout",
          "text": [
            "\n",
            "image 1/1 /content/dataset/preprocessed_images/Cars324.png: 192x320 1 license_plate, 35.9ms\n",
            "Speed: 1.7ms preprocess, 35.9ms inference, 0.7ms postprocess per image at shape (1, 3, 192, 320)\n"
          ]
        },
        {
          "output_type": "stream",
          "name": "stderr",
          "text": [
            "\rProcessing images:  92%|█████████▏| 318/345 [01:38<00:07,  3.62it/s]"
          ]
        },
        {
          "output_type": "stream",
          "name": "stdout",
          "text": [
            "\n",
            "image 1/1 /content/dataset/preprocessed_images/Cars25.png: 192x320 1 license_plate, 37.0ms\n",
            "Speed: 1.5ms preprocess, 37.0ms inference, 0.9ms postprocess per image at shape (1, 3, 192, 320)\n"
          ]
        },
        {
          "output_type": "stream",
          "name": "stderr",
          "text": [
            "\rProcessing images:  92%|█████████▏| 319/345 [01:38<00:07,  3.70it/s]"
          ]
        },
        {
          "output_type": "stream",
          "name": "stdout",
          "text": [
            "\n",
            "image 1/1 /content/dataset/preprocessed_images/Cars201.png: 192x320 1 license_plate, 25.8ms\n",
            "Speed: 0.8ms preprocess, 25.8ms inference, 0.7ms postprocess per image at shape (1, 3, 192, 320)\n"
          ]
        },
        {
          "output_type": "stream",
          "name": "stderr",
          "text": [
            "\rProcessing images:  93%|█████████▎| 320/345 [01:38<00:06,  3.80it/s]"
          ]
        },
        {
          "output_type": "stream",
          "name": "stdout",
          "text": [
            "\n",
            "image 1/1 /content/dataset/preprocessed_images/Cars96.png: 224x320 1 license_plate, 51.9ms\n",
            "Speed: 1.0ms preprocess, 51.9ms inference, 0.7ms postprocess per image at shape (1, 3, 224, 320)\n"
          ]
        },
        {
          "output_type": "stream",
          "name": "stderr",
          "text": [
            "\rProcessing images:  93%|█████████▎| 321/345 [01:39<00:06,  3.78it/s]"
          ]
        },
        {
          "output_type": "stream",
          "name": "stdout",
          "text": [
            "\n",
            "image 1/1 /content/dataset/preprocessed_images/Cars200.png: 224x320 1 license_plate, 42.4ms\n",
            "Speed: 2.4ms preprocess, 42.4ms inference, 0.8ms postprocess per image at shape (1, 3, 224, 320)\n"
          ]
        },
        {
          "output_type": "stream",
          "name": "stderr",
          "text": [
            "\rProcessing images:  93%|█████████▎| 322/345 [01:39<00:06,  3.82it/s]"
          ]
        },
        {
          "output_type": "stream",
          "name": "stdout",
          "text": [
            "\n",
            "image 1/1 /content/dataset/preprocessed_images/Cars245.png: 224x320 1 license_plate, 33.9ms\n",
            "Speed: 1.3ms preprocess, 33.9ms inference, 0.7ms postprocess per image at shape (1, 3, 224, 320)\n"
          ]
        },
        {
          "output_type": "stream",
          "name": "stderr",
          "text": [
            "\rProcessing images:  94%|█████████▎| 323/345 [01:39<00:05,  3.84it/s]"
          ]
        },
        {
          "output_type": "stream",
          "name": "stdout",
          "text": [
            "\n",
            "image 1/1 /content/dataset/preprocessed_images/Cars14.png: 192x320 1 license_plate, 31.5ms\n",
            "Speed: 0.9ms preprocess, 31.5ms inference, 0.7ms postprocess per image at shape (1, 3, 192, 320)\n"
          ]
        },
        {
          "output_type": "stream",
          "name": "stderr",
          "text": [
            "\rProcessing images:  94%|█████████▍| 324/345 [01:39<00:05,  4.03it/s]"
          ]
        },
        {
          "output_type": "stream",
          "name": "stdout",
          "text": [
            "\n",
            "image 1/1 /content/dataset/preprocessed_images/Cars134.png: 224x320 1 license_plate, 48.1ms\n",
            "Speed: 1.0ms preprocess, 48.1ms inference, 1.0ms postprocess per image at shape (1, 3, 224, 320)\n"
          ]
        },
        {
          "output_type": "stream",
          "name": "stderr",
          "text": [
            "\rProcessing images:  94%|█████████▍| 325/345 [01:40<00:05,  3.89it/s]"
          ]
        },
        {
          "output_type": "stream",
          "name": "stdout",
          "text": [
            "\n",
            "image 1/1 /content/dataset/preprocessed_images/Cars206.png: 256x320 1 license_plate, 38.2ms\n",
            "Speed: 1.3ms preprocess, 38.2ms inference, 0.7ms postprocess per image at shape (1, 3, 256, 320)\n"
          ]
        },
        {
          "output_type": "stream",
          "name": "stderr",
          "text": [
            "\rProcessing images:  94%|█████████▍| 326/345 [01:40<00:04,  3.84it/s]"
          ]
        },
        {
          "output_type": "stream",
          "name": "stdout",
          "text": [
            "\n",
            "image 1/1 /content/dataset/preprocessed_images/Cars423.png: 224x320 1 license_plate, 35.7ms\n",
            "Speed: 1.2ms preprocess, 35.7ms inference, 0.7ms postprocess per image at shape (1, 3, 224, 320)\n"
          ]
        },
        {
          "output_type": "stream",
          "name": "stderr",
          "text": [
            "\rProcessing images:  95%|█████████▍| 327/345 [01:40<00:04,  3.90it/s]"
          ]
        },
        {
          "output_type": "stream",
          "name": "stdout",
          "text": [
            "\n",
            "image 1/1 /content/dataset/preprocessed_images/Cars89.png: 224x320 1 license_plate, 34.7ms\n",
            "Speed: 1.0ms preprocess, 34.7ms inference, 0.7ms postprocess per image at shape (1, 3, 224, 320)\n"
          ]
        },
        {
          "output_type": "stream",
          "name": "stderr",
          "text": [
            "\rProcessing images:  95%|█████████▌| 328/345 [01:40<00:04,  3.93it/s]"
          ]
        },
        {
          "output_type": "stream",
          "name": "stdout",
          "text": [
            "\n",
            "image 1/1 /content/dataset/preprocessed_images/Cars370.png: 224x320 1 license_plate, 42.1ms\n",
            "Speed: 1.1ms preprocess, 42.1ms inference, 1.1ms postprocess per image at shape (1, 3, 224, 320)\n"
          ]
        },
        {
          "output_type": "stream",
          "name": "stderr",
          "text": [
            "\rProcessing images:  95%|█████████▌| 329/345 [01:41<00:04,  3.85it/s]"
          ]
        },
        {
          "output_type": "stream",
          "name": "stdout",
          "text": [
            "\n",
            "image 1/1 /content/dataset/preprocessed_images/Cars163.png: 192x320 1 license_plate, 29.6ms\n",
            "Speed: 1.0ms preprocess, 29.6ms inference, 0.7ms postprocess per image at shape (1, 3, 192, 320)\n"
          ]
        },
        {
          "output_type": "stream",
          "name": "stderr",
          "text": [
            "\rProcessing images:  96%|█████████▌| 330/345 [01:41<00:03,  3.92it/s]"
          ]
        },
        {
          "output_type": "stream",
          "name": "stdout",
          "text": [
            "\n",
            "image 1/1 /content/dataset/preprocessed_images/Cars235.png: 192x320 1 license_plate, 31.3ms\n",
            "Speed: 1.1ms preprocess, 31.3ms inference, 0.8ms postprocess per image at shape (1, 3, 192, 320)\n"
          ]
        },
        {
          "output_type": "stream",
          "name": "stderr",
          "text": [
            "\rProcessing images:  96%|█████████▌| 331/345 [01:41<00:03,  4.05it/s]"
          ]
        },
        {
          "output_type": "stream",
          "name": "stdout",
          "text": [
            "\n",
            "image 1/1 /content/dataset/preprocessed_images/Cars109.png: 224x320 1 license_plate, 35.7ms\n",
            "Speed: 1.0ms preprocess, 35.7ms inference, 0.7ms postprocess per image at shape (1, 3, 224, 320)\n"
          ]
        },
        {
          "output_type": "stream",
          "name": "stderr",
          "text": [
            "\rProcessing images:  96%|█████████▌| 332/345 [01:41<00:03,  4.01it/s]"
          ]
        },
        {
          "output_type": "stream",
          "name": "stdout",
          "text": [
            "\n",
            "image 1/1 /content/dataset/preprocessed_images/Cars130.png: 224x320 1 license_plate, 34.9ms\n",
            "Speed: 1.0ms preprocess, 34.9ms inference, 0.8ms postprocess per image at shape (1, 3, 224, 320)\n"
          ]
        },
        {
          "output_type": "stream",
          "name": "stderr",
          "text": [
            "\rProcessing images:  97%|█████████▋| 333/345 [01:42<00:03,  3.89it/s]"
          ]
        },
        {
          "output_type": "stream",
          "name": "stdout",
          "text": [
            "\n",
            "image 1/1 /content/dataset/preprocessed_images/Cars114.png: 192x320 3 license_plates, 28.5ms\n",
            "Speed: 1.5ms preprocess, 28.5ms inference, 0.7ms postprocess per image at shape (1, 3, 192, 320)\n"
          ]
        },
        {
          "output_type": "stream",
          "name": "stderr",
          "text": [
            "\rProcessing images:  97%|█████████▋| 334/345 [01:42<00:02,  3.99it/s]"
          ]
        },
        {
          "output_type": "stream",
          "name": "stdout",
          "text": [
            "\n",
            "image 1/1 /content/dataset/preprocessed_images/Cars91.png: 224x320 1 license_plate, 37.2ms\n",
            "Speed: 1.0ms preprocess, 37.2ms inference, 0.8ms postprocess per image at shape (1, 3, 224, 320)\n"
          ]
        },
        {
          "output_type": "stream",
          "name": "stderr",
          "text": [
            "\rProcessing images:  97%|█████████▋| 335/345 [01:42<00:02,  3.99it/s]"
          ]
        },
        {
          "output_type": "stream",
          "name": "stdout",
          "text": [
            "\n",
            "image 1/1 /content/dataset/preprocessed_images/Cars417.png: 256x320 1 license_plate, 33.9ms\n",
            "Speed: 1.3ms preprocess, 33.9ms inference, 0.7ms postprocess per image at shape (1, 3, 256, 320)\n"
          ]
        },
        {
          "output_type": "stream",
          "name": "stderr",
          "text": [
            "\rProcessing images:  97%|█████████▋| 336/345 [01:42<00:02,  3.93it/s]"
          ]
        },
        {
          "output_type": "stream",
          "name": "stdout",
          "text": [
            "\n",
            "image 1/1 /content/dataset/preprocessed_images/Cars36.png: 256x320 1 license_plate, 39.0ms\n",
            "Speed: 1.2ms preprocess, 39.0ms inference, 0.6ms postprocess per image at shape (1, 3, 256, 320)\n"
          ]
        },
        {
          "output_type": "stream",
          "name": "stderr",
          "text": [
            "\rProcessing images:  98%|█████████▊| 337/345 [01:43<00:02,  3.78it/s]"
          ]
        },
        {
          "output_type": "stream",
          "name": "stdout",
          "text": [
            "\n",
            "image 1/1 /content/dataset/preprocessed_images/Cars102.png: 256x320 1 license_plate, 37.6ms\n",
            "Speed: 1.9ms preprocess, 37.6ms inference, 0.7ms postprocess per image at shape (1, 3, 256, 320)\n"
          ]
        },
        {
          "output_type": "stream",
          "name": "stderr",
          "text": [
            "\rProcessing images:  98%|█████████▊| 338/345 [01:43<00:01,  3.80it/s]"
          ]
        },
        {
          "output_type": "stream",
          "name": "stdout",
          "text": [
            "\n",
            "image 1/1 /content/dataset/preprocessed_images/Cars368.png: 256x320 1 license_plate, 42.4ms\n",
            "Speed: 1.1ms preprocess, 42.4ms inference, 0.7ms postprocess per image at shape (1, 3, 256, 320)\n"
          ]
        },
        {
          "output_type": "stream",
          "name": "stderr",
          "text": [
            "\rProcessing images:  98%|█████████▊| 339/345 [01:43<00:01,  3.79it/s]"
          ]
        },
        {
          "output_type": "stream",
          "name": "stdout",
          "text": [
            "\n",
            "image 1/1 /content/dataset/preprocessed_images/Cars86.png: 192x320 1 license_plate, 29.7ms\n",
            "Speed: 0.9ms preprocess, 29.7ms inference, 0.7ms postprocess per image at shape (1, 3, 192, 320)\n"
          ]
        },
        {
          "output_type": "stream",
          "name": "stderr",
          "text": [
            "\rProcessing images:  99%|█████████▊| 340/345 [01:44<00:01,  3.92it/s]"
          ]
        },
        {
          "output_type": "stream",
          "name": "stdout",
          "text": [
            "\n",
            "image 1/1 /content/dataset/preprocessed_images/Cars110.png: 224x320 1 license_plate, 37.9ms\n",
            "Speed: 1.0ms preprocess, 37.9ms inference, 0.7ms postprocess per image at shape (1, 3, 224, 320)\n"
          ]
        },
        {
          "output_type": "stream",
          "name": "stderr",
          "text": [
            "\rProcessing images:  99%|█████████▉| 341/345 [01:44<00:01,  3.85it/s]"
          ]
        },
        {
          "output_type": "stream",
          "name": "stdout",
          "text": [
            "\n",
            "image 1/1 /content/dataset/preprocessed_images/Cars255.png: 224x320 1 license_plate, 35.6ms\n",
            "Speed: 1.3ms preprocess, 35.6ms inference, 0.7ms postprocess per image at shape (1, 3, 224, 320)\n"
          ]
        },
        {
          "output_type": "stream",
          "name": "stderr",
          "text": [
            "\rProcessing images:  99%|█████████▉| 342/345 [01:44<00:00,  3.86it/s]"
          ]
        },
        {
          "output_type": "stream",
          "name": "stdout",
          "text": [
            "\n",
            "image 1/1 /content/dataset/preprocessed_images/Cars292.png: 224x320 1 license_plate, 36.9ms\n",
            "Speed: 1.1ms preprocess, 36.9ms inference, 0.7ms postprocess per image at shape (1, 3, 224, 320)\n"
          ]
        },
        {
          "output_type": "stream",
          "name": "stderr",
          "text": [
            "\rProcessing images:  99%|█████████▉| 343/345 [01:44<00:00,  3.87it/s]"
          ]
        },
        {
          "output_type": "stream",
          "name": "stdout",
          "text": [
            "\n",
            "image 1/1 /content/dataset/preprocessed_images/Cars54.png: 256x320 1 license_plate, 38.5ms\n",
            "Speed: 1.4ms preprocess, 38.5ms inference, 0.7ms postprocess per image at shape (1, 3, 256, 320)\n"
          ]
        },
        {
          "output_type": "stream",
          "name": "stderr",
          "text": [
            "\rProcessing images: 100%|█████████▉| 344/345 [01:45<00:00,  3.83it/s]"
          ]
        },
        {
          "output_type": "stream",
          "name": "stdout",
          "text": [
            "\n",
            "image 1/1 /content/dataset/preprocessed_images/Cars199.png: 224x320 1 license_plate, 37.6ms\n",
            "Speed: 1.3ms preprocess, 37.6ms inference, 1.2ms postprocess per image at shape (1, 3, 224, 320)\n"
          ]
        },
        {
          "output_type": "stream",
          "name": "stderr",
          "text": [
            "Processing images: 100%|██████████| 345/345 [01:45<00:00,  3.28it/s]"
          ]
        },
        {
          "output_type": "stream",
          "name": "stdout",
          "text": [
            "Detection Summary:\n",
            "Total images processed: 345\n",
            "Images with detections: 329\n",
            "Total license plates detected: 357\n",
            "Average confidence score: 72.78%\n",
            "\n",
            "Predictions saved in 'predictions' directory\n"
          ]
        },
        {
          "output_type": "stream",
          "name": "stderr",
          "text": [
            "\n"
          ]
        },
        {
          "output_type": "execute_result",
          "data": {
            "text/plain": [
              "{'Cars124.png': {'detections': [{'bbox': [178, 230, 201, 240],\n",
              "    'confidence': 0.36244356632232666}],\n",
              "  'original_path': 'dataset/preprocessed_images/Cars124.png'},\n",
              " 'Cars315.png': {'detections': [{'bbox': [32, 100, 391, 179],\n",
              "    'confidence': 0.7551630139350891}],\n",
              "  'original_path': 'dataset/preprocessed_images/Cars315.png'},\n",
              " 'Cars282.png': {'detections': [{'bbox': [60, 144, 324, 201],\n",
              "    'confidence': 0.8149523735046387}],\n",
              "  'original_path': 'dataset/preprocessed_images/Cars282.png'},\n",
              " 'Cars236.png': {'detections': [{'bbox': [221, 107, 251, 116],\n",
              "    'confidence': 0.6304125785827637}],\n",
              "  'original_path': 'dataset/preprocessed_images/Cars236.png'},\n",
              " 'Cars112.png': {'detections': [{'bbox': [50, 136, 162, 181],\n",
              "    'confidence': 0.8596819639205933}],\n",
              "  'original_path': 'dataset/preprocessed_images/Cars112.png'},\n",
              " 'Cars402.png': {'detections': [{'bbox': [361, 164, 437, 182],\n",
              "    'confidence': 0.7737888693809509}],\n",
              "  'original_path': 'dataset/preprocessed_images/Cars402.png'},\n",
              " 'Cars105.png': {'detections': [{'bbox': [153, 145, 206, 158],\n",
              "    'confidence': 0.4375939667224884},\n",
              "   {'bbox': [155, 167, 201, 182], 'confidence': 0.2854117155075073}],\n",
              "  'original_path': 'dataset/preprocessed_images/Cars105.png'},\n",
              " 'Cars358.png': {'detections': [{'bbox': [44, 94, 107, 106],\n",
              "    'confidence': 0.689913272857666},\n",
              "   {'bbox': [295, 120, 359, 135], 'confidence': 0.6686893701553345}],\n",
              "  'original_path': 'dataset/preprocessed_images/Cars358.png'},\n",
              " 'Cars180.png': {'detections': [{'bbox': [148, 112, 304, 178],\n",
              "    'confidence': 0.8779211044311523}],\n",
              "  'original_path': 'dataset/preprocessed_images/Cars180.png'},\n",
              " 'Cars280.png': {'detections': [{'bbox': [188, 183, 215, 195],\n",
              "    'confidence': 0.6853410005569458}],\n",
              "  'original_path': 'dataset/preprocessed_images/Cars280.png'},\n",
              " 'Cars265.png': {'detections': [{'bbox': [94, 170, 211, 206],\n",
              "    'confidence': 0.8020449280738831}],\n",
              "  'original_path': 'dataset/preprocessed_images/Cars265.png'},\n",
              " 'Cars230.png': {'detections': [{'bbox': [220, 172, 359, 202],\n",
              "    'confidence': 0.7657414078712463}],\n",
              "  'original_path': 'dataset/preprocessed_images/Cars230.png'},\n",
              " 'Cars386.png': {'detections': [{'bbox': [81, 303, 222, 368],\n",
              "    'confidence': 0.8210427165031433}],\n",
              "  'original_path': 'dataset/preprocessed_images/Cars386.png'},\n",
              " 'Cars275.png': {'detections': [{'bbox': [98, 149, 161, 167],\n",
              "    'confidence': 0.7337735891342163}],\n",
              "  'original_path': 'dataset/preprocessed_images/Cars275.png'},\n",
              " 'Cars424.png': {'detections': [{'bbox': [129, 171, 463, 237],\n",
              "    'confidence': 0.8129261136054993}],\n",
              "  'original_path': 'dataset/preprocessed_images/Cars424.png'},\n",
              " 'Cars11.png': {'detections': [{'bbox': [121, 200, 280, 235],\n",
              "    'confidence': 0.8087774515151978}],\n",
              "  'original_path': 'dataset/preprocessed_images/Cars11.png'},\n",
              " 'Cars390.png': {'detections': [{'bbox': [7, 141, 47, 163],\n",
              "    'confidence': 0.7339373826980591}],\n",
              "  'original_path': 'dataset/preprocessed_images/Cars390.png'},\n",
              " 'Cars51.png': {'detections': [{'bbox': [265, 140, 318, 162],\n",
              "    'confidence': 0.7826051712036133}],\n",
              "  'original_path': 'dataset/preprocessed_images/Cars51.png'},\n",
              " 'Cars309.png': {'detections': [{'bbox': [156, 123, 255, 210],\n",
              "    'confidence': 0.8092548847198486}],\n",
              "  'original_path': 'dataset/preprocessed_images/Cars309.png'},\n",
              " 'Cars226.png': {'detections': [{'bbox': [250, 194, 317, 211],\n",
              "    'confidence': 0.7536547780036926}],\n",
              "  'original_path': 'dataset/preprocessed_images/Cars226.png'},\n",
              " 'Cars273.png': {'detections': [{'bbox': [80, 132, 254, 170],\n",
              "    'confidence': 0.7953636646270752}],\n",
              "  'original_path': 'dataset/preprocessed_images/Cars273.png'},\n",
              " 'Cars380.png': {'detections': [{'bbox': [317, 92, 364, 124],\n",
              "    'confidence': 0.709839940071106}],\n",
              "  'original_path': 'dataset/preprocessed_images/Cars380.png'},\n",
              " 'Cars31.png': {'detections': [{'bbox': [285, 174, 400, 209],\n",
              "    'confidence': 0.8519687056541443}],\n",
              "  'original_path': 'dataset/preprocessed_images/Cars31.png'},\n",
              " 'Cars418.png': {'detections': [{'bbox': [103, 67, 304, 159],\n",
              "    'confidence': 0.8670428395271301}],\n",
              "  'original_path': 'dataset/preprocessed_images/Cars418.png'},\n",
              " 'Cars257.png': {'detections': [{'bbox': [166, 130, 240, 167],\n",
              "    'confidence': 0.8762091994285583}],\n",
              "  'original_path': 'dataset/preprocessed_images/Cars257.png'},\n",
              " 'Cars92.png': {'detections': [{'bbox': [277, 186, 396, 271],\n",
              "    'confidence': 0.896625816822052}],\n",
              "  'original_path': 'dataset/preprocessed_images/Cars92.png'},\n",
              " 'Cars344.png': {'detections': [{'bbox': [235, 158, 380, 218],\n",
              "    'confidence': 0.8481213450431824}],\n",
              "  'original_path': 'dataset/preprocessed_images/Cars344.png'},\n",
              " 'Cars26.png': {'detections': [{'bbox': [260, 184, 317, 213],\n",
              "    'confidence': 0.76183021068573}],\n",
              "  'original_path': 'dataset/preprocessed_images/Cars26.png'},\n",
              " 'Cars157.png': {'detections': [{'bbox': [330, 155, 367, 179],\n",
              "    'confidence': 0.546715497970581},\n",
              "   {'bbox': [325, 154, 367, 188], 'confidence': 0.2613453269004822}],\n",
              "  'original_path': 'dataset/preprocessed_images/Cars157.png'},\n",
              " 'Cars76.png': {'detections': [{'bbox': [23, 114, 469, 231],\n",
              "    'confidence': 0.8296851515769958}],\n",
              "  'original_path': 'dataset/preprocessed_images/Cars76.png'},\n",
              " 'Cars79.png': {'detections': [{'bbox': [239, 365, 347, 420],\n",
              "    'confidence': 0.8431838750839233}],\n",
              "  'original_path': 'dataset/preprocessed_images/Cars79.png'},\n",
              " 'Cars427.png': {'detections': [{'bbox': [237, 192, 370, 226],\n",
              "    'confidence': 0.7775614261627197}],\n",
              "  'original_path': 'dataset/preprocessed_images/Cars427.png'},\n",
              " 'Cars74.png': {'detections': [{'bbox': [115, 115, 277, 152],\n",
              "    'confidence': 0.8681740164756775}],\n",
              "  'original_path': 'dataset/preprocessed_images/Cars74.png'},\n",
              " 'Cars41.png': {'detections': [{'bbox': [109, 181, 159, 206],\n",
              "    'confidence': 0.8375182747840881}],\n",
              "  'original_path': 'dataset/preprocessed_images/Cars41.png'},\n",
              " 'Cars310.png': {'detections': [{'bbox': [239, 365, 347, 420],\n",
              "    'confidence': 0.8431838750839233}],\n",
              "  'original_path': 'dataset/preprocessed_images/Cars310.png'},\n",
              " 'Cars242.png': {'detections': [{'bbox': [228, 172, 268, 195],\n",
              "    'confidence': 0.7725644707679749}],\n",
              "  'original_path': 'dataset/preprocessed_images/Cars242.png'},\n",
              " 'Cars406.png': {'detections': [{'bbox': [286, 184, 373, 222],\n",
              "    'confidence': 0.7053740620613098}],\n",
              "  'original_path': 'dataset/preprocessed_images/Cars406.png'},\n",
              " 'Cars145.png': {'detections': [{'bbox': [284, 248, 422, 278],\n",
              "    'confidence': 0.8287874460220337}],\n",
              "  'original_path': 'dataset/preprocessed_images/Cars145.png'},\n",
              " 'Cars189.png': {'detections': [{'bbox': [284, 248, 422, 278],\n",
              "    'confidence': 0.8287874460220337}],\n",
              "  'original_path': 'dataset/preprocessed_images/Cars189.png'},\n",
              " 'Cars291.png': {'detections': [{'bbox': [96, 188, 167, 200],\n",
              "    'confidence': 0.2770633101463318}],\n",
              "  'original_path': 'dataset/preprocessed_images/Cars291.png'},\n",
              " 'Cars176.png': {'detections': [{'bbox': [70, 76, 309, 188],\n",
              "    'confidence': 0.8823809623718262}],\n",
              "  'original_path': 'dataset/preprocessed_images/Cars176.png'},\n",
              " 'Cars232.png': {'detections': [{'bbox': [173, 173, 227, 202],\n",
              "    'confidence': 0.8406460881233215}],\n",
              "  'original_path': 'dataset/preprocessed_images/Cars232.png'},\n",
              " 'Cars381.png': {'detections': [{'bbox': [65, 132, 146, 155],\n",
              "    'confidence': 0.8006871342658997}],\n",
              "  'original_path': 'dataset/preprocessed_images/Cars381.png'},\n",
              " 'Cars222.png': {'detections': [{'bbox': [177, 154, 235, 170],\n",
              "    'confidence': 0.7423731088638306}],\n",
              "  'original_path': 'dataset/preprocessed_images/Cars222.png'},\n",
              " 'Cars44.png': {'detections': [{'bbox': [19, 157, 436, 277],\n",
              "    'confidence': 0.8388636708259583}],\n",
              "  'original_path': 'dataset/preprocessed_images/Cars44.png'},\n",
              " 'Cars313.png': {'detections': [{'bbox': [176, 209, 250, 245],\n",
              "    'confidence': 0.8509823679924011}],\n",
              "  'original_path': 'dataset/preprocessed_images/Cars313.png'},\n",
              " 'Cars296.png': {'detections': [{'bbox': [161, 158, 234, 195],\n",
              "    'confidence': 0.8541791439056396}],\n",
              "  'original_path': 'dataset/preprocessed_images/Cars296.png'},\n",
              " 'Cars303.png': {'detections': [{'bbox': [152, 212, 248, 236],\n",
              "    'confidence': 0.7554317712783813}],\n",
              "  'original_path': 'dataset/preprocessed_images/Cars303.png'},\n",
              " 'Cars301.png': {'detections': [{'bbox': [206, 103, 303, 135],\n",
              "    'confidence': 0.8052502870559692}],\n",
              "  'original_path': 'dataset/preprocessed_images/Cars301.png'},\n",
              " 'Cars379.png': {'detections': [{'bbox': [198, 197, 350, 241],\n",
              "    'confidence': 0.8762956857681274}],\n",
              "  'original_path': 'dataset/preprocessed_images/Cars379.png'},\n",
              " 'Cars350.png': {'detections': [{'bbox': [163, 178, 208, 188],\n",
              "    'confidence': 0.4980422854423523}],\n",
              "  'original_path': 'dataset/preprocessed_images/Cars350.png'},\n",
              " 'Cars361.png': {'detections': [{'bbox': [148, 112, 304, 178],\n",
              "    'confidence': 0.8779211044311523}],\n",
              "  'original_path': 'dataset/preprocessed_images/Cars361.png'},\n",
              " 'Cars137.png': {'detections': [{'bbox': [173, 182, 204, 191],\n",
              "    'confidence': 0.4809492528438568}],\n",
              "  'original_path': 'dataset/preprocessed_images/Cars137.png'},\n",
              " 'Cars248.png': {'detections': [{'bbox': [185, 142, 307, 188],\n",
              "    'confidence': 0.822524905204773}],\n",
              "  'original_path': 'dataset/preprocessed_images/Cars248.png'},\n",
              " 'Cars239.png': {'detections': [{'bbox': [178, 253, 328, 284],\n",
              "    'confidence': 0.8312525153160095}],\n",
              "  'original_path': 'dataset/preprocessed_images/Cars239.png'},\n",
              " 'Cars90.png': {'detections': [{'bbox': [77, 204, 98, 222],\n",
              "    'confidence': 0.7196475863456726}],\n",
              "  'original_path': 'dataset/preprocessed_images/Cars90.png'},\n",
              " 'Cars256.png': {'detections': [{'bbox': [285, 174, 400, 209],\n",
              "    'confidence': 0.8519687056541443}],\n",
              "  'original_path': 'dataset/preprocessed_images/Cars256.png'},\n",
              " 'Cars359.png': {'detections': [{'bbox': [228, 227, 265, 239],\n",
              "    'confidence': 0.6365097761154175}],\n",
              "  'original_path': 'dataset/preprocessed_images/Cars359.png'},\n",
              " 'Cars88.png': {'detections': [{'bbox': [169, 148, 242, 171],\n",
              "    'confidence': 0.7812920808792114}],\n",
              "  'original_path': 'dataset/preprocessed_images/Cars88.png'},\n",
              " 'Cars205.png': {'detections': [{'bbox': [152, 163, 219, 197],\n",
              "    'confidence': 0.8308253288269043},\n",
              "   {'bbox': [310, 389, 399, 400], 'confidence': 0.5469701886177063}],\n",
              "  'original_path': 'dataset/preprocessed_images/Cars205.png'},\n",
              " 'Cars314.png': {'detections': [{'bbox': [194, 151, 276, 209],\n",
              "    'confidence': 0.7926523685455322}],\n",
              "  'original_path': 'dataset/preprocessed_images/Cars314.png'},\n",
              " 'Cars162.png': {'detections': [{'bbox': [243, 188, 265, 206],\n",
              "    'confidence': 0.3053959608078003}],\n",
              "  'original_path': 'dataset/preprocessed_images/Cars162.png'},\n",
              " 'Cars99.png': {'detections': [{'bbox': [70, 198, 261, 269],\n",
              "    'confidence': 0.8398513793945312}],\n",
              "  'original_path': 'dataset/preprocessed_images/Cars99.png'},\n",
              " 'Cars64.png': {'detections': [{'bbox': [123, 187, 329, 222],\n",
              "    'confidence': 0.7366328835487366}],\n",
              "  'original_path': 'dataset/preprocessed_images/Cars64.png'},\n",
              " 'Cars16.png': {'detections': [],\n",
              "  'original_path': 'dataset/preprocessed_images/Cars16.png'},\n",
              " 'Cars7.png': {'detections': [{'bbox': [168, 141, 205, 154],\n",
              "    'confidence': 0.7347596287727356}],\n",
              "  'original_path': 'dataset/preprocessed_images/Cars7.png'},\n",
              " 'Cars191.png': {'detections': [{'bbox': [92, 185, 199, 218],\n",
              "    'confidence': 0.7708680033683777}],\n",
              "  'original_path': 'dataset/preprocessed_images/Cars191.png'},\n",
              " 'Cars6.png': {'detections': [{'bbox': [111, 113, 374, 238],\n",
              "    'confidence': 0.8877485990524292}],\n",
              "  'original_path': 'dataset/preprocessed_images/Cars6.png'},\n",
              " 'Cars142.png': {'detections': [{'bbox': [176, 122, 269, 145],\n",
              "    'confidence': 0.7648544907569885}],\n",
              "  'original_path': 'dataset/preprocessed_images/Cars142.png'},\n",
              " 'Cars179.png': {'detections': [{'bbox': [65, 169, 130, 194],\n",
              "    'confidence': 0.4587223529815674}],\n",
              "  'original_path': 'dataset/preprocessed_images/Cars179.png'},\n",
              " 'Cars209.png': {'detections': [{'bbox': [358, 170, 386, 184],\n",
              "    'confidence': 0.7377415299415588}],\n",
              "  'original_path': 'dataset/preprocessed_images/Cars209.png'},\n",
              " 'Cars285.png': {'detections': [{'bbox': [89, 111, 164, 132],\n",
              "    'confidence': 0.7137470841407776}],\n",
              "  'original_path': 'dataset/preprocessed_images/Cars285.png'},\n",
              " 'Cars300.png': {'detections': [{'bbox': [260, 184, 317, 213],\n",
              "    'confidence': 0.76183021068573}],\n",
              "  'original_path': 'dataset/preprocessed_images/Cars300.png'},\n",
              " 'Cars153.png': {'detections': [{'bbox': [141, 114, 315, 163],\n",
              "    'confidence': 0.8270980715751648}],\n",
              "  'original_path': 'dataset/preprocessed_images/Cars153.png'},\n",
              " 'Cars121.png': {'detections': [{'bbox': [334, 191, 361, 200],\n",
              "    'confidence': 0.6498197317123413}],\n",
              "  'original_path': 'dataset/preprocessed_images/Cars121.png'},\n",
              " 'Cars166.png': {'detections': [{'bbox': [146, 127, 203, 156],\n",
              "    'confidence': 0.6415719389915466}],\n",
              "  'original_path': 'dataset/preprocessed_images/Cars166.png'},\n",
              " 'Cars61.png': {'detections': [{'bbox': [73, 124, 198, 230],\n",
              "    'confidence': 0.875158429145813}],\n",
              "  'original_path': 'dataset/preprocessed_images/Cars61.png'},\n",
              " 'Cars62.png': {'detections': [{'bbox': [156, 108, 242, 158],\n",
              "    'confidence': 0.8555480241775513}],\n",
              "  'original_path': 'dataset/preprocessed_images/Cars62.png'},\n",
              " 'Cars252.png': {'detections': [{'bbox': [173, 239, 318, 271],\n",
              "    'confidence': 0.8270537853240967}],\n",
              "  'original_path': 'dataset/preprocessed_images/Cars252.png'},\n",
              " 'Cars227.png': {'detections': [{'bbox': [121, 178, 154, 195],\n",
              "    'confidence': 0.5677785277366638},\n",
              "   {'bbox': [122, 196, 163, 211], 'confidence': 0.30884990096092224},\n",
              "   {'bbox': [120, 195, 159, 209], 'confidence': 0.2885567247867584}],\n",
              "  'original_path': 'dataset/preprocessed_images/Cars227.png'},\n",
              " 'Cars202.png': {'detections': [{'bbox': [197, 136, 246, 155],\n",
              "    'confidence': 0.8263440728187561}],\n",
              "  'original_path': 'dataset/preprocessed_images/Cars202.png'},\n",
              " 'Cars422.png': {'detections': [{'bbox': [159, 126, 292, 178],\n",
              "    'confidence': 0.7534291744232178}],\n",
              "  'original_path': 'dataset/preprocessed_images/Cars422.png'},\n",
              " 'Cars71.png': {'detections': [{'bbox': [255, 143, 282, 152],\n",
              "    'confidence': 0.647463858127594}],\n",
              "  'original_path': 'dataset/preprocessed_images/Cars71.png'},\n",
              " 'Cars81.png': {'detections': [{'bbox': [296, 101, 329, 125],\n",
              "    'confidence': 0.8007957935333252}],\n",
              "  'original_path': 'dataset/preprocessed_images/Cars81.png'},\n",
              " 'Cars133.png': {'detections': [{'bbox': [286, 184, 373, 222],\n",
              "    'confidence': 0.7053740620613098}],\n",
              "  'original_path': 'dataset/preprocessed_images/Cars133.png'},\n",
              " 'Cars170.png': {'detections': [{'bbox': [312, 195, 348, 223],\n",
              "    'confidence': 0.7654531002044678}],\n",
              "  'original_path': 'dataset/preprocessed_images/Cars170.png'},\n",
              " 'Cars333.png': {'detections': [{'bbox': [114, 156, 272, 190],\n",
              "    'confidence': 0.8438668847084045}],\n",
              "  'original_path': 'dataset/preprocessed_images/Cars333.png'},\n",
              " 'Cars138.png': {'detections': [{'bbox': [150, 141, 256, 188],\n",
              "    'confidence': 0.7352755069732666},\n",
              "   {'bbox': [152, 141, 256, 169], 'confidence': 0.5962165594100952}],\n",
              "  'original_path': 'dataset/preprocessed_images/Cars138.png'},\n",
              " 'Cars410.png': {'detections': [{'bbox': [51, 150, 218, 211],\n",
              "    'confidence': 0.8772885203361511}],\n",
              "  'original_path': 'dataset/preprocessed_images/Cars410.png'},\n",
              " 'Cars10.png': {'detections': [{'bbox': [146, 25, 298, 147],\n",
              "    'confidence': 0.8350075483322144}],\n",
              "  'original_path': 'dataset/preprocessed_images/Cars10.png'},\n",
              " 'Cars238.png': {'detections': [{'bbox': [277, 186, 396, 271],\n",
              "    'confidence': 0.896625816822052}],\n",
              "  'original_path': 'dataset/preprocessed_images/Cars238.png'},\n",
              " 'Cars216.png': {'detections': [{'bbox': [205, 219, 283, 265],\n",
              "    'confidence': 0.7429083585739136}],\n",
              "  'original_path': 'dataset/preprocessed_images/Cars216.png'},\n",
              " 'Cars94.png': {'detections': [{'bbox': [176, 209, 250, 245],\n",
              "    'confidence': 0.8509823679924011}],\n",
              "  'original_path': 'dataset/preprocessed_images/Cars94.png'},\n",
              " 'Cars288.png': {'detections': [{'bbox': [98, 149, 161, 167],\n",
              "    'confidence': 0.7337735891342163}],\n",
              "  'original_path': 'dataset/preprocessed_images/Cars288.png'},\n",
              " 'Cars149.png': {'detections': [{'bbox': [211, 184, 243, 201],\n",
              "    'confidence': 0.5341914296150208}],\n",
              "  'original_path': 'dataset/preprocessed_images/Cars149.png'},\n",
              " 'Cars212.png': {'detections': [{'bbox': [106, 101, 294, 141],\n",
              "    'confidence': 0.7837717533111572}],\n",
              "  'original_path': 'dataset/preprocessed_images/Cars212.png'},\n",
              " 'Cars188.png': {'detections': [],\n",
              "  'original_path': 'dataset/preprocessed_images/Cars188.png'},\n",
              " 'Cars383.png': {'detections': [{'bbox': [53, 215, 86, 227],\n",
              "    'confidence': 0.6207621097564697},\n",
              "   {'bbox': [52, 217, 88, 229], 'confidence': 0.32511162757873535}],\n",
              "  'original_path': 'dataset/preprocessed_images/Cars383.png'},\n",
              " 'Cars119.png': {'detections': [{'bbox': [0, 134, 23, 143],\n",
              "    'confidence': 0.42382684350013733}],\n",
              "  'original_path': 'dataset/preprocessed_images/Cars119.png'},\n",
              " 'Cars123.png': {'detections': [{'bbox': [159, 222, 236, 241],\n",
              "    'confidence': 0.7552739381790161}],\n",
              "  'original_path': 'dataset/preprocessed_images/Cars123.png'},\n",
              " 'Cars426.png': {'detections': [{'bbox': [149, 205, 283, 238],\n",
              "    'confidence': 0.8304072618484497}],\n",
              "  'original_path': 'dataset/preprocessed_images/Cars426.png'},\n",
              " 'Cars15.png': {'detections': [{'bbox': [312, 145, 367, 172],\n",
              "    'confidence': 0.7645246982574463}],\n",
              "  'original_path': 'dataset/preprocessed_images/Cars15.png'},\n",
              " 'Cars251.png': {'detections': [],\n",
              "  'original_path': 'dataset/preprocessed_images/Cars251.png'},\n",
              " 'Cars371.png': {'detections': [{'bbox': [313, 136, 371, 150],\n",
              "    'confidence': 0.7434110045433044}],\n",
              "  'original_path': 'dataset/preprocessed_images/Cars371.png'},\n",
              " 'Cars19.png': {'detections': [{'bbox': [148, 195, 219, 226],\n",
              "    'confidence': 0.7072842717170715}],\n",
              "  'original_path': 'dataset/preprocessed_images/Cars19.png'},\n",
              " 'Cars385.png': {'detections': [{'bbox': [70, 76, 309, 188],\n",
              "    'confidence': 0.8823809623718262}],\n",
              "  'original_path': 'dataset/preprocessed_images/Cars385.png'},\n",
              " 'Cars327.png': {'detections': [{'bbox': [135, 125, 259, 161],\n",
              "    'confidence': 0.8512176871299744}],\n",
              "  'original_path': 'dataset/preprocessed_images/Cars327.png'},\n",
              " 'Cars394.png': {'detections': [{'bbox': [291, 167, 411, 190],\n",
              "    'confidence': 0.727778434753418}],\n",
              "  'original_path': 'dataset/preprocessed_images/Cars394.png'},\n",
              " 'Cars217.png': {'detections': [{'bbox': [148, 195, 219, 226],\n",
              "    'confidence': 0.7072842717170715}],\n",
              "  'original_path': 'dataset/preprocessed_images/Cars217.png'},\n",
              " 'Cars322.png': {'detections': [{'bbox': [270, 258, 356, 295],\n",
              "    'confidence': 0.7315905094146729}],\n",
              "  'original_path': 'dataset/preprocessed_images/Cars322.png'},\n",
              " 'Cars367.png': {'detections': [{'bbox': [235, 158, 380, 218],\n",
              "    'confidence': 0.8481213450431824}],\n",
              "  'original_path': 'dataset/preprocessed_images/Cars367.png'},\n",
              " 'Cars197.png': {'detections': [{'bbox': [220, 172, 359, 202],\n",
              "    'confidence': 0.7657414078712463}],\n",
              "  'original_path': 'dataset/preprocessed_images/Cars197.png'},\n",
              " 'Cars276.png': {'detections': [{'bbox': [115, 115, 277, 152],\n",
              "    'confidence': 0.8681740164756775}],\n",
              "  'original_path': 'dataset/preprocessed_images/Cars276.png'},\n",
              " 'Cars378.png': {'detections': [{'bbox': [116, 92, 254, 137],\n",
              "    'confidence': 0.8555179834365845}],\n",
              "  'original_path': 'dataset/preprocessed_images/Cars378.png'},\n",
              " 'Cars420.png': {'detections': [{'bbox': [111, 185, 160, 209],\n",
              "    'confidence': 0.7971933484077454}],\n",
              "  'original_path': 'dataset/preprocessed_images/Cars420.png'},\n",
              " 'Cars125.png': {'detections': [{'bbox': [279, 196, 357, 257],\n",
              "    'confidence': 0.8495442271232605}],\n",
              "  'original_path': 'dataset/preprocessed_images/Cars125.png'},\n",
              " 'Cars347.png': {'detections': [{'bbox': [226, 123, 242, 132],\n",
              "    'confidence': 0.4079693555831909}],\n",
              "  'original_path': 'dataset/preprocessed_images/Cars347.png'},\n",
              " 'Cars136.png': {'detections': [{'bbox': [164, 100, 246, 121],\n",
              "    'confidence': 0.8070272207260132}],\n",
              "  'original_path': 'dataset/preprocessed_images/Cars136.png'},\n",
              " 'Cars311.png': {'detections': [{'bbox': [297, 162, 349, 185],\n",
              "    'confidence': 0.7648111581802368}],\n",
              "  'original_path': 'dataset/preprocessed_images/Cars311.png'},\n",
              " 'Cars117.png': {'detections': [{'bbox': [45, 123, 80, 138],\n",
              "    'confidence': 0.7300088405609131}],\n",
              "  'original_path': 'dataset/preprocessed_images/Cars117.png'},\n",
              " 'Cars317.png': {'detections': [{'bbox': [164, 201, 241, 219],\n",
              "    'confidence': 0.7405029535293579}],\n",
              "  'original_path': 'dataset/preprocessed_images/Cars317.png'},\n",
              " 'Cars218.png': {'detections': [],\n",
              "  'original_path': 'dataset/preprocessed_images/Cars218.png'},\n",
              " 'Cars167.png': {'detections': [{'bbox': [178, 253, 328, 284],\n",
              "    'confidence': 0.8312525153160095}],\n",
              "  'original_path': 'dataset/preprocessed_images/Cars167.png'},\n",
              " 'Cars156.png': {'detections': [{'bbox': [113, 74, 229, 101],\n",
              "    'confidence': 0.7517739534378052}],\n",
              "  'original_path': 'dataset/preprocessed_images/Cars156.png'},\n",
              " 'Cars338.png': {'detections': [],\n",
              "  'original_path': 'dataset/preprocessed_images/Cars338.png'},\n",
              " 'Cars80.png': {'detections': [{'bbox': [93, 146, 279, 187],\n",
              "    'confidence': 0.7495313286781311}],\n",
              "  'original_path': 'dataset/preprocessed_images/Cars80.png'},\n",
              " 'Cars210.png': {'detections': [{'bbox': [56, 90, 307, 155],\n",
              "    'confidence': 0.8027385473251343}],\n",
              "  'original_path': 'dataset/preprocessed_images/Cars210.png'},\n",
              " 'Cars249.png': {'detections': [{'bbox': [299, 208, 351, 221],\n",
              "    'confidence': 0.4834180176258087},\n",
              "   {'bbox': [112, 90, 155, 103], 'confidence': 0.3741419315338135}],\n",
              "  'original_path': 'dataset/preprocessed_images/Cars249.png'},\n",
              " 'Cars382.png': {'detections': [{'bbox': [149, 205, 283, 238],\n",
              "    'confidence': 0.8304072618484497}],\n",
              "  'original_path': 'dataset/preprocessed_images/Cars382.png'},\n",
              " 'Cars407.png': {'detections': [{'bbox': [312, 183, 343, 201],\n",
              "    'confidence': 0.7130447030067444}],\n",
              "  'original_path': 'dataset/preprocessed_images/Cars407.png'},\n",
              " 'Cars139.png': {'detections': [{'bbox': [193, 222, 224, 231],\n",
              "    'confidence': 0.29611340165138245}],\n",
              "  'original_path': 'dataset/preprocessed_images/Cars139.png'},\n",
              " 'Cars60.png': {'detections': [{'bbox': [41, 97, 368, 156],\n",
              "    'confidence': 0.833116352558136}],\n",
              "  'original_path': 'dataset/preprocessed_images/Cars60.png'},\n",
              " 'Cars413.png': {'detections': [{'bbox': [238, 144, 270, 162],\n",
              "    'confidence': 0.7344744205474854}],\n",
              "  'original_path': 'dataset/preprocessed_images/Cars413.png'},\n",
              " 'Cars339.png': {'detections': [{'bbox': [213, 136, 282, 169],\n",
              "    'confidence': 0.8459362387657166}],\n",
              "  'original_path': 'dataset/preprocessed_images/Cars339.png'},\n",
              " 'Cars266.png': {'detections': [{'bbox': [9, 57, 88, 74],\n",
              "    'confidence': 0.7011664509773254}],\n",
              "  'original_path': 'dataset/preprocessed_images/Cars266.png'},\n",
              " 'Cars308.png': {'detections': [{'bbox': [159, 222, 236, 241],\n",
              "    'confidence': 0.7552739381790161}],\n",
              "  'original_path': 'dataset/preprocessed_images/Cars308.png'},\n",
              " 'Cars115.png': {'detections': [{'bbox': [312, 286, 405, 312],\n",
              "    'confidence': 0.7749935984611511}],\n",
              "  'original_path': 'dataset/preprocessed_images/Cars115.png'},\n",
              " 'Cars290.png': {'detections': [{'bbox': [211, 191, 253, 216],\n",
              "    'confidence': 0.5746012926101685},\n",
              "   {'bbox': [222, 85, 273, 120], 'confidence': 0.4920690357685089}],\n",
              "  'original_path': 'dataset/preprocessed_images/Cars290.png'},\n",
              " 'Cars388.png': {'detections': [{'bbox': [154, 130, 254, 157],\n",
              "    'confidence': 0.7927163243293762}],\n",
              "  'original_path': 'dataset/preprocessed_images/Cars388.png'},\n",
              " 'Cars267.png': {'detections': [{'bbox': [276, 118, 343, 136],\n",
              "    'confidence': 0.7352335453033447}],\n",
              "  'original_path': 'dataset/preprocessed_images/Cars267.png'},\n",
              " 'Cars118.png': {'detections': [{'bbox': [197, 164, 392, 208],\n",
              "    'confidence': 0.8208732604980469}],\n",
              "  'original_path': 'dataset/preprocessed_images/Cars118.png'},\n",
              " 'Cars34.png': {'detections': [{'bbox': [149, 180, 261, 207],\n",
              "    'confidence': 0.7891697883605957},\n",
              "   {'bbox': [390, 0, 400, 17], 'confidence': 0.26812705397605896}],\n",
              "  'original_path': 'dataset/preprocessed_images/Cars34.png'},\n",
              " 'Cars183.png': {'detections': [{'bbox': [80, 132, 254, 170],\n",
              "    'confidence': 0.7953636646270752}],\n",
              "  'original_path': 'dataset/preprocessed_images/Cars183.png'},\n",
              " 'Cars343.png': {'detections': [{'bbox': [111, 185, 160, 209],\n",
              "    'confidence': 0.7971933484077454}],\n",
              "  'original_path': 'dataset/preprocessed_images/Cars343.png'},\n",
              " 'Cars373.png': {'detections': [{'bbox': [163, 132, 265, 158],\n",
              "    'confidence': 0.7459656000137329}],\n",
              "  'original_path': 'dataset/preprocessed_images/Cars373.png'},\n",
              " 'Cars95.png': {'detections': [{'bbox': [277, 186, 396, 271],\n",
              "    'confidence': 0.896625816822052}],\n",
              "  'original_path': 'dataset/preprocessed_images/Cars95.png'},\n",
              " 'Cars293.png': {'detections': [{'bbox': [70, 162, 132, 179],\n",
              "    'confidence': 0.8368828892707825}],\n",
              "  'original_path': 'dataset/preprocessed_images/Cars293.png'},\n",
              " 'Cars146.png': {'detections': [],\n",
              "  'original_path': 'dataset/preprocessed_images/Cars146.png'},\n",
              " 'Cars283.png': {'detections': [],\n",
              "  'original_path': 'dataset/preprocessed_images/Cars283.png'},\n",
              " 'Cars32.png': {'detections': [{'bbox': [197, 148, 251, 168],\n",
              "    'confidence': 0.7586898803710938}],\n",
              "  'original_path': 'dataset/preprocessed_images/Cars32.png'},\n",
              " 'Cars38.png': {'detections': [{'bbox': [167, 196, 236, 229],\n",
              "    'confidence': 0.8075559735298157}],\n",
              "  'original_path': 'dataset/preprocessed_images/Cars38.png'},\n",
              " 'Cars328.png': {'detections': [{'bbox': [157, 148, 246, 170],\n",
              "    'confidence': 0.7878599762916565}],\n",
              "  'original_path': 'dataset/preprocessed_images/Cars328.png'},\n",
              " 'Cars193.png': {'detections': [{'bbox': [302, 192, 341, 215],\n",
              "    'confidence': 0.641828179359436}],\n",
              "  'original_path': 'dataset/preprocessed_images/Cars193.png'},\n",
              " 'Cars57.png': {'detections': [{'bbox': [270, 163, 321, 192],\n",
              "    'confidence': 0.8020040392875671}],\n",
              "  'original_path': 'dataset/preprocessed_images/Cars57.png'},\n",
              " 'Cars278.png': {'detections': [{'bbox': [279, 137, 312, 164],\n",
              "    'confidence': 0.7172161936759949}],\n",
              "  'original_path': 'dataset/preprocessed_images/Cars278.png'},\n",
              " 'Cars4.png': {'detections': [{'bbox': [151, 79, 511, 252],\n",
              "    'confidence': 0.8444080352783203}],\n",
              "  'original_path': 'dataset/preprocessed_images/Cars4.png'},\n",
              " 'Cars261.png': {'detections': [{'bbox': [17, 75, 470, 154],\n",
              "    'confidence': 0.6925790905952454},\n",
              "   {'bbox': [0, 104, 51, 145], 'confidence': 0.491527795791626}],\n",
              "  'original_path': 'dataset/preprocessed_images/Cars261.png'},\n",
              " 'Cars387.png': {'detections': [{'bbox': [163, 188, 258, 216],\n",
              "    'confidence': 0.7125011086463928}],\n",
              "  'original_path': 'dataset/preprocessed_images/Cars387.png'},\n",
              " 'Cars325.png': {'detections': [],\n",
              "  'original_path': 'dataset/preprocessed_images/Cars325.png'},\n",
              " 'Cars393.png': {'detections': [{'bbox': [94, 170, 211, 206],\n",
              "    'confidence': 0.8020449280738831}],\n",
              "  'original_path': 'dataset/preprocessed_images/Cars393.png'},\n",
              " 'Cars326.png': {'detections': [{'bbox': [118, 195, 264, 231],\n",
              "    'confidence': 0.8281866312026978}],\n",
              "  'original_path': 'dataset/preprocessed_images/Cars326.png'},\n",
              " 'Cars295.png': {'detections': [{'bbox': [238, 147, 271, 161],\n",
              "    'confidence': 0.36630555987358093}],\n",
              "  'original_path': 'dataset/preprocessed_images/Cars295.png'},\n",
              " 'Cars192.png': {'detections': [{'bbox': [111, 149, 209, 174],\n",
              "    'confidence': 0.8157917857170105}],\n",
              "  'original_path': 'dataset/preprocessed_images/Cars192.png'},\n",
              " 'Cars48.png': {'detections': [{'bbox': [99, 115, 283, 153],\n",
              "    'confidence': 0.7897834777832031}],\n",
              "  'original_path': 'dataset/preprocessed_images/Cars48.png'},\n",
              " 'Cars171.png': {'detections': [{'bbox': [189, 143, 243, 170],\n",
              "    'confidence': 0.8001904487609863}],\n",
              "  'original_path': 'dataset/preprocessed_images/Cars171.png'},\n",
              " 'Cars151.png': {'detections': [{'bbox': [60, 138, 113, 167],\n",
              "    'confidence': 0.68288654088974}],\n",
              "  'original_path': 'dataset/preprocessed_images/Cars151.png'},\n",
              " 'Cars27.png': {'detections': [{'bbox': [143, 126, 258, 158],\n",
              "    'confidence': 0.8445255160331726}],\n",
              "  'original_path': 'dataset/preprocessed_images/Cars27.png'},\n",
              " 'Cars174.png': {'detections': [],\n",
              "  'original_path': 'dataset/preprocessed_images/Cars174.png'},\n",
              " 'Cars97.png': {'detections': [{'bbox': [98, 100, 296, 191],\n",
              "    'confidence': 0.8699483275413513}],\n",
              "  'original_path': 'dataset/preprocessed_images/Cars97.png'},\n",
              " 'Cars221.png': {'detections': [],\n",
              "  'original_path': 'dataset/preprocessed_images/Cars221.png'},\n",
              " 'Cars177.png': {'detections': [{'bbox': [163, 165, 272, 192],\n",
              "    'confidence': 0.7826976776123047}],\n",
              "  'original_path': 'dataset/preprocessed_images/Cars177.png'},\n",
              " 'Cars2.png': {'detections': [{'bbox': [228, 172, 268, 195],\n",
              "    'confidence': 0.7725644707679749}],\n",
              "  'original_path': 'dataset/preprocessed_images/Cars2.png'},\n",
              " 'Cars404.png': {'detections': [{'bbox': [161, 207, 233, 244],\n",
              "    'confidence': 0.8799949288368225}],\n",
              "  'original_path': 'dataset/preprocessed_images/Cars404.png'},\n",
              " 'Cars391.png': {'detections': [{'bbox': [270, 163, 321, 192],\n",
              "    'confidence': 0.8020040392875671}],\n",
              "  'original_path': 'dataset/preprocessed_images/Cars391.png'},\n",
              " 'Cars432.png': {'detections': [{'bbox': [96, 257, 198, 284],\n",
              "    'confidence': 0.72709721326828}],\n",
              "  'original_path': 'dataset/preprocessed_images/Cars432.png'},\n",
              " 'Cars336.png': {'detections': [{'bbox': [118, 195, 264, 231],\n",
              "    'confidence': 0.8281866312026978}],\n",
              "  'original_path': 'dataset/preprocessed_images/Cars336.png'},\n",
              " 'Cars294.png': {'detections': [{'bbox': [141, 115, 220, 137],\n",
              "    'confidence': 0.7909739017486572}],\n",
              "  'original_path': 'dataset/preprocessed_images/Cars294.png'},\n",
              " 'Cars244.png': {'detections': [{'bbox': [19, 78, 366, 155],\n",
              "    'confidence': 0.7536574006080627}],\n",
              "  'original_path': 'dataset/preprocessed_images/Cars244.png'},\n",
              " 'Cars224.png': {'detections': [{'bbox': [177, 254, 239, 267],\n",
              "    'confidence': 0.6778998374938965},\n",
              "   {'bbox': [94, 181, 134, 197], 'confidence': 0.6060386300086975}],\n",
              "  'original_path': 'dataset/preprocessed_images/Cars224.png'},\n",
              " 'Cars127.png': {'detections': [{'bbox': [360, 167, 379, 181],\n",
              "    'confidence': 0.6565558314323425}],\n",
              "  'original_path': 'dataset/preprocessed_images/Cars127.png'},\n",
              " 'Cars195.png': {'detections': [{'bbox': [446, 226, 526, 246],\n",
              "    'confidence': 0.6563711166381836},\n",
              "   {'bbox': [436, 223, 532, 247], 'confidence': 0.4124797582626343}],\n",
              "  'original_path': 'dataset/preprocessed_images/Cars195.png'},\n",
              " 'Cars234.png': {'detections': [{'bbox': [157, 148, 246, 170],\n",
              "    'confidence': 0.7878599762916565}],\n",
              "  'original_path': 'dataset/preprocessed_images/Cars234.png'},\n",
              " 'Cars351.png': {'detections': [{'bbox': [248, 48, 367, 125],\n",
              "    'confidence': 0.8771949410438538}],\n",
              "  'original_path': 'dataset/preprocessed_images/Cars351.png'},\n",
              " 'Cars120.png': {'detections': [{'bbox': [160, 178, 251, 202],\n",
              "    'confidence': 0.8027167916297913}],\n",
              "  'original_path': 'dataset/preprocessed_images/Cars120.png'},\n",
              " 'Cars316.png': {'detections': [],\n",
              "  'original_path': 'dataset/preprocessed_images/Cars316.png'},\n",
              " 'Cars319.png': {'detections': [{'bbox': [165, 225, 229, 260],\n",
              "    'confidence': 0.4856383502483368}],\n",
              "  'original_path': 'dataset/preprocessed_images/Cars319.png'},\n",
              " 'Cars264.png': {'detections': [{'bbox': [217, 300, 294, 336],\n",
              "    'confidence': 0.7840595841407776}],\n",
              "  'original_path': 'dataset/preprocessed_images/Cars264.png'},\n",
              " 'Cars59.png': {'detections': [{'bbox': [323, 159, 374, 178],\n",
              "    'confidence': 0.6915295720100403}],\n",
              "  'original_path': 'dataset/preprocessed_images/Cars59.png'},\n",
              " 'Cars29.png': {'detections': [{'bbox': [143, 169, 213, 210],\n",
              "    'confidence': 0.8213142156600952},\n",
              "   {'bbox': [376, 190, 400, 216], 'confidence': 0.2949119806289673}],\n",
              "  'original_path': 'dataset/preprocessed_images/Cars29.png'},\n",
              " 'Cars160.png': {'detections': [{'bbox': [213, 136, 282, 169],\n",
              "    'confidence': 0.8459362387657166}],\n",
              "  'original_path': 'dataset/preprocessed_images/Cars160.png'},\n",
              " 'Cars412.png': {'detections': [{'bbox': [220, 172, 359, 202],\n",
              "    'confidence': 0.7657414078712463}],\n",
              "  'original_path': 'dataset/preprocessed_images/Cars412.png'},\n",
              " 'Cars101.png': {'detections': [{'bbox': [164, 201, 241, 219],\n",
              "    'confidence': 0.7405029535293579}],\n",
              "  'original_path': 'dataset/preprocessed_images/Cars101.png'},\n",
              " 'Cars53.png': {'detections': [{'bbox': [146, 186, 261, 213],\n",
              "    'confidence': 0.8189700841903687}],\n",
              "  'original_path': 'dataset/preprocessed_images/Cars53.png'},\n",
              " 'Cars334.png': {'detections': [{'bbox': [154, 145, 210, 160],\n",
              "    'confidence': 0.6342955827713013}],\n",
              "  'original_path': 'dataset/preprocessed_images/Cars334.png'},\n",
              " 'Cars186.png': {'detections': [{'bbox': [177, 154, 235, 170],\n",
              "    'confidence': 0.7423731088638306}],\n",
              "  'original_path': 'dataset/preprocessed_images/Cars186.png'},\n",
              " 'Cars346.png': {'detections': [{'bbox': [92, 185, 199, 218],\n",
              "    'confidence': 0.7708680033683777}],\n",
              "  'original_path': 'dataset/preprocessed_images/Cars346.png'},\n",
              " 'Cars299.png': {'detections': [{'bbox': [98, 136, 275, 175],\n",
              "    'confidence': 0.7925029993057251}],\n",
              "  'original_path': 'dataset/preprocessed_images/Cars299.png'},\n",
              " 'Cars332.png': {'detections': [{'bbox': [143, 126, 258, 158],\n",
              "    'confidence': 0.8445255160331726}],\n",
              "  'original_path': 'dataset/preprocessed_images/Cars332.png'},\n",
              " 'Cars260.png': {'detections': [{'bbox': [172, 112, 234, 127],\n",
              "    'confidence': 0.650536298751831}],\n",
              "  'original_path': 'dataset/preprocessed_images/Cars260.png'},\n",
              " 'Cars354.png': {'detections': [{'bbox': [66, 202, 99, 219],\n",
              "    'confidence': 0.7762556076049805}],\n",
              "  'original_path': 'dataset/preprocessed_images/Cars354.png'},\n",
              " 'Cars58.png': {'detections': [{'bbox': [153, 168, 239, 187],\n",
              "    'confidence': 0.7474674582481384}],\n",
              "  'original_path': 'dataset/preprocessed_images/Cars58.png'},\n",
              " 'Cars18.png': {'detections': [{'bbox': [312, 286, 405, 312],\n",
              "    'confidence': 0.7749935984611511}],\n",
              "  'original_path': 'dataset/preprocessed_images/Cars18.png'},\n",
              " 'Cars135.png': {'detections': [{'bbox': [260, 184, 317, 213],\n",
              "    'confidence': 0.76183021068573}],\n",
              "  'original_path': 'dataset/preprocessed_images/Cars135.png'},\n",
              " 'Cars405.png': {'detections': [{'bbox': [238, 205, 298, 229],\n",
              "    'confidence': 0.83521968126297}],\n",
              "  'original_path': 'dataset/preprocessed_images/Cars405.png'},\n",
              " 'Cars35.png': {'detections': [{'bbox': [91, 186, 137, 206],\n",
              "    'confidence': 0.7129663228988647}],\n",
              "  'original_path': 'dataset/preprocessed_images/Cars35.png'},\n",
              " 'Cars223.png': {'detections': [{'bbox': [346, 229, 406, 249],\n",
              "    'confidence': 0.45505234599113464}],\n",
              "  'original_path': 'dataset/preprocessed_images/Cars223.png'},\n",
              " 'Cars63.png': {'detections': [{'bbox': [55, 200, 90, 223],\n",
              "    'confidence': 0.7721107602119446}],\n",
              "  'original_path': 'dataset/preprocessed_images/Cars63.png'},\n",
              " 'Cars320.png': {'detections': [{'bbox': [70, 198, 261, 269],\n",
              "    'confidence': 0.8398513793945312}],\n",
              "  'original_path': 'dataset/preprocessed_images/Cars320.png'},\n",
              " 'Cars286.png': {'detections': [{'bbox': [202, 192, 285, 228],\n",
              "    'confidence': 0.7844870090484619}],\n",
              "  'original_path': 'dataset/preprocessed_images/Cars286.png'},\n",
              " 'Cars113.png': {'detections': [{'bbox': [148, 112, 304, 178],\n",
              "    'confidence': 0.8779211044311523}],\n",
              "  'original_path': 'dataset/preprocessed_images/Cars113.png'},\n",
              " 'Cars104.png': {'detections': [{'bbox': [191, 267, 240, 280],\n",
              "    'confidence': 0.6624191403388977}],\n",
              "  'original_path': 'dataset/preprocessed_images/Cars104.png'},\n",
              " 'Cars122.png': {'detections': [{'bbox': [197, 148, 251, 168],\n",
              "    'confidence': 0.7586898803710938}],\n",
              "  'original_path': 'dataset/preprocessed_images/Cars122.png'},\n",
              " 'Cars272.png': {'detections': [{'bbox': [171, 84, 316, 126],\n",
              "    'confidence': 0.8188796639442444}],\n",
              "  'original_path': 'dataset/preprocessed_images/Cars272.png'},\n",
              " 'Cars49.png': {'detections': [{'bbox': [269, 170, 314, 190],\n",
              "    'confidence': 0.7094956636428833}],\n",
              "  'original_path': 'dataset/preprocessed_images/Cars49.png'},\n",
              " 'Cars345.png': {'detections': [{'bbox': [173, 144, 247, 181],\n",
              "    'confidence': 0.8444665670394897}],\n",
              "  'original_path': 'dataset/preprocessed_images/Cars345.png'},\n",
              " 'Cars258.png': {'detections': [{'bbox': [159, 190, 227, 226],\n",
              "    'confidence': 0.7545034885406494}],\n",
              "  'original_path': 'dataset/preprocessed_images/Cars258.png'},\n",
              " 'Cars318.png': {'detections': [{'bbox': [99, 115, 283, 153],\n",
              "    'confidence': 0.7897834777832031}],\n",
              "  'original_path': 'dataset/preprocessed_images/Cars318.png'},\n",
              " 'Cars302.png': {'detections': [{'bbox': [232, 97, 434, 148],\n",
              "    'confidence': 0.8427431583404541},\n",
              "   {'bbox': [73, 48, 155, 90], 'confidence': 0.4541279077529907}],\n",
              "  'original_path': 'dataset/preprocessed_images/Cars302.png'},\n",
              " 'Cars159.png': {'detections': [{'bbox': [149, 180, 261, 207],\n",
              "    'confidence': 0.7891697883605957},\n",
              "   {'bbox': [390, 0, 400, 17], 'confidence': 0.26812705397605896}],\n",
              "  'original_path': 'dataset/preprocessed_images/Cars159.png'},\n",
              " 'Cars8.png': {'detections': [{'bbox': [206, 103, 303, 135],\n",
              "    'confidence': 0.8052502870559692}],\n",
              "  'original_path': 'dataset/preprocessed_images/Cars8.png'},\n",
              " 'Cars269.png': {'detections': [{'bbox': [110, 194, 147, 213],\n",
              "    'confidence': 0.6149221658706665}],\n",
              "  'original_path': 'dataset/preprocessed_images/Cars269.png'},\n",
              " 'Cars304.png': {'detections': [{'bbox': [142, 112, 221, 153],\n",
              "    'confidence': 0.8415510654449463}],\n",
              "  'original_path': 'dataset/preprocessed_images/Cars304.png'},\n",
              " 'Cars17.png': {'detections': [{'bbox': [303, 188, 347, 207],\n",
              "    'confidence': 0.714751124382019},\n",
              "   {'bbox': [130, 82, 154, 91], 'confidence': 0.2612462043762207}],\n",
              "  'original_path': 'dataset/preprocessed_images/Cars17.png'},\n",
              " 'Cars337.png': {'detections': [{'bbox': [119, 133, 137, 155],\n",
              "    'confidence': 0.39426538348197937},\n",
              "   {'bbox': [118, 130, 135, 148], 'confidence': 0.27346137166023254}],\n",
              "  'original_path': 'dataset/preprocessed_images/Cars337.png'},\n",
              " 'Cars349.png': {'detections': [{'bbox': [37, 224, 150, 250],\n",
              "    'confidence': 0.7159333229064941}],\n",
              "  'original_path': 'dataset/preprocessed_images/Cars349.png'},\n",
              " 'Cars178.png': {'detections': [{'bbox': [127, 180, 175, 205],\n",
              "    'confidence': 0.7868169546127319}],\n",
              "  'original_path': 'dataset/preprocessed_images/Cars178.png'},\n",
              " 'Cars1.png': {'detections': [{'bbox': [135, 125, 259, 161],\n",
              "    'confidence': 0.8512176871299744}],\n",
              "  'original_path': 'dataset/preprocessed_images/Cars1.png'},\n",
              " 'Cars247.png': {'detections': [{'bbox': [146, 25, 298, 147],\n",
              "    'confidence': 0.8350075483322144}],\n",
              "  'original_path': 'dataset/preprocessed_images/Cars247.png'},\n",
              " 'Cars377.png': {'detections': [{'bbox': [178, 138, 217, 159],\n",
              "    'confidence': 0.8185538053512573}],\n",
              "  'original_path': 'dataset/preprocessed_images/Cars377.png'},\n",
              " 'Cars243.png': {'detections': [{'bbox': [129, 170, 465, 236],\n",
              "    'confidence': 0.8079456686973572}],\n",
              "  'original_path': 'dataset/preprocessed_images/Cars243.png'},\n",
              " 'Cars196.png': {'detections': [],\n",
              "  'original_path': 'dataset/preprocessed_images/Cars196.png'},\n",
              " 'Cars355.png': {'detections': [{'bbox': [164, 154, 238, 189],\n",
              "    'confidence': 0.8552802801132202}],\n",
              "  'original_path': 'dataset/preprocessed_images/Cars355.png'},\n",
              " 'Cars52.png': {'detections': [{'bbox': [222, 180, 329, 209],\n",
              "    'confidence': 0.7688903212547302}],\n",
              "  'original_path': 'dataset/preprocessed_images/Cars52.png'},\n",
              " 'Cars284.png': {'detections': [{'bbox': [70, 198, 261, 269],\n",
              "    'confidence': 0.8398513793945312}],\n",
              "  'original_path': 'dataset/preprocessed_images/Cars284.png'},\n",
              " 'Cars250.png': {'detections': [{'bbox': [135, 125, 259, 161],\n",
              "    'confidence': 0.8512176871299744}],\n",
              "  'original_path': 'dataset/preprocessed_images/Cars250.png'},\n",
              " 'Cars184.png': {'detections': [{'bbox': [165, 145, 211, 156],\n",
              "    'confidence': 0.539747416973114}],\n",
              "  'original_path': 'dataset/preprocessed_images/Cars184.png'},\n",
              " 'Cars312.png': {'detections': [{'bbox': [151, 79, 511, 252],\n",
              "    'confidence': 0.8444080352783203}],\n",
              "  'original_path': 'dataset/preprocessed_images/Cars312.png'},\n",
              " 'Cars401.png': {'detections': [{'bbox': [159, 222, 236, 241],\n",
              "    'confidence': 0.7552739381790161}],\n",
              "  'original_path': 'dataset/preprocessed_images/Cars401.png'},\n",
              " 'Cars297.png': {'detections': [{'bbox': [157, 148, 246, 170],\n",
              "    'confidence': 0.7878599762916565}],\n",
              "  'original_path': 'dataset/preprocessed_images/Cars297.png'},\n",
              " 'Cars22.png': {'detections': [{'bbox': [206, 103, 258, 115],\n",
              "    'confidence': 0.45620569586753845}],\n",
              "  'original_path': 'dataset/preprocessed_images/Cars22.png'},\n",
              " 'Cars213.png': {'detections': [{'bbox': [146, 158, 223, 183],\n",
              "    'confidence': 0.5466798543930054},\n",
              "   {'bbox': [144, 158, 252, 185], 'confidence': 0.4920719265937805}],\n",
              "  'original_path': 'dataset/preprocessed_images/Cars213.png'},\n",
              " 'Cars307.png': {'detections': [{'bbox': [174, 165, 436, 219],\n",
              "    'confidence': 0.8705874681472778}],\n",
              "  'original_path': 'dataset/preprocessed_images/Cars307.png'},\n",
              " 'Cars416.png': {'detections': [{'bbox': [152, 205, 234, 221],\n",
              "    'confidence': 0.6329587697982788}],\n",
              "  'original_path': 'dataset/preprocessed_images/Cars416.png'},\n",
              " 'Cars421.png': {'detections': [{'bbox': [94, 163, 126, 182],\n",
              "    'confidence': 0.7056934237480164}],\n",
              "  'original_path': 'dataset/preprocessed_images/Cars421.png'},\n",
              " 'Cars190.png': {'detections': [{'bbox': [152, 212, 248, 236],\n",
              "    'confidence': 0.7554317712783813}],\n",
              "  'original_path': 'dataset/preprocessed_images/Cars190.png'},\n",
              " 'Cars107.png': {'detections': [{'bbox': [141, 114, 315, 163],\n",
              "    'confidence': 0.8270980715751648}],\n",
              "  'original_path': 'dataset/preprocessed_images/Cars107.png'},\n",
              " 'Cars360.png': {'detections': [{'bbox': [51, 166, 94, 200],\n",
              "    'confidence': 0.8655086755752563}],\n",
              "  'original_path': 'dataset/preprocessed_images/Cars360.png'},\n",
              " 'Cars128.png': {'detections': [{'bbox': [103, 67, 304, 159],\n",
              "    'confidence': 0.8670428395271301}],\n",
              "  'original_path': 'dataset/preprocessed_images/Cars128.png'},\n",
              " 'Cars329.png': {'detections': [{'bbox': [168, 141, 226, 174],\n",
              "    'confidence': 0.835828423500061}],\n",
              "  'original_path': 'dataset/preprocessed_images/Cars329.png'},\n",
              " 'Cars330.png': {'detections': [],\n",
              "  'original_path': 'dataset/preprocessed_images/Cars330.png'},\n",
              " 'Cars231.png': {'detections': [{'bbox': [70, 162, 132, 179],\n",
              "    'confidence': 0.8368828892707825}],\n",
              "  'original_path': 'dataset/preprocessed_images/Cars231.png'},\n",
              " 'Cars131.png': {'detections': [{'bbox': [22, 4, 493, 266],\n",
              "    'confidence': 0.7620513439178467},\n",
              "   {'bbox': [0, 25, 416, 251], 'confidence': 0.42520105838775635},\n",
              "   {'bbox': [6, 130, 495, 300], 'confidence': 0.3946622312068939}],\n",
              "  'original_path': 'dataset/preprocessed_images/Cars131.png'},\n",
              " 'Cars150.png': {'detections': [{'bbox': [118, 195, 264, 231],\n",
              "    'confidence': 0.8281866312026978}],\n",
              "  'original_path': 'dataset/preprocessed_images/Cars150.png'},\n",
              " 'Cars111.png': {'detections': [{'bbox': [323, 165, 476, 206],\n",
              "    'confidence': 0.8180002570152283}],\n",
              "  'original_path': 'dataset/preprocessed_images/Cars111.png'},\n",
              " 'Cars342.png': {'detections': [{'bbox': [197, 148, 251, 168],\n",
              "    'confidence': 0.7586898803710938}],\n",
              "  'original_path': 'dataset/preprocessed_images/Cars342.png'},\n",
              " 'Cars3.png': {'detections': [{'bbox': [143, 126, 258, 158],\n",
              "    'confidence': 0.8445255160331726}],\n",
              "  'original_path': 'dataset/preprocessed_images/Cars3.png'},\n",
              " 'Cars376.png': {'detections': [{'bbox': [160, 178, 251, 202],\n",
              "    'confidence': 0.8027167916297913}],\n",
              "  'original_path': 'dataset/preprocessed_images/Cars376.png'},\n",
              " 'Cars175.png': {'detections': [{'bbox': [295, 252, 460, 366],\n",
              "    'confidence': 0.8181526064872742}],\n",
              "  'original_path': 'dataset/preprocessed_images/Cars175.png'},\n",
              " 'Cars69.png': {'detections': [{'bbox': [76, 150, 124, 175],\n",
              "    'confidence': 0.6695166826248169}],\n",
              "  'original_path': 'dataset/preprocessed_images/Cars69.png'},\n",
              " 'Cars24.png': {'detections': [{'bbox': [164, 201, 241, 219],\n",
              "    'confidence': 0.7405029535293579}],\n",
              "  'original_path': 'dataset/preprocessed_images/Cars24.png'},\n",
              " 'Cars169.png': {'detections': [{'bbox': [113, 74, 229, 101],\n",
              "    'confidence': 0.7517739534378052}],\n",
              "  'original_path': 'dataset/preprocessed_images/Cars169.png'},\n",
              " 'Cars161.png': {'detections': [{'bbox': [312, 286, 405, 312],\n",
              "    'confidence': 0.7749935984611511}],\n",
              "  'original_path': 'dataset/preprocessed_images/Cars161.png'},\n",
              " 'Cars233.png': {'detections': [{'bbox': [182, 56, 257, 80],\n",
              "    'confidence': 0.7471789717674255}],\n",
              "  'original_path': 'dataset/preprocessed_images/Cars233.png'},\n",
              " 'Cars375.png': {'detections': [{'bbox': [142, 114, 297, 144],\n",
              "    'confidence': 0.7322198152542114}],\n",
              "  'original_path': 'dataset/preprocessed_images/Cars375.png'},\n",
              " 'Cars241.png': {'detections': [{'bbox': [124, 139, 245, 196],\n",
              "    'confidence': 0.8103771805763245}],\n",
              "  'original_path': 'dataset/preprocessed_images/Cars241.png'},\n",
              " 'Cars65.png': {'detections': [{'bbox': [205, 201, 300, 259],\n",
              "    'confidence': 0.8113250732421875}],\n",
              "  'original_path': 'dataset/preprocessed_images/Cars65.png'},\n",
              " 'Cars277.png': {'detections': [{'bbox': [45, 218, 71, 227],\n",
              "    'confidence': 0.4790080785751343}],\n",
              "  'original_path': 'dataset/preprocessed_images/Cars277.png'},\n",
              " 'Cars411.png': {'detections': [{'bbox': [159, 152, 246, 195],\n",
              "    'confidence': 0.8533040881156921}],\n",
              "  'original_path': 'dataset/preprocessed_images/Cars411.png'},\n",
              " 'Cars40.png': {'detections': [{'bbox': [260, 184, 317, 213],\n",
              "    'confidence': 0.76183021068573}],\n",
              "  'original_path': 'dataset/preprocessed_images/Cars40.png'},\n",
              " 'Cars430.png': {'detections': [{'bbox': [38, 159, 116, 197],\n",
              "    'confidence': 0.8421564102172852}],\n",
              "  'original_path': 'dataset/preprocessed_images/Cars430.png'},\n",
              " 'Cars240.png': {'detections': [{'bbox': [196, 115, 255, 132],\n",
              "    'confidence': 0.42225751280784607}],\n",
              "  'original_path': 'dataset/preprocessed_images/Cars240.png'},\n",
              " 'Cars214.png': {'detections': [{'bbox': [74, 128, 97, 141],\n",
              "    'confidence': 0.5033915042877197}],\n",
              "  'original_path': 'dataset/preprocessed_images/Cars214.png'},\n",
              " 'Cars187.png': {'detections': [{'bbox': [99, 115, 283, 153],\n",
              "    'confidence': 0.7897834777832031}],\n",
              "  'original_path': 'dataset/preprocessed_images/Cars187.png'},\n",
              " 'Cars207.png': {'detections': [{'bbox': [254, 227, 379, 262],\n",
              "    'confidence': 0.763895571231842},\n",
              "   {'bbox': [251, 213, 383, 268], 'confidence': 0.5128156542778015}],\n",
              "  'original_path': 'dataset/preprocessed_images/Cars207.png'},\n",
              " 'Cars98.png': {'detections': [{'bbox': [84, 195, 247, 260],\n",
              "    'confidence': 0.8564233183860779}],\n",
              "  'original_path': 'dataset/preprocessed_images/Cars98.png'},\n",
              " 'Cars129.png': {'detections': [{'bbox': [205, 219, 283, 265],\n",
              "    'confidence': 0.7429083585739136}],\n",
              "  'original_path': 'dataset/preprocessed_images/Cars129.png'},\n",
              " 'Cars143.png': {'detections': [{'bbox': [94, 196, 132, 208],\n",
              "    'confidence': 0.6027156114578247},\n",
              "   {'bbox': [317, 195, 349, 207], 'confidence': 0.5596046447753906}],\n",
              "  'original_path': 'dataset/preprocessed_images/Cars143.png'},\n",
              " 'Cars132.png': {'detections': [],\n",
              "  'original_path': 'dataset/preprocessed_images/Cars132.png'},\n",
              " 'Cars356.png': {'detections': [{'bbox': [243, 216, 363, 273],\n",
              "    'confidence': 0.8174511790275574}],\n",
              "  'original_path': 'dataset/preprocessed_images/Cars356.png'},\n",
              " 'Cars219.png': {'detections': [{'bbox': [129, 171, 463, 237],\n",
              "    'confidence': 0.8129261136054993}],\n",
              "  'original_path': 'dataset/preprocessed_images/Cars219.png'},\n",
              " 'Cars397.png': {'detections': [{'bbox': [143, 169, 213, 210],\n",
              "    'confidence': 0.8213142156600952},\n",
              "   {'bbox': [376, 190, 400, 216], 'confidence': 0.2949119806289673}],\n",
              "  'original_path': 'dataset/preprocessed_images/Cars397.png'},\n",
              " 'Cars254.png': {'detections': [{'bbox': [165, 174, 234, 207],\n",
              "    'confidence': 0.8276143670082092}],\n",
              "  'original_path': 'dataset/preprocessed_images/Cars254.png'},\n",
              " 'Cars83.png': {'detections': [{'bbox': [251, 295, 327, 336],\n",
              "    'confidence': 0.8279847502708435}],\n",
              "  'original_path': 'dataset/preprocessed_images/Cars83.png'},\n",
              " 'Cars165.png': {'detections': [{'bbox': [213, 217, 293, 246],\n",
              "    'confidence': 0.690424382686615},\n",
              "   {'bbox': [462, 0, 589, 65], 'confidence': 0.27226585149765015}],\n",
              "  'original_path': 'dataset/preprocessed_images/Cars165.png'},\n",
              " 'Cars116.png': {'detections': [{'bbox': [148, 216, 265, 244],\n",
              "    'confidence': 0.8051074147224426}],\n",
              "  'original_path': 'dataset/preprocessed_images/Cars116.png'},\n",
              " 'Cars229.png': {'detections': [],\n",
              "  'original_path': 'dataset/preprocessed_images/Cars229.png'},\n",
              " 'Cars141.png': {'detections': [{'bbox': [267, 171, 303, 189],\n",
              "    'confidence': 0.5632159113883972}],\n",
              "  'original_path': 'dataset/preprocessed_images/Cars141.png'},\n",
              " 'Cars185.png': {'detections': [{'bbox': [152, 146, 291, 199],\n",
              "    'confidence': 0.8682052493095398}],\n",
              "  'original_path': 'dataset/preprocessed_images/Cars185.png'},\n",
              " 'Cars173.png': {'detections': [{'bbox': [168, 117, 251, 162],\n",
              "    'confidence': 0.7868676781654358}],\n",
              "  'original_path': 'dataset/preprocessed_images/Cars173.png'},\n",
              " 'Cars389.png': {'detections': [{'bbox': [81, 303, 222, 368],\n",
              "    'confidence': 0.8210427165031433}],\n",
              "  'original_path': 'dataset/preprocessed_images/Cars389.png'},\n",
              " 'Cars331.png': {'detections': [{'bbox': [156, 223, 222, 238],\n",
              "    'confidence': 0.5584135055541992}],\n",
              "  'original_path': 'dataset/preprocessed_images/Cars331.png'},\n",
              " 'Cars211.png': {'detections': [{'bbox': [17, 51, 400, 233],\n",
              "    'confidence': 0.8269314169883728}],\n",
              "  'original_path': 'dataset/preprocessed_images/Cars211.png'},\n",
              " 'Cars100.png': {'detections': [{'bbox': [166, 110, 212, 130],\n",
              "    'confidence': 0.29725149273872375}],\n",
              "  'original_path': 'dataset/preprocessed_images/Cars100.png'},\n",
              " 'Cars12.png': {'detections': [{'bbox': [120, 83, 276, 115],\n",
              "    'confidence': 0.8301142454147339}],\n",
              "  'original_path': 'dataset/preprocessed_images/Cars12.png'},\n",
              " 'Cars56.png': {'detections': [{'bbox': [88, 80, 340, 145],\n",
              "    'confidence': 0.8483116030693054}],\n",
              "  'original_path': 'dataset/preprocessed_images/Cars56.png'},\n",
              " 'Cars43.png': {'detections': [{'bbox': [141, 114, 315, 163],\n",
              "    'confidence': 0.8270980715751648}],\n",
              "  'original_path': 'dataset/preprocessed_images/Cars43.png'},\n",
              " 'Cars384.png': {'detections': [{'bbox': [220, 195, 272, 232],\n",
              "    'confidence': 0.6774593591690063}],\n",
              "  'original_path': 'dataset/preprocessed_images/Cars384.png'},\n",
              " 'Cars47.png': {'detections': [{'bbox': [7, 141, 47, 163],\n",
              "    'confidence': 0.7339373826980591}],\n",
              "  'original_path': 'dataset/preprocessed_images/Cars47.png'},\n",
              " 'Cars68.png': {'detections': [{'bbox': [189, 143, 243, 170],\n",
              "    'confidence': 0.8001904487609863}],\n",
              "  'original_path': 'dataset/preprocessed_images/Cars68.png'},\n",
              " 'Cars263.png': {'detections': [{'bbox': [127, 263, 231, 290],\n",
              "    'confidence': 0.719561755657196}],\n",
              "  'original_path': 'dataset/preprocessed_images/Cars263.png'},\n",
              " 'Cars20.png': {'detections': [{'bbox': [19, 131, 46, 159],\n",
              "    'confidence': 0.39099791646003723}],\n",
              "  'original_path': 'dataset/preprocessed_images/Cars20.png'},\n",
              " 'Cars158.png': {'detections': [{'bbox': [95, 120, 294, 210],\n",
              "    'confidence': 0.8619771599769592}],\n",
              "  'original_path': 'dataset/preprocessed_images/Cars158.png'},\n",
              " 'Cars396.png': {'detections': [{'bbox': [182, 264, 269, 287],\n",
              "    'confidence': 0.8342751860618591}],\n",
              "  'original_path': 'dataset/preprocessed_images/Cars396.png'},\n",
              " 'Cars372.png': {'detections': [{'bbox': [226, 276, 355, 311],\n",
              "    'confidence': 0.7255313396453857}],\n",
              "  'original_path': 'dataset/preprocessed_images/Cars372.png'},\n",
              " 'Cars259.png': {'detections': [{'bbox': [323, 165, 476, 206],\n",
              "    'confidence': 0.8180002570152283}],\n",
              "  'original_path': 'dataset/preprocessed_images/Cars259.png'},\n",
              " 'Cars28.png': {'detections': [],\n",
              "  'original_path': 'dataset/preprocessed_images/Cars28.png'},\n",
              " 'Cars5.png': {'detections': [{'bbox': [207, 224, 235, 246],\n",
              "    'confidence': 0.3348240554332733}],\n",
              "  'original_path': 'dataset/preprocessed_images/Cars5.png'},\n",
              " 'Cars419.png': {'detections': [{'bbox': [198, 197, 350, 241],\n",
              "    'confidence': 0.8762956857681274}],\n",
              "  'original_path': 'dataset/preprocessed_images/Cars419.png'},\n",
              " 'Cars67.png': {'detections': [{'bbox': [186, 223, 328, 248],\n",
              "    'confidence': 0.7694457769393921}],\n",
              "  'original_path': 'dataset/preprocessed_images/Cars67.png'},\n",
              " 'Cars365.png': {'detections': [{'bbox': [295, 204, 375, 225],\n",
              "    'confidence': 0.7011821269989014}],\n",
              "  'original_path': 'dataset/preprocessed_images/Cars365.png'},\n",
              " 'Cars270.png': {'detections': [{'bbox': [73, 172, 123, 195],\n",
              "    'confidence': 0.7885910868644714}],\n",
              "  'original_path': 'dataset/preprocessed_images/Cars270.png'},\n",
              " 'Cars228.png': {'detections': [{'bbox': [81, 125, 116, 143],\n",
              "    'confidence': 0.7284059524536133}],\n",
              "  'original_path': 'dataset/preprocessed_images/Cars228.png'},\n",
              " 'Cars144.png': {'detections': [{'bbox': [104, 114, 210, 148],\n",
              "    'confidence': 0.799880862236023}],\n",
              "  'original_path': 'dataset/preprocessed_images/Cars144.png'},\n",
              " 'Cars374.png': {'detections': [{'bbox': [353, 118, 441, 142],\n",
              "    'confidence': 0.7353336811065674}],\n",
              "  'original_path': 'dataset/preprocessed_images/Cars374.png'},\n",
              " 'Cars271.png': {'detections': [{'bbox': [265, 140, 318, 162],\n",
              "    'confidence': 0.7826051712036133}],\n",
              "  'original_path': 'dataset/preprocessed_images/Cars271.png'},\n",
              " 'Cars306.png': {'detections': [{'bbox': [142, 281, 249, 309],\n",
              "    'confidence': 0.7948747277259827}],\n",
              "  'original_path': 'dataset/preprocessed_images/Cars306.png'},\n",
              " 'Cars399.png': {'detections': [{'bbox': [103, 67, 304, 159],\n",
              "    'confidence': 0.8670428395271301}],\n",
              "  'original_path': 'dataset/preprocessed_images/Cars399.png'},\n",
              " 'Cars324.png': {'detections': [{'bbox': [150, 138, 255, 158],\n",
              "    'confidence': 0.8386558294296265}],\n",
              "  'original_path': 'dataset/preprocessed_images/Cars324.png'},\n",
              " 'Cars25.png': {'detections': [{'bbox': [178, 138, 217, 159],\n",
              "    'confidence': 0.8185538053512573}],\n",
              "  'original_path': 'dataset/preprocessed_images/Cars25.png'},\n",
              " 'Cars201.png': {'detections': [{'bbox': [220, 172, 359, 202],\n",
              "    'confidence': 0.7657414078712463}],\n",
              "  'original_path': 'dataset/preprocessed_images/Cars201.png'},\n",
              " 'Cars96.png': {'detections': [{'bbox': [135, 125, 259, 161],\n",
              "    'confidence': 0.8512176871299744}],\n",
              "  'original_path': 'dataset/preprocessed_images/Cars96.png'},\n",
              " 'Cars200.png': {'detections': [{'bbox': [92, 185, 199, 218],\n",
              "    'confidence': 0.7708680033683777}],\n",
              "  'original_path': 'dataset/preprocessed_images/Cars200.png'},\n",
              " 'Cars245.png': {'detections': [{'bbox': [89, 111, 164, 132],\n",
              "    'confidence': 0.7137470841407776}],\n",
              "  'original_path': 'dataset/preprocessed_images/Cars245.png'},\n",
              " 'Cars14.png': {'detections': [{'bbox': [99, 115, 283, 153],\n",
              "    'confidence': 0.7897834777832031}],\n",
              "  'original_path': 'dataset/preprocessed_images/Cars14.png'},\n",
              " 'Cars134.png': {'detections': [{'bbox': [78, 153, 134, 173],\n",
              "    'confidence': 0.8162646293640137}],\n",
              "  'original_path': 'dataset/preprocessed_images/Cars134.png'},\n",
              " 'Cars206.png': {'detections': [{'bbox': [95, 185, 162, 203],\n",
              "    'confidence': 0.7308222055435181}],\n",
              "  'original_path': 'dataset/preprocessed_images/Cars206.png'},\n",
              " 'Cars423.png': {'detections': [{'bbox': [165, 158, 282, 182],\n",
              "    'confidence': 0.8284485936164856}],\n",
              "  'original_path': 'dataset/preprocessed_images/Cars423.png'},\n",
              " 'Cars89.png': {'detections': [{'bbox': [308, 206, 344, 220],\n",
              "    'confidence': 0.6992784738540649}],\n",
              "  'original_path': 'dataset/preprocessed_images/Cars89.png'},\n",
              " 'Cars370.png': {'detections': [{'bbox': [284, 248, 422, 278],\n",
              "    'confidence': 0.8287874460220337}],\n",
              "  'original_path': 'dataset/preprocessed_images/Cars370.png'},\n",
              " 'Cars163.png': {'detections': [{'bbox': [220, 172, 359, 202],\n",
              "    'confidence': 0.7657414078712463}],\n",
              "  'original_path': 'dataset/preprocessed_images/Cars163.png'},\n",
              " 'Cars235.png': {'detections': [{'bbox': [152, 142, 250, 165],\n",
              "    'confidence': 0.817571222782135}],\n",
              "  'original_path': 'dataset/preprocessed_images/Cars235.png'},\n",
              " 'Cars109.png': {'detections': [{'bbox': [115, 115, 277, 152],\n",
              "    'confidence': 0.8681740164756775}],\n",
              "  'original_path': 'dataset/preprocessed_images/Cars109.png'},\n",
              " 'Cars130.png': {'detections': [{'bbox': [89, 111, 164, 132],\n",
              "    'confidence': 0.7137470841407776}],\n",
              "  'original_path': 'dataset/preprocessed_images/Cars130.png'},\n",
              " 'Cars114.png': {'detections': [{'bbox': [22, 4, 493, 266],\n",
              "    'confidence': 0.7620513439178467},\n",
              "   {'bbox': [0, 25, 416, 251], 'confidence': 0.42520105838775635},\n",
              "   {'bbox': [6, 130, 495, 300], 'confidence': 0.3946622312068939}],\n",
              "  'original_path': 'dataset/preprocessed_images/Cars114.png'},\n",
              " 'Cars91.png': {'detections': [{'bbox': [269, 170, 314, 190],\n",
              "    'confidence': 0.7094956636428833}],\n",
              "  'original_path': 'dataset/preprocessed_images/Cars91.png'},\n",
              " 'Cars417.png': {'detections': [{'bbox': [93, 146, 279, 187],\n",
              "    'confidence': 0.7495313286781311}],\n",
              "  'original_path': 'dataset/preprocessed_images/Cars417.png'},\n",
              " 'Cars36.png': {'detections': [{'bbox': [202, 192, 285, 228],\n",
              "    'confidence': 0.7844870090484619}],\n",
              "  'original_path': 'dataset/preprocessed_images/Cars36.png'},\n",
              " 'Cars102.png': {'detections': [{'bbox': [60, 144, 324, 201],\n",
              "    'confidence': 0.8149523735046387}],\n",
              "  'original_path': 'dataset/preprocessed_images/Cars102.png'},\n",
              " 'Cars368.png': {'detections': [{'bbox': [173, 173, 227, 202],\n",
              "    'confidence': 0.8406460881233215}],\n",
              "  'original_path': 'dataset/preprocessed_images/Cars368.png'},\n",
              " 'Cars86.png': {'detections': [{'bbox': [335, 173, 446, 203],\n",
              "    'confidence': 0.735286295413971}],\n",
              "  'original_path': 'dataset/preprocessed_images/Cars86.png'},\n",
              " 'Cars110.png': {'detections': [{'bbox': [282, 133, 329, 158],\n",
              "    'confidence': 0.7662307024002075}],\n",
              "  'original_path': 'dataset/preprocessed_images/Cars110.png'},\n",
              " 'Cars255.png': {'detections': [{'bbox': [114, 156, 272, 190],\n",
              "    'confidence': 0.8438668847084045}],\n",
              "  'original_path': 'dataset/preprocessed_images/Cars255.png'},\n",
              " 'Cars292.png': {'detections': [{'bbox': [91, 186, 137, 206],\n",
              "    'confidence': 0.7129663228988647}],\n",
              "  'original_path': 'dataset/preprocessed_images/Cars292.png'},\n",
              " 'Cars54.png': {'detections': [{'bbox': [148, 61, 256, 118],\n",
              "    'confidence': 0.8926308155059814}],\n",
              "  'original_path': 'dataset/preprocessed_images/Cars54.png'},\n",
              " 'Cars199.png': {'detections': [{'bbox': [56, 90, 307, 155],\n",
              "    'confidence': 0.8027385473251343}],\n",
              "  'original_path': 'dataset/preprocessed_images/Cars199.png'}}"
            ]
          },
          "metadata": {},
          "execution_count": 165
        }
      ]
    },
    {
      "cell_type": "code",
      "source": [],
      "metadata": {
        "id": "B1FnAUEecxPx"
      },
      "execution_count": null,
      "outputs": []
    }
  ],
  "metadata": {
    "accelerator": "GPU",
    "colab": {
      "gpuType": "T4",
      "provenance": []
    },
    "kernelspec": {
      "display_name": "Python 3",
      "name": "python3"
    },
    "language_info": {
      "codemirror_mode": {
        "name": "ipython",
        "version": 3
      },
      "file_extension": ".py",
      "mimetype": "text/x-python",
      "name": "python",
      "nbconvert_exporter": "python",
      "pygments_lexer": "ipython3",
      "version": "3.12.4"
    }
  },
  "nbformat": 4,
  "nbformat_minor": 0
}